{
 "cells": [
  {
   "cell_type": "code",
   "execution_count": 1,
   "id": "bf6cef82-0156-4ac9-919f-9dbd2b84517a",
   "metadata": {},
   "outputs": [],
   "source": [
    "import pandas as pd\n",
    "import numpy as np\n",
    "import matplotlib.pyplot as plt\n",
    "import seaborn as sns"
   ]
  },
  {
   "cell_type": "markdown",
   "id": "fa8012a6-8890-416a-be21-92ceefd49180",
   "metadata": {},
   "source": [
    "## An Exploration of UN data"
   ]
  },
  {
   "cell_type": "markdown",
   "id": "f528cd9b-706a-4b06-9f50-f56b0309cbe0",
   "metadata": {},
   "source": [
    "##### In this project, you'll be doing some exploratory analysis on two country-level metrics, gross domestic product (GDP) per capita and overall life expectancy. After completing the guided practice section, you will have a chance to find some additional data and do some more exploring of your own."
   ]
  },
  {
   "cell_type": "markdown",
   "id": "0c453983-4c11-4580-a4c0-ae61992db277",
   "metadata": {},
   "source": [
    "### Guided Practice:\r\n"
   ]
  },
  {
   "cell_type": "markdown",
   "id": "d91f57a0-c36a-4145-9b33-ebb2e55e650e",
   "metadata": {},
   "source": [
    "#### 1. Download the Gross Domestic Product (GDP) per capita dataset from http://data.un.org/Data.aspx?d=WDI&f=Indicator_Code%3aNY.GDP.PCAP.PP.KD. Rename it to gdp_per_capita.csv and place it in the data folder of your project repository."
   ]
  },
  {
   "cell_type": "markdown",
   "id": "ccbd1cf1-f600-43bb-815e-85bc63459a23",
   "metadata": {},
   "source": [
    "#### 2. Create a Jupyter Notebook in the notebooks folder and name it UN_Data_Exploration.\n",
    "###### \r\n",
    "You are likely to get errors along the way. When you do, read the errors to try to understand what is happening and how to correct it\n",
    "###### .\r\n",
    "Use markdown cells to record your answers to any questions asked in this exercise. On the menu bar, you can toggle the cell type from 'Code' to 'Markdown'. Here is a link to a cheat sheet showing the basics of styling text using Markdown.wn."
   ]
  },
  {
   "cell_type": "markdown",
   "id": "93c179df-fbd9-4fcf-b7fc-6c46ffb8a0fd",
   "metadata": {},
   "source": [
    "#### 3. In the first cell of your notebook, import the required packages with their customary aliases as at the very top of this notebook. ^^^^"
   ]
  },
  {
   "cell_type": "markdown",
   "id": "0773fb6a-1d1e-4d78-bbf2-9aeb961ba620",
   "metadata": {},
   "source": [
    "#### 4. Using the pandas read_csv() function, read the GDP dataset into your notebook as a DataFrame called gdp_df. After reading it in, inspect the first 10 rows and then inspect the last 10 rows."
   ]
  },
  {
   "cell_type": "code",
   "execution_count": 9,
   "id": "99730d30-86df-4c7b-8bbe-d4bb0f77dddc",
   "metadata": {},
   "outputs": [],
   "source": [
    "gdp_df = pd.read_csv('../data/gdp_per_capita.csv')"
   ]
  },
  {
   "cell_type": "code",
   "execution_count": 10,
   "id": "75d5cf8f-fceb-4ed4-975b-7922cc9d3706",
   "metadata": {},
   "outputs": [
    {
     "data": {
      "text/html": [
       "<div>\n",
       "<style scoped>\n",
       "    .dataframe tbody tr th:only-of-type {\n",
       "        vertical-align: middle;\n",
       "    }\n",
       "\n",
       "    .dataframe tbody tr th {\n",
       "        vertical-align: top;\n",
       "    }\n",
       "\n",
       "    .dataframe thead th {\n",
       "        text-align: right;\n",
       "    }\n",
       "</style>\n",
       "<table border=\"1\" class=\"dataframe\">\n",
       "  <thead>\n",
       "    <tr style=\"text-align: right;\">\n",
       "      <th></th>\n",
       "      <th>Country or Area</th>\n",
       "      <th>Year</th>\n",
       "      <th>Value</th>\n",
       "      <th>Value Footnotes</th>\n",
       "    </tr>\n",
       "  </thead>\n",
       "  <tbody>\n",
       "    <tr>\n",
       "      <th>0</th>\n",
       "      <td>Afghanistan</td>\n",
       "      <td>2023</td>\n",
       "      <td>1992.424394</td>\n",
       "      <td>NaN</td>\n",
       "    </tr>\n",
       "    <tr>\n",
       "      <th>1</th>\n",
       "      <td>Afghanistan</td>\n",
       "      <td>2022</td>\n",
       "      <td>1981.710168</td>\n",
       "      <td>NaN</td>\n",
       "    </tr>\n",
       "    <tr>\n",
       "      <th>2</th>\n",
       "      <td>Afghanistan</td>\n",
       "      <td>2021</td>\n",
       "      <td>2144.166570</td>\n",
       "      <td>NaN</td>\n",
       "    </tr>\n",
       "    <tr>\n",
       "      <th>3</th>\n",
       "      <td>Afghanistan</td>\n",
       "      <td>2020</td>\n",
       "      <td>2769.685745</td>\n",
       "      <td>NaN</td>\n",
       "    </tr>\n",
       "    <tr>\n",
       "      <th>4</th>\n",
       "      <td>Afghanistan</td>\n",
       "      <td>2019</td>\n",
       "      <td>2927.245144</td>\n",
       "      <td>NaN</td>\n",
       "    </tr>\n",
       "    <tr>\n",
       "      <th>5</th>\n",
       "      <td>Afghanistan</td>\n",
       "      <td>2018</td>\n",
       "      <td>2902.392113</td>\n",
       "      <td>NaN</td>\n",
       "    </tr>\n",
       "    <tr>\n",
       "      <th>6</th>\n",
       "      <td>Afghanistan</td>\n",
       "      <td>2017</td>\n",
       "      <td>2952.998916</td>\n",
       "      <td>NaN</td>\n",
       "    </tr>\n",
       "    <tr>\n",
       "      <th>7</th>\n",
       "      <td>Afghanistan</td>\n",
       "      <td>2016</td>\n",
       "      <td>2958.785399</td>\n",
       "      <td>NaN</td>\n",
       "    </tr>\n",
       "    <tr>\n",
       "      <th>8</th>\n",
       "      <td>Afghanistan</td>\n",
       "      <td>2015</td>\n",
       "      <td>2967.692067</td>\n",
       "      <td>NaN</td>\n",
       "    </tr>\n",
       "    <tr>\n",
       "      <th>9</th>\n",
       "      <td>Afghanistan</td>\n",
       "      <td>2014</td>\n",
       "      <td>3017.942544</td>\n",
       "      <td>NaN</td>\n",
       "    </tr>\n",
       "  </tbody>\n",
       "</table>\n",
       "</div>"
      ],
      "text/plain": [
       "  Country or Area  Year        Value  Value Footnotes\n",
       "0     Afghanistan  2023  1992.424394              NaN\n",
       "1     Afghanistan  2022  1981.710168              NaN\n",
       "2     Afghanistan  2021  2144.166570              NaN\n",
       "3     Afghanistan  2020  2769.685745              NaN\n",
       "4     Afghanistan  2019  2927.245144              NaN\n",
       "5     Afghanistan  2018  2902.392113              NaN\n",
       "6     Afghanistan  2017  2952.998916              NaN\n",
       "7     Afghanistan  2016  2958.785399              NaN\n",
       "8     Afghanistan  2015  2967.692067              NaN\n",
       "9     Afghanistan  2014  3017.942544              NaN"
      ]
     },
     "execution_count": 10,
     "metadata": {},
     "output_type": "execute_result"
    }
   ],
   "source": [
    "gdp_df.head(10)"
   ]
  },
  {
   "cell_type": "code",
   "execution_count": 11,
   "id": "9b5155b7-4723-47e1-bde9-9564f24838e2",
   "metadata": {},
   "outputs": [
    {
     "data": {
      "text/html": [
       "<div>\n",
       "<style scoped>\n",
       "    .dataframe tbody tr th:only-of-type {\n",
       "        vertical-align: middle;\n",
       "    }\n",
       "\n",
       "    .dataframe tbody tr th {\n",
       "        vertical-align: top;\n",
       "    }\n",
       "\n",
       "    .dataframe thead th {\n",
       "        text-align: right;\n",
       "    }\n",
       "</style>\n",
       "<table border=\"1\" class=\"dataframe\">\n",
       "  <thead>\n",
       "    <tr style=\"text-align: right;\">\n",
       "      <th></th>\n",
       "      <th>Country or Area</th>\n",
       "      <th>Year</th>\n",
       "      <th>Value</th>\n",
       "      <th>Value Footnotes</th>\n",
       "    </tr>\n",
       "  </thead>\n",
       "  <tbody>\n",
       "    <tr>\n",
       "      <th>8209</th>\n",
       "      <td>Zimbabwe</td>\n",
       "      <td>1999</td>\n",
       "      <td>4238.195198</td>\n",
       "      <td>NaN</td>\n",
       "    </tr>\n",
       "    <tr>\n",
       "      <th>8210</th>\n",
       "      <td>Zimbabwe</td>\n",
       "      <td>1998</td>\n",
       "      <td>4342.858177</td>\n",
       "      <td>NaN</td>\n",
       "    </tr>\n",
       "    <tr>\n",
       "      <th>8211</th>\n",
       "      <td>Zimbabwe</td>\n",
       "      <td>1997</td>\n",
       "      <td>4304.406272</td>\n",
       "      <td>NaN</td>\n",
       "    </tr>\n",
       "    <tr>\n",
       "      <th>8212</th>\n",
       "      <td>Zimbabwe</td>\n",
       "      <td>1996</td>\n",
       "      <td>4271.479930</td>\n",
       "      <td>NaN</td>\n",
       "    </tr>\n",
       "    <tr>\n",
       "      <th>8213</th>\n",
       "      <td>Zimbabwe</td>\n",
       "      <td>1995</td>\n",
       "      <td>3935.280057</td>\n",
       "      <td>NaN</td>\n",
       "    </tr>\n",
       "    <tr>\n",
       "      <th>8214</th>\n",
       "      <td>Zimbabwe</td>\n",
       "      <td>1994</td>\n",
       "      <td>3965.730986</td>\n",
       "      <td>NaN</td>\n",
       "    </tr>\n",
       "    <tr>\n",
       "      <th>8215</th>\n",
       "      <td>Zimbabwe</td>\n",
       "      <td>1993</td>\n",
       "      <td>3634.750494</td>\n",
       "      <td>NaN</td>\n",
       "    </tr>\n",
       "    <tr>\n",
       "      <th>8216</th>\n",
       "      <td>Zimbabwe</td>\n",
       "      <td>1992</td>\n",
       "      <td>3649.891947</td>\n",
       "      <td>NaN</td>\n",
       "    </tr>\n",
       "    <tr>\n",
       "      <th>8217</th>\n",
       "      <td>Zimbabwe</td>\n",
       "      <td>1991</td>\n",
       "      <td>4126.405247</td>\n",
       "      <td>NaN</td>\n",
       "    </tr>\n",
       "    <tr>\n",
       "      <th>8218</th>\n",
       "      <td>Zimbabwe</td>\n",
       "      <td>1990</td>\n",
       "      <td>4013.299059</td>\n",
       "      <td>NaN</td>\n",
       "    </tr>\n",
       "  </tbody>\n",
       "</table>\n",
       "</div>"
      ],
      "text/plain": [
       "     Country or Area  Year        Value  Value Footnotes\n",
       "8209        Zimbabwe  1999  4238.195198              NaN\n",
       "8210        Zimbabwe  1998  4342.858177              NaN\n",
       "8211        Zimbabwe  1997  4304.406272              NaN\n",
       "8212        Zimbabwe  1996  4271.479930              NaN\n",
       "8213        Zimbabwe  1995  3935.280057              NaN\n",
       "8214        Zimbabwe  1994  3965.730986              NaN\n",
       "8215        Zimbabwe  1993  3634.750494              NaN\n",
       "8216        Zimbabwe  1992  3649.891947              NaN\n",
       "8217        Zimbabwe  1991  4126.405247              NaN\n",
       "8218        Zimbabwe  1990  4013.299059              NaN"
      ]
     },
     "execution_count": 11,
     "metadata": {},
     "output_type": "execute_result"
    }
   ],
   "source": [
    "gdp_df.tail(10)"
   ]
  },
  {
   "cell_type": "markdown",
   "id": "e1b2ea9d-ff51-4725-8bda-42677fba122b",
   "metadata": {},
   "source": [
    "#### 5. Drop the 'Value Footnotes' column, and rename the remaining columns to 'Country', 'Year', and 'GDP_Per_Capita'."
   ]
  },
  {
   "cell_type": "code",
   "execution_count": 13,
   "id": "772cca60-9ccb-4a28-9a6b-ba690458e9bb",
   "metadata": {},
   "outputs": [],
   "source": [
    "gdp_drop_footnotes = gdp_df.drop('Value Footnotes', axis=1).rename(columns={'Country or Area':'Country', 'Value': 'GDP_Per_Capita'})"
   ]
  },
  {
   "cell_type": "markdown",
   "id": "acceea47-641b-4dd1-a79d-e6371549cfb9",
   "metadata": {},
   "source": [
    "#### 6. How many rows and columns does gdp_df have? What are the data types of its columns? If any of the columns are not the expected types, figure out why and fix it."
   ]
  },
  {
   "cell_type": "code",
   "execution_count": 15,
   "id": "47bcb16e-60a5-4a05-b7f8-3ba06643b834",
   "metadata": {},
   "outputs": [
    {
     "data": {
      "text/plain": [
       "(8219, 3)"
      ]
     },
     "execution_count": 15,
     "metadata": {},
     "output_type": "execute_result"
    }
   ],
   "source": [
    "gdp_drop_footnotes.shape"
   ]
  },
  {
   "cell_type": "code",
   "execution_count": 16,
   "id": "ca2a1d87-7198-49f6-b549-f661979294cc",
   "metadata": {},
   "outputs": [
    {
     "data": {
      "text/plain": [
       "Country            object\n",
       "Year                int64\n",
       "GDP_Per_Capita    float64\n",
       "dtype: object"
      ]
     },
     "execution_count": 16,
     "metadata": {},
     "output_type": "execute_result"
    }
   ],
   "source": [
    "gdp_drop_footnotes.dtypes"
   ]
  },
  {
   "cell_type": "code",
   "execution_count": 17,
   "id": "097a0088-f31b-4e1e-85d0-f5ab484a2aa6",
   "metadata": {},
   "outputs": [
    {
     "data": {
      "text/plain": [
       "array(['Afghanistan', 'Africa Eastern and Southern',\n",
       "       'Africa Western and Central', 'Albania', 'Algeria', 'Andorra',\n",
       "       'Angola', 'Antigua and Barbuda', 'Arab World', 'Argentina',\n",
       "       'Armenia', 'Aruba', 'Australia', 'Austria', 'Azerbaijan',\n",
       "       'Bahrain', 'Bangladesh', 'Barbados', 'Belarus', 'Belgium',\n",
       "       'Belize', 'Benin', 'Bermuda', 'Bhutan', 'Bolivia',\n",
       "       'Bosnia and Herzegovina', 'Botswana', 'Brazil', 'Brunei',\n",
       "       'Bulgaria', 'Burkina Faso', 'Burundi', \"CÃ´te d'Ivoire\",\n",
       "       'Cabo Verde', 'Cambodia', 'Cameroon', 'Canada',\n",
       "       'Caribbean small states', 'Cayman Islands',\n",
       "       'Central African Republic', 'Central Europe and the Baltics',\n",
       "       'Chad', 'Chile', 'China', 'Colombia', 'Comoros', 'Congo',\n",
       "       'Costa Rica', 'Croatia', 'CuraÃ§ao', 'Cyprus', 'Czechia',\n",
       "       'Dem. Rep. Congo', 'Denmark', 'Djibouti', 'Dominica',\n",
       "       'Dominican Republic', 'Early-demographic dividend',\n",
       "       'East Asia & Pacific',\n",
       "       'East Asia & Pacific (excluding high income)',\n",
       "       'East Asia & Pacific (IDA & IBRD)', 'Ecuador', 'Egypt',\n",
       "       'El Salvador', 'Equatorial Guinea', 'Estonia', 'Eswatini',\n",
       "       'Ethiopia', 'Euro area', 'Europe & Central Asia',\n",
       "       'Europe & Central Asia (excluding high income)',\n",
       "       'Europe & Central Asia (IDA & IBRD)', 'European Union',\n",
       "       'Faroe Islands', 'Fiji', 'Finland',\n",
       "       'Fragile and conflict affected situations', 'France', 'Gabon',\n",
       "       'Georgia', 'Germany', 'Ghana', 'Greece', 'Greenland', 'Grenada',\n",
       "       'Guatemala', 'Guinea', 'Guinea-Bissau', 'Guyana', 'Haiti',\n",
       "       'Heavily indebted poor countries (HIPC)', 'High income',\n",
       "       'Honduras', 'Hong Kong SAR, China', 'Hungary', 'IBRD only',\n",
       "       'Iceland', 'IDA & IBRD total', 'IDA blend', 'IDA only',\n",
       "       'IDA total', 'India', 'Indonesia', 'Iran', 'Iraq', 'Ireland',\n",
       "       'Israel', 'Italy', 'Jamaica', 'Japan', 'Jordan', 'Kazakhstan',\n",
       "       'Kenya', 'Kiribati', 'Korea', 'Kosovo', 'Kuwait',\n",
       "       'Kyrgyz Republic', 'Lao PDR', 'Late-demographic dividend',\n",
       "       'Latin America & Caribbean',\n",
       "       'Latin America & Caribbean (excluding high income)',\n",
       "       'Latin America & Caribbean (IDA & IBRD)', 'Latvia',\n",
       "       'Least developed countries: UN classification', 'Lebanon',\n",
       "       'Lesotho', 'Liberia', 'Libya', 'Lithuania', 'Low & middle income',\n",
       "       'Low income', 'Lower middle income', 'Luxembourg',\n",
       "       'Macao SAR, China', 'Madagascar', 'Malawi', 'Malaysia', 'Maldives',\n",
       "       'Mali', 'Malta', 'Marshall Islands', 'Mauritania', 'Mauritius',\n",
       "       'Mexico', 'Micronesia', 'Middle East & North Africa',\n",
       "       'Middle East & North Africa (excluding high income)',\n",
       "       'Middle East & North Africa (IDA & IBRD)', 'Middle income',\n",
       "       'Moldova', 'Mongolia', 'Montenegro', 'Morocco', 'Mozambique',\n",
       "       'Myanmar', 'Namibia', 'Nauru', 'Nepal', 'Netherlands',\n",
       "       'New Zealand', 'Nicaragua', 'Niger', 'Nigeria', 'North America',\n",
       "       'North Macedonia', 'Norway', 'OECD members', 'Oman',\n",
       "       'Other small states', 'Pacific island small states', 'Pakistan',\n",
       "       'Palau', 'Panama', 'Papua New Guinea', 'Paraguay', 'Peru',\n",
       "       'Philippines', 'Poland', 'Portugal', 'Post-demographic dividend',\n",
       "       'Pre-demographic dividend', 'Puerto Rico', 'Qatar', 'Romania',\n",
       "       'Russia', 'Rwanda', 'SÃ£o TomÃ© and Principe', 'Samoa',\n",
       "       'San Marino', 'Saudi Arabia', 'Senegal', 'Serbia', 'Seychelles',\n",
       "       'Sierra Leone', 'Singapore', 'Sint Maarten (Dutch part)',\n",
       "       'Slovak Republic', 'Slovenia', 'Small states', 'Solomon Islands',\n",
       "       'Somalia', 'South Africa', 'South Asia', 'South Asia (IDA & IBRD)',\n",
       "       'Spain', 'Sri Lanka', 'St. Kitts and Nevis', 'St. Lucia',\n",
       "       'St. Vincent and the Grenadines', 'Sub-Saharan Africa',\n",
       "       'Sub-Saharan Africa (excluding high income)',\n",
       "       'Sub-Saharan Africa (IDA & IBRD)', 'Sudan', 'Suriname', 'Sweden',\n",
       "       'Switzerland', 'Syrian Arab Republic', 'TÃ¼rkiye', 'Tajikistan',\n",
       "       'Tanzania', 'Thailand', 'The Bahamas', 'The Gambia', 'Timor-Leste',\n",
       "       'Togo', 'Tonga', 'Trinidad and Tobago', 'Tunisia', 'Turkmenistan',\n",
       "       'Turks and Caicos Islands', 'Tuvalu', 'Uganda', 'Ukraine',\n",
       "       'United Arab Emirates', 'United Kingdom', 'United States',\n",
       "       'Upper middle income', 'Uruguay', 'Uzbekistan', 'Vanuatu',\n",
       "       'Viet Nam', 'Virgin Islands', 'West Bank and Gaza', 'World',\n",
       "       'Zambia', 'Zimbabwe'], dtype=object)"
      ]
     },
     "execution_count": 17,
     "metadata": {},
     "output_type": "execute_result"
    }
   ],
   "source": [
    "gdp_drop_footnotes['Country'].unique()"
   ]
  },
  {
   "cell_type": "code",
   "execution_count": 18,
   "id": "8b1386eb-1e97-4bc9-ade5-5bdebb882aed",
   "metadata": {},
   "outputs": [],
   "source": [
    "gdp_drop_footnotes['Country'] = gdp_drop_footnotes['Country'].astype('string')"
   ]
  },
  {
   "cell_type": "code",
   "execution_count": 19,
   "id": "7f76710e-dc67-445f-a610-c205cb985779",
   "metadata": {},
   "outputs": [
    {
     "data": {
      "text/plain": [
       "Country           string[python]\n",
       "Year                       int64\n",
       "GDP_Per_Capita           float64\n",
       "dtype: object"
      ]
     },
     "execution_count": 19,
     "metadata": {},
     "output_type": "execute_result"
    }
   ],
   "source": [
    "gdp_drop_footnotes.dtypes"
   ]
  },
  {
   "cell_type": "code",
   "execution_count": 20,
   "id": "3051c623-f308-43d6-90ea-003d55af9169",
   "metadata": {},
   "outputs": [
    {
     "name": "stdout",
     "output_type": "stream",
     "text": [
      "<class 'pandas.core.frame.DataFrame'>\n",
      "RangeIndex: 8219 entries, 0 to 8218\n",
      "Data columns (total 3 columns):\n",
      " #   Column          Non-Null Count  Dtype  \n",
      "---  ------          --------------  -----  \n",
      " 0   Country         8219 non-null   string \n",
      " 1   Year            8219 non-null   int64  \n",
      " 2   GDP_Per_Capita  8219 non-null   float64\n",
      "dtypes: float64(1), int64(1), string(1)\n",
      "memory usage: 192.8 KB\n"
     ]
    }
   ],
   "source": [
    "gdp_drop_footnotes.info()"
   ]
  },
  {
   "cell_type": "markdown",
   "id": "c71de285-3df7-45ac-90bb-b3c8e089c53d",
   "metadata": {},
   "source": [
    "##### 7. Which years are represented in this dataset? Take a look at the number of observations per year. What do you notice?\r\n",
    "\r\n"
   ]
  },
  {
   "cell_type": "code",
   "execution_count": 22,
   "id": "af3bc977-96bd-45f1-b8ee-dc0302258b5d",
   "metadata": {},
   "outputs": [
    {
     "data": {
      "text/plain": [
       "Year\n",
       "2021    247\n",
       "2020    247\n",
       "2019    247\n",
       "2018    247\n",
       "2017    247\n",
       "2016    247\n",
       "2015    247\n",
       "2014    247\n",
       "2013    247\n",
       "2012    246\n",
       "2022    246\n",
       "2011    246\n",
       "2010    245\n",
       "2009    245\n",
       "2008    244\n",
       "2007    242\n",
       "2006    242\n",
       "2005    241\n",
       "2004    241\n",
       "2003    241\n",
       "2002    241\n",
       "2000    240\n",
       "2023    240\n",
       "2001    240\n",
       "1999    238\n",
       "1998    238\n",
       "1997    238\n",
       "1996    236\n",
       "1995    236\n",
       "1994    235\n",
       "1993    234\n",
       "1992    234\n",
       "1991    234\n",
       "1990    233\n",
       "Name: count, dtype: int64"
      ]
     },
     "execution_count": 22,
     "metadata": {},
     "output_type": "execute_result"
    }
   ],
   "source": [
    "gdp_drop_footnotes['Year'].value_counts()"
   ]
  },
  {
   "cell_type": "code",
   "execution_count": 23,
   "id": "01188266-ee27-4919-be22-a6991942faac",
   "metadata": {},
   "outputs": [],
   "source": [
    "hmm = gdp_drop_footnotes.groupby('Country')['GDP_Per_Capita'].count().sort_values()"
   ]
  },
  {
   "cell_type": "code",
   "execution_count": 24,
   "id": "e1ca323c-6eb7-4cff-aa92-2e4206f80b50",
   "metadata": {},
   "outputs": [
    {
     "data": {
      "text/plain": [
       "Country\n",
       "Djibouti                     11\n",
       "Turks and Caicos Islands     13\n",
       "Sint Maarten (Dutch part)    15\n",
       "Faroe Islands                16\n",
       "Kosovo                       16\n",
       "Cayman Islands               18\n",
       "Virgin Islands               21\n",
       "CuraÃ§ao                     24\n",
       "Afghanistan                  24\n",
       "San Marino                   26\n",
       "Montenegro                   27\n",
       "Serbia                       29\n",
       "West Bank and Gaza           30\n",
       "Greenland                    32\n",
       "Syrian Arab Republic         33\n",
       "Somalia                      33\n",
       "Tonga                        33\n",
       "Bhutan                       33\n",
       "Lebanon                      33\n",
       "Name: GDP_Per_Capita, dtype: int64"
      ]
     },
     "execution_count": 24,
     "metadata": {},
     "output_type": "execute_result"
    }
   ],
   "source": [
    "hmm[hmm < 34]"
   ]
  },
  {
   "cell_type": "code",
   "execution_count": 25,
   "id": "a2a031e8-057b-421c-bf59-6a7b3ce7d23a",
   "metadata": {},
   "outputs": [
    {
     "data": {
      "text/plain": [
       "Country\n",
       "Djibouti                     11\n",
       "Turks and Caicos Islands     13\n",
       "Sint Maarten (Dutch part)    15\n",
       "Faroe Islands                16\n",
       "Kosovo                       16\n",
       "Cayman Islands               18\n",
       "Virgin Islands               21\n",
       "CuraÃ§ao                     24\n",
       "Afghanistan                  24\n",
       "San Marino                   26\n",
       "Name: GDP_Per_Capita, dtype: int64"
      ]
     },
     "execution_count": 25,
     "metadata": {},
     "output_type": "execute_result"
    }
   ],
   "source": [
    "hmm.nsmallest(n=10, keep='all')"
   ]
  },
  {
   "cell_type": "markdown",
   "id": "1ae54829-8558-43c0-852d-e43d3fd1d5ce",
   "metadata": {},
   "source": [
    "###### I notice that the further in the past the date is the fewer instances of that year are located in the Year column. "
   ]
  },
  {
   "cell_type": "markdown",
   "id": "8c9ccf36-412f-4326-846e-091e1768da30",
   "metadata": {},
   "source": [
    "#### 8. How many countries are represented in this dataset? Which countries are least represented in the dataset? Why do you think these countries have so few observations?"
   ]
  },
  {
   "cell_type": "code",
   "execution_count": 28,
   "id": "6cf50ca6-72d4-43a9-82fa-b28587e9ee83",
   "metadata": {},
   "outputs": [
    {
     "data": {
      "text/plain": [
       "<StringArray>\n",
       "[                'Afghanistan', 'Africa Eastern and Southern',\n",
       "  'Africa Western and Central',                     'Albania',\n",
       "                     'Algeria',                     'Andorra',\n",
       "                      'Angola',         'Antigua and Barbuda',\n",
       "                  'Arab World',                   'Argentina',\n",
       " ...\n",
       "         'Upper middle income',                     'Uruguay',\n",
       "                  'Uzbekistan',                     'Vanuatu',\n",
       "                    'Viet Nam',              'Virgin Islands',\n",
       "          'West Bank and Gaza',                       'World',\n",
       "                      'Zambia',                    'Zimbabwe']\n",
       "Length: 247, dtype: string"
      ]
     },
     "execution_count": 28,
     "metadata": {},
     "output_type": "execute_result"
    }
   ],
   "source": [
    "gdp_drop_footnotes['Country'].unique(\n",
    "\n",
    ") "
   ]
  },
  {
   "cell_type": "code",
   "execution_count": 29,
   "id": "c81801e2-484e-476f-832e-412e624bb41c",
   "metadata": {},
   "outputs": [
    {
     "data": {
      "text/plain": [
       "247"
      ]
     },
     "execution_count": 29,
     "metadata": {},
     "output_type": "execute_result"
    }
   ],
   "source": [
    "gdp_drop_footnotes['Country'].nunique()"
   ]
  },
  {
   "cell_type": "code",
   "execution_count": null,
   "id": "75f61a18-722f-4524-b3c7-f05280e26a96",
   "metadata": {},
   "outputs": [],
   "source": []
  },
  {
   "cell_type": "code",
   "execution_count": 30,
   "id": "68de376d-2fff-4127-afa9-6de5d8b7e115",
   "metadata": {},
   "outputs": [
    {
     "data": {
      "text/plain": [
       "Country\n",
       "Tunisia                      34\n",
       "Somalia                      33\n",
       "Lebanon                      33\n",
       "Tonga                        33\n",
       "Syrian Arab Republic         33\n",
       "Bhutan                       33\n",
       "Greenland                    32\n",
       "West Bank and Gaza           30\n",
       "Serbia                       29\n",
       "Montenegro                   27\n",
       "San Marino                   26\n",
       "CuraÃ§ao                     24\n",
       "Afghanistan                  24\n",
       "Virgin Islands               21\n",
       "Cayman Islands               18\n",
       "Faroe Islands                16\n",
       "Kosovo                       16\n",
       "Sint Maarten (Dutch part)    15\n",
       "Turks and Caicos Islands     13\n",
       "Djibouti                     11\n",
       "Name: count, dtype: Int64"
      ]
     },
     "execution_count": 30,
     "metadata": {},
     "output_type": "execute_result"
    }
   ],
   "source": [
    "gdp_drop_footnotes['Country'].value_counts().tail(20)"
   ]
  },
  {
   "cell_type": "code",
   "execution_count": 31,
   "id": "6735c145-5800-4609-ad24-84a362cb1c96",
   "metadata": {},
   "outputs": [
    {
     "data": {
      "text/plain": [
       "Country\n",
       "Latvia                        34\n",
       "East Asia & Pacific           34\n",
       "Burundi                       34\n",
       "Bulgaria                      34\n",
       "Ecuador                       34\n",
       "Brunei                        34\n",
       "Africa Western and Central    34\n",
       "Albania                       34\n",
       "Algeria                       34\n",
       "Andorra                       34\n",
       "Angola                        34\n",
       "Antigua and Barbuda           34\n",
       "Arab World                    34\n",
       "Argentina                     34\n",
       "Armenia                       34\n",
       "Aruba                         34\n",
       "Australia                     34\n",
       "Austria                       34\n",
       "Azerbaijan                    34\n",
       "Bahrain                       34\n",
       "Name: count, dtype: Int64"
      ]
     },
     "execution_count": 31,
     "metadata": {},
     "output_type": "execute_result"
    }
   ],
   "source": [
    "gdp_drop_footnotes['Country'].value_counts().head(20)"
   ]
  },
  {
   "cell_type": "markdown",
   "id": "196a7625-b789-46af-898d-5b2621f5d399",
   "metadata": {},
   "source": [
    "###### Perhaps due to these countries being more newly formed, or not having the resources to collect the necessary data, or something of that nature. "
   ]
  },
  {
   "cell_type": "markdown",
   "id": "54ca00c5-b775-4ec3-864b-03ed51f6a45c",
   "metadata": {},
   "source": [
    "#### 9. Create a new dataframe by subsetting gdp_df to just the year 2021. Call this new dataframe gdp_2021."
   ]
  },
  {
   "cell_type": "code",
   "execution_count": 34,
   "id": "81781131-f6f4-41dd-a62a-d1f3efcbd9bb",
   "metadata": {},
   "outputs": [],
   "source": [
    "gdp_2021 = gdp_drop_footnotes[gdp_drop_footnotes['Year'] == 2021]"
   ]
  },
  {
   "cell_type": "code",
   "execution_count": null,
   "id": "da7893e0-2bed-463e-bbc8-c08ca463d5ae",
   "metadata": {},
   "outputs": [],
   "source": []
  },
  {
   "cell_type": "code",
   "execution_count": 35,
   "id": "a9ea1b76-066a-4140-ba7a-56da8c282c09",
   "metadata": {},
   "outputs": [
    {
     "data": {
      "text/html": [
       "<div>\n",
       "<style scoped>\n",
       "    .dataframe tbody tr th:only-of-type {\n",
       "        vertical-align: middle;\n",
       "    }\n",
       "\n",
       "    .dataframe tbody tr th {\n",
       "        vertical-align: top;\n",
       "    }\n",
       "\n",
       "    .dataframe thead th {\n",
       "        text-align: right;\n",
       "    }\n",
       "</style>\n",
       "<table border=\"1\" class=\"dataframe\">\n",
       "  <thead>\n",
       "    <tr style=\"text-align: right;\">\n",
       "      <th></th>\n",
       "      <th>Country</th>\n",
       "      <th>Year</th>\n",
       "      <th>GDP_Per_Capita</th>\n",
       "    </tr>\n",
       "  </thead>\n",
       "  <tbody>\n",
       "    <tr>\n",
       "      <th>2</th>\n",
       "      <td>Afghanistan</td>\n",
       "      <td>2021</td>\n",
       "      <td>2144.166570</td>\n",
       "    </tr>\n",
       "    <tr>\n",
       "      <th>26</th>\n",
       "      <td>Africa Eastern and Southern</td>\n",
       "      <td>2021</td>\n",
       "      <td>3934.287267</td>\n",
       "    </tr>\n",
       "    <tr>\n",
       "      <th>60</th>\n",
       "      <td>Africa Western and Central</td>\n",
       "      <td>2021</td>\n",
       "      <td>4698.926894</td>\n",
       "    </tr>\n",
       "    <tr>\n",
       "      <th>94</th>\n",
       "      <td>Albania</td>\n",
       "      <td>2021</td>\n",
       "      <td>16113.136519</td>\n",
       "    </tr>\n",
       "    <tr>\n",
       "      <th>128</th>\n",
       "      <td>Algeria</td>\n",
       "      <td>2021</td>\n",
       "      <td>14496.865470</td>\n",
       "    </tr>\n",
       "  </tbody>\n",
       "</table>\n",
       "</div>"
      ],
      "text/plain": [
       "                         Country  Year  GDP_Per_Capita\n",
       "2                    Afghanistan  2021     2144.166570\n",
       "26   Africa Eastern and Southern  2021     3934.287267\n",
       "60    Africa Western and Central  2021     4698.926894\n",
       "94                       Albania  2021    16113.136519\n",
       "128                      Algeria  2021    14496.865470"
      ]
     },
     "execution_count": 35,
     "metadata": {},
     "output_type": "execute_result"
    }
   ],
   "source": [
    "gdp_2021.head(5)"
   ]
  },
  {
   "cell_type": "markdown",
   "id": "9e12af7a-94a7-445a-9988-8476e2af2046",
   "metadata": {},
   "source": [
    "#### 10. Use .describe() to find the summary statistics for GDP per capita in 2021."
   ]
  },
  {
   "cell_type": "code",
   "execution_count": 37,
   "id": "aead8369-49fa-4b86-95e2-709050b4bef5",
   "metadata": {},
   "outputs": [
    {
     "data": {
      "text/plain": [
       "count       247.000000\n",
       "mean      24478.517262\n",
       "std       24601.525764\n",
       "min         836.665571\n",
       "25%        5996.532844\n",
       "50%       15900.976581\n",
       "75%       37298.776853\n",
       "max      135379.291201\n",
       "Name: GDP_Per_Capita, dtype: float64"
      ]
     },
     "execution_count": 37,
     "metadata": {},
     "output_type": "execute_result"
    }
   ],
   "source": [
    "gdp_2021['GDP_Per_Capita'].describe()"
   ]
  },
  {
   "cell_type": "markdown",
   "id": "a71f5481-fac3-4905-b7f4-34850b1f587d",
   "metadata": {},
   "source": [
    "#### 11. Create a histogram of GDP Per Capita numbers for 2021 (you may wish to adjust the number of bins for your histogram). How would you describe the shape of the distribution?"
   ]
  },
  {
   "cell_type": "code",
   "execution_count": 39,
   "id": "1bf26fa7-ce38-421d-8fb4-028c24ee1a40",
   "metadata": {},
   "outputs": [
    {
     "data": {
      "text/plain": [
       "<Axes: >"
      ]
     },
     "execution_count": 39,
     "metadata": {},
     "output_type": "execute_result"
    },
    {
     "data": {
      "image/png": "[encoded data removed]",
      "text/plain": [
       "<Figure size 640x480 with 1 Axes>"
      ]
     },
     "metadata": {},
     "output_type": "display_data"
    }
   ],
   "source": [
    "gdp_2021['GDP_Per_Capita'].hist(bins = 20)"
   ]
  },
  {
   "cell_type": "code",
   "execution_count": 40,
   "id": "880b9be1-410a-413a-98eb-4f20e5402b93",
   "metadata": {},
   "outputs": [
    {
     "data": {
      "image/png": "[encoded data removed]",
      "text/plain": [
       "<Figure size 640x480 with 1 Axes>"
      ]
     },
     "metadata": {},
     "output_type": "display_data"
    }
   ],
   "source": [
    "gdp_2021['GDP_Per_Capita'].plot(kind='hist', bins = 20);"
   ]
  },
  {
   "cell_type": "code",
   "execution_count": 41,
   "id": "b8cb0f1b-0805-4483-aaa6-d472878f2c37",
   "metadata": {},
   "outputs": [
    {
     "data": {
      "text/plain": [
       "135379.29120102368"
      ]
     },
     "execution_count": 41,
     "metadata": {},
     "output_type": "execute_result"
    }
   ],
   "source": [
    "gdp_2021['GDP_Per_Capita'].max()"
   ]
  },
  {
   "cell_type": "markdown",
   "id": "09ce4733-b0d4-49da-a439-7fa144b441f3",
   "metadata": {},
   "source": [
    "#### 12. Find the top 5 counties and bottom 5 countries by GDP per capita in 2021.']"
   ]
  },
  {
   "cell_type": "code",
   "execution_count": 43,
   "id": "0d468aa2-39ab-4b7e-884d-755dc8616593",
   "metadata": {},
   "outputs": [
    {
     "data": {
      "text/html": [
       "<div>\n",
       "<style scoped>\n",
       "    .dataframe tbody tr th:only-of-type {\n",
       "        vertical-align: middle;\n",
       "    }\n",
       "\n",
       "    .dataframe tbody tr th {\n",
       "        vertical-align: top;\n",
       "    }\n",
       "\n",
       "    .dataframe thead th {\n",
       "        text-align: right;\n",
       "    }\n",
       "</style>\n",
       "<table border=\"1\" class=\"dataframe\">\n",
       "  <thead>\n",
       "    <tr style=\"text-align: right;\">\n",
       "      <th></th>\n",
       "      <th>Country</th>\n",
       "      <th>Year</th>\n",
       "      <th>GDP_Per_Capita</th>\n",
       "    </tr>\n",
       "  </thead>\n",
       "  <tbody>\n",
       "    <tr>\n",
       "      <th>4425</th>\n",
       "      <td>Luxembourg</td>\n",
       "      <td>2021</td>\n",
       "      <td>135379.291201</td>\n",
       "    </tr>\n",
       "    <tr>\n",
       "      <th>6513</th>\n",
       "      <td>Singapore</td>\n",
       "      <td>2021</td>\n",
       "      <td>131864.092336</td>\n",
       "    </tr>\n",
       "    <tr>\n",
       "      <th>3492</th>\n",
       "      <td>Ireland</td>\n",
       "      <td>2021</td>\n",
       "      <td>118594.746862</td>\n",
       "    </tr>\n",
       "    <tr>\n",
       "      <th>6118</th>\n",
       "      <td>Qatar</td>\n",
       "      <td>2021</td>\n",
       "      <td>116832.570290</td>\n",
       "    </tr>\n",
       "    <tr>\n",
       "      <th>740</th>\n",
       "      <td>Bermuda</td>\n",
       "      <td>2021</td>\n",
       "      <td>92276.234605</td>\n",
       "    </tr>\n",
       "    <tr>\n",
       "      <th>...</th>\n",
       "      <td>...</td>\n",
       "      <td>...</td>\n",
       "      <td>...</td>\n",
       "    </tr>\n",
       "    <tr>\n",
       "      <th>5132</th>\n",
       "      <td>Mozambique</td>\n",
       "      <td>2021</td>\n",
       "      <td>1457.235409</td>\n",
       "    </tr>\n",
       "    <tr>\n",
       "      <th>6698</th>\n",
       "      <td>Somalia</td>\n",
       "      <td>2021</td>\n",
       "      <td>1392.464262</td>\n",
       "    </tr>\n",
       "    <tr>\n",
       "      <th>1733</th>\n",
       "      <td>Dem. Rep. Congo</td>\n",
       "      <td>2021</td>\n",
       "      <td>1313.618218</td>\n",
       "    </tr>\n",
       "    <tr>\n",
       "      <th>1301</th>\n",
       "      <td>Central African Republic</td>\n",
       "      <td>2021</td>\n",
       "      <td>1128.552380</td>\n",
       "    </tr>\n",
       "    <tr>\n",
       "      <th>1045</th>\n",
       "      <td>Burundi</td>\n",
       "      <td>2021</td>\n",
       "      <td>836.665571</td>\n",
       "    </tr>\n",
       "  </tbody>\n",
       "</table>\n",
       "<p>247 rows × 3 columns</p>\n",
       "</div>"
      ],
      "text/plain": [
       "                       Country  Year  GDP_Per_Capita\n",
       "4425                Luxembourg  2021   135379.291201\n",
       "6513                 Singapore  2021   131864.092336\n",
       "3492                   Ireland  2021   118594.746862\n",
       "6118                     Qatar  2021   116832.570290\n",
       "740                    Bermuda  2021    92276.234605\n",
       "...                        ...   ...             ...\n",
       "5132                Mozambique  2021     1457.235409\n",
       "6698                   Somalia  2021     1392.464262\n",
       "1733           Dem. Rep. Congo  2021     1313.618218\n",
       "1301  Central African Republic  2021     1128.552380\n",
       "1045                   Burundi  2021      836.665571\n",
       "\n",
       "[247 rows x 3 columns]"
      ]
     },
     "execution_count": 43,
     "metadata": {},
     "output_type": "execute_result"
    }
   ],
   "source": [
    "gdp_2021.sort_values('GDP_Per_Capita', ascending=False) # a way to view both top and bottom 5 countries at the same time"
   ]
  },
  {
   "cell_type": "code",
   "execution_count": 44,
   "id": "2152a551-aba7-48b1-8266-1063fb3f10a9",
   "metadata": {},
   "outputs": [
    {
     "data": {
      "text/html": [
       "<div>\n",
       "<style scoped>\n",
       "    .dataframe tbody tr th:only-of-type {\n",
       "        vertical-align: middle;\n",
       "    }\n",
       "\n",
       "    .dataframe tbody tr th {\n",
       "        vertical-align: top;\n",
       "    }\n",
       "\n",
       "    .dataframe thead th {\n",
       "        text-align: right;\n",
       "    }\n",
       "</style>\n",
       "<table border=\"1\" class=\"dataframe\">\n",
       "  <thead>\n",
       "    <tr style=\"text-align: right;\">\n",
       "      <th></th>\n",
       "      <th>Country</th>\n",
       "      <th>Year</th>\n",
       "      <th>GDP_Per_Capita</th>\n",
       "    </tr>\n",
       "  </thead>\n",
       "  <tbody>\n",
       "    <tr>\n",
       "      <th>1045</th>\n",
       "      <td>Burundi</td>\n",
       "      <td>2021</td>\n",
       "      <td>836.665571</td>\n",
       "    </tr>\n",
       "    <tr>\n",
       "      <th>1301</th>\n",
       "      <td>Central African Republic</td>\n",
       "      <td>2021</td>\n",
       "      <td>1128.552380</td>\n",
       "    </tr>\n",
       "    <tr>\n",
       "      <th>1733</th>\n",
       "      <td>Dem. Rep. Congo</td>\n",
       "      <td>2021</td>\n",
       "      <td>1313.618218</td>\n",
       "    </tr>\n",
       "    <tr>\n",
       "      <th>6698</th>\n",
       "      <td>Somalia</td>\n",
       "      <td>2021</td>\n",
       "      <td>1392.464262</td>\n",
       "    </tr>\n",
       "    <tr>\n",
       "      <th>5132</th>\n",
       "      <td>Mozambique</td>\n",
       "      <td>2021</td>\n",
       "      <td>1457.235409</td>\n",
       "    </tr>\n",
       "  </tbody>\n",
       "</table>\n",
       "</div>"
      ],
      "text/plain": [
       "                       Country  Year  GDP_Per_Capita\n",
       "1045                   Burundi  2021      836.665571\n",
       "1301  Central African Republic  2021     1128.552380\n",
       "1733           Dem. Rep. Congo  2021     1313.618218\n",
       "6698                   Somalia  2021     1392.464262\n",
       "5132                Mozambique  2021     1457.235409"
      ]
     },
     "execution_count": 44,
     "metadata": {},
     "output_type": "execute_result"
    }
   ],
   "source": [
    "gdp_2021.nsmallest(5, \"GDP_Per_Capita\", keep='all')"
   ]
  },
  {
   "cell_type": "code",
   "execution_count": 45,
   "id": "fbeda248-8034-419f-a42d-e490d53e6df8",
   "metadata": {},
   "outputs": [
    {
     "data": {
      "text/html": [
       "<div>\n",
       "<style scoped>\n",
       "    .dataframe tbody tr th:only-of-type {\n",
       "        vertical-align: middle;\n",
       "    }\n",
       "\n",
       "    .dataframe tbody tr th {\n",
       "        vertical-align: top;\n",
       "    }\n",
       "\n",
       "    .dataframe thead th {\n",
       "        text-align: right;\n",
       "    }\n",
       "</style>\n",
       "<table border=\"1\" class=\"dataframe\">\n",
       "  <thead>\n",
       "    <tr style=\"text-align: right;\">\n",
       "      <th></th>\n",
       "      <th>Country</th>\n",
       "      <th>Year</th>\n",
       "      <th>GDP_Per_Capita</th>\n",
       "    </tr>\n",
       "  </thead>\n",
       "  <tbody>\n",
       "    <tr>\n",
       "      <th>4425</th>\n",
       "      <td>Luxembourg</td>\n",
       "      <td>2021</td>\n",
       "      <td>135379.291201</td>\n",
       "    </tr>\n",
       "    <tr>\n",
       "      <th>6513</th>\n",
       "      <td>Singapore</td>\n",
       "      <td>2021</td>\n",
       "      <td>131864.092336</td>\n",
       "    </tr>\n",
       "    <tr>\n",
       "      <th>3492</th>\n",
       "      <td>Ireland</td>\n",
       "      <td>2021</td>\n",
       "      <td>118594.746862</td>\n",
       "    </tr>\n",
       "    <tr>\n",
       "      <th>6118</th>\n",
       "      <td>Qatar</td>\n",
       "      <td>2021</td>\n",
       "      <td>116832.570290</td>\n",
       "    </tr>\n",
       "    <tr>\n",
       "      <th>740</th>\n",
       "      <td>Bermuda</td>\n",
       "      <td>2021</td>\n",
       "      <td>92276.234605</td>\n",
       "    </tr>\n",
       "  </tbody>\n",
       "</table>\n",
       "</div>"
      ],
      "text/plain": [
       "         Country  Year  GDP_Per_Capita\n",
       "4425  Luxembourg  2021   135379.291201\n",
       "6513   Singapore  2021   131864.092336\n",
       "3492     Ireland  2021   118594.746862\n",
       "6118       Qatar  2021   116832.570290\n",
       "740      Bermuda  2021    92276.234605"
      ]
     },
     "execution_count": 45,
     "metadata": {},
     "output_type": "execute_result"
    }
   ],
   "source": [
    "gdp_2021.nlargest(5, 'GDP_Per_Capita') # a way to view the top 5 countries only"
   ]
  },
  {
   "cell_type": "code",
   "execution_count": 46,
   "id": "efb95975-7228-4af3-9a63-186cdc686183",
   "metadata": {},
   "outputs": [
    {
     "data": {
      "text/html": [
       "<div>\n",
       "<style scoped>\n",
       "    .dataframe tbody tr th:only-of-type {\n",
       "        vertical-align: middle;\n",
       "    }\n",
       "\n",
       "    .dataframe tbody tr th {\n",
       "        vertical-align: top;\n",
       "    }\n",
       "\n",
       "    .dataframe thead th {\n",
       "        text-align: right;\n",
       "    }\n",
       "</style>\n",
       "<table border=\"1\" class=\"dataframe\">\n",
       "  <thead>\n",
       "    <tr style=\"text-align: right;\">\n",
       "      <th></th>\n",
       "      <th>Country</th>\n",
       "      <th>Year</th>\n",
       "      <th>GDP_Per_Capita</th>\n",
       "    </tr>\n",
       "  </thead>\n",
       "  <tbody>\n",
       "    <tr>\n",
       "      <th>1045</th>\n",
       "      <td>Burundi</td>\n",
       "      <td>2021</td>\n",
       "      <td>836.665571</td>\n",
       "    </tr>\n",
       "    <tr>\n",
       "      <th>1301</th>\n",
       "      <td>Central African Republic</td>\n",
       "      <td>2021</td>\n",
       "      <td>1128.552380</td>\n",
       "    </tr>\n",
       "    <tr>\n",
       "      <th>1733</th>\n",
       "      <td>Dem. Rep. Congo</td>\n",
       "      <td>2021</td>\n",
       "      <td>1313.618218</td>\n",
       "    </tr>\n",
       "    <tr>\n",
       "      <th>6698</th>\n",
       "      <td>Somalia</td>\n",
       "      <td>2021</td>\n",
       "      <td>1392.464262</td>\n",
       "    </tr>\n",
       "    <tr>\n",
       "      <th>5132</th>\n",
       "      <td>Mozambique</td>\n",
       "      <td>2021</td>\n",
       "      <td>1457.235409</td>\n",
       "    </tr>\n",
       "  </tbody>\n",
       "</table>\n",
       "</div>"
      ],
      "text/plain": [
       "                       Country  Year  GDP_Per_Capita\n",
       "1045                   Burundi  2021      836.665571\n",
       "1301  Central African Republic  2021     1128.552380\n",
       "1733           Dem. Rep. Congo  2021     1313.618218\n",
       "6698                   Somalia  2021     1392.464262\n",
       "5132                Mozambique  2021     1457.235409"
      ]
     },
     "execution_count": 46,
     "metadata": {},
     "output_type": "execute_result"
    }
   ],
   "source": [
    "gdp_2021.nsmallest(5, 'GDP_Per_Capita') # a way to view the bottom 5 countries only"
   ]
  },
  {
   "cell_type": "markdown",
   "id": "ed0c84a1-e3a7-45d7-b044-b6ecbdbaf775",
   "metadata": {},
   "source": [
    "#### 13. Now, return to the full dataset, gdp_df. Pivot the data for 1990 and 2021 (using the pandas .pivot_table() method or another method) so that each row corresponds to a country, each column corresponds to a year, and the values in the table give the GDP_Per_Capita amount. Drop any rows that are missing values for either 1990 or 2021. Save the result to a dataframe named gdp_pivoted."
   ]
  },
  {
   "cell_type": "code",
   "execution_count": 48,
   "id": "37a5ac03-7598-4b15-bf63-d9d9cd3f7e5b",
   "metadata": {},
   "outputs": [
    {
     "data": {
      "text/html": [
       "<div>\n",
       "<style scoped>\n",
       "    .dataframe tbody tr th:only-of-type {\n",
       "        vertical-align: middle;\n",
       "    }\n",
       "\n",
       "    .dataframe tbody tr th {\n",
       "        vertical-align: top;\n",
       "    }\n",
       "\n",
       "    .dataframe thead th {\n",
       "        text-align: right;\n",
       "    }\n",
       "</style>\n",
       "<table border=\"1\" class=\"dataframe\">\n",
       "  <thead>\n",
       "    <tr style=\"text-align: right;\">\n",
       "      <th></th>\n",
       "      <th>Country</th>\n",
       "      <th>Year</th>\n",
       "      <th>GDP_Per_Capita</th>\n",
       "    </tr>\n",
       "  </thead>\n",
       "  <tbody>\n",
       "    <tr>\n",
       "      <th>2</th>\n",
       "      <td>Afghanistan</td>\n",
       "      <td>2021</td>\n",
       "      <td>2144.166570</td>\n",
       "    </tr>\n",
       "    <tr>\n",
       "      <th>26</th>\n",
       "      <td>Africa Eastern and Southern</td>\n",
       "      <td>2021</td>\n",
       "      <td>3934.287267</td>\n",
       "    </tr>\n",
       "    <tr>\n",
       "      <th>57</th>\n",
       "      <td>Africa Eastern and Southern</td>\n",
       "      <td>1990</td>\n",
       "      <td>3386.854480</td>\n",
       "    </tr>\n",
       "    <tr>\n",
       "      <th>60</th>\n",
       "      <td>Africa Western and Central</td>\n",
       "      <td>2021</td>\n",
       "      <td>4698.926894</td>\n",
       "    </tr>\n",
       "    <tr>\n",
       "      <th>91</th>\n",
       "      <td>Africa Western and Central</td>\n",
       "      <td>1990</td>\n",
       "      <td>3299.401375</td>\n",
       "    </tr>\n",
       "    <tr>\n",
       "      <th>...</th>\n",
       "      <td>...</td>\n",
       "      <td>...</td>\n",
       "      <td>...</td>\n",
       "    </tr>\n",
       "    <tr>\n",
       "      <th>8150</th>\n",
       "      <td>World</td>\n",
       "      <td>1990</td>\n",
       "      <td>11207.386344</td>\n",
       "    </tr>\n",
       "    <tr>\n",
       "      <th>8153</th>\n",
       "      <td>Zambia</td>\n",
       "      <td>2021</td>\n",
       "      <td>3503.034914</td>\n",
       "    </tr>\n",
       "    <tr>\n",
       "      <th>8184</th>\n",
       "      <td>Zambia</td>\n",
       "      <td>1990</td>\n",
       "      <td>2425.111287</td>\n",
       "    </tr>\n",
       "    <tr>\n",
       "      <th>8187</th>\n",
       "      <td>Zimbabwe</td>\n",
       "      <td>2021</td>\n",
       "      <td>3184.785451</td>\n",
       "    </tr>\n",
       "    <tr>\n",
       "      <th>8218</th>\n",
       "      <td>Zimbabwe</td>\n",
       "      <td>1990</td>\n",
       "      <td>4013.299059</td>\n",
       "    </tr>\n",
       "  </tbody>\n",
       "</table>\n",
       "<p>480 rows × 3 columns</p>\n",
       "</div>"
      ],
      "text/plain": [
       "                          Country  Year  GDP_Per_Capita\n",
       "2                     Afghanistan  2021     2144.166570\n",
       "26    Africa Eastern and Southern  2021     3934.287267\n",
       "57    Africa Eastern and Southern  1990     3386.854480\n",
       "60     Africa Western and Central  2021     4698.926894\n",
       "91     Africa Western and Central  1990     3299.401375\n",
       "...                           ...   ...             ...\n",
       "8150                        World  1990    11207.386344\n",
       "8153                       Zambia  2021     3503.034914\n",
       "8184                       Zambia  1990     2425.111287\n",
       "8187                     Zimbabwe  2021     3184.785451\n",
       "8218                     Zimbabwe  1990     4013.299059\n",
       "\n",
       "[480 rows x 3 columns]"
      ]
     },
     "execution_count": 48,
     "metadata": {},
     "output_type": "execute_result"
    }
   ],
   "source": [
    "gdp_drop_footnotes.loc[(gdp_drop_footnotes['Year']==1990) | (gdp_drop_footnotes['Year']==2021)]"
   ]
  },
  {
   "cell_type": "code",
   "execution_count": 49,
   "id": "06000b70-86d6-4ef7-bea1-cdf3edd7cf1e",
   "metadata": {},
   "outputs": [],
   "source": [
    "gdp_pivoted = pd.pivot_table(\n",
    "    gdp_drop_footnotes.loc[(gdp_drop_footnotes['Year']==1990) | (gdp_drop_footnotes['Year']==2021)],\n",
    "    values='GDP_Per_Capita',\n",
    "    index='Country',\n",
    "    columns='Year'\n",
    ")"
   ]
  },
  {
   "cell_type": "code",
   "execution_count": 50,
   "id": "8929c40c-c85a-4662-baeb-20a67f95c880",
   "metadata": {},
   "outputs": [],
   "source": [
    "gdp_pivoted = (\n",
    "    gdp_drop_footnotes\n",
    "    [gdp_drop_footnotes[\"Year\"].isin([1990, 2021])]\n",
    "    .pivot_table(index=\"Country\", columns=\"Year\", values=\"GDP_Per_Capita\")\n",
    "    .dropna(subset = [1990, 2021])\n",
    ")"
   ]
  },
  {
   "cell_type": "code",
   "execution_count": 51,
   "id": "e4902019-b6d0-4388-87e6-b347c7f87811",
   "metadata": {},
   "outputs": [
    {
     "data": {
      "text/html": [
       "<div>\n",
       "<style scoped>\n",
       "    .dataframe tbody tr th:only-of-type {\n",
       "        vertical-align: middle;\n",
       "    }\n",
       "\n",
       "    .dataframe tbody tr th {\n",
       "        vertical-align: top;\n",
       "    }\n",
       "\n",
       "    .dataframe thead th {\n",
       "        text-align: right;\n",
       "    }\n",
       "</style>\n",
       "<table border=\"1\" class=\"dataframe\">\n",
       "  <thead>\n",
       "    <tr style=\"text-align: right;\">\n",
       "      <th>Year</th>\n",
       "      <th>1990</th>\n",
       "      <th>2021</th>\n",
       "    </tr>\n",
       "    <tr>\n",
       "      <th>Country</th>\n",
       "      <th></th>\n",
       "      <th></th>\n",
       "    </tr>\n",
       "  </thead>\n",
       "  <tbody>\n",
       "    <tr>\n",
       "      <th>Africa Eastern and Southern</th>\n",
       "      <td>3386.854480</td>\n",
       "      <td>3934.287267</td>\n",
       "    </tr>\n",
       "    <tr>\n",
       "      <th>Africa Western and Central</th>\n",
       "      <td>3299.401375</td>\n",
       "      <td>4698.926894</td>\n",
       "    </tr>\n",
       "    <tr>\n",
       "      <th>Albania</th>\n",
       "      <td>5327.747458</td>\n",
       "      <td>16113.136519</td>\n",
       "    </tr>\n",
       "    <tr>\n",
       "      <th>Algeria</th>\n",
       "      <td>11728.545729</td>\n",
       "      <td>14496.865470</td>\n",
       "    </tr>\n",
       "    <tr>\n",
       "      <th>Andorra</th>\n",
       "      <td>50036.300776</td>\n",
       "      <td>59332.202910</td>\n",
       "    </tr>\n",
       "    <tr>\n",
       "      <th>...</th>\n",
       "      <td>...</td>\n",
       "      <td>...</td>\n",
       "    </tr>\n",
       "    <tr>\n",
       "      <th>Vanuatu</th>\n",
       "      <td>3101.680551</td>\n",
       "      <td>3135.836649</td>\n",
       "    </tr>\n",
       "    <tr>\n",
       "      <th>Viet Nam</th>\n",
       "      <td>2467.964601</td>\n",
       "      <td>12048.901994</td>\n",
       "    </tr>\n",
       "    <tr>\n",
       "      <th>World</th>\n",
       "      <td>11207.386344</td>\n",
       "      <td>19637.823230</td>\n",
       "    </tr>\n",
       "    <tr>\n",
       "      <th>Zambia</th>\n",
       "      <td>2425.111287</td>\n",
       "      <td>3503.034914</td>\n",
       "    </tr>\n",
       "    <tr>\n",
       "      <th>Zimbabwe</th>\n",
       "      <td>4013.299059</td>\n",
       "      <td>3184.785451</td>\n",
       "    </tr>\n",
       "  </tbody>\n",
       "</table>\n",
       "<p>233 rows × 2 columns</p>\n",
       "</div>"
      ],
      "text/plain": [
       "Year                                 1990          2021\n",
       "Country                                                \n",
       "Africa Eastern and Southern   3386.854480   3934.287267\n",
       "Africa Western and Central    3299.401375   4698.926894\n",
       "Albania                       5327.747458  16113.136519\n",
       "Algeria                      11728.545729  14496.865470\n",
       "Andorra                      50036.300776  59332.202910\n",
       "...                                   ...           ...\n",
       "Vanuatu                       3101.680551   3135.836649\n",
       "Viet Nam                      2467.964601  12048.901994\n",
       "World                        11207.386344  19637.823230\n",
       "Zambia                        2425.111287   3503.034914\n",
       "Zimbabwe                      4013.299059   3184.785451\n",
       "\n",
       "[233 rows x 2 columns]"
      ]
     },
     "execution_count": 51,
     "metadata": {},
     "output_type": "execute_result"
    }
   ],
   "source": [
    "gdp_pivoted"
   ]
  },
  {
   "cell_type": "code",
   "execution_count": 52,
   "id": "ba91c4cd-2241-4e88-b023-6841a2146937",
   "metadata": {},
   "outputs": [],
   "source": [
    "#gdp_pivoted_what = gdp_pivoted[gdp_pivoted[1990].notna()]\n",
    "#gdp_pivoted_what"
   ]
  },
  {
   "cell_type": "code",
   "execution_count": 53,
   "id": "23ac7dfe-4571-4ab5-9e15-f0844f84e707",
   "metadata": {},
   "outputs": [],
   "source": [
    "gdp_pivoted = gdp_pivoted.reset_index()"
   ]
  },
  {
   "cell_type": "code",
   "execution_count": 54,
   "id": "757dd8b3-ff67-4a49-939b-fff78621e3f4",
   "metadata": {},
   "outputs": [
    {
     "data": {
      "text/html": [
       "<div>\n",
       "<style scoped>\n",
       "    .dataframe tbody tr th:only-of-type {\n",
       "        vertical-align: middle;\n",
       "    }\n",
       "\n",
       "    .dataframe tbody tr th {\n",
       "        vertical-align: top;\n",
       "    }\n",
       "\n",
       "    .dataframe thead th {\n",
       "        text-align: right;\n",
       "    }\n",
       "</style>\n",
       "<table border=\"1\" class=\"dataframe\">\n",
       "  <thead>\n",
       "    <tr style=\"text-align: right;\">\n",
       "      <th>Year</th>\n",
       "      <th>Country</th>\n",
       "      <th>1990</th>\n",
       "      <th>2021</th>\n",
       "    </tr>\n",
       "  </thead>\n",
       "  <tbody>\n",
       "    <tr>\n",
       "      <th>0</th>\n",
       "      <td>Africa Eastern and Southern</td>\n",
       "      <td>3386.854480</td>\n",
       "      <td>3934.287267</td>\n",
       "    </tr>\n",
       "    <tr>\n",
       "      <th>1</th>\n",
       "      <td>Africa Western and Central</td>\n",
       "      <td>3299.401375</td>\n",
       "      <td>4698.926894</td>\n",
       "    </tr>\n",
       "    <tr>\n",
       "      <th>2</th>\n",
       "      <td>Albania</td>\n",
       "      <td>5327.747458</td>\n",
       "      <td>16113.136519</td>\n",
       "    </tr>\n",
       "    <tr>\n",
       "      <th>3</th>\n",
       "      <td>Algeria</td>\n",
       "      <td>11728.545729</td>\n",
       "      <td>14496.865470</td>\n",
       "    </tr>\n",
       "    <tr>\n",
       "      <th>4</th>\n",
       "      <td>Andorra</td>\n",
       "      <td>50036.300776</td>\n",
       "      <td>59332.202910</td>\n",
       "    </tr>\n",
       "    <tr>\n",
       "      <th>...</th>\n",
       "      <td>...</td>\n",
       "      <td>...</td>\n",
       "      <td>...</td>\n",
       "    </tr>\n",
       "    <tr>\n",
       "      <th>228</th>\n",
       "      <td>Vanuatu</td>\n",
       "      <td>3101.680551</td>\n",
       "      <td>3135.836649</td>\n",
       "    </tr>\n",
       "    <tr>\n",
       "      <th>229</th>\n",
       "      <td>Viet Nam</td>\n",
       "      <td>2467.964601</td>\n",
       "      <td>12048.901994</td>\n",
       "    </tr>\n",
       "    <tr>\n",
       "      <th>230</th>\n",
       "      <td>World</td>\n",
       "      <td>11207.386344</td>\n",
       "      <td>19637.823230</td>\n",
       "    </tr>\n",
       "    <tr>\n",
       "      <th>231</th>\n",
       "      <td>Zambia</td>\n",
       "      <td>2425.111287</td>\n",
       "      <td>3503.034914</td>\n",
       "    </tr>\n",
       "    <tr>\n",
       "      <th>232</th>\n",
       "      <td>Zimbabwe</td>\n",
       "      <td>4013.299059</td>\n",
       "      <td>3184.785451</td>\n",
       "    </tr>\n",
       "  </tbody>\n",
       "</table>\n",
       "<p>233 rows × 3 columns</p>\n",
       "</div>"
      ],
      "text/plain": [
       "Year                      Country          1990          2021\n",
       "0     Africa Eastern and Southern   3386.854480   3934.287267\n",
       "1      Africa Western and Central   3299.401375   4698.926894\n",
       "2                         Albania   5327.747458  16113.136519\n",
       "3                         Algeria  11728.545729  14496.865470\n",
       "4                         Andorra  50036.300776  59332.202910\n",
       "..                            ...           ...           ...\n",
       "228                       Vanuatu   3101.680551   3135.836649\n",
       "229                      Viet Nam   2467.964601  12048.901994\n",
       "230                         World  11207.386344  19637.823230\n",
       "231                        Zambia   2425.111287   3503.034914\n",
       "232                      Zimbabwe   4013.299059   3184.785451\n",
       "\n",
       "[233 rows x 3 columns]"
      ]
     },
     "execution_count": 54,
     "metadata": {},
     "output_type": "execute_result"
    }
   ],
   "source": [
    "gdp_pivoted"
   ]
  },
  {
   "cell_type": "code",
   "execution_count": 55,
   "id": "ad038c44-5200-4fbd-898f-d6f2def48f02",
   "metadata": {},
   "outputs": [
    {
     "data": {
      "text/html": [
       "<div>\n",
       "<style scoped>\n",
       "    .dataframe tbody tr th:only-of-type {\n",
       "        vertical-align: middle;\n",
       "    }\n",
       "\n",
       "    .dataframe tbody tr th {\n",
       "        vertical-align: top;\n",
       "    }\n",
       "\n",
       "    .dataframe thead th {\n",
       "        text-align: right;\n",
       "    }\n",
       "</style>\n",
       "<table border=\"1\" class=\"dataframe\">\n",
       "  <thead>\n",
       "    <tr style=\"text-align: right;\">\n",
       "      <th>Year</th>\n",
       "      <th>Country</th>\n",
       "      <th>1990</th>\n",
       "      <th>2021</th>\n",
       "    </tr>\n",
       "  </thead>\n",
       "  <tbody>\n",
       "    <tr>\n",
       "      <th>0</th>\n",
       "      <td>Africa Eastern and Southern</td>\n",
       "      <td>3386.854480</td>\n",
       "      <td>3934.287267</td>\n",
       "    </tr>\n",
       "    <tr>\n",
       "      <th>1</th>\n",
       "      <td>Africa Western and Central</td>\n",
       "      <td>3299.401375</td>\n",
       "      <td>4698.926894</td>\n",
       "    </tr>\n",
       "    <tr>\n",
       "      <th>2</th>\n",
       "      <td>Albania</td>\n",
       "      <td>5327.747458</td>\n",
       "      <td>16113.136519</td>\n",
       "    </tr>\n",
       "    <tr>\n",
       "      <th>3</th>\n",
       "      <td>Algeria</td>\n",
       "      <td>11728.545729</td>\n",
       "      <td>14496.865470</td>\n",
       "    </tr>\n",
       "    <tr>\n",
       "      <th>4</th>\n",
       "      <td>Andorra</td>\n",
       "      <td>50036.300776</td>\n",
       "      <td>59332.202910</td>\n",
       "    </tr>\n",
       "    <tr>\n",
       "      <th>...</th>\n",
       "      <td>...</td>\n",
       "      <td>...</td>\n",
       "      <td>...</td>\n",
       "    </tr>\n",
       "    <tr>\n",
       "      <th>228</th>\n",
       "      <td>Vanuatu</td>\n",
       "      <td>3101.680551</td>\n",
       "      <td>3135.836649</td>\n",
       "    </tr>\n",
       "    <tr>\n",
       "      <th>229</th>\n",
       "      <td>Viet Nam</td>\n",
       "      <td>2467.964601</td>\n",
       "      <td>12048.901994</td>\n",
       "    </tr>\n",
       "    <tr>\n",
       "      <th>230</th>\n",
       "      <td>World</td>\n",
       "      <td>11207.386344</td>\n",
       "      <td>19637.823230</td>\n",
       "    </tr>\n",
       "    <tr>\n",
       "      <th>231</th>\n",
       "      <td>Zambia</td>\n",
       "      <td>2425.111287</td>\n",
       "      <td>3503.034914</td>\n",
       "    </tr>\n",
       "    <tr>\n",
       "      <th>232</th>\n",
       "      <td>Zimbabwe</td>\n",
       "      <td>4013.299059</td>\n",
       "      <td>3184.785451</td>\n",
       "    </tr>\n",
       "  </tbody>\n",
       "</table>\n",
       "<p>233 rows × 3 columns</p>\n",
       "</div>"
      ],
      "text/plain": [
       "Year                      Country          1990          2021\n",
       "0     Africa Eastern and Southern   3386.854480   3934.287267\n",
       "1      Africa Western and Central   3299.401375   4698.926894\n",
       "2                         Albania   5327.747458  16113.136519\n",
       "3                         Algeria  11728.545729  14496.865470\n",
       "4                         Andorra  50036.300776  59332.202910\n",
       "..                            ...           ...           ...\n",
       "228                       Vanuatu   3101.680551   3135.836649\n",
       "229                      Viet Nam   2467.964601  12048.901994\n",
       "230                         World  11207.386344  19637.823230\n",
       "231                        Zambia   2425.111287   3503.034914\n",
       "232                      Zimbabwe   4013.299059   3184.785451\n",
       "\n",
       "[233 rows x 3 columns]"
      ]
     },
     "execution_count": 55,
     "metadata": {},
     "output_type": "execute_result"
    }
   ],
   "source": [
    "gdp_pivoted = gdp_pivoted.dropna(axis=0, ignore_index=True)\n",
    "gdp_pivoted"
   ]
  },
  {
   "cell_type": "markdown",
   "id": "e6a0a582-fa79-4a70-9d88-ebc679d8ff72",
   "metadata": {},
   "source": [
    "#### 14. Create a new column in gdp_pivoted named Percent_Change. This column should contain the percent change in GDP_Per_Capita from 1990 to 2021. Hint: Percent change is calculated as 100*(New Value - Old Value) / Old Value."
   ]
  },
  {
   "cell_type": "code",
   "execution_count": 57,
   "id": "de3411f2-2095-4054-b09d-69bd786529e7",
   "metadata": {},
   "outputs": [
    {
     "data": {
      "text/plain": [
       "0       3386.854480\n",
       "1       3299.401375\n",
       "2       5327.747458\n",
       "3      11728.545729\n",
       "4      50036.300776\n",
       "           ...     \n",
       "228     3101.680551\n",
       "229     2467.964601\n",
       "230    11207.386344\n",
       "231     2425.111287\n",
       "232     4013.299059\n",
       "Name: 1990, Length: 233, dtype: float64"
      ]
     },
     "execution_count": 57,
     "metadata": {},
     "output_type": "execute_result"
    }
   ],
   "source": [
    "gdp_pivoted[1990]"
   ]
  },
  {
   "cell_type": "code",
   "execution_count": 58,
   "id": "7f557561-6316-45ea-b4ca-8e4ecc1a706b",
   "metadata": {},
   "outputs": [
    {
     "data": {
      "text/html": [
       "<div>\n",
       "<style scoped>\n",
       "    .dataframe tbody tr th:only-of-type {\n",
       "        vertical-align: middle;\n",
       "    }\n",
       "\n",
       "    .dataframe tbody tr th {\n",
       "        vertical-align: top;\n",
       "    }\n",
       "\n",
       "    .dataframe thead th {\n",
       "        text-align: right;\n",
       "    }\n",
       "</style>\n",
       "<table border=\"1\" class=\"dataframe\">\n",
       "  <thead>\n",
       "    <tr style=\"text-align: right;\">\n",
       "      <th>Year</th>\n",
       "      <th>Country</th>\n",
       "      <th>1990</th>\n",
       "      <th>2021</th>\n",
       "      <th>Percent_Change</th>\n",
       "    </tr>\n",
       "  </thead>\n",
       "  <tbody>\n",
       "    <tr>\n",
       "      <th>0</th>\n",
       "      <td>Africa Eastern and Southern</td>\n",
       "      <td>3386.854480</td>\n",
       "      <td>3934.287267</td>\n",
       "      <td>16.163458</td>\n",
       "    </tr>\n",
       "    <tr>\n",
       "      <th>1</th>\n",
       "      <td>Africa Western and Central</td>\n",
       "      <td>3299.401375</td>\n",
       "      <td>4698.926894</td>\n",
       "      <td>42.417559</td>\n",
       "    </tr>\n",
       "    <tr>\n",
       "      <th>2</th>\n",
       "      <td>Albania</td>\n",
       "      <td>5327.747458</td>\n",
       "      <td>16113.136519</td>\n",
       "      <td>202.438069</td>\n",
       "    </tr>\n",
       "    <tr>\n",
       "      <th>3</th>\n",
       "      <td>Algeria</td>\n",
       "      <td>11728.545729</td>\n",
       "      <td>14496.865470</td>\n",
       "      <td>23.603265</td>\n",
       "    </tr>\n",
       "    <tr>\n",
       "      <th>4</th>\n",
       "      <td>Andorra</td>\n",
       "      <td>50036.300776</td>\n",
       "      <td>59332.202910</td>\n",
       "      <td>18.578316</td>\n",
       "    </tr>\n",
       "  </tbody>\n",
       "</table>\n",
       "</div>"
      ],
      "text/plain": [
       "Year                      Country          1990          2021  Percent_Change\n",
       "0     Africa Eastern and Southern   3386.854480   3934.287267       16.163458\n",
       "1      Africa Western and Central   3299.401375   4698.926894       42.417559\n",
       "2                         Albania   5327.747458  16113.136519      202.438069\n",
       "3                         Algeria  11728.545729  14496.865470       23.603265\n",
       "4                         Andorra  50036.300776  59332.202910       18.578316"
      ]
     },
     "execution_count": 58,
     "metadata": {},
     "output_type": "execute_result"
    }
   ],
   "source": [
    "gdp_pivoted['Percent_Change'] = (100*(gdp_pivoted[2021]-gdp_pivoted[1990]) / gdp_pivoted[1990])\n",
    "gdp_pivoted.head()"
   ]
  },
  {
   "cell_type": "markdown",
   "id": "bc11a76a-0966-42dc-9fd0-404ba49cf18c",
   "metadata": {},
   "source": [
    "#### 15. How many countries experienced a negative percent change in GDP per capita from 1990 to 2021?"
   ]
  },
  {
   "cell_type": "code",
   "execution_count": 60,
   "id": "498608f4-db59-4c26-adf0-bae8682bdf53",
   "metadata": {},
   "outputs": [
    {
     "data": {
      "text/plain": [
       "23"
      ]
     },
     "execution_count": 60,
     "metadata": {},
     "output_type": "execute_result"
    }
   ],
   "source": [
    "gdp_pivoted[gdp_pivoted['Percent_Change'] < 0].shape[0]"
   ]
  },
  {
   "cell_type": "code",
   "execution_count": null,
   "id": "ab0e8d31-9dab-4f81-bfd5-5002c2a53ece",
   "metadata": {},
   "outputs": [],
   "source": []
  },
  {
   "cell_type": "code",
   "execution_count": 61,
   "id": "bed5ba22-763d-43ea-ad74-14840174bb8d",
   "metadata": {},
   "outputs": [],
   "source": [
    "#print(f'There are this many: {(gdp_pivoted['Percent_Change'] < 0).sum()} countries )"
   ]
  },
  {
   "cell_type": "code",
   "execution_count": 62,
   "id": "e2a8ab9c-4f99-4d57-ace6-f64be9471b2d",
   "metadata": {},
   "outputs": [
    {
     "data": {
      "text/html": [
       "<div>\n",
       "<style scoped>\n",
       "    .dataframe tbody tr th:only-of-type {\n",
       "        vertical-align: middle;\n",
       "    }\n",
       "\n",
       "    .dataframe tbody tr th {\n",
       "        vertical-align: top;\n",
       "    }\n",
       "\n",
       "    .dataframe thead th {\n",
       "        text-align: right;\n",
       "    }\n",
       "</style>\n",
       "<table border=\"1\" class=\"dataframe\">\n",
       "  <thead>\n",
       "    <tr style=\"text-align: right;\">\n",
       "      <th>Year</th>\n",
       "      <th>Country</th>\n",
       "      <th>1990</th>\n",
       "      <th>2021</th>\n",
       "      <th>Percent_Change</th>\n",
       "    </tr>\n",
       "  </thead>\n",
       "  <tbody>\n",
       "    <tr>\n",
       "      <th>16</th>\n",
       "      <td>Barbados</td>\n",
       "      <td>16976.761648</td>\n",
       "      <td>15683.884713</td>\n",
       "      <td>-7.615569</td>\n",
       "    </tr>\n",
       "    <tr>\n",
       "      <th>27</th>\n",
       "      <td>Brunei</td>\n",
       "      <td>118163.683198</td>\n",
       "      <td>78248.797110</td>\n",
       "      <td>-33.779318</td>\n",
       "    </tr>\n",
       "    <tr>\n",
       "      <th>30</th>\n",
       "      <td>Burundi</td>\n",
       "      <td>1396.077627</td>\n",
       "      <td>836.665571</td>\n",
       "      <td>-40.070269</td>\n",
       "    </tr>\n",
       "    <tr>\n",
       "      <th>36</th>\n",
       "      <td>Central African Republic</td>\n",
       "      <td>1481.252551</td>\n",
       "      <td>1128.552380</td>\n",
       "      <td>-23.810941</td>\n",
       "    </tr>\n",
       "    <tr>\n",
       "      <th>43</th>\n",
       "      <td>Congo</td>\n",
       "      <td>8699.526839</td>\n",
       "      <td>6263.211613</td>\n",
       "      <td>-28.005146</td>\n",
       "    </tr>\n",
       "    <tr>\n",
       "      <th>49</th>\n",
       "      <td>Dem. Rep. Congo</td>\n",
       "      <td>2172.001597</td>\n",
       "      <td>1313.618218</td>\n",
       "      <td>-39.520384</td>\n",
       "    </tr>\n",
       "    <tr>\n",
       "      <th>71</th>\n",
       "      <td>Fragile and conflict affected situations</td>\n",
       "      <td>6062.707946</td>\n",
       "      <td>5245.734664</td>\n",
       "      <td>-13.475386</td>\n",
       "    </tr>\n",
       "    <tr>\n",
       "      <th>73</th>\n",
       "      <td>Gabon</td>\n",
       "      <td>23884.810700</td>\n",
       "      <td>18523.579803</td>\n",
       "      <td>-22.446194</td>\n",
       "    </tr>\n",
       "    <tr>\n",
       "      <th>84</th>\n",
       "      <td>Haiti</td>\n",
       "      <td>3946.365646</td>\n",
       "      <td>3134.950149</td>\n",
       "      <td>-20.561083</td>\n",
       "    </tr>\n",
       "    <tr>\n",
       "      <th>111</th>\n",
       "      <td>Kyrgyz Republic</td>\n",
       "      <td>6095.681086</td>\n",
       "      <td>5736.478834</td>\n",
       "      <td>-5.892734</td>\n",
       "    </tr>\n",
       "    <tr>\n",
       "      <th>121</th>\n",
       "      <td>Liberia</td>\n",
       "      <td>1866.405481</td>\n",
       "      <td>1539.208923</td>\n",
       "      <td>-17.530840</td>\n",
       "    </tr>\n",
       "    <tr>\n",
       "      <th>122</th>\n",
       "      <td>Libya</td>\n",
       "      <td>18121.815655</td>\n",
       "      <td>12641.509771</td>\n",
       "      <td>-30.241483</td>\n",
       "    </tr>\n",
       "    <tr>\n",
       "      <th>129</th>\n",
       "      <td>Madagascar</td>\n",
       "      <td>1975.146568</td>\n",
       "      <td>1599.412769</td>\n",
       "      <td>-19.023084</td>\n",
       "    </tr>\n",
       "    <tr>\n",
       "      <th>144</th>\n",
       "      <td>Moldova</td>\n",
       "      <td>15902.894323</td>\n",
       "      <td>15682.070328</td>\n",
       "      <td>-1.388577</td>\n",
       "    </tr>\n",
       "    <tr>\n",
       "      <th>150</th>\n",
       "      <td>Nauru</td>\n",
       "      <td>30546.301797</td>\n",
       "      <td>12196.645155</td>\n",
       "      <td>-60.071614</td>\n",
       "    </tr>\n",
       "    <tr>\n",
       "      <th>165</th>\n",
       "      <td>Palau</td>\n",
       "      <td>17842.085859</td>\n",
       "      <td>15663.174395</td>\n",
       "      <td>-12.212201</td>\n",
       "    </tr>\n",
       "    <tr>\n",
       "      <th>181</th>\n",
       "      <td>Saudi Arabia</td>\n",
       "      <td>60101.575626</td>\n",
       "      <td>55768.235520</td>\n",
       "      <td>-7.210027</td>\n",
       "    </tr>\n",
       "    <tr>\n",
       "      <th>205</th>\n",
       "      <td>Syrian Arab Republic</td>\n",
       "      <td>5828.405516</td>\n",
       "      <td>4592.838601</td>\n",
       "      <td>-21.199055</td>\n",
       "    </tr>\n",
       "    <tr>\n",
       "      <th>207</th>\n",
       "      <td>Tajikistan</td>\n",
       "      <td>4173.046080</td>\n",
       "      <td>3985.912476</td>\n",
       "      <td>-4.484341</td>\n",
       "    </tr>\n",
       "    <tr>\n",
       "      <th>210</th>\n",
       "      <td>The Bahamas</td>\n",
       "      <td>33062.545904</td>\n",
       "      <td>29340.472348</td>\n",
       "      <td>-11.257674</td>\n",
       "    </tr>\n",
       "    <tr>\n",
       "      <th>221</th>\n",
       "      <td>Ukraine</td>\n",
       "      <td>22815.798828</td>\n",
       "      <td>17846.408203</td>\n",
       "      <td>-21.780481</td>\n",
       "    </tr>\n",
       "    <tr>\n",
       "      <th>222</th>\n",
       "      <td>United Arab Emirates</td>\n",
       "      <td>108057.042464</td>\n",
       "      <td>67401.121295</td>\n",
       "      <td>-37.624499</td>\n",
       "    </tr>\n",
       "    <tr>\n",
       "      <th>232</th>\n",
       "      <td>Zimbabwe</td>\n",
       "      <td>4013.299059</td>\n",
       "      <td>3184.785451</td>\n",
       "      <td>-20.644203</td>\n",
       "    </tr>\n",
       "  </tbody>\n",
       "</table>\n",
       "</div>"
      ],
      "text/plain": [
       "Year                                   Country           1990          2021  \\\n",
       "16                                    Barbados   16976.761648  15683.884713   \n",
       "27                                      Brunei  118163.683198  78248.797110   \n",
       "30                                     Burundi    1396.077627    836.665571   \n",
       "36                    Central African Republic    1481.252551   1128.552380   \n",
       "43                                       Congo    8699.526839   6263.211613   \n",
       "49                             Dem. Rep. Congo    2172.001597   1313.618218   \n",
       "71    Fragile and conflict affected situations    6062.707946   5245.734664   \n",
       "73                                       Gabon   23884.810700  18523.579803   \n",
       "84                                       Haiti    3946.365646   3134.950149   \n",
       "111                            Kyrgyz Republic    6095.681086   5736.478834   \n",
       "121                                    Liberia    1866.405481   1539.208923   \n",
       "122                                      Libya   18121.815655  12641.509771   \n",
       "129                                 Madagascar    1975.146568   1599.412769   \n",
       "144                                    Moldova   15902.894323  15682.070328   \n",
       "150                                      Nauru   30546.301797  12196.645155   \n",
       "165                                      Palau   17842.085859  15663.174395   \n",
       "181                               Saudi Arabia   60101.575626  55768.235520   \n",
       "205                       Syrian Arab Republic    5828.405516   4592.838601   \n",
       "207                                 Tajikistan    4173.046080   3985.912476   \n",
       "210                                The Bahamas   33062.545904  29340.472348   \n",
       "221                                    Ukraine   22815.798828  17846.408203   \n",
       "222                       United Arab Emirates  108057.042464  67401.121295   \n",
       "232                                   Zimbabwe    4013.299059   3184.785451   \n",
       "\n",
       "Year  Percent_Change  \n",
       "16         -7.615569  \n",
       "27        -33.779318  \n",
       "30        -40.070269  \n",
       "36        -23.810941  \n",
       "43        -28.005146  \n",
       "49        -39.520384  \n",
       "71        -13.475386  \n",
       "73        -22.446194  \n",
       "84        -20.561083  \n",
       "111        -5.892734  \n",
       "121       -17.530840  \n",
       "122       -30.241483  \n",
       "129       -19.023084  \n",
       "144        -1.388577  \n",
       "150       -60.071614  \n",
       "165       -12.212201  \n",
       "181        -7.210027  \n",
       "205       -21.199055  \n",
       "207        -4.484341  \n",
       "210       -11.257674  \n",
       "221       -21.780481  \n",
       "222       -37.624499  \n",
       "232       -20.644203  "
      ]
     },
     "execution_count": 62,
     "metadata": {},
     "output_type": "execute_result"
    }
   ],
   "source": [
    "gdp_pivoted[gdp_pivoted['Percent_Change'].le(0)]"
   ]
  },
  {
   "cell_type": "markdown",
   "id": "a25a5579-1655-4dbc-ac35-cce18ece6647",
   "metadata": {},
   "source": [
    "#### 16. Which country had the highest % change in GDP per capita? Create a line plot showing this country's GDP per capita for all years from 1990 to 2018. Create another showing the country with the second highest % change in GDP. How do the trends in these countries compare? \n",
    "Bonus: Put both line charts on the same plot."
   ]
  },
  {
   "cell_type": "code",
   "execution_count": 64,
   "id": "e608776b-c715-476d-9887-94127c0dd648",
   "metadata": {},
   "outputs": [
    {
     "data": {
      "text/plain": [
       "1398.1460518348676"
      ]
     },
     "execution_count": 64,
     "metadata": {},
     "output_type": "execute_result"
    }
   ],
   "source": [
    "gdp_pivoted['Percent_Change'].max()"
   ]
  },
  {
   "cell_type": "code",
   "execution_count": 65,
   "id": "ee2a7a03-3471-405b-9914-266645de5b16",
   "metadata": {},
   "outputs": [
    {
     "data": {
      "text/html": [
       "<div>\n",
       "<style scoped>\n",
       "    .dataframe tbody tr th:only-of-type {\n",
       "        vertical-align: middle;\n",
       "    }\n",
       "\n",
       "    .dataframe tbody tr th {\n",
       "        vertical-align: top;\n",
       "    }\n",
       "\n",
       "    .dataframe thead th {\n",
       "        text-align: right;\n",
       "    }\n",
       "</style>\n",
       "<table border=\"1\" class=\"dataframe\">\n",
       "  <thead>\n",
       "    <tr style=\"text-align: right;\">\n",
       "      <th>Year</th>\n",
       "      <th>Country</th>\n",
       "      <th>1990</th>\n",
       "      <th>2021</th>\n",
       "      <th>Percent_Change</th>\n",
       "    </tr>\n",
       "  </thead>\n",
       "  <tbody>\n",
       "    <tr>\n",
       "      <th>60</th>\n",
       "      <td>Equatorial Guinea</td>\n",
       "      <td>1122.817674</td>\n",
       "      <td>16821.448647</td>\n",
       "      <td>1398.146052</td>\n",
       "    </tr>\n",
       "    <tr>\n",
       "      <th>40</th>\n",
       "      <td>China</td>\n",
       "      <td>1645.578944</td>\n",
       "      <td>20406.729658</td>\n",
       "      <td>1140.094237</td>\n",
       "    </tr>\n",
       "  </tbody>\n",
       "</table>\n",
       "</div>"
      ],
      "text/plain": [
       "Year            Country         1990          2021  Percent_Change\n",
       "60    Equatorial Guinea  1122.817674  16821.448647     1398.146052\n",
       "40                China  1645.578944  20406.729658     1140.094237"
      ]
     },
     "execution_count": 65,
     "metadata": {},
     "output_type": "execute_result"
    }
   ],
   "source": [
    "gdp_pivoted.nlargest(2, \"Percent_Change\")"
   ]
  },
  {
   "cell_type": "code",
   "execution_count": 66,
   "id": "838c9d2d-30ed-4d29-8a6e-eb0d48cdb04c",
   "metadata": {},
   "outputs": [
    {
     "data": {
      "text/plain": [
       "<Axes: xlabel='Year'>"
      ]
     },
     "execution_count": 66,
     "metadata": {},
     "output_type": "execute_result"
    },
    {
     "data": {
      "image/png": "[encoded data removed]",
      "text/plain": [
       "<Figure size 640x480 with 1 Axes>"
      ]
     },
     "metadata": {},
     "output_type": "display_data"
    }
   ],
   "source": [
    "(\n",
    "    gdp_drop_footnotes[gdp_drop_footnotes['Country'] == \"Equatorial Guinea\"]\n",
    "    .loc[gdp_drop_footnotes[\"Year\"] <= 2021]\n",
    "    .loc[gdp_drop_footnotes[\"Year\"] >= 1990]\n",
    "    .plot(x=\"Year\", y=\"GDP_Per_Capita\", kind=\"line\")\n",
    "    \n",
    ")"
   ]
  },
  {
   "cell_type": "code",
   "execution_count": 67,
   "id": "61b57e99-dc54-4be6-93c0-7334e238e915",
   "metadata": {},
   "outputs": [
    {
     "data": {
      "image/png": "[encoded data removed]",
      "text/plain": [
       "<Figure size 640x480 with 1 Axes>"
      ]
     },
     "metadata": {},
     "output_type": "display_data"
    }
   ],
   "source": [
    "ax=(\n",
    "gdp_drop_footnotes\n",
    ".loc[gdp_drop_footnotes['Country'] == 'Equatorial Guinea']\n",
    ".loc[gdp_drop_footnotes['Year'] <= 2021]\n",
    ".loc[gdp_drop_footnotes['Year'] >= 1990]\n",
    ".plot(x=\"Year\", y=\"GDP_Per_Capita\", kind=\"line\", label = 'Equatorial Guinea')\n",
    ")\n",
    "(\n",
    "gdp_drop_footnotes\n",
    ".loc[gdp_drop_footnotes['Country'] == 'China']\n",
    ".loc[gdp_drop_footnotes['Year'] <= 2021]\n",
    ".loc[gdp_drop_footnotes['Year'] >= 1990]\n",
    ".plot(x=\"Year\", y=\"GDP_Per_Capita\", kind=\"line\", label = 'China', ax=ax)\n",
    ");"
   ]
  },
  {
   "cell_type": "code",
   "execution_count": 68,
   "id": "a6f58fc5-2fc8-461c-beed-0fdf4caec281",
   "metadata": {},
   "outputs": [],
   "source": [
    "#sns.lineplot(\n",
    "#    data = two_max_gdp_change, \n",
    "#    x = 'Year', \n",
    "#    y = 'GDP_Per_Capita', \n",
    "#    hue = 'Country')\n",
    "#plt.title('China and Equatorial Guinea GDP Per Capita Growth')\n",
    "#plt.ylabel('GDP Per Capita');"
   ]
  },
  {
   "cell_type": "code",
   "execution_count": 69,
   "id": "34e2026e-1e3d-4de4-85e3-da9d2431ffb5",
   "metadata": {},
   "outputs": [],
   "source": [
    "#ax=China_GDP_data.plot(x='Year',y='GDP_Per_Capita',kind='line',label='China')\n",
    "#EG_GDP_data.plot(x='Year',y='GDP_Per_Capita',kind='line', label='Equatorial Guinea', ax=ax)"
   ]
  },
  {
   "cell_type": "code",
   "execution_count": null,
   "id": "5bea53cd-9e10-47f9-9b09-2b2970249024",
   "metadata": {},
   "outputs": [],
   "source": []
  },
  {
   "cell_type": "code",
   "execution_count": 70,
   "id": "9a35a9d4-2417-45c1-bc8c-172c56fb8575",
   "metadata": {},
   "outputs": [],
   "source": [
    "#gdp_pivoted.loc[gdp_pivoted['Percent_Change'].idxmax()]#, ['Percent_Change', 'Country']]"
   ]
  },
  {
   "cell_type": "code",
   "execution_count": 71,
   "id": "ab4a2c7e-1526-4260-956c-95fce91a9b1d",
   "metadata": {},
   "outputs": [
    {
     "data": {
      "text/html": [
       "<div>\n",
       "<style scoped>\n",
       "    .dataframe tbody tr th:only-of-type {\n",
       "        vertical-align: middle;\n",
       "    }\n",
       "\n",
       "    .dataframe tbody tr th {\n",
       "        vertical-align: top;\n",
       "    }\n",
       "\n",
       "    .dataframe thead th {\n",
       "        text-align: right;\n",
       "    }\n",
       "</style>\n",
       "<table border=\"1\" class=\"dataframe\">\n",
       "  <thead>\n",
       "    <tr style=\"text-align: right;\">\n",
       "      <th></th>\n",
       "      <th>Country</th>\n",
       "      <th>Year</th>\n",
       "      <th>GDP_Per_Capita</th>\n",
       "    </tr>\n",
       "  </thead>\n",
       "  <tbody>\n",
       "    <tr>\n",
       "      <th>2116</th>\n",
       "      <td>Equatorial Guinea</td>\n",
       "      <td>2023</td>\n",
       "      <td>15688.238419</td>\n",
       "    </tr>\n",
       "    <tr>\n",
       "      <th>2117</th>\n",
       "      <td>Equatorial Guinea</td>\n",
       "      <td>2022</td>\n",
       "      <td>16932.770683</td>\n",
       "    </tr>\n",
       "    <tr>\n",
       "      <th>2118</th>\n",
       "      <td>Equatorial Guinea</td>\n",
       "      <td>2021</td>\n",
       "      <td>16821.448647</td>\n",
       "    </tr>\n",
       "    <tr>\n",
       "      <th>2119</th>\n",
       "      <td>Equatorial Guinea</td>\n",
       "      <td>2020</td>\n",
       "      <td>17089.153726</td>\n",
       "    </tr>\n",
       "    <tr>\n",
       "      <th>2120</th>\n",
       "      <td>Equatorial Guinea</td>\n",
       "      <td>2019</td>\n",
       "      <td>18446.591658</td>\n",
       "    </tr>\n",
       "    <tr>\n",
       "      <th>2121</th>\n",
       "      <td>Equatorial Guinea</td>\n",
       "      <td>2018</td>\n",
       "      <td>20165.479555</td>\n",
       "    </tr>\n",
       "    <tr>\n",
       "      <th>2122</th>\n",
       "      <td>Equatorial Guinea</td>\n",
       "      <td>2017</td>\n",
       "      <td>22250.438923</td>\n",
       "    </tr>\n",
       "    <tr>\n",
       "      <th>2123</th>\n",
       "      <td>Equatorial Guinea</td>\n",
       "      <td>2016</td>\n",
       "      <td>24435.064556</td>\n",
       "    </tr>\n",
       "    <tr>\n",
       "      <th>2124</th>\n",
       "      <td>Equatorial Guinea</td>\n",
       "      <td>2015</td>\n",
       "      <td>27797.794280</td>\n",
       "    </tr>\n",
       "    <tr>\n",
       "      <th>2125</th>\n",
       "      <td>Equatorial Guinea</td>\n",
       "      <td>2014</td>\n",
       "      <td>31765.899706</td>\n",
       "    </tr>\n",
       "    <tr>\n",
       "      <th>2126</th>\n",
       "      <td>Equatorial Guinea</td>\n",
       "      <td>2013</td>\n",
       "      <td>32894.369319</td>\n",
       "    </tr>\n",
       "    <tr>\n",
       "      <th>2127</th>\n",
       "      <td>Equatorial Guinea</td>\n",
       "      <td>2012</td>\n",
       "      <td>35711.491927</td>\n",
       "    </tr>\n",
       "    <tr>\n",
       "      <th>2128</th>\n",
       "      <td>Equatorial Guinea</td>\n",
       "      <td>2011</td>\n",
       "      <td>34341.934261</td>\n",
       "    </tr>\n",
       "    <tr>\n",
       "      <th>2129</th>\n",
       "      <td>Equatorial Guinea</td>\n",
       "      <td>2010</td>\n",
       "      <td>33668.874065</td>\n",
       "    </tr>\n",
       "    <tr>\n",
       "      <th>2130</th>\n",
       "      <td>Equatorial Guinea</td>\n",
       "      <td>2009</td>\n",
       "      <td>38706.605251</td>\n",
       "    </tr>\n",
       "    <tr>\n",
       "      <th>2131</th>\n",
       "      <td>Equatorial Guinea</td>\n",
       "      <td>2008</td>\n",
       "      <td>39994.615979</td>\n",
       "    </tr>\n",
       "    <tr>\n",
       "      <th>2132</th>\n",
       "      <td>Equatorial Guinea</td>\n",
       "      <td>2007</td>\n",
       "      <td>35540.447756</td>\n",
       "    </tr>\n",
       "    <tr>\n",
       "      <th>2133</th>\n",
       "      <td>Equatorial Guinea</td>\n",
       "      <td>2006</td>\n",
       "      <td>32251.768008</td>\n",
       "    </tr>\n",
       "    <tr>\n",
       "      <th>2134</th>\n",
       "      <td>Equatorial Guinea</td>\n",
       "      <td>2005</td>\n",
       "      <td>31302.957954</td>\n",
       "    </tr>\n",
       "    <tr>\n",
       "      <th>2135</th>\n",
       "      <td>Equatorial Guinea</td>\n",
       "      <td>2004</td>\n",
       "      <td>28225.985816</td>\n",
       "    </tr>\n",
       "    <tr>\n",
       "      <th>2136</th>\n",
       "      <td>Equatorial Guinea</td>\n",
       "      <td>2003</td>\n",
       "      <td>21709.575124</td>\n",
       "    </tr>\n",
       "    <tr>\n",
       "      <th>2137</th>\n",
       "      <td>Equatorial Guinea</td>\n",
       "      <td>2002</td>\n",
       "      <td>20242.430968</td>\n",
       "    </tr>\n",
       "    <tr>\n",
       "      <th>2138</th>\n",
       "      <td>Equatorial Guinea</td>\n",
       "      <td>2001</td>\n",
       "      <td>18031.964975</td>\n",
       "    </tr>\n",
       "    <tr>\n",
       "      <th>2139</th>\n",
       "      <td>Equatorial Guinea</td>\n",
       "      <td>2000</td>\n",
       "      <td>11767.470881</td>\n",
       "    </tr>\n",
       "    <tr>\n",
       "      <th>2140</th>\n",
       "      <td>Equatorial Guinea</td>\n",
       "      <td>1999</td>\n",
       "      <td>10492.464948</td>\n",
       "    </tr>\n",
       "    <tr>\n",
       "      <th>2141</th>\n",
       "      <td>Equatorial Guinea</td>\n",
       "      <td>1998</td>\n",
       "      <td>8684.657308</td>\n",
       "    </tr>\n",
       "    <tr>\n",
       "      <th>2142</th>\n",
       "      <td>Equatorial Guinea</td>\n",
       "      <td>1997</td>\n",
       "      <td>7296.100098</td>\n",
       "    </tr>\n",
       "    <tr>\n",
       "      <th>2143</th>\n",
       "      <td>Equatorial Guinea</td>\n",
       "      <td>1996</td>\n",
       "      <td>3033.840312</td>\n",
       "    </tr>\n",
       "    <tr>\n",
       "      <th>2144</th>\n",
       "      <td>Equatorial Guinea</td>\n",
       "      <td>1995</td>\n",
       "      <td>1892.116531</td>\n",
       "    </tr>\n",
       "    <tr>\n",
       "      <th>2145</th>\n",
       "      <td>Equatorial Guinea</td>\n",
       "      <td>1994</td>\n",
       "      <td>1672.345475</td>\n",
       "    </tr>\n",
       "    <tr>\n",
       "      <th>2146</th>\n",
       "      <td>Equatorial Guinea</td>\n",
       "      <td>1993</td>\n",
       "      <td>1487.812025</td>\n",
       "    </tr>\n",
       "    <tr>\n",
       "      <th>2147</th>\n",
       "      <td>Equatorial Guinea</td>\n",
       "      <td>1992</td>\n",
       "      <td>1390.479185</td>\n",
       "    </tr>\n",
       "    <tr>\n",
       "      <th>2148</th>\n",
       "      <td>Equatorial Guinea</td>\n",
       "      <td>1991</td>\n",
       "      <td>1070.827643</td>\n",
       "    </tr>\n",
       "    <tr>\n",
       "      <th>2149</th>\n",
       "      <td>Equatorial Guinea</td>\n",
       "      <td>1990</td>\n",
       "      <td>1122.817674</td>\n",
       "    </tr>\n",
       "  </tbody>\n",
       "</table>\n",
       "</div>"
      ],
      "text/plain": [
       "                Country  Year  GDP_Per_Capita\n",
       "2116  Equatorial Guinea  2023    15688.238419\n",
       "2117  Equatorial Guinea  2022    16932.770683\n",
       "2118  Equatorial Guinea  2021    16821.448647\n",
       "2119  Equatorial Guinea  2020    17089.153726\n",
       "2120  Equatorial Guinea  2019    18446.591658\n",
       "2121  Equatorial Guinea  2018    20165.479555\n",
       "2122  Equatorial Guinea  2017    22250.438923\n",
       "2123  Equatorial Guinea  2016    24435.064556\n",
       "2124  Equatorial Guinea  2015    27797.794280\n",
       "2125  Equatorial Guinea  2014    31765.899706\n",
       "2126  Equatorial Guinea  2013    32894.369319\n",
       "2127  Equatorial Guinea  2012    35711.491927\n",
       "2128  Equatorial Guinea  2011    34341.934261\n",
       "2129  Equatorial Guinea  2010    33668.874065\n",
       "2130  Equatorial Guinea  2009    38706.605251\n",
       "2131  Equatorial Guinea  2008    39994.615979\n",
       "2132  Equatorial Guinea  2007    35540.447756\n",
       "2133  Equatorial Guinea  2006    32251.768008\n",
       "2134  Equatorial Guinea  2005    31302.957954\n",
       "2135  Equatorial Guinea  2004    28225.985816\n",
       "2136  Equatorial Guinea  2003    21709.575124\n",
       "2137  Equatorial Guinea  2002    20242.430968\n",
       "2138  Equatorial Guinea  2001    18031.964975\n",
       "2139  Equatorial Guinea  2000    11767.470881\n",
       "2140  Equatorial Guinea  1999    10492.464948\n",
       "2141  Equatorial Guinea  1998     8684.657308\n",
       "2142  Equatorial Guinea  1997     7296.100098\n",
       "2143  Equatorial Guinea  1996     3033.840312\n",
       "2144  Equatorial Guinea  1995     1892.116531\n",
       "2145  Equatorial Guinea  1994     1672.345475\n",
       "2146  Equatorial Guinea  1993     1487.812025\n",
       "2147  Equatorial Guinea  1992     1390.479185\n",
       "2148  Equatorial Guinea  1991     1070.827643\n",
       "2149  Equatorial Guinea  1990     1122.817674"
      ]
     },
     "execution_count": 71,
     "metadata": {},
     "output_type": "execute_result"
    }
   ],
   "source": [
    "gdp_drop_footnotes[gdp_drop_footnotes['Country'] == 'Equatorial Guinea']"
   ]
  },
  {
   "cell_type": "code",
   "execution_count": 72,
   "id": "ce7b8a6c-a4b9-4667-a64b-afe3e485cd1e",
   "metadata": {},
   "outputs": [],
   "source": [
    "#gdp_drop_footnotes[gdp_drop_footnotes['Country'] == gdp_drop_footnotes['Country'].value_counts().idxmax()]"
   ]
  },
  {
   "cell_type": "code",
   "execution_count": 73,
   "id": "7c8269dd-7279-4784-8ea7-be5f87b06bc6",
   "metadata": {},
   "outputs": [
    {
     "data": {
      "text/html": [
       "<div>\n",
       "<style scoped>\n",
       "    .dataframe tbody tr th:only-of-type {\n",
       "        vertical-align: middle;\n",
       "    }\n",
       "\n",
       "    .dataframe tbody tr th {\n",
       "        vertical-align: top;\n",
       "    }\n",
       "\n",
       "    .dataframe thead th {\n",
       "        text-align: right;\n",
       "    }\n",
       "</style>\n",
       "<table border=\"1\" class=\"dataframe\">\n",
       "  <thead>\n",
       "    <tr style=\"text-align: right;\">\n",
       "      <th></th>\n",
       "      <th>Country</th>\n",
       "      <th>Year</th>\n",
       "      <th>GDP_Per_Capita</th>\n",
       "    </tr>\n",
       "  </thead>\n",
       "  <tbody>\n",
       "    <tr>\n",
       "      <th>0</th>\n",
       "      <td>Afghanistan</td>\n",
       "      <td>2023</td>\n",
       "      <td>1992.424394</td>\n",
       "    </tr>\n",
       "    <tr>\n",
       "      <th>1</th>\n",
       "      <td>Afghanistan</td>\n",
       "      <td>2022</td>\n",
       "      <td>1981.710168</td>\n",
       "    </tr>\n",
       "    <tr>\n",
       "      <th>2</th>\n",
       "      <td>Afghanistan</td>\n",
       "      <td>2021</td>\n",
       "      <td>2144.166570</td>\n",
       "    </tr>\n",
       "    <tr>\n",
       "      <th>3</th>\n",
       "      <td>Afghanistan</td>\n",
       "      <td>2020</td>\n",
       "      <td>2769.685745</td>\n",
       "    </tr>\n",
       "    <tr>\n",
       "      <th>4</th>\n",
       "      <td>Afghanistan</td>\n",
       "      <td>2019</td>\n",
       "      <td>2927.245144</td>\n",
       "    </tr>\n",
       "    <tr>\n",
       "      <th>...</th>\n",
       "      <td>...</td>\n",
       "      <td>...</td>\n",
       "      <td>...</td>\n",
       "    </tr>\n",
       "    <tr>\n",
       "      <th>8214</th>\n",
       "      <td>Zimbabwe</td>\n",
       "      <td>1994</td>\n",
       "      <td>3965.730986</td>\n",
       "    </tr>\n",
       "    <tr>\n",
       "      <th>8215</th>\n",
       "      <td>Zimbabwe</td>\n",
       "      <td>1993</td>\n",
       "      <td>3634.750494</td>\n",
       "    </tr>\n",
       "    <tr>\n",
       "      <th>8216</th>\n",
       "      <td>Zimbabwe</td>\n",
       "      <td>1992</td>\n",
       "      <td>3649.891947</td>\n",
       "    </tr>\n",
       "    <tr>\n",
       "      <th>8217</th>\n",
       "      <td>Zimbabwe</td>\n",
       "      <td>1991</td>\n",
       "      <td>4126.405247</td>\n",
       "    </tr>\n",
       "    <tr>\n",
       "      <th>8218</th>\n",
       "      <td>Zimbabwe</td>\n",
       "      <td>1990</td>\n",
       "      <td>4013.299059</td>\n",
       "    </tr>\n",
       "  </tbody>\n",
       "</table>\n",
       "<p>8219 rows × 3 columns</p>\n",
       "</div>"
      ],
      "text/plain": [
       "          Country  Year  GDP_Per_Capita\n",
       "0     Afghanistan  2023     1992.424394\n",
       "1     Afghanistan  2022     1981.710168\n",
       "2     Afghanistan  2021     2144.166570\n",
       "3     Afghanistan  2020     2769.685745\n",
       "4     Afghanistan  2019     2927.245144\n",
       "...           ...   ...             ...\n",
       "8214     Zimbabwe  1994     3965.730986\n",
       "8215     Zimbabwe  1993     3634.750494\n",
       "8216     Zimbabwe  1992     3649.891947\n",
       "8217     Zimbabwe  1991     4126.405247\n",
       "8218     Zimbabwe  1990     4013.299059\n",
       "\n",
       "[8219 rows x 3 columns]"
      ]
     },
     "execution_count": 73,
     "metadata": {},
     "output_type": "execute_result"
    }
   ],
   "source": [
    "gdp_drop_footnotes"
   ]
  },
  {
   "cell_type": "markdown",
   "id": "f8a442ba-b9ca-46df-8401-11ca693abde8",
   "metadata": {},
   "source": [
    "#### 17. Read in continents.csv contained in the data folder into a new dataframe called continents. We will be using this dataframe to add a new column to our dataset."
   ]
  },
  {
   "cell_type": "code",
   "execution_count": 75,
   "id": "35c82383-db58-4c1a-8b26-491ab818e67b",
   "metadata": {},
   "outputs": [],
   "source": [
    "continents = pd.read_csv(\"../data/continents.csv\")"
   ]
  },
  {
   "cell_type": "code",
   "execution_count": 76,
   "id": "b15cb71c-51be-4b38-afea-3963f2a1c148",
   "metadata": {},
   "outputs": [
    {
     "data": {
      "text/html": [
       "<div>\n",
       "<style scoped>\n",
       "    .dataframe tbody tr th:only-of-type {\n",
       "        vertical-align: middle;\n",
       "    }\n",
       "\n",
       "    .dataframe tbody tr th {\n",
       "        vertical-align: top;\n",
       "    }\n",
       "\n",
       "    .dataframe thead th {\n",
       "        text-align: right;\n",
       "    }\n",
       "</style>\n",
       "<table border=\"1\" class=\"dataframe\">\n",
       "  <thead>\n",
       "    <tr style=\"text-align: right;\">\n",
       "      <th></th>\n",
       "      <th>Continent</th>\n",
       "      <th>Country</th>\n",
       "    </tr>\n",
       "  </thead>\n",
       "  <tbody>\n",
       "    <tr>\n",
       "      <th>0</th>\n",
       "      <td>Asia</td>\n",
       "      <td>Afghanistan</td>\n",
       "    </tr>\n",
       "    <tr>\n",
       "      <th>1</th>\n",
       "      <td>Europe</td>\n",
       "      <td>Albania</td>\n",
       "    </tr>\n",
       "    <tr>\n",
       "      <th>2</th>\n",
       "      <td>Africa</td>\n",
       "      <td>Algeria</td>\n",
       "    </tr>\n",
       "    <tr>\n",
       "      <th>3</th>\n",
       "      <td>Europe</td>\n",
       "      <td>Andorra</td>\n",
       "    </tr>\n",
       "    <tr>\n",
       "      <th>4</th>\n",
       "      <td>Africa</td>\n",
       "      <td>Angola</td>\n",
       "    </tr>\n",
       "    <tr>\n",
       "      <th>...</th>\n",
       "      <td>...</td>\n",
       "      <td>...</td>\n",
       "    </tr>\n",
       "    <tr>\n",
       "      <th>211</th>\n",
       "      <td>Asia</td>\n",
       "      <td>Vietnam</td>\n",
       "    </tr>\n",
       "    <tr>\n",
       "      <th>212</th>\n",
       "      <td>Asia</td>\n",
       "      <td>West Bank and Gaza</td>\n",
       "    </tr>\n",
       "    <tr>\n",
       "      <th>213</th>\n",
       "      <td>Asia</td>\n",
       "      <td>Yemen</td>\n",
       "    </tr>\n",
       "    <tr>\n",
       "      <th>214</th>\n",
       "      <td>Africa</td>\n",
       "      <td>Zambia</td>\n",
       "    </tr>\n",
       "    <tr>\n",
       "      <th>215</th>\n",
       "      <td>Africa</td>\n",
       "      <td>Zimbabwe</td>\n",
       "    </tr>\n",
       "  </tbody>\n",
       "</table>\n",
       "<p>216 rows × 2 columns</p>\n",
       "</div>"
      ],
      "text/plain": [
       "    Continent             Country\n",
       "0        Asia         Afghanistan\n",
       "1      Europe             Albania\n",
       "2      Africa             Algeria\n",
       "3      Europe             Andorra\n",
       "4      Africa              Angola\n",
       "..        ...                 ...\n",
       "211      Asia             Vietnam\n",
       "212      Asia  West Bank and Gaza\n",
       "213      Asia               Yemen\n",
       "214    Africa              Zambia\n",
       "215    Africa            Zimbabwe\n",
       "\n",
       "[216 rows x 2 columns]"
      ]
     },
     "execution_count": 76,
     "metadata": {},
     "output_type": "execute_result"
    }
   ],
   "source": [
    "continents"
   ]
  },
  {
   "cell_type": "markdown",
   "id": "e62a8fbb-cfbc-4cdc-804a-3b91ae4c995e",
   "metadata": {},
   "source": [
    "#### 18. Merge gdp_df and continents. Keep only the countries that appear in both data frames. Save the result back to gdp_df.\r\n",
    "\r\n"
   ]
  },
  {
   "cell_type": "code",
   "execution_count": 78,
   "id": "0015ed91-e56b-455d-913e-f43834181b2a",
   "metadata": {},
   "outputs": [],
   "source": [
    "#gdp_df"
   ]
  },
  {
   "cell_type": "code",
   "execution_count": 79,
   "id": "28ce3fd8-90bf-402a-8380-084ad2ec96b7",
   "metadata": {},
   "outputs": [
    {
     "data": {
      "text/html": [
       "<div>\n",
       "<style scoped>\n",
       "    .dataframe tbody tr th:only-of-type {\n",
       "        vertical-align: middle;\n",
       "    }\n",
       "\n",
       "    .dataframe tbody tr th {\n",
       "        vertical-align: top;\n",
       "    }\n",
       "\n",
       "    .dataframe thead th {\n",
       "        text-align: right;\n",
       "    }\n",
       "</style>\n",
       "<table border=\"1\" class=\"dataframe\">\n",
       "  <thead>\n",
       "    <tr style=\"text-align: right;\">\n",
       "      <th></th>\n",
       "      <th>Country</th>\n",
       "      <th>Year</th>\n",
       "      <th>GDP_Per_Capita</th>\n",
       "      <th>Continent</th>\n",
       "      <th>_merge</th>\n",
       "    </tr>\n",
       "  </thead>\n",
       "  <tbody>\n",
       "    <tr>\n",
       "      <th>0</th>\n",
       "      <td>Afghanistan</td>\n",
       "      <td>2023.0</td>\n",
       "      <td>1992.424394</td>\n",
       "      <td>Asia</td>\n",
       "      <td>both</td>\n",
       "    </tr>\n",
       "    <tr>\n",
       "      <th>1</th>\n",
       "      <td>Afghanistan</td>\n",
       "      <td>2022.0</td>\n",
       "      <td>1981.710168</td>\n",
       "      <td>Asia</td>\n",
       "      <td>both</td>\n",
       "    </tr>\n",
       "  </tbody>\n",
       "</table>\n",
       "</div>"
      ],
      "text/plain": [
       "       Country    Year  GDP_Per_Capita Continent _merge\n",
       "0  Afghanistan  2023.0     1992.424394      Asia   both\n",
       "1  Afghanistan  2022.0     1981.710168      Asia   both"
      ]
     },
     "execution_count": 79,
     "metadata": {},
     "output_type": "execute_result"
    }
   ],
   "source": [
    "gdp_df = pd.merge(\n",
    "    left = gdp_drop_footnotes, \n",
    "    right = continents, \n",
    "    left_on = 'Country', \n",
    "    right_on = 'Country',\n",
    "    validate = \"many_to_one\",\n",
    "    how = 'outer',\n",
    "    indicator = True\n",
    ")\n",
    "gdp_df.head(2)"
   ]
  },
  {
   "cell_type": "code",
   "execution_count": null,
   "id": "79a2ee08-a89b-4e5f-bea9-220c521c4795",
   "metadata": {},
   "outputs": [],
   "source": []
  },
  {
   "cell_type": "markdown",
   "id": "c9b6f9fd-04a9-4469-922a-29cfb24f06b2",
   "metadata": {},
   "source": [
    "#### 19. Determine the number of countries per continent. Create a bar chart showing this."
   ]
  },
  {
   "cell_type": "code",
   "execution_count": 81,
   "id": "1c0526ef-42c0-4ff7-927e-bc33e8479f88",
   "metadata": {},
   "outputs": [
    {
     "data": {
      "text/plain": [
       "Continent\n",
       "Africa           1682\n",
       "Europe           1499\n",
       "Asia             1386\n",
       "North America     875\n",
       "Oceania           475\n",
       "South America     375\n",
       "Name: count, dtype: int64"
      ]
     },
     "execution_count": 81,
     "metadata": {},
     "output_type": "execute_result"
    }
   ],
   "source": [
    "gdp_df['Continent'].value_counts()"
   ]
  },
  {
   "cell_type": "code",
   "execution_count": 82,
   "id": "1bc542d9-7753-4d90-b39c-e323afc1a89a",
   "metadata": {},
   "outputs": [
    {
     "data": {
      "text/plain": [
       "Continent\n",
       "Africa           0.267324\n",
       "Europe           0.238239\n",
       "Asia             0.220280\n",
       "North America    0.139065\n",
       "Oceania          0.075493\n",
       "South America    0.059599\n",
       "Name: proportion, dtype: float64"
      ]
     },
     "execution_count": 82,
     "metadata": {},
     "output_type": "execute_result"
    }
   ],
   "source": [
    "gdp_df['Continent'].value_counts(normalize=True)"
   ]
  },
  {
   "cell_type": "code",
   "execution_count": 83,
   "id": "93056131-575e-43b8-bc38-2832ec580d46",
   "metadata": {},
   "outputs": [
    {
     "data": {
      "image/png": "[encoded data removed]",
      "text/plain": [
       "<Figure size 640x480 with 1 Axes>"
      ]
     },
     "metadata": {},
     "output_type": "display_data"
    }
   ],
   "source": [
    "(\n",
    "    gdp_df\n",
    "    ['Continent']\n",
    "    .value_counts()\n",
    "    .plot(kind=\"bar\")\n",
    ");"
   ]
  },
  {
   "cell_type": "markdown",
   "id": "f578e82f-d91e-48c3-8c8c-f6ce06ced834",
   "metadata": {},
   "source": [
    "#### 20. Create a seaborn boxplot showing GDP per capita in 2021 split out by continent. What do you notice?\r\n",
    "\r\n"
   ]
  },
  {
   "cell_type": "code",
   "execution_count": 85,
   "id": "5c87c23b-2741-405a-ac9e-8d4442874085",
   "metadata": {},
   "outputs": [
    {
     "data": {
      "image/png": "[encoded data removed]",
      "text/plain": [
       "<Figure size 640x480 with 1 Axes>"
      ]
     },
     "metadata": {},
     "output_type": "display_data"
    }
   ],
   "source": [
    "sns.boxplot(data=gdp_df[gdp_df['Year'] == 2021], y=\"GDP_Per_Capita\", x=\"Continent\");"
   ]
  },
  {
   "cell_type": "markdown",
   "id": "f8349788-cd65-45c5-b97d-1e91e4e0d199",
   "metadata": {},
   "source": [
    "##### Europe and Asia have the higher levels of GDP overall. Though Asia has a high right skew. "
   ]
  },
  {
   "cell_type": "markdown",
   "id": "6c302342-c841-4a1d-be89-bae017697e97",
   "metadata": {},
   "source": [
    "#### 21. Download the full csv containing Life expectancy at birth, total (years) from https://data.worldbank.org/indicator/SP.DYN.LE00.IN?name_desc=false. Read this data into a DataFrame named life_expectancy. Note: When reading this dataset it, you may encounter an error. Modify your read_csv call to correct this without modifying the original csv file."
   ]
  },
  {
   "cell_type": "code",
   "execution_count": 88,
   "id": "d287439b-125a-4791-94bf-df1b2fef9a3c",
   "metadata": {},
   "outputs": [
    {
     "data": {
      "text/html": [
       "<div>\n",
       "<style scoped>\n",
       "    .dataframe tbody tr th:only-of-type {\n",
       "        vertical-align: middle;\n",
       "    }\n",
       "\n",
       "    .dataframe tbody tr th {\n",
       "        vertical-align: top;\n",
       "    }\n",
       "\n",
       "    .dataframe thead th {\n",
       "        text-align: right;\n",
       "    }\n",
       "</style>\n",
       "<table border=\"1\" class=\"dataframe\">\n",
       "  <thead>\n",
       "    <tr style=\"text-align: right;\">\n",
       "      <th></th>\n",
       "      <th>Country Name</th>\n",
       "      <th>Country Code</th>\n",
       "      <th>Indicator Name</th>\n",
       "      <th>Indicator Code</th>\n",
       "      <th>1960</th>\n",
       "      <th>1961</th>\n",
       "      <th>1962</th>\n",
       "      <th>1963</th>\n",
       "      <th>1964</th>\n",
       "      <th>1965</th>\n",
       "      <th>...</th>\n",
       "      <th>2016</th>\n",
       "      <th>2017</th>\n",
       "      <th>2018</th>\n",
       "      <th>2019</th>\n",
       "      <th>2020</th>\n",
       "      <th>2021</th>\n",
       "      <th>2022</th>\n",
       "      <th>2023</th>\n",
       "      <th>2024</th>\n",
       "      <th>Unnamed: 69</th>\n",
       "    </tr>\n",
       "  </thead>\n",
       "  <tbody>\n",
       "    <tr>\n",
       "      <th>0</th>\n",
       "      <td>Aruba</td>\n",
       "      <td>ABW</td>\n",
       "      <td>Life expectancy at birth, total (years)</td>\n",
       "      <td>SP.DYN.LE00.IN</td>\n",
       "      <td>64.049000</td>\n",
       "      <td>64.215000</td>\n",
       "      <td>64.60200</td>\n",
       "      <td>64.944000</td>\n",
       "      <td>65.303000</td>\n",
       "      <td>65.615000</td>\n",
       "      <td>...</td>\n",
       "      <td>75.540000</td>\n",
       "      <td>75.620000</td>\n",
       "      <td>75.880000</td>\n",
       "      <td>76.019000</td>\n",
       "      <td>75.406000</td>\n",
       "      <td>73.655000</td>\n",
       "      <td>76.22600</td>\n",
       "      <td>76.353000</td>\n",
       "      <td>NaN</td>\n",
       "      <td>NaN</td>\n",
       "    </tr>\n",
       "    <tr>\n",
       "      <th>1</th>\n",
       "      <td>Africa Eastern and Southern</td>\n",
       "      <td>AFE</td>\n",
       "      <td>Life expectancy at birth, total (years)</td>\n",
       "      <td>SP.DYN.LE00.IN</td>\n",
       "      <td>44.169658</td>\n",
       "      <td>44.468838</td>\n",
       "      <td>44.87789</td>\n",
       "      <td>45.160583</td>\n",
       "      <td>45.535695</td>\n",
       "      <td>45.770723</td>\n",
       "      <td>...</td>\n",
       "      <td>62.167981</td>\n",
       "      <td>62.591275</td>\n",
       "      <td>63.330691</td>\n",
       "      <td>63.857261</td>\n",
       "      <td>63.766484</td>\n",
       "      <td>62.979999</td>\n",
       "      <td>64.48702</td>\n",
       "      <td>65.146291</td>\n",
       "      <td>NaN</td>\n",
       "      <td>NaN</td>\n",
       "    </tr>\n",
       "  </tbody>\n",
       "</table>\n",
       "<p>2 rows × 70 columns</p>\n",
       "</div>"
      ],
      "text/plain": [
       "                  Country Name Country Code  \\\n",
       "0                        Aruba          ABW   \n",
       "1  Africa Eastern and Southern          AFE   \n",
       "\n",
       "                            Indicator Name  Indicator Code       1960  \\\n",
       "0  Life expectancy at birth, total (years)  SP.DYN.LE00.IN  64.049000   \n",
       "1  Life expectancy at birth, total (years)  SP.DYN.LE00.IN  44.169658   \n",
       "\n",
       "        1961      1962       1963       1964       1965  ...       2016  \\\n",
       "0  64.215000  64.60200  64.944000  65.303000  65.615000  ...  75.540000   \n",
       "1  44.468838  44.87789  45.160583  45.535695  45.770723  ...  62.167981   \n",
       "\n",
       "        2017       2018       2019       2020       2021      2022       2023  \\\n",
       "0  75.620000  75.880000  76.019000  75.406000  73.655000  76.22600  76.353000   \n",
       "1  62.591275  63.330691  63.857261  63.766484  62.979999  64.48702  65.146291   \n",
       "\n",
       "   2024  Unnamed: 69  \n",
       "0   NaN          NaN  \n",
       "1   NaN          NaN  \n",
       "\n",
       "[2 rows x 70 columns]"
      ]
     },
     "execution_count": 88,
     "metadata": {},
     "output_type": "execute_result"
    }
   ],
   "source": [
    "life_expectancy = pd.read_csv(\"../data/life_expectancy.csv\", skiprows=4)\n",
    "life_expectancy.head(2)"
   ]
  },
  {
   "cell_type": "markdown",
   "id": "e85d8431-679c-4636-a260-f93f888f60eb",
   "metadata": {},
   "source": [
    "#### 22. Drop the Country Code, Indicator Name, and Indicator Code columns. Then use .melt() to convert your data from wide to long. That is, instead of having one row per country and multiple colums per year, we want to have multiple rows per country and a single column for year. After melting, rename the columns to Country, Year, and Life_Expectancy."
   ]
  },
  {
   "cell_type": "code",
   "execution_count": 90,
   "id": "35379500-6d25-4f9b-beea-8b459e00023e",
   "metadata": {},
   "outputs": [
    {
     "data": {
      "text/html": [
       "<div>\n",
       "<style scoped>\n",
       "    .dataframe tbody tr th:only-of-type {\n",
       "        vertical-align: middle;\n",
       "    }\n",
       "\n",
       "    .dataframe tbody tr th {\n",
       "        vertical-align: top;\n",
       "    }\n",
       "\n",
       "    .dataframe thead th {\n",
       "        text-align: right;\n",
       "    }\n",
       "</style>\n",
       "<table border=\"1\" class=\"dataframe\">\n",
       "  <thead>\n",
       "    <tr style=\"text-align: right;\">\n",
       "      <th></th>\n",
       "      <th>Country Name</th>\n",
       "      <th>1960</th>\n",
       "      <th>1961</th>\n",
       "      <th>1962</th>\n",
       "      <th>1963</th>\n",
       "      <th>1964</th>\n",
       "      <th>1965</th>\n",
       "      <th>1966</th>\n",
       "      <th>1967</th>\n",
       "      <th>1968</th>\n",
       "      <th>...</th>\n",
       "      <th>2016</th>\n",
       "      <th>2017</th>\n",
       "      <th>2018</th>\n",
       "      <th>2019</th>\n",
       "      <th>2020</th>\n",
       "      <th>2021</th>\n",
       "      <th>2022</th>\n",
       "      <th>2023</th>\n",
       "      <th>2024</th>\n",
       "      <th>Unnamed: 69</th>\n",
       "    </tr>\n",
       "  </thead>\n",
       "  <tbody>\n",
       "    <tr>\n",
       "      <th>0</th>\n",
       "      <td>Aruba</td>\n",
       "      <td>64.049000</td>\n",
       "      <td>64.215000</td>\n",
       "      <td>64.60200</td>\n",
       "      <td>64.944000</td>\n",
       "      <td>65.303000</td>\n",
       "      <td>65.615000</td>\n",
       "      <td>66.126000</td>\n",
       "      <td>66.385000</td>\n",
       "      <td>66.744000</td>\n",
       "      <td>...</td>\n",
       "      <td>75.540000</td>\n",
       "      <td>75.620000</td>\n",
       "      <td>75.880000</td>\n",
       "      <td>76.019000</td>\n",
       "      <td>75.406000</td>\n",
       "      <td>73.655000</td>\n",
       "      <td>76.22600</td>\n",
       "      <td>76.353000</td>\n",
       "      <td>NaN</td>\n",
       "      <td>NaN</td>\n",
       "    </tr>\n",
       "    <tr>\n",
       "      <th>1</th>\n",
       "      <td>Africa Eastern and Southern</td>\n",
       "      <td>44.169658</td>\n",
       "      <td>44.468838</td>\n",
       "      <td>44.87789</td>\n",
       "      <td>45.160583</td>\n",
       "      <td>45.535695</td>\n",
       "      <td>45.770723</td>\n",
       "      <td>45.765725</td>\n",
       "      <td>46.440745</td>\n",
       "      <td>46.738632</td>\n",
       "      <td>...</td>\n",
       "      <td>62.167981</td>\n",
       "      <td>62.591275</td>\n",
       "      <td>63.330691</td>\n",
       "      <td>63.857261</td>\n",
       "      <td>63.766484</td>\n",
       "      <td>62.979999</td>\n",
       "      <td>64.48702</td>\n",
       "      <td>65.146291</td>\n",
       "      <td>NaN</td>\n",
       "      <td>NaN</td>\n",
       "    </tr>\n",
       "  </tbody>\n",
       "</table>\n",
       "<p>2 rows × 67 columns</p>\n",
       "</div>"
      ],
      "text/plain": [
       "                  Country Name       1960       1961      1962       1963  \\\n",
       "0                        Aruba  64.049000  64.215000  64.60200  64.944000   \n",
       "1  Africa Eastern and Southern  44.169658  44.468838  44.87789  45.160583   \n",
       "\n",
       "        1964       1965       1966       1967       1968  ...       2016  \\\n",
       "0  65.303000  65.615000  66.126000  66.385000  66.744000  ...  75.540000   \n",
       "1  45.535695  45.770723  45.765725  46.440745  46.738632  ...  62.167981   \n",
       "\n",
       "        2017       2018       2019       2020       2021      2022       2023  \\\n",
       "0  75.620000  75.880000  76.019000  75.406000  73.655000  76.22600  76.353000   \n",
       "1  62.591275  63.330691  63.857261  63.766484  62.979999  64.48702  65.146291   \n",
       "\n",
       "   2024  Unnamed: 69  \n",
       "0   NaN          NaN  \n",
       "1   NaN          NaN  \n",
       "\n",
       "[2 rows x 67 columns]"
      ]
     },
     "execution_count": 90,
     "metadata": {},
     "output_type": "execute_result"
    }
   ],
   "source": [
    "life_expectancy = life_expectancy.drop([\"Country Code\", \"Indicator Name\", \"Indicator Code\"], axis=1)\n",
    "life_expectancy.head(2)"
   ]
  },
  {
   "cell_type": "code",
   "execution_count": 91,
   "id": "9af9d8c2-3188-41c8-9e65-7ee5eb8fc87b",
   "metadata": {},
   "outputs": [],
   "source": [
    "life_expectancy_melt = pd.melt(life_expectancy, id_vars=[('Country Name')]).rename(columns={\"Country Name\": \"Country\", \"variable\": \"Year\", \"value\": \"Life_Expectancy\"})"
   ]
  },
  {
   "cell_type": "code",
   "execution_count": 92,
   "id": "570b1588-b8ae-4f2a-b2b9-0cf9aa59f704",
   "metadata": {},
   "outputs": [
    {
     "data": {
      "text/html": [
       "<div>\n",
       "<style scoped>\n",
       "    .dataframe tbody tr th:only-of-type {\n",
       "        vertical-align: middle;\n",
       "    }\n",
       "\n",
       "    .dataframe tbody tr th {\n",
       "        vertical-align: top;\n",
       "    }\n",
       "\n",
       "    .dataframe thead th {\n",
       "        text-align: right;\n",
       "    }\n",
       "</style>\n",
       "<table border=\"1\" class=\"dataframe\">\n",
       "  <thead>\n",
       "    <tr style=\"text-align: right;\">\n",
       "      <th></th>\n",
       "      <th>Country</th>\n",
       "      <th>Year</th>\n",
       "      <th>Life_Expectancy</th>\n",
       "    </tr>\n",
       "  </thead>\n",
       "  <tbody>\n",
       "    <tr>\n",
       "      <th>0</th>\n",
       "      <td>Aruba</td>\n",
       "      <td>1960</td>\n",
       "      <td>64.049000</td>\n",
       "    </tr>\n",
       "    <tr>\n",
       "      <th>1</th>\n",
       "      <td>Africa Eastern and Southern</td>\n",
       "      <td>1960</td>\n",
       "      <td>44.169658</td>\n",
       "    </tr>\n",
       "    <tr>\n",
       "      <th>2</th>\n",
       "      <td>Afghanistan</td>\n",
       "      <td>1960</td>\n",
       "      <td>32.799000</td>\n",
       "    </tr>\n",
       "    <tr>\n",
       "      <th>3</th>\n",
       "      <td>Africa Western and Central</td>\n",
       "      <td>1960</td>\n",
       "      <td>37.779636</td>\n",
       "    </tr>\n",
       "    <tr>\n",
       "      <th>4</th>\n",
       "      <td>Angola</td>\n",
       "      <td>1960</td>\n",
       "      <td>37.933000</td>\n",
       "    </tr>\n",
       "    <tr>\n",
       "      <th>...</th>\n",
       "      <td>...</td>\n",
       "      <td>...</td>\n",
       "      <td>...</td>\n",
       "    </tr>\n",
       "    <tr>\n",
       "      <th>17551</th>\n",
       "      <td>Kosovo</td>\n",
       "      <td>Unnamed: 69</td>\n",
       "      <td>NaN</td>\n",
       "    </tr>\n",
       "    <tr>\n",
       "      <th>17552</th>\n",
       "      <td>Yemen, Rep.</td>\n",
       "      <td>Unnamed: 69</td>\n",
       "      <td>NaN</td>\n",
       "    </tr>\n",
       "    <tr>\n",
       "      <th>17553</th>\n",
       "      <td>South Africa</td>\n",
       "      <td>Unnamed: 69</td>\n",
       "      <td>NaN</td>\n",
       "    </tr>\n",
       "    <tr>\n",
       "      <th>17554</th>\n",
       "      <td>Zambia</td>\n",
       "      <td>Unnamed: 69</td>\n",
       "      <td>NaN</td>\n",
       "    </tr>\n",
       "    <tr>\n",
       "      <th>17555</th>\n",
       "      <td>Zimbabwe</td>\n",
       "      <td>Unnamed: 69</td>\n",
       "      <td>NaN</td>\n",
       "    </tr>\n",
       "  </tbody>\n",
       "</table>\n",
       "<p>17556 rows × 3 columns</p>\n",
       "</div>"
      ],
      "text/plain": [
       "                           Country         Year  Life_Expectancy\n",
       "0                            Aruba         1960        64.049000\n",
       "1      Africa Eastern and Southern         1960        44.169658\n",
       "2                      Afghanistan         1960        32.799000\n",
       "3       Africa Western and Central         1960        37.779636\n",
       "4                           Angola         1960        37.933000\n",
       "...                            ...          ...              ...\n",
       "17551                       Kosovo  Unnamed: 69              NaN\n",
       "17552                  Yemen, Rep.  Unnamed: 69              NaN\n",
       "17553                 South Africa  Unnamed: 69              NaN\n",
       "17554                       Zambia  Unnamed: 69              NaN\n",
       "17555                     Zimbabwe  Unnamed: 69              NaN\n",
       "\n",
       "[17556 rows x 3 columns]"
      ]
     },
     "execution_count": 92,
     "metadata": {},
     "output_type": "execute_result"
    }
   ],
   "source": [
    "life_expectancy_melt"
   ]
  },
  {
   "cell_type": "markdown",
   "id": "954f3689-4820-4158-a4c9-ffb9cfde95ba",
   "metadata": {},
   "source": [
    "#### 23. What was the first country with a life expectancy to exceed 80?"
   ]
  },
  {
   "cell_type": "code",
   "execution_count": 94,
   "id": "e2a0a7e2-9a9f-4266-a072-1ee9f314e3e0",
   "metadata": {},
   "outputs": [
    {
     "data": {
      "text/html": [
       "<div>\n",
       "<style scoped>\n",
       "    .dataframe tbody tr th:only-of-type {\n",
       "        vertical-align: middle;\n",
       "    }\n",
       "\n",
       "    .dataframe tbody tr th {\n",
       "        vertical-align: top;\n",
       "    }\n",
       "\n",
       "    .dataframe thead th {\n",
       "        text-align: right;\n",
       "    }\n",
       "</style>\n",
       "<table border=\"1\" class=\"dataframe\">\n",
       "  <thead>\n",
       "    <tr style=\"text-align: right;\">\n",
       "      <th></th>\n",
       "      <th>Country</th>\n",
       "      <th>Year</th>\n",
       "      <th>Life_Expectancy</th>\n",
       "    </tr>\n",
       "  </thead>\n",
       "  <tbody>\n",
       "    <tr>\n",
       "      <th>8661</th>\n",
       "      <td>Monaco</td>\n",
       "      <td>1992</td>\n",
       "      <td>80.065000</td>\n",
       "    </tr>\n",
       "    <tr>\n",
       "      <th>8784</th>\n",
       "      <td>Andorra</td>\n",
       "      <td>1993</td>\n",
       "      <td>80.186000</td>\n",
       "    </tr>\n",
       "    <tr>\n",
       "      <th>8927</th>\n",
       "      <td>Monaco</td>\n",
       "      <td>1993</td>\n",
       "      <td>80.365000</td>\n",
       "    </tr>\n",
       "    <tr>\n",
       "      <th>9050</th>\n",
       "      <td>Andorra</td>\n",
       "      <td>1994</td>\n",
       "      <td>80.587000</td>\n",
       "    </tr>\n",
       "    <tr>\n",
       "      <th>9193</th>\n",
       "      <td>Monaco</td>\n",
       "      <td>1994</td>\n",
       "      <td>80.654000</td>\n",
       "    </tr>\n",
       "    <tr>\n",
       "      <th>...</th>\n",
       "      <td>...</td>\n",
       "      <td>...</td>\n",
       "      <td>...</td>\n",
       "    </tr>\n",
       "    <tr>\n",
       "      <th>16966</th>\n",
       "      <td>Singapore</td>\n",
       "      <td>2023</td>\n",
       "      <td>82.895122</td>\n",
       "    </tr>\n",
       "    <tr>\n",
       "      <th>16970</th>\n",
       "      <td>San Marino</td>\n",
       "      <td>2023</td>\n",
       "      <td>85.706000</td>\n",
       "    </tr>\n",
       "    <tr>\n",
       "      <th>16980</th>\n",
       "      <td>Slovenia</td>\n",
       "      <td>2023</td>\n",
       "      <td>81.978049</td>\n",
       "    </tr>\n",
       "    <tr>\n",
       "      <th>16981</th>\n",
       "      <td>Sweden</td>\n",
       "      <td>2023</td>\n",
       "      <td>83.309756</td>\n",
       "    </tr>\n",
       "    <tr>\n",
       "      <th>17014</th>\n",
       "      <td>Virgin Islands (U.S.)</td>\n",
       "      <td>2023</td>\n",
       "      <td>80.519512</td>\n",
       "    </tr>\n",
       "  </tbody>\n",
       "</table>\n",
       "<p>868 rows × 3 columns</p>\n",
       "</div>"
      ],
      "text/plain": [
       "                     Country  Year  Life_Expectancy\n",
       "8661                  Monaco  1992        80.065000\n",
       "8784                 Andorra  1993        80.186000\n",
       "8927                  Monaco  1993        80.365000\n",
       "9050                 Andorra  1994        80.587000\n",
       "9193                  Monaco  1994        80.654000\n",
       "...                      ...   ...              ...\n",
       "16966              Singapore  2023        82.895122\n",
       "16970             San Marino  2023        85.706000\n",
       "16980               Slovenia  2023        81.978049\n",
       "16981                 Sweden  2023        83.309756\n",
       "17014  Virgin Islands (U.S.)  2023        80.519512\n",
       "\n",
       "[868 rows x 3 columns]"
      ]
     },
     "execution_count": 94,
     "metadata": {},
     "output_type": "execute_result"
    }
   ],
   "source": [
    "life_expectancy_melt.loc[life_expectancy_melt[\"Life_Expectancy\"] >= 80]#, :"
   ]
  },
  {
   "cell_type": "markdown",
   "id": "a075342c-f2d2-4c15-8838-c237c22435d1",
   "metadata": {},
   "source": [
    "#### 24. Merge gdp_df and life_expectancy, keeping all countries and years that appear in both DataFrames. Save the result to a new DataFrame named gdp_le. If you get any errors in doing this, read them carefully and correct them. Look at the first five rows of your new data frame to confirm it merged correctly. Also, check the last five rows to make sure the data is clean and as expected."
   ]
  },
  {
   "cell_type": "code",
   "execution_count": 96,
   "id": "49a49957-d201-4df5-8ad1-6014c02edea6",
   "metadata": {},
   "outputs": [
    {
     "data": {
      "text/html": [
       "<div>\n",
       "<style scoped>\n",
       "    .dataframe tbody tr th:only-of-type {\n",
       "        vertical-align: middle;\n",
       "    }\n",
       "\n",
       "    .dataframe tbody tr th {\n",
       "        vertical-align: top;\n",
       "    }\n",
       "\n",
       "    .dataframe thead th {\n",
       "        text-align: right;\n",
       "    }\n",
       "</style>\n",
       "<table border=\"1\" class=\"dataframe\">\n",
       "  <thead>\n",
       "    <tr style=\"text-align: right;\">\n",
       "      <th></th>\n",
       "      <th>Country</th>\n",
       "      <th>Year</th>\n",
       "      <th>Life_Expectancy</th>\n",
       "    </tr>\n",
       "  </thead>\n",
       "  <tbody>\n",
       "    <tr>\n",
       "      <th>0</th>\n",
       "      <td>Aruba</td>\n",
       "      <td>1960</td>\n",
       "      <td>64.049000</td>\n",
       "    </tr>\n",
       "    <tr>\n",
       "      <th>1</th>\n",
       "      <td>Africa Eastern and Southern</td>\n",
       "      <td>1960</td>\n",
       "      <td>44.169658</td>\n",
       "    </tr>\n",
       "    <tr>\n",
       "      <th>2</th>\n",
       "      <td>Afghanistan</td>\n",
       "      <td>1960</td>\n",
       "      <td>32.799000</td>\n",
       "    </tr>\n",
       "    <tr>\n",
       "      <th>3</th>\n",
       "      <td>Africa Western and Central</td>\n",
       "      <td>1960</td>\n",
       "      <td>37.779636</td>\n",
       "    </tr>\n",
       "    <tr>\n",
       "      <th>4</th>\n",
       "      <td>Angola</td>\n",
       "      <td>1960</td>\n",
       "      <td>37.933000</td>\n",
       "    </tr>\n",
       "  </tbody>\n",
       "</table>\n",
       "</div>"
      ],
      "text/plain": [
       "                       Country  Year  Life_Expectancy\n",
       "0                        Aruba  1960        64.049000\n",
       "1  Africa Eastern and Southern  1960        44.169658\n",
       "2                  Afghanistan  1960        32.799000\n",
       "3   Africa Western and Central  1960        37.779636\n",
       "4                       Angola  1960        37.933000"
      ]
     },
     "execution_count": 96,
     "metadata": {},
     "output_type": "execute_result"
    }
   ],
   "source": [
    "life_expectancy_melt.head()"
   ]
  },
  {
   "cell_type": "code",
   "execution_count": 97,
   "id": "ec46e0c8-00d1-4d57-aeaf-5a872f717624",
   "metadata": {},
   "outputs": [
    {
     "data": {
      "text/html": [
       "<div>\n",
       "<style scoped>\n",
       "    .dataframe tbody tr th:only-of-type {\n",
       "        vertical-align: middle;\n",
       "    }\n",
       "\n",
       "    .dataframe tbody tr th {\n",
       "        vertical-align: top;\n",
       "    }\n",
       "\n",
       "    .dataframe thead th {\n",
       "        text-align: right;\n",
       "    }\n",
       "</style>\n",
       "<table border=\"1\" class=\"dataframe\">\n",
       "  <thead>\n",
       "    <tr style=\"text-align: right;\">\n",
       "      <th></th>\n",
       "      <th>Country</th>\n",
       "      <th>Year</th>\n",
       "      <th>Life_Expectancy</th>\n",
       "    </tr>\n",
       "  </thead>\n",
       "  <tbody>\n",
       "    <tr>\n",
       "      <th>0</th>\n",
       "      <td>Aruba</td>\n",
       "      <td>1960</td>\n",
       "      <td>64.049000</td>\n",
       "    </tr>\n",
       "    <tr>\n",
       "      <th>1</th>\n",
       "      <td>Africa Eastern and Southern</td>\n",
       "      <td>1960</td>\n",
       "      <td>44.169658</td>\n",
       "    </tr>\n",
       "    <tr>\n",
       "      <th>2</th>\n",
       "      <td>Afghanistan</td>\n",
       "      <td>1960</td>\n",
       "      <td>32.799000</td>\n",
       "    </tr>\n",
       "    <tr>\n",
       "      <th>3</th>\n",
       "      <td>Africa Western and Central</td>\n",
       "      <td>1960</td>\n",
       "      <td>37.779636</td>\n",
       "    </tr>\n",
       "    <tr>\n",
       "      <th>4</th>\n",
       "      <td>Angola</td>\n",
       "      <td>1960</td>\n",
       "      <td>37.933000</td>\n",
       "    </tr>\n",
       "    <tr>\n",
       "      <th>...</th>\n",
       "      <td>...</td>\n",
       "      <td>...</td>\n",
       "      <td>...</td>\n",
       "    </tr>\n",
       "    <tr>\n",
       "      <th>17019</th>\n",
       "      <td>Kosovo</td>\n",
       "      <td>2023</td>\n",
       "      <td>78.033000</td>\n",
       "    </tr>\n",
       "    <tr>\n",
       "      <th>17020</th>\n",
       "      <td>Yemen, Rep.</td>\n",
       "      <td>2023</td>\n",
       "      <td>69.295000</td>\n",
       "    </tr>\n",
       "    <tr>\n",
       "      <th>17021</th>\n",
       "      <td>South Africa</td>\n",
       "      <td>2023</td>\n",
       "      <td>66.139000</td>\n",
       "    </tr>\n",
       "    <tr>\n",
       "      <th>17022</th>\n",
       "      <td>Zambia</td>\n",
       "      <td>2023</td>\n",
       "      <td>66.349000</td>\n",
       "    </tr>\n",
       "    <tr>\n",
       "      <th>17023</th>\n",
       "      <td>Zimbabwe</td>\n",
       "      <td>2023</td>\n",
       "      <td>62.775000</td>\n",
       "    </tr>\n",
       "  </tbody>\n",
       "</table>\n",
       "<p>16926 rows × 3 columns</p>\n",
       "</div>"
      ],
      "text/plain": [
       "                           Country  Year  Life_Expectancy\n",
       "0                            Aruba  1960        64.049000\n",
       "1      Africa Eastern and Southern  1960        44.169658\n",
       "2                      Afghanistan  1960        32.799000\n",
       "3       Africa Western and Central  1960        37.779636\n",
       "4                           Angola  1960        37.933000\n",
       "...                            ...   ...              ...\n",
       "17019                       Kosovo  2023        78.033000\n",
       "17020                  Yemen, Rep.  2023        69.295000\n",
       "17021                 South Africa  2023        66.139000\n",
       "17022                       Zambia  2023        66.349000\n",
       "17023                     Zimbabwe  2023        62.775000\n",
       "\n",
       "[16926 rows x 3 columns]"
      ]
     },
     "execution_count": 97,
     "metadata": {},
     "output_type": "execute_result"
    }
   ],
   "source": [
    "life_expectancy_melt.dropna()"
   ]
  },
  {
   "cell_type": "code",
   "execution_count": 98,
   "id": "a023c501-f2a8-4fed-a35f-e03d3f3a2373",
   "metadata": {},
   "outputs": [
    {
     "data": {
      "text/plain": [
       "Country             object\n",
       "Year                object\n",
       "Life_Expectancy    float64\n",
       "dtype: object"
      ]
     },
     "execution_count": 98,
     "metadata": {},
     "output_type": "execute_result"
    }
   ],
   "source": [
    "life_expectancy_melt.dtypes"
   ]
  },
  {
   "cell_type": "code",
   "execution_count": null,
   "id": "b3f83e52-f076-48b8-82c8-2a25f56ef9c4",
   "metadata": {},
   "outputs": [],
   "source": []
  },
  {
   "cell_type": "code",
   "execution_count": 99,
   "id": "674cc027-f1f8-4b7e-8b4d-ff169dc7cdb6",
   "metadata": {},
   "outputs": [],
   "source": [
    "#life_expectancy_melt = life_expectancy_melt.dropna().astype({\"Year\": int})\n",
    "#life_expectancy_melt.head(2)"
   ]
  },
  {
   "cell_type": "code",
   "execution_count": 100,
   "id": "10faeb66-9110-47df-87aa-ba0222741afd",
   "metadata": {},
   "outputs": [],
   "source": [
    "life_expectancy_melt[\"Year\"] = pd.to_numeric(life_expectancy_melt[\"Year\"], errors=\"coerce\")"
   ]
  },
  {
   "cell_type": "code",
   "execution_count": 101,
   "id": "dbe14356-f750-4441-920b-3c056b71e069",
   "metadata": {},
   "outputs": [
    {
     "data": {
      "text/html": [
       "<div>\n",
       "<style scoped>\n",
       "    .dataframe tbody tr th:only-of-type {\n",
       "        vertical-align: middle;\n",
       "    }\n",
       "\n",
       "    .dataframe tbody tr th {\n",
       "        vertical-align: top;\n",
       "    }\n",
       "\n",
       "    .dataframe thead th {\n",
       "        text-align: right;\n",
       "    }\n",
       "</style>\n",
       "<table border=\"1\" class=\"dataframe\">\n",
       "  <thead>\n",
       "    <tr style=\"text-align: right;\">\n",
       "      <th></th>\n",
       "      <th>Country</th>\n",
       "      <th>Year</th>\n",
       "      <th>Life_Expectancy</th>\n",
       "    </tr>\n",
       "  </thead>\n",
       "  <tbody>\n",
       "    <tr>\n",
       "      <th>17554</th>\n",
       "      <td>Zambia</td>\n",
       "      <td>NaN</td>\n",
       "      <td>NaN</td>\n",
       "    </tr>\n",
       "    <tr>\n",
       "      <th>17555</th>\n",
       "      <td>Zimbabwe</td>\n",
       "      <td>NaN</td>\n",
       "      <td>NaN</td>\n",
       "    </tr>\n",
       "  </tbody>\n",
       "</table>\n",
       "</div>"
      ],
      "text/plain": [
       "        Country  Year  Life_Expectancy\n",
       "17554    Zambia   NaN              NaN\n",
       "17555  Zimbabwe   NaN              NaN"
      ]
     },
     "execution_count": 101,
     "metadata": {},
     "output_type": "execute_result"
    }
   ],
   "source": [
    "life_expectancy_melt.tail(2)"
   ]
  },
  {
   "cell_type": "code",
   "execution_count": 102,
   "id": "b8f1156b-deb9-477f-b80f-24dea41b0c03",
   "metadata": {},
   "outputs": [
    {
     "data": {
      "text/html": [
       "<div>\n",
       "<style scoped>\n",
       "    .dataframe tbody tr th:only-of-type {\n",
       "        vertical-align: middle;\n",
       "    }\n",
       "\n",
       "    .dataframe tbody tr th {\n",
       "        vertical-align: top;\n",
       "    }\n",
       "\n",
       "    .dataframe thead th {\n",
       "        text-align: right;\n",
       "    }\n",
       "</style>\n",
       "<table border=\"1\" class=\"dataframe\">\n",
       "  <thead>\n",
       "    <tr style=\"text-align: right;\">\n",
       "      <th></th>\n",
       "      <th>Country</th>\n",
       "      <th>Year</th>\n",
       "      <th>GDP_Per_Capita</th>\n",
       "      <th>Continent</th>\n",
       "      <th>_merge</th>\n",
       "    </tr>\n",
       "  </thead>\n",
       "  <tbody>\n",
       "    <tr>\n",
       "      <th>0</th>\n",
       "      <td>Afghanistan</td>\n",
       "      <td>2023.0</td>\n",
       "      <td>1992.424394</td>\n",
       "      <td>Asia</td>\n",
       "      <td>both</td>\n",
       "    </tr>\n",
       "    <tr>\n",
       "      <th>1</th>\n",
       "      <td>Afghanistan</td>\n",
       "      <td>2022.0</td>\n",
       "      <td>1981.710168</td>\n",
       "      <td>Asia</td>\n",
       "      <td>both</td>\n",
       "    </tr>\n",
       "  </tbody>\n",
       "</table>\n",
       "</div>"
      ],
      "text/plain": [
       "       Country    Year  GDP_Per_Capita Continent _merge\n",
       "0  Afghanistan  2023.0     1992.424394      Asia   both\n",
       "1  Afghanistan  2022.0     1981.710168      Asia   both"
      ]
     },
     "execution_count": 102,
     "metadata": {},
     "output_type": "execute_result"
    }
   ],
   "source": [
    "gdp_df.head(2)"
   ]
  },
  {
   "cell_type": "code",
   "execution_count": 103,
   "id": "3c61d2ef-b93e-48c8-beb9-8deb5f5d5f48",
   "metadata": {},
   "outputs": [
    {
     "data": {
      "text/plain": [
       "Country             object\n",
       "Year               float64\n",
       "GDP_Per_Capita     float64\n",
       "Continent           object\n",
       "_merge            category\n",
       "dtype: object"
      ]
     },
     "execution_count": 103,
     "metadata": {},
     "output_type": "execute_result"
    }
   ],
   "source": [
    "gdp_df.dtypes"
   ]
  },
  {
   "cell_type": "code",
   "execution_count": 104,
   "id": "ffea781b-9e65-4ad3-a3d7-36a6cc00cf7b",
   "metadata": {},
   "outputs": [
    {
     "data": {
      "text/html": [
       "<div>\n",
       "<style scoped>\n",
       "    .dataframe tbody tr th:only-of-type {\n",
       "        vertical-align: middle;\n",
       "    }\n",
       "\n",
       "    .dataframe tbody tr th {\n",
       "        vertical-align: top;\n",
       "    }\n",
       "\n",
       "    .dataframe thead th {\n",
       "        text-align: right;\n",
       "    }\n",
       "</style>\n",
       "<table border=\"1\" class=\"dataframe\">\n",
       "  <thead>\n",
       "    <tr style=\"text-align: right;\">\n",
       "      <th></th>\n",
       "      <th>Country</th>\n",
       "      <th>Year</th>\n",
       "      <th>GDP_Per_Capita</th>\n",
       "      <th>Continent</th>\n",
       "      <th>_merge</th>\n",
       "    </tr>\n",
       "  </thead>\n",
       "  <tbody>\n",
       "    <tr>\n",
       "      <th>8246</th>\n",
       "      <td>Zimbabwe</td>\n",
       "      <td>1991.0</td>\n",
       "      <td>4126.405247</td>\n",
       "      <td>Africa</td>\n",
       "      <td>both</td>\n",
       "    </tr>\n",
       "    <tr>\n",
       "      <th>8247</th>\n",
       "      <td>Zimbabwe</td>\n",
       "      <td>1990.0</td>\n",
       "      <td>4013.299059</td>\n",
       "      <td>Africa</td>\n",
       "      <td>both</td>\n",
       "    </tr>\n",
       "  </tbody>\n",
       "</table>\n",
       "</div>"
      ],
      "text/plain": [
       "       Country    Year  GDP_Per_Capita Continent _merge\n",
       "8246  Zimbabwe  1991.0     4126.405247    Africa   both\n",
       "8247  Zimbabwe  1990.0     4013.299059    Africa   both"
      ]
     },
     "execution_count": 104,
     "metadata": {},
     "output_type": "execute_result"
    }
   ],
   "source": [
    "gdp_df.tail(2)"
   ]
  },
  {
   "cell_type": "code",
   "execution_count": 105,
   "id": "3b0e5d14-5804-4e3e-ba43-7adc2219a15b",
   "metadata": {},
   "outputs": [],
   "source": [
    "gdp_df[\"Year\"] = pd.to_numeric(gdp_df[\"Year\"], errors=\"coerce\")"
   ]
  },
  {
   "cell_type": "code",
   "execution_count": 106,
   "id": "1e71f7e9-c5f4-49dd-887c-d1f6979936e8",
   "metadata": {},
   "outputs": [
    {
     "data": {
      "text/html": [
       "<div>\n",
       "<style scoped>\n",
       "    .dataframe tbody tr th:only-of-type {\n",
       "        vertical-align: middle;\n",
       "    }\n",
       "\n",
       "    .dataframe tbody tr th {\n",
       "        vertical-align: top;\n",
       "    }\n",
       "\n",
       "    .dataframe thead th {\n",
       "        text-align: right;\n",
       "    }\n",
       "</style>\n",
       "<table border=\"1\" class=\"dataframe\">\n",
       "  <thead>\n",
       "    <tr style=\"text-align: right;\">\n",
       "      <th></th>\n",
       "      <th>Country</th>\n",
       "      <th>Year</th>\n",
       "      <th>GDP_Per_Capita</th>\n",
       "      <th>Continent</th>\n",
       "      <th>_merge</th>\n",
       "    </tr>\n",
       "  </thead>\n",
       "  <tbody>\n",
       "    <tr>\n",
       "      <th>0</th>\n",
       "      <td>Afghanistan</td>\n",
       "      <td>2023.0</td>\n",
       "      <td>1992.424394</td>\n",
       "      <td>Asia</td>\n",
       "      <td>both</td>\n",
       "    </tr>\n",
       "    <tr>\n",
       "      <th>1</th>\n",
       "      <td>Afghanistan</td>\n",
       "      <td>2022.0</td>\n",
       "      <td>1981.710168</td>\n",
       "      <td>Asia</td>\n",
       "      <td>both</td>\n",
       "    </tr>\n",
       "    <tr>\n",
       "      <th>2</th>\n",
       "      <td>Afghanistan</td>\n",
       "      <td>2021.0</td>\n",
       "      <td>2144.166570</td>\n",
       "      <td>Asia</td>\n",
       "      <td>both</td>\n",
       "    </tr>\n",
       "    <tr>\n",
       "      <th>3</th>\n",
       "      <td>Afghanistan</td>\n",
       "      <td>2020.0</td>\n",
       "      <td>2769.685745</td>\n",
       "      <td>Asia</td>\n",
       "      <td>both</td>\n",
       "    </tr>\n",
       "    <tr>\n",
       "      <th>4</th>\n",
       "      <td>Afghanistan</td>\n",
       "      <td>2019.0</td>\n",
       "      <td>2927.245144</td>\n",
       "      <td>Asia</td>\n",
       "      <td>both</td>\n",
       "    </tr>\n",
       "    <tr>\n",
       "      <th>...</th>\n",
       "      <td>...</td>\n",
       "      <td>...</td>\n",
       "      <td>...</td>\n",
       "      <td>...</td>\n",
       "      <td>...</td>\n",
       "    </tr>\n",
       "    <tr>\n",
       "      <th>8243</th>\n",
       "      <td>Zimbabwe</td>\n",
       "      <td>1994.0</td>\n",
       "      <td>3965.730986</td>\n",
       "      <td>Africa</td>\n",
       "      <td>both</td>\n",
       "    </tr>\n",
       "    <tr>\n",
       "      <th>8244</th>\n",
       "      <td>Zimbabwe</td>\n",
       "      <td>1993.0</td>\n",
       "      <td>3634.750494</td>\n",
       "      <td>Africa</td>\n",
       "      <td>both</td>\n",
       "    </tr>\n",
       "    <tr>\n",
       "      <th>8245</th>\n",
       "      <td>Zimbabwe</td>\n",
       "      <td>1992.0</td>\n",
       "      <td>3649.891947</td>\n",
       "      <td>Africa</td>\n",
       "      <td>both</td>\n",
       "    </tr>\n",
       "    <tr>\n",
       "      <th>8246</th>\n",
       "      <td>Zimbabwe</td>\n",
       "      <td>1991.0</td>\n",
       "      <td>4126.405247</td>\n",
       "      <td>Africa</td>\n",
       "      <td>both</td>\n",
       "    </tr>\n",
       "    <tr>\n",
       "      <th>8247</th>\n",
       "      <td>Zimbabwe</td>\n",
       "      <td>1990.0</td>\n",
       "      <td>4013.299059</td>\n",
       "      <td>Africa</td>\n",
       "      <td>both</td>\n",
       "    </tr>\n",
       "  </tbody>\n",
       "</table>\n",
       "<p>8248 rows × 5 columns</p>\n",
       "</div>"
      ],
      "text/plain": [
       "          Country    Year  GDP_Per_Capita Continent _merge\n",
       "0     Afghanistan  2023.0     1992.424394      Asia   both\n",
       "1     Afghanistan  2022.0     1981.710168      Asia   both\n",
       "2     Afghanistan  2021.0     2144.166570      Asia   both\n",
       "3     Afghanistan  2020.0     2769.685745      Asia   both\n",
       "4     Afghanistan  2019.0     2927.245144      Asia   both\n",
       "...           ...     ...             ...       ...    ...\n",
       "8243     Zimbabwe  1994.0     3965.730986    Africa   both\n",
       "8244     Zimbabwe  1993.0     3634.750494    Africa   both\n",
       "8245     Zimbabwe  1992.0     3649.891947    Africa   both\n",
       "8246     Zimbabwe  1991.0     4126.405247    Africa   both\n",
       "8247     Zimbabwe  1990.0     4013.299059    Africa   both\n",
       "\n",
       "[8248 rows x 5 columns]"
      ]
     },
     "execution_count": 106,
     "metadata": {},
     "output_type": "execute_result"
    }
   ],
   "source": [
    "gdp_df"
   ]
  },
  {
   "cell_type": "code",
   "execution_count": null,
   "id": "49e03933-5d0e-4c9f-bf7b-44f9f66dd471",
   "metadata": {},
   "outputs": [],
   "source": []
  },
  {
   "cell_type": "code",
   "execution_count": 107,
   "id": "e787a211-663b-4a85-952e-551dbaf82402",
   "metadata": {},
   "outputs": [],
   "source": [
    "#gdp_df = gdp_df.dropna().astype({\"Year\": int})\n",
    "#gdp_df.head()"
   ]
  },
  {
   "cell_type": "code",
   "execution_count": 108,
   "id": "cdb5a925-0692-4d70-88dd-bf149d9f9369",
   "metadata": {},
   "outputs": [],
   "source": [
    "gdp_le = pd.merge(\n",
    "    left=life_expectancy_melt,\n",
    "    right=gdp_df,\n",
    "    left_on=[\"Country\", \"Year\"],\n",
    "    right_on=[\"Country\", \"Year\"],\n",
    "    how=\"inner\",\n",
    "    validate=\"many_to_one\"\n",
    ")"
   ]
  },
  {
   "cell_type": "code",
   "execution_count": 109,
   "id": "bbb6a485-ebc3-4462-830d-bb58c8fee81a",
   "metadata": {},
   "outputs": [
    {
     "data": {
      "text/html": [
       "<div>\n",
       "<style scoped>\n",
       "    .dataframe tbody tr th:only-of-type {\n",
       "        vertical-align: middle;\n",
       "    }\n",
       "\n",
       "    .dataframe tbody tr th {\n",
       "        vertical-align: top;\n",
       "    }\n",
       "\n",
       "    .dataframe thead th {\n",
       "        text-align: right;\n",
       "    }\n",
       "</style>\n",
       "<table border=\"1\" class=\"dataframe\">\n",
       "  <thead>\n",
       "    <tr style=\"text-align: right;\">\n",
       "      <th></th>\n",
       "      <th>Country</th>\n",
       "      <th>Year</th>\n",
       "      <th>Life_Expectancy</th>\n",
       "      <th>GDP_Per_Capita</th>\n",
       "      <th>Continent</th>\n",
       "      <th>_merge</th>\n",
       "    </tr>\n",
       "  </thead>\n",
       "  <tbody>\n",
       "    <tr>\n",
       "      <th>0</th>\n",
       "      <td>Aruba</td>\n",
       "      <td>1990.0</td>\n",
       "      <td>72.546000</td>\n",
       "      <td>34579.220640</td>\n",
       "      <td>North America</td>\n",
       "      <td>both</td>\n",
       "    </tr>\n",
       "    <tr>\n",
       "      <th>1</th>\n",
       "      <td>Africa Eastern and Southern</td>\n",
       "      <td>1990.0</td>\n",
       "      <td>51.096326</td>\n",
       "      <td>3386.854480</td>\n",
       "      <td>NaN</td>\n",
       "      <td>left_only</td>\n",
       "    </tr>\n",
       "    <tr>\n",
       "      <th>2</th>\n",
       "      <td>Africa Western and Central</td>\n",
       "      <td>1990.0</td>\n",
       "      <td>48.459295</td>\n",
       "      <td>3299.401375</td>\n",
       "      <td>NaN</td>\n",
       "      <td>left_only</td>\n",
       "    </tr>\n",
       "    <tr>\n",
       "      <th>3</th>\n",
       "      <td>Angola</td>\n",
       "      <td>1990.0</td>\n",
       "      <td>41.854000</td>\n",
       "      <td>7391.752354</td>\n",
       "      <td>Africa</td>\n",
       "      <td>both</td>\n",
       "    </tr>\n",
       "    <tr>\n",
       "      <th>4</th>\n",
       "      <td>Albania</td>\n",
       "      <td>1990.0</td>\n",
       "      <td>72.710000</td>\n",
       "      <td>5327.747458</td>\n",
       "      <td>Europe</td>\n",
       "      <td>both</td>\n",
       "    </tr>\n",
       "    <tr>\n",
       "      <th>...</th>\n",
       "      <td>...</td>\n",
       "      <td>...</td>\n",
       "      <td>...</td>\n",
       "      <td>...</td>\n",
       "      <td>...</td>\n",
       "      <td>...</td>\n",
       "    </tr>\n",
       "    <tr>\n",
       "      <th>7429</th>\n",
       "      <td>Liechtenstein</td>\n",
       "      <td>NaN</td>\n",
       "      <td>NaN</td>\n",
       "      <td>NaN</td>\n",
       "      <td>Europe</td>\n",
       "      <td>right_only</td>\n",
       "    </tr>\n",
       "    <tr>\n",
       "      <th>7430</th>\n",
       "      <td>Monaco</td>\n",
       "      <td>NaN</td>\n",
       "      <td>NaN</td>\n",
       "      <td>NaN</td>\n",
       "      <td>Europe</td>\n",
       "      <td>right_only</td>\n",
       "    </tr>\n",
       "    <tr>\n",
       "      <th>7431</th>\n",
       "      <td>Russian Federation</td>\n",
       "      <td>NaN</td>\n",
       "      <td>NaN</td>\n",
       "      <td>NaN</td>\n",
       "      <td>Europe</td>\n",
       "      <td>right_only</td>\n",
       "    </tr>\n",
       "    <tr>\n",
       "      <th>7432</th>\n",
       "      <td>South Sudan</td>\n",
       "      <td>NaN</td>\n",
       "      <td>NaN</td>\n",
       "      <td>NaN</td>\n",
       "      <td>Africa</td>\n",
       "      <td>right_only</td>\n",
       "    </tr>\n",
       "    <tr>\n",
       "      <th>7433</th>\n",
       "      <td>Sao Tome and Principe</td>\n",
       "      <td>NaN</td>\n",
       "      <td>NaN</td>\n",
       "      <td>NaN</td>\n",
       "      <td>Africa</td>\n",
       "      <td>right_only</td>\n",
       "    </tr>\n",
       "  </tbody>\n",
       "</table>\n",
       "<p>7434 rows × 6 columns</p>\n",
       "</div>"
      ],
      "text/plain": [
       "                          Country    Year  Life_Expectancy  GDP_Per_Capita  \\\n",
       "0                           Aruba  1990.0        72.546000    34579.220640   \n",
       "1     Africa Eastern and Southern  1990.0        51.096326     3386.854480   \n",
       "2      Africa Western and Central  1990.0        48.459295     3299.401375   \n",
       "3                          Angola  1990.0        41.854000     7391.752354   \n",
       "4                         Albania  1990.0        72.710000     5327.747458   \n",
       "...                           ...     ...              ...             ...   \n",
       "7429                Liechtenstein     NaN              NaN             NaN   \n",
       "7430                       Monaco     NaN              NaN             NaN   \n",
       "7431           Russian Federation     NaN              NaN             NaN   \n",
       "7432                  South Sudan     NaN              NaN             NaN   \n",
       "7433        Sao Tome and Principe     NaN              NaN             NaN   \n",
       "\n",
       "          Continent      _merge  \n",
       "0     North America        both  \n",
       "1               NaN   left_only  \n",
       "2               NaN   left_only  \n",
       "3            Africa        both  \n",
       "4            Europe        both  \n",
       "...             ...         ...  \n",
       "7429         Europe  right_only  \n",
       "7430         Europe  right_only  \n",
       "7431         Europe  right_only  \n",
       "7432         Africa  right_only  \n",
       "7433         Africa  right_only  \n",
       "\n",
       "[7434 rows x 6 columns]"
      ]
     },
     "execution_count": 109,
     "metadata": {},
     "output_type": "execute_result"
    }
   ],
   "source": [
    "gdp_le"
   ]
  },
  {
   "cell_type": "markdown",
   "id": "58bf3745-9387-4a5a-adc8-7630db5a625c",
   "metadata": {},
   "source": [
    "#### 25. Create a new DataFrame, named gdp_le_2021 by extracting data for the year 2021 from gdp_le. How many countries have a life expectancy of at least 80 in 2021?"
   ]
  },
  {
   "cell_type": "code",
   "execution_count": 111,
   "id": "83158b54-8f5a-44f4-9610-2347e586cb6f",
   "metadata": {},
   "outputs": [],
   "source": [
    "gdp_le_2021 = gdp_le[gdp_le[\"Year\"]==2021]"
   ]
  },
  {
   "cell_type": "code",
   "execution_count": 112,
   "id": "32ae2ca0-b68d-4513-98d4-028e0f293c96",
   "metadata": {},
   "outputs": [
    {
     "data": {
      "text/plain": [
       "Country            36\n",
       "Year               36\n",
       "Life_Expectancy    36\n",
       "GDP_Per_Capita     36\n",
       "Continent          33\n",
       "_merge             36\n",
       "dtype: int64"
      ]
     },
     "execution_count": 112,
     "metadata": {},
     "output_type": "execute_result"
    }
   ],
   "source": [
    "gdp_le_2021[gdp_le_2021[\"Life_Expectancy\"]>= 80].count()#.iloc[0]"
   ]
  },
  {
   "cell_type": "markdown",
   "id": "0e01c6bf-e274-4a44-b168-18fcdbbcc751",
   "metadata": {},
   "source": [
    "#### 26. Find the countries that had the top 3 largest GDP per capita figures for 2021. Create a seaborn FacetGrid showing the change in life expectancy over time for these three countries. Each individual figure in the facet grid will represent a single country.\r\n",
    "\r\n"
   ]
  },
  {
   "cell_type": "code",
   "execution_count": 114,
   "id": "29eb0c6d-750e-4680-b007-7dc9bd408a17",
   "metadata": {},
   "outputs": [],
   "source": [
    "#gdp_le_2021[gdp_le_2021[\"GDP_Per_Capita\"].nlargest()]#.count()#.iloc[0]"
   ]
  },
  {
   "cell_type": "code",
   "execution_count": 228,
   "id": "69dbe6b2-13eb-408f-9386-5b9ecc296d35",
   "metadata": {},
   "outputs": [
    {
     "data": {
      "text/html": [
       "<div>\n",
       "<style scoped>\n",
       "    .dataframe tbody tr th:only-of-type {\n",
       "        vertical-align: middle;\n",
       "    }\n",
       "\n",
       "    .dataframe tbody tr th {\n",
       "        vertical-align: top;\n",
       "    }\n",
       "\n",
       "    .dataframe thead th {\n",
       "        text-align: right;\n",
       "    }\n",
       "</style>\n",
       "<table border=\"1\" class=\"dataframe\">\n",
       "  <thead>\n",
       "    <tr style=\"text-align: right;\">\n",
       "      <th></th>\n",
       "      <th>Country</th>\n",
       "      <th>Year</th>\n",
       "      <th>Life_Expectancy</th>\n",
       "      <th>GDP_Per_Capita</th>\n",
       "      <th>Continent</th>\n",
       "      <th>_merge</th>\n",
       "    </tr>\n",
       "  </thead>\n",
       "  <tbody>\n",
       "    <tr>\n",
       "      <th>6889</th>\n",
       "      <td>Luxembourg</td>\n",
       "      <td>2021.0</td>\n",
       "      <td>82.597561</td>\n",
       "      <td>135379.291201</td>\n",
       "      <td>Europe</td>\n",
       "      <td>both</td>\n",
       "    </tr>\n",
       "    <tr>\n",
       "      <th>6943</th>\n",
       "      <td>Singapore</td>\n",
       "      <td>2021.0</td>\n",
       "      <td>83.092683</td>\n",
       "      <td>131864.092336</td>\n",
       "      <td>Asia</td>\n",
       "      <td>both</td>\n",
       "    </tr>\n",
       "    <tr>\n",
       "      <th>6859</th>\n",
       "      <td>Ireland</td>\n",
       "      <td>2021.0</td>\n",
       "      <td>82.253659</td>\n",
       "      <td>118594.746862</td>\n",
       "      <td>Europe</td>\n",
       "      <td>both</td>\n",
       "    </tr>\n",
       "  </tbody>\n",
       "</table>\n",
       "</div>"
      ],
      "text/plain": [
       "         Country    Year  Life_Expectancy  GDP_Per_Capita Continent _merge\n",
       "6889  Luxembourg  2021.0        82.597561   135379.291201    Europe   both\n",
       "6943   Singapore  2021.0        83.092683   131864.092336      Asia   both\n",
       "6859     Ireland  2021.0        82.253659   118594.746862    Europe   both"
      ]
     },
     "execution_count": 228,
     "metadata": {},
     "output_type": "execute_result"
    }
   ],
   "source": [
    "try_three = gdp_le_2021.nlargest(3, \"GDP_Per_Capita\")\n",
    "try_three"
   ]
  },
  {
   "cell_type": "code",
   "execution_count": 242,
   "id": "4e3903f2-e607-49c7-a9d7-864ba0618f54",
   "metadata": {},
   "outputs": [],
   "source": [
    "#gdp_le[gdp_le[\"Country\"] == [\"Luxembourg\", \"Singapore\"]]"
   ]
  },
  {
   "cell_type": "code",
   "execution_count": 220,
   "id": "50ca4b6a-df85-4ad3-9ac4-151d046c2231",
   "metadata": {},
   "outputs": [],
   "source": [
    "#fg = sns.FacetGrid(df, col='B', col_wrap=4)\n",
    "#fg.map(sns.scatterplot, 'A','C')\n",
    "#fg.add_legend()"
   ]
  },
  {
   "cell_type": "code",
   "execution_count": 226,
   "id": "385a5b2c-c0d5-4c4b-8a48-bcb4b55d14b2",
   "metadata": {},
   "outputs": [
    {
     "data": {
      "text/plain": [
       "<seaborn.axisgrid.FacetGrid at 0x1be149fb620>"
      ]
     },
     "execution_count": 226,
     "metadata": {},
     "output_type": "execute_result"
    },
    {
     "data": {
      "image/png": "[encoded data removed]",
      "text/plain": [
       "<Figure size 900x300 with 3 Axes>"
      ]
     },
     "metadata": {},
     "output_type": "display_data"
    }
   ],
   "source": [
    "well = sns.FacetGrid(try_three, col=\"Country\", col_wrap=3)\n",
    "well.map(sns.scatterplot, 'Year', 'Life_Expectancy')"
   ]
  },
  {
   "cell_type": "code",
   "execution_count": null,
   "id": "58178c5c-a5c3-48a8-a09b-3003c9d5ee26",
   "metadata": {},
   "outputs": [],
   "source": []
  },
  {
   "cell_type": "code",
   "execution_count": null,
   "id": "c3e76fcc-e07d-46b8-a215-9f61155a0e11",
   "metadata": {},
   "outputs": [],
   "source": []
  },
  {
   "cell_type": "code",
   "execution_count": null,
   "id": "a5f4b946-11a9-4646-947c-f18c2e049074",
   "metadata": {},
   "outputs": [],
   "source": []
  },
  {
   "cell_type": "code",
   "execution_count": null,
   "id": "e9df4025-b2b5-4a04-9546-de120f450a0a",
   "metadata": {},
   "outputs": [],
   "source": []
  },
  {
   "cell_type": "code",
   "execution_count": null,
   "id": "a3daabda-09e0-47ea-a78b-1b6c9686c136",
   "metadata": {},
   "outputs": [],
   "source": []
  },
  {
   "cell_type": "code",
   "execution_count": null,
   "id": "e10f844b-12f2-4e13-9eb0-017872c8a41d",
   "metadata": {},
   "outputs": [],
   "source": []
  },
  {
   "cell_type": "code",
   "execution_count": null,
   "id": "7fcdf5ed-66b8-4868-8b9c-6155a99f8204",
   "metadata": {},
   "outputs": [],
   "source": []
  }
 ],
 "metadata": {
  "kernelspec": {
   "display_name": "Python 3 (ipykernel)",
   "language": "python",
   "name": "python3"
  },
  "language_info": {
   "codemirror_mode": {
    "name": "ipython",
    "version": 3
   },
   "file_extension": ".py",
   "mimetype": "text/x-python",
   "name": "python",
   "nbconvert_exporter": "python",
   "pygments_lexer": "ipython3",
   "version": "3.12.3"
  }
 },
 "nbformat": 4,
 "nbformat_minor": 5
}
