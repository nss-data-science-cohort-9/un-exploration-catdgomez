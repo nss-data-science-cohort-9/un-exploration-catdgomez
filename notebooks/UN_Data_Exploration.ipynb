{
 "cells": [
  {
   "cell_type": "code",
   "execution_count": 1,
   "id": "bf6cef82-0156-4ac9-919f-9dbd2b84517a",
   "metadata": {},
   "outputs": [],
   "source": [
    "import pandas as pd\n",
    "import numpy as np\n",
    "import matplotlib.pyplot as plt\n",
    "import seaborn as sns"
   ]
  },
  {
   "cell_type": "markdown",
   "id": "fa8012a6-8890-416a-be21-92ceefd49180",
   "metadata": {},
   "source": [
    "## An Exploration of UN data"
   ]
  },
  {
   "cell_type": "markdown",
   "id": "f528cd9b-706a-4b06-9f50-f56b0309cbe0",
   "metadata": {},
   "source": [
    "##### In this project, you'll be doing some exploratory analysis on two country-level metrics, gross domestic product (GDP) per capita and overall life expectancy. After completing the guided practice section, you will have a chance to find some additional data and do some more exploring of your own."
   ]
  },
  {
   "cell_type": "markdown",
   "id": "0c453983-4c11-4580-a4c0-ae61992db277",
   "metadata": {},
   "source": [
    "### Guided Practice:\r\n"
   ]
  },
  {
   "cell_type": "markdown",
   "id": "d91f57a0-c36a-4145-9b33-ebb2e55e650e",
   "metadata": {},
   "source": [
    "#### 1. Download the Gross Domestic Product (GDP) per capita dataset from http://data.un.org/Data.aspx?d=WDI&f=Indicator_Code%3aNY.GDP.PCAP.PP.KD. Rename it to gdp_per_capita.csv and place it in the data folder of your project repository."
   ]
  },
  {
   "cell_type": "markdown",
   "id": "ccbd1cf1-f600-43bb-815e-85bc63459a23",
   "metadata": {},
   "source": [
    "#### 2. Create a Jupyter Notebook in the notebooks folder and name it UN_Data_Exploration.\n",
    "###### \r\n",
    "You are likely to get errors along the way. When you do, read the errors to try to understand what is happening and how to correct it\n",
    "###### .\r\n",
    "Use markdown cells to record your answers to any questions asked in this exercise. On the menu bar, you can toggle the cell type from 'Code' to 'Markdown'. Here is a link to a cheat sheet showing the basics of styling text using Markdown.wn."
   ]
  },
  {
   "cell_type": "markdown",
   "id": "93c179df-fbd9-4fcf-b7fc-6c46ffb8a0fd",
   "metadata": {},
   "source": [
    "#### 3. In the first cell of your notebook, import the required packages with their customary aliases as at the very top of this notebook. ^^^^"
   ]
  },
  {
   "cell_type": "markdown",
   "id": "0773fb6a-1d1e-4d78-bbf2-9aeb961ba620",
   "metadata": {},
   "source": [
    "#### 4. Using the pandas read_csv() function, read the GDP dataset into your notebook as a DataFrame called gdp_df. After reading it in, inspect the first 10 rows and then inspect the last 10 rows."
   ]
  },
  {
   "cell_type": "code",
   "execution_count": 9,
   "id": "99730d30-86df-4c7b-8bbe-d4bb0f77dddc",
   "metadata": {},
   "outputs": [],
   "source": [
    "gdp_df = pd.read_csv('../data/gdp_per_capita.csv')"
   ]
  },
  {
   "cell_type": "code",
   "execution_count": 10,
   "id": "75d5cf8f-fceb-4ed4-975b-7922cc9d3706",
   "metadata": {},
   "outputs": [
    {
     "data": {
      "text/html": [
       "<div>\n",
       "<style scoped>\n",
       "    .dataframe tbody tr th:only-of-type {\n",
       "        vertical-align: middle;\n",
       "    }\n",
       "\n",
       "    .dataframe tbody tr th {\n",
       "        vertical-align: top;\n",
       "    }\n",
       "\n",
       "    .dataframe thead th {\n",
       "        text-align: right;\n",
       "    }\n",
       "</style>\n",
       "<table border=\"1\" class=\"dataframe\">\n",
       "  <thead>\n",
       "    <tr style=\"text-align: right;\">\n",
       "      <th></th>\n",
       "      <th>Country or Area</th>\n",
       "      <th>Year</th>\n",
       "      <th>Value</th>\n",
       "      <th>Value Footnotes</th>\n",
       "    </tr>\n",
       "  </thead>\n",
       "  <tbody>\n",
       "    <tr>\n",
       "      <th>0</th>\n",
       "      <td>Afghanistan</td>\n",
       "      <td>2023</td>\n",
       "      <td>1992.424394</td>\n",
       "      <td>NaN</td>\n",
       "    </tr>\n",
       "    <tr>\n",
       "      <th>1</th>\n",
       "      <td>Afghanistan</td>\n",
       "      <td>2022</td>\n",
       "      <td>1981.710168</td>\n",
       "      <td>NaN</td>\n",
       "    </tr>\n",
       "    <tr>\n",
       "      <th>2</th>\n",
       "      <td>Afghanistan</td>\n",
       "      <td>2021</td>\n",
       "      <td>2144.166570</td>\n",
       "      <td>NaN</td>\n",
       "    </tr>\n",
       "    <tr>\n",
       "      <th>3</th>\n",
       "      <td>Afghanistan</td>\n",
       "      <td>2020</td>\n",
       "      <td>2769.685745</td>\n",
       "      <td>NaN</td>\n",
       "    </tr>\n",
       "    <tr>\n",
       "      <th>4</th>\n",
       "      <td>Afghanistan</td>\n",
       "      <td>2019</td>\n",
       "      <td>2927.245144</td>\n",
       "      <td>NaN</td>\n",
       "    </tr>\n",
       "    <tr>\n",
       "      <th>5</th>\n",
       "      <td>Afghanistan</td>\n",
       "      <td>2018</td>\n",
       "      <td>2902.392113</td>\n",
       "      <td>NaN</td>\n",
       "    </tr>\n",
       "    <tr>\n",
       "      <th>6</th>\n",
       "      <td>Afghanistan</td>\n",
       "      <td>2017</td>\n",
       "      <td>2952.998916</td>\n",
       "      <td>NaN</td>\n",
       "    </tr>\n",
       "    <tr>\n",
       "      <th>7</th>\n",
       "      <td>Afghanistan</td>\n",
       "      <td>2016</td>\n",
       "      <td>2958.785399</td>\n",
       "      <td>NaN</td>\n",
       "    </tr>\n",
       "    <tr>\n",
       "      <th>8</th>\n",
       "      <td>Afghanistan</td>\n",
       "      <td>2015</td>\n",
       "      <td>2967.692067</td>\n",
       "      <td>NaN</td>\n",
       "    </tr>\n",
       "    <tr>\n",
       "      <th>9</th>\n",
       "      <td>Afghanistan</td>\n",
       "      <td>2014</td>\n",
       "      <td>3017.942544</td>\n",
       "      <td>NaN</td>\n",
       "    </tr>\n",
       "  </tbody>\n",
       "</table>\n",
       "</div>"
      ],
      "text/plain": [
       "  Country or Area  Year        Value  Value Footnotes\n",
       "0     Afghanistan  2023  1992.424394              NaN\n",
       "1     Afghanistan  2022  1981.710168              NaN\n",
       "2     Afghanistan  2021  2144.166570              NaN\n",
       "3     Afghanistan  2020  2769.685745              NaN\n",
       "4     Afghanistan  2019  2927.245144              NaN\n",
       "5     Afghanistan  2018  2902.392113              NaN\n",
       "6     Afghanistan  2017  2952.998916              NaN\n",
       "7     Afghanistan  2016  2958.785399              NaN\n",
       "8     Afghanistan  2015  2967.692067              NaN\n",
       "9     Afghanistan  2014  3017.942544              NaN"
      ]
     },
     "execution_count": 10,
     "metadata": {},
     "output_type": "execute_result"
    }
   ],
   "source": [
    "gdp_df.head(10)"
   ]
  },
  {
   "cell_type": "code",
   "execution_count": 11,
   "id": "9b5155b7-4723-47e1-bde9-9564f24838e2",
   "metadata": {},
   "outputs": [
    {
     "data": {
      "text/html": [
       "<div>\n",
       "<style scoped>\n",
       "    .dataframe tbody tr th:only-of-type {\n",
       "        vertical-align: middle;\n",
       "    }\n",
       "\n",
       "    .dataframe tbody tr th {\n",
       "        vertical-align: top;\n",
       "    }\n",
       "\n",
       "    .dataframe thead th {\n",
       "        text-align: right;\n",
       "    }\n",
       "</style>\n",
       "<table border=\"1\" class=\"dataframe\">\n",
       "  <thead>\n",
       "    <tr style=\"text-align: right;\">\n",
       "      <th></th>\n",
       "      <th>Country or Area</th>\n",
       "      <th>Year</th>\n",
       "      <th>Value</th>\n",
       "      <th>Value Footnotes</th>\n",
       "    </tr>\n",
       "  </thead>\n",
       "  <tbody>\n",
       "    <tr>\n",
       "      <th>8209</th>\n",
       "      <td>Zimbabwe</td>\n",
       "      <td>1999</td>\n",
       "      <td>4238.195198</td>\n",
       "      <td>NaN</td>\n",
       "    </tr>\n",
       "    <tr>\n",
       "      <th>8210</th>\n",
       "      <td>Zimbabwe</td>\n",
       "      <td>1998</td>\n",
       "      <td>4342.858177</td>\n",
       "      <td>NaN</td>\n",
       "    </tr>\n",
       "    <tr>\n",
       "      <th>8211</th>\n",
       "      <td>Zimbabwe</td>\n",
       "      <td>1997</td>\n",
       "      <td>4304.406272</td>\n",
       "      <td>NaN</td>\n",
       "    </tr>\n",
       "    <tr>\n",
       "      <th>8212</th>\n",
       "      <td>Zimbabwe</td>\n",
       "      <td>1996</td>\n",
       "      <td>4271.479930</td>\n",
       "      <td>NaN</td>\n",
       "    </tr>\n",
       "    <tr>\n",
       "      <th>8213</th>\n",
       "      <td>Zimbabwe</td>\n",
       "      <td>1995</td>\n",
       "      <td>3935.280057</td>\n",
       "      <td>NaN</td>\n",
       "    </tr>\n",
       "    <tr>\n",
       "      <th>8214</th>\n",
       "      <td>Zimbabwe</td>\n",
       "      <td>1994</td>\n",
       "      <td>3965.730986</td>\n",
       "      <td>NaN</td>\n",
       "    </tr>\n",
       "    <tr>\n",
       "      <th>8215</th>\n",
       "      <td>Zimbabwe</td>\n",
       "      <td>1993</td>\n",
       "      <td>3634.750494</td>\n",
       "      <td>NaN</td>\n",
       "    </tr>\n",
       "    <tr>\n",
       "      <th>8216</th>\n",
       "      <td>Zimbabwe</td>\n",
       "      <td>1992</td>\n",
       "      <td>3649.891947</td>\n",
       "      <td>NaN</td>\n",
       "    </tr>\n",
       "    <tr>\n",
       "      <th>8217</th>\n",
       "      <td>Zimbabwe</td>\n",
       "      <td>1991</td>\n",
       "      <td>4126.405247</td>\n",
       "      <td>NaN</td>\n",
       "    </tr>\n",
       "    <tr>\n",
       "      <th>8218</th>\n",
       "      <td>Zimbabwe</td>\n",
       "      <td>1990</td>\n",
       "      <td>4013.299059</td>\n",
       "      <td>NaN</td>\n",
       "    </tr>\n",
       "  </tbody>\n",
       "</table>\n",
       "</div>"
      ],
      "text/plain": [
       "     Country or Area  Year        Value  Value Footnotes\n",
       "8209        Zimbabwe  1999  4238.195198              NaN\n",
       "8210        Zimbabwe  1998  4342.858177              NaN\n",
       "8211        Zimbabwe  1997  4304.406272              NaN\n",
       "8212        Zimbabwe  1996  4271.479930              NaN\n",
       "8213        Zimbabwe  1995  3935.280057              NaN\n",
       "8214        Zimbabwe  1994  3965.730986              NaN\n",
       "8215        Zimbabwe  1993  3634.750494              NaN\n",
       "8216        Zimbabwe  1992  3649.891947              NaN\n",
       "8217        Zimbabwe  1991  4126.405247              NaN\n",
       "8218        Zimbabwe  1990  4013.299059              NaN"
      ]
     },
     "execution_count": 11,
     "metadata": {},
     "output_type": "execute_result"
    }
   ],
   "source": [
    "gdp_df.tail(10)"
   ]
  },
  {
   "cell_type": "markdown",
   "id": "e1b2ea9d-ff51-4725-8bda-42677fba122b",
   "metadata": {},
   "source": [
    "#### 5. Drop the 'Value Footnotes' column, and rename the remaining columns to 'Country', 'Year', and 'GDP_Per_Capita'."
   ]
  },
  {
   "cell_type": "code",
   "execution_count": 13,
   "id": "772cca60-9ccb-4a28-9a6b-ba690458e9bb",
   "metadata": {},
   "outputs": [],
   "source": [
    "gdp_drop_footnotes = gdp_df.drop('Value Footnotes', axis=1).rename(columns={'Country or Area':'Country', 'Value': 'GDP_Per_Capita'})"
   ]
  },
  {
   "cell_type": "markdown",
   "id": "acceea47-641b-4dd1-a79d-e6371549cfb9",
   "metadata": {},
   "source": [
    "#### 6. How many rows and columns does gdp_df have? What are the data types of its columns? If any of the columns are not the expected types, figure out why and fix it."
   ]
  },
  {
   "cell_type": "code",
   "execution_count": 15,
   "id": "47bcb16e-60a5-4a05-b7f8-3ba06643b834",
   "metadata": {},
   "outputs": [
    {
     "data": {
      "text/plain": [
       "(8219, 3)"
      ]
     },
     "execution_count": 15,
     "metadata": {},
     "output_type": "execute_result"
    }
   ],
   "source": [
    "gdp_drop_footnotes.shape"
   ]
  },
  {
   "cell_type": "code",
   "execution_count": 16,
   "id": "ca2a1d87-7198-49f6-b549-f661979294cc",
   "metadata": {},
   "outputs": [
    {
     "data": {
      "text/plain": [
       "Country            object\n",
       "Year                int64\n",
       "GDP_Per_Capita    float64\n",
       "dtype: object"
      ]
     },
     "execution_count": 16,
     "metadata": {},
     "output_type": "execute_result"
    }
   ],
   "source": [
    "gdp_drop_footnotes.dtypes"
   ]
  },
  {
   "cell_type": "code",
   "execution_count": 17,
   "id": "8b1386eb-1e97-4bc9-ade5-5bdebb882aed",
   "metadata": {},
   "outputs": [],
   "source": [
    "gdp_drop_footnotes['Country'] = gdp_drop_footnotes['Country'].astype('string')"
   ]
  },
  {
   "cell_type": "code",
   "execution_count": 18,
   "id": "7f76710e-dc67-445f-a610-c205cb985779",
   "metadata": {},
   "outputs": [
    {
     "data": {
      "text/plain": [
       "Country           string[python]\n",
       "Year                       int64\n",
       "GDP_Per_Capita           float64\n",
       "dtype: object"
      ]
     },
     "execution_count": 18,
     "metadata": {},
     "output_type": "execute_result"
    }
   ],
   "source": [
    "gdp_drop_footnotes.dtypes"
   ]
  },
  {
   "cell_type": "code",
   "execution_count": 19,
   "id": "3051c623-f308-43d6-90ea-003d55af9169",
   "metadata": {},
   "outputs": [
    {
     "name": "stdout",
     "output_type": "stream",
     "text": [
      "<class 'pandas.core.frame.DataFrame'>\n",
      "RangeIndex: 8219 entries, 0 to 8218\n",
      "Data columns (total 3 columns):\n",
      " #   Column          Non-Null Count  Dtype  \n",
      "---  ------          --------------  -----  \n",
      " 0   Country         8219 non-null   string \n",
      " 1   Year            8219 non-null   int64  \n",
      " 2   GDP_Per_Capita  8219 non-null   float64\n",
      "dtypes: float64(1), int64(1), string(1)\n",
      "memory usage: 192.8 KB\n"
     ]
    }
   ],
   "source": [
    "gdp_drop_footnotes.info()"
   ]
  },
  {
   "cell_type": "markdown",
   "id": "c71de285-3df7-45ac-90bb-b3c8e089c53d",
   "metadata": {},
   "source": [
    "##### 7. Which years are represented in this dataset? Take a look at the number of observations per year. What do you notice?\r\n",
    "\r\n"
   ]
  },
  {
   "cell_type": "code",
   "execution_count": 21,
   "id": "af3bc977-96bd-45f1-b8ee-dc0302258b5d",
   "metadata": {},
   "outputs": [
    {
     "data": {
      "text/plain": [
       "Year\n",
       "2021    247\n",
       "2020    247\n",
       "2019    247\n",
       "2018    247\n",
       "2017    247\n",
       "2016    247\n",
       "2015    247\n",
       "2014    247\n",
       "2013    247\n",
       "2012    246\n",
       "2022    246\n",
       "2011    246\n",
       "2010    245\n",
       "2009    245\n",
       "2008    244\n",
       "2007    242\n",
       "2006    242\n",
       "2005    241\n",
       "2004    241\n",
       "2003    241\n",
       "2002    241\n",
       "2000    240\n",
       "2023    240\n",
       "2001    240\n",
       "1999    238\n",
       "1998    238\n",
       "1997    238\n",
       "1996    236\n",
       "1995    236\n",
       "1994    235\n",
       "1993    234\n",
       "1992    234\n",
       "1991    234\n",
       "1990    233\n",
       "Name: count, dtype: int64"
      ]
     },
     "execution_count": 21,
     "metadata": {},
     "output_type": "execute_result"
    }
   ],
   "source": [
    "gdp_drop_footnotes['Year'].value_counts()"
   ]
  },
  {
   "cell_type": "markdown",
   "id": "1ae54829-8558-43c0-852d-e43d3fd1d5ce",
   "metadata": {},
   "source": [
    "###### I notice that the further in the past the date is the fewer instances of that year are located in the Year column. "
   ]
  },
  {
   "cell_type": "markdown",
   "id": "8c9ccf36-412f-4326-846e-091e1768da30",
   "metadata": {},
   "source": [
    "#### 8. How many countries are represented in this dataset? Which countries are least represented in the dataset? Why do you think these countries have so few observations?"
   ]
  },
  {
   "cell_type": "code",
   "execution_count": null,
   "id": "6cf50ca6-72d4-43a9-82fa-b28587e9ee83",
   "metadata": {},
   "outputs": [],
   "source": []
  },
  {
   "cell_type": "code",
   "execution_count": 24,
   "id": "c81801e2-484e-476f-832e-412e624bb41c",
   "metadata": {},
   "outputs": [
    {
     "data": {
      "text/plain": [
       "247"
      ]
     },
     "execution_count": 24,
     "metadata": {},
     "output_type": "execute_result"
    }
   ],
   "source": [
    "gdp_drop_footnotes['Country'].nunique()"
   ]
  },
  {
   "cell_type": "code",
   "execution_count": 25,
   "id": "68de376d-2fff-4127-afa9-6de5d8b7e115",
   "metadata": {},
   "outputs": [
    {
     "data": {
      "text/plain": [
       "Country\n",
       "Tunisia                      34\n",
       "Somalia                      33\n",
       "Lebanon                      33\n",
       "Tonga                        33\n",
       "Syrian Arab Republic         33\n",
       "Bhutan                       33\n",
       "Greenland                    32\n",
       "West Bank and Gaza           30\n",
       "Serbia                       29\n",
       "Montenegro                   27\n",
       "San Marino                   26\n",
       "CuraÃ§ao                     24\n",
       "Afghanistan                  24\n",
       "Virgin Islands               21\n",
       "Cayman Islands               18\n",
       "Faroe Islands                16\n",
       "Kosovo                       16\n",
       "Sint Maarten (Dutch part)    15\n",
       "Turks and Caicos Islands     13\n",
       "Djibouti                     11\n",
       "Name: count, dtype: Int64"
      ]
     },
     "execution_count": 25,
     "metadata": {},
     "output_type": "execute_result"
    }
   ],
   "source": [
    "gdp_drop_footnotes['Country'].value_counts().tail(20)"
   ]
  },
  {
   "cell_type": "code",
   "execution_count": 26,
   "id": "6735c145-5800-4609-ad24-84a362cb1c96",
   "metadata": {},
   "outputs": [
    {
     "data": {
      "text/plain": [
       "Country\n",
       "Latvia                        34\n",
       "East Asia & Pacific           34\n",
       "Burundi                       34\n",
       "Bulgaria                      34\n",
       "Ecuador                       34\n",
       "Brunei                        34\n",
       "Africa Western and Central    34\n",
       "Albania                       34\n",
       "Algeria                       34\n",
       "Andorra                       34\n",
       "Angola                        34\n",
       "Antigua and Barbuda           34\n",
       "Arab World                    34\n",
       "Argentina                     34\n",
       "Armenia                       34\n",
       "Aruba                         34\n",
       "Australia                     34\n",
       "Austria                       34\n",
       "Azerbaijan                    34\n",
       "Bahrain                       34\n",
       "Name: count, dtype: Int64"
      ]
     },
     "execution_count": 26,
     "metadata": {},
     "output_type": "execute_result"
    }
   ],
   "source": [
    "gdp_drop_footnotes['Country'].value_counts().head(20)"
   ]
  },
  {
   "cell_type": "markdown",
   "id": "196a7625-b789-46af-898d-5b2621f5d399",
   "metadata": {},
   "source": [
    "###### Perhaps due to these countries being more newly formed, or not having the resources to collect the necessary data, or something of that nature. "
   ]
  },
  {
   "cell_type": "markdown",
   "id": "54ca00c5-b775-4ec3-864b-03ed51f6a45c",
   "metadata": {},
   "source": [
    "#### 9. Create a new dataframe by subsetting gdp_df to just the year 2021. Call this new dataframe gdp_2021."
   ]
  },
  {
   "cell_type": "code",
   "execution_count": 29,
   "id": "81781131-f6f4-41dd-a62a-d1f3efcbd9bb",
   "metadata": {},
   "outputs": [],
   "source": [
    "gdp_2021 = gdp_drop_footnotes[gdp_drop_footnotes['Year'] == 2021]"
   ]
  },
  {
   "cell_type": "code",
   "execution_count": 30,
   "id": "a9ea1b76-066a-4140-ba7a-56da8c282c09",
   "metadata": {},
   "outputs": [
    {
     "data": {
      "text/html": [
       "<div>\n",
       "<style scoped>\n",
       "    .dataframe tbody tr th:only-of-type {\n",
       "        vertical-align: middle;\n",
       "    }\n",
       "\n",
       "    .dataframe tbody tr th {\n",
       "        vertical-align: top;\n",
       "    }\n",
       "\n",
       "    .dataframe thead th {\n",
       "        text-align: right;\n",
       "    }\n",
       "</style>\n",
       "<table border=\"1\" class=\"dataframe\">\n",
       "  <thead>\n",
       "    <tr style=\"text-align: right;\">\n",
       "      <th></th>\n",
       "      <th>Country</th>\n",
       "      <th>Year</th>\n",
       "      <th>GDP_Per_Capita</th>\n",
       "    </tr>\n",
       "  </thead>\n",
       "  <tbody>\n",
       "    <tr>\n",
       "      <th>2</th>\n",
       "      <td>Afghanistan</td>\n",
       "      <td>2021</td>\n",
       "      <td>2144.166570</td>\n",
       "    </tr>\n",
       "    <tr>\n",
       "      <th>26</th>\n",
       "      <td>Africa Eastern and Southern</td>\n",
       "      <td>2021</td>\n",
       "      <td>3934.287267</td>\n",
       "    </tr>\n",
       "    <tr>\n",
       "      <th>60</th>\n",
       "      <td>Africa Western and Central</td>\n",
       "      <td>2021</td>\n",
       "      <td>4698.926894</td>\n",
       "    </tr>\n",
       "    <tr>\n",
       "      <th>94</th>\n",
       "      <td>Albania</td>\n",
       "      <td>2021</td>\n",
       "      <td>16113.136519</td>\n",
       "    </tr>\n",
       "    <tr>\n",
       "      <th>128</th>\n",
       "      <td>Algeria</td>\n",
       "      <td>2021</td>\n",
       "      <td>14496.865470</td>\n",
       "    </tr>\n",
       "    <tr>\n",
       "      <th>...</th>\n",
       "      <td>...</td>\n",
       "      <td>...</td>\n",
       "      <td>...</td>\n",
       "    </tr>\n",
       "    <tr>\n",
       "      <th>8067</th>\n",
       "      <td>Virgin Islands</td>\n",
       "      <td>2021</td>\n",
       "      <td>46893.549699</td>\n",
       "    </tr>\n",
       "    <tr>\n",
       "      <th>8089</th>\n",
       "      <td>West Bank and Gaza</td>\n",
       "      <td>2021</td>\n",
       "      <td>5663.121607</td>\n",
       "    </tr>\n",
       "    <tr>\n",
       "      <th>8119</th>\n",
       "      <td>World</td>\n",
       "      <td>2021</td>\n",
       "      <td>19637.823230</td>\n",
       "    </tr>\n",
       "    <tr>\n",
       "      <th>8153</th>\n",
       "      <td>Zambia</td>\n",
       "      <td>2021</td>\n",
       "      <td>3503.034914</td>\n",
       "    </tr>\n",
       "    <tr>\n",
       "      <th>8187</th>\n",
       "      <td>Zimbabwe</td>\n",
       "      <td>2021</td>\n",
       "      <td>3184.785451</td>\n",
       "    </tr>\n",
       "  </tbody>\n",
       "</table>\n",
       "<p>247 rows × 3 columns</p>\n",
       "</div>"
      ],
      "text/plain": [
       "                          Country  Year  GDP_Per_Capita\n",
       "2                     Afghanistan  2021     2144.166570\n",
       "26    Africa Eastern and Southern  2021     3934.287267\n",
       "60     Africa Western and Central  2021     4698.926894\n",
       "94                        Albania  2021    16113.136519\n",
       "128                       Algeria  2021    14496.865470\n",
       "...                           ...   ...             ...\n",
       "8067               Virgin Islands  2021    46893.549699\n",
       "8089           West Bank and Gaza  2021     5663.121607\n",
       "8119                        World  2021    19637.823230\n",
       "8153                       Zambia  2021     3503.034914\n",
       "8187                     Zimbabwe  2021     3184.785451\n",
       "\n",
       "[247 rows x 3 columns]"
      ]
     },
     "execution_count": 30,
     "metadata": {},
     "output_type": "execute_result"
    }
   ],
   "source": [
    "gdp_2021"
   ]
  },
  {
   "cell_type": "markdown",
   "id": "9e12af7a-94a7-445a-9988-8476e2af2046",
   "metadata": {},
   "source": [
    "#### 10. Use .describe() to find the summary statistics for GDP per capita in 2021."
   ]
  },
  {
   "cell_type": "code",
   "execution_count": 32,
   "id": "aead8369-49fa-4b86-95e2-709050b4bef5",
   "metadata": {},
   "outputs": [
    {
     "data": {
      "text/plain": [
       "count       247.000000\n",
       "mean      24478.517262\n",
       "std       24601.525764\n",
       "min         836.665571\n",
       "25%        5996.532844\n",
       "50%       15900.976581\n",
       "75%       37298.776853\n",
       "max      135379.291201\n",
       "Name: GDP_Per_Capita, dtype: float64"
      ]
     },
     "execution_count": 32,
     "metadata": {},
     "output_type": "execute_result"
    }
   ],
   "source": [
    "gdp_2021['GDP_Per_Capita'].describe()"
   ]
  },
  {
   "cell_type": "markdown",
   "id": "a71f5481-fac3-4905-b7f4-34850b1f587d",
   "metadata": {},
   "source": [
    "#### 11. Create a histogram of GDP Per Capita numbers for 2021 (you may wish to adjust the number of bins for your histogram). How would you describe the shape of the distribution?"
   ]
  },
  {
   "cell_type": "code",
   "execution_count": 34,
   "id": "1bf26fa7-ce38-421d-8fb4-028c24ee1a40",
   "metadata": {},
   "outputs": [
    {
     "data": {
      "text/plain": [
       "<Axes: >"
      ]
     },
     "execution_count": 34,
     "metadata": {},
     "output_type": "execute_result"
    },
    {
     "data": {
      "image/png": "[encoded data removed]",
      "text/plain": [
       "<Figure size 640x480 with 1 Axes>"
      ]
     },
     "metadata": {},
     "output_type": "display_data"
    }
   ],
   "source": [
    "gdp_2021['GDP_Per_Capita'].hist(bins = 20)"
   ]
  },
  {
   "cell_type": "code",
   "execution_count": 35,
   "id": "b8cb0f1b-0805-4483-aaa6-d472878f2c37",
   "metadata": {},
   "outputs": [
    {
     "data": {
      "text/plain": [
       "135379.29120102368"
      ]
     },
     "execution_count": 35,
     "metadata": {},
     "output_type": "execute_result"
    }
   ],
   "source": [
    "gdp_2021['GDP_Per_Capita'].max()"
   ]
  },
  {
   "cell_type": "markdown",
   "id": "09ce4733-b0d4-49da-a439-7fa144b441f3",
   "metadata": {},
   "source": [
    "#### 12. Find the top 5 counties and bottom 5 countries by GDP per capita in 2021.']"
   ]
  },
  {
   "cell_type": "code",
   "execution_count": 37,
   "id": "0d468aa2-39ab-4b7e-884d-755dc8616593",
   "metadata": {},
   "outputs": [
    {
     "data": {
      "text/html": [
       "<div>\n",
       "<style scoped>\n",
       "    .dataframe tbody tr th:only-of-type {\n",
       "        vertical-align: middle;\n",
       "    }\n",
       "\n",
       "    .dataframe tbody tr th {\n",
       "        vertical-align: top;\n",
       "    }\n",
       "\n",
       "    .dataframe thead th {\n",
       "        text-align: right;\n",
       "    }\n",
       "</style>\n",
       "<table border=\"1\" class=\"dataframe\">\n",
       "  <thead>\n",
       "    <tr style=\"text-align: right;\">\n",
       "      <th></th>\n",
       "      <th>Country</th>\n",
       "      <th>Year</th>\n",
       "      <th>GDP_Per_Capita</th>\n",
       "    </tr>\n",
       "  </thead>\n",
       "  <tbody>\n",
       "    <tr>\n",
       "      <th>4425</th>\n",
       "      <td>Luxembourg</td>\n",
       "      <td>2021</td>\n",
       "      <td>135379.291201</td>\n",
       "    </tr>\n",
       "    <tr>\n",
       "      <th>6513</th>\n",
       "      <td>Singapore</td>\n",
       "      <td>2021</td>\n",
       "      <td>131864.092336</td>\n",
       "    </tr>\n",
       "    <tr>\n",
       "      <th>3492</th>\n",
       "      <td>Ireland</td>\n",
       "      <td>2021</td>\n",
       "      <td>118594.746862</td>\n",
       "    </tr>\n",
       "    <tr>\n",
       "      <th>6118</th>\n",
       "      <td>Qatar</td>\n",
       "      <td>2021</td>\n",
       "      <td>116832.570290</td>\n",
       "    </tr>\n",
       "    <tr>\n",
       "      <th>740</th>\n",
       "      <td>Bermuda</td>\n",
       "      <td>2021</td>\n",
       "      <td>92276.234605</td>\n",
       "    </tr>\n",
       "    <tr>\n",
       "      <th>...</th>\n",
       "      <td>...</td>\n",
       "      <td>...</td>\n",
       "      <td>...</td>\n",
       "    </tr>\n",
       "    <tr>\n",
       "      <th>5132</th>\n",
       "      <td>Mozambique</td>\n",
       "      <td>2021</td>\n",
       "      <td>1457.235409</td>\n",
       "    </tr>\n",
       "    <tr>\n",
       "      <th>6698</th>\n",
       "      <td>Somalia</td>\n",
       "      <td>2021</td>\n",
       "      <td>1392.464262</td>\n",
       "    </tr>\n",
       "    <tr>\n",
       "      <th>1733</th>\n",
       "      <td>Dem. Rep. Congo</td>\n",
       "      <td>2021</td>\n",
       "      <td>1313.618218</td>\n",
       "    </tr>\n",
       "    <tr>\n",
       "      <th>1301</th>\n",
       "      <td>Central African Republic</td>\n",
       "      <td>2021</td>\n",
       "      <td>1128.552380</td>\n",
       "    </tr>\n",
       "    <tr>\n",
       "      <th>1045</th>\n",
       "      <td>Burundi</td>\n",
       "      <td>2021</td>\n",
       "      <td>836.665571</td>\n",
       "    </tr>\n",
       "  </tbody>\n",
       "</table>\n",
       "<p>247 rows × 3 columns</p>\n",
       "</div>"
      ],
      "text/plain": [
       "                       Country  Year  GDP_Per_Capita\n",
       "4425                Luxembourg  2021   135379.291201\n",
       "6513                 Singapore  2021   131864.092336\n",
       "3492                   Ireland  2021   118594.746862\n",
       "6118                     Qatar  2021   116832.570290\n",
       "740                    Bermuda  2021    92276.234605\n",
       "...                        ...   ...             ...\n",
       "5132                Mozambique  2021     1457.235409\n",
       "6698                   Somalia  2021     1392.464262\n",
       "1733           Dem. Rep. Congo  2021     1313.618218\n",
       "1301  Central African Republic  2021     1128.552380\n",
       "1045                   Burundi  2021      836.665571\n",
       "\n",
       "[247 rows x 3 columns]"
      ]
     },
     "execution_count": 37,
     "metadata": {},
     "output_type": "execute_result"
    }
   ],
   "source": [
    "gdp_2021.sort_values('GDP_Per_Capita', ascending=False)"
   ]
  },
  {
   "cell_type": "markdown",
   "id": "ed0c84a1-e3a7-45d7-b044-b6ecbdbaf775",
   "metadata": {},
   "source": [
    "#### 13. Now, return to the full dataset, gdp_df. Pivot the data for 1990 and 2021 (using the pandas .pivot_table() method or another method) so that each row corresponds to a country, each column corresponds to a year, and the values in the table give the GDP_Per_Capita amount. Drop any rows that are missing values for either 1990 or 2021. Save the result to a dataframe named gdp_pivoted."
   ]
  },
  {
   "cell_type": "code",
   "execution_count": 92,
   "id": "db5d6bc1-46cb-46eb-bee7-1f76256ee46f",
   "metadata": {},
   "outputs": [],
   "source": [
    "gdp_low = gdp_drop_footnotes.loc[gdp_drop_footnotes['Year'] == 1990] # selected only 1990 as the year"
   ]
  },
  {
   "cell_type": "code",
   "execution_count": 94,
   "id": "62658dcf-542d-4eac-84e7-cbf610381b37",
   "metadata": {},
   "outputs": [],
   "source": [
    "# gdp_high"
   ]
  },
  {
   "cell_type": "code",
   "execution_count": 89,
   "id": "5353a404-1048-445f-aa25-63e8473643f1",
   "metadata": {},
   "outputs": [
    {
     "data": {
      "text/html": [
       "<div>\n",
       "<style scoped>\n",
       "    .dataframe tbody tr th:only-of-type {\n",
       "        vertical-align: middle;\n",
       "    }\n",
       "\n",
       "    .dataframe tbody tr th {\n",
       "        vertical-align: top;\n",
       "    }\n",
       "\n",
       "    .dataframe thead th {\n",
       "        text-align: right;\n",
       "    }\n",
       "</style>\n",
       "<table border=\"1\" class=\"dataframe\">\n",
       "  <thead>\n",
       "    <tr style=\"text-align: right;\">\n",
       "      <th></th>\n",
       "      <th>Country</th>\n",
       "      <th>Year</th>\n",
       "      <th>GDP_Per_Capita</th>\n",
       "    </tr>\n",
       "  </thead>\n",
       "  <tbody>\n",
       "    <tr>\n",
       "      <th>57</th>\n",
       "      <td>Africa Eastern and Southern</td>\n",
       "      <td>1990</td>\n",
       "      <td>3386.854480</td>\n",
       "    </tr>\n",
       "    <tr>\n",
       "      <th>91</th>\n",
       "      <td>Africa Western and Central</td>\n",
       "      <td>1990</td>\n",
       "      <td>3299.401375</td>\n",
       "    </tr>\n",
       "    <tr>\n",
       "      <th>125</th>\n",
       "      <td>Albania</td>\n",
       "      <td>1990</td>\n",
       "      <td>5327.747458</td>\n",
       "    </tr>\n",
       "    <tr>\n",
       "      <th>159</th>\n",
       "      <td>Algeria</td>\n",
       "      <td>1990</td>\n",
       "      <td>11728.545729</td>\n",
       "    </tr>\n",
       "    <tr>\n",
       "      <th>193</th>\n",
       "      <td>Andorra</td>\n",
       "      <td>1990</td>\n",
       "      <td>50036.300776</td>\n",
       "    </tr>\n",
       "    <tr>\n",
       "      <th>...</th>\n",
       "      <td>...</td>\n",
       "      <td>...</td>\n",
       "      <td>...</td>\n",
       "    </tr>\n",
       "    <tr>\n",
       "      <th>8031</th>\n",
       "      <td>Vanuatu</td>\n",
       "      <td>1990</td>\n",
       "      <td>3101.680551</td>\n",
       "    </tr>\n",
       "    <tr>\n",
       "      <th>8065</th>\n",
       "      <td>Viet Nam</td>\n",
       "      <td>1990</td>\n",
       "      <td>2467.964601</td>\n",
       "    </tr>\n",
       "    <tr>\n",
       "      <th>8150</th>\n",
       "      <td>World</td>\n",
       "      <td>1990</td>\n",
       "      <td>11207.386344</td>\n",
       "    </tr>\n",
       "    <tr>\n",
       "      <th>8184</th>\n",
       "      <td>Zambia</td>\n",
       "      <td>1990</td>\n",
       "      <td>2425.111287</td>\n",
       "    </tr>\n",
       "    <tr>\n",
       "      <th>8218</th>\n",
       "      <td>Zimbabwe</td>\n",
       "      <td>1990</td>\n",
       "      <td>4013.299059</td>\n",
       "    </tr>\n",
       "  </tbody>\n",
       "</table>\n",
       "<p>233 rows × 3 columns</p>\n",
       "</div>"
      ],
      "text/plain": [
       "                          Country  Year  GDP_Per_Capita\n",
       "57    Africa Eastern and Southern  1990     3386.854480\n",
       "91     Africa Western and Central  1990     3299.401375\n",
       "125                       Albania  1990     5327.747458\n",
       "159                       Algeria  1990    11728.545729\n",
       "193                       Andorra  1990    50036.300776\n",
       "...                           ...   ...             ...\n",
       "8031                      Vanuatu  1990     3101.680551\n",
       "8065                     Viet Nam  1990     2467.964601\n",
       "8150                        World  1990    11207.386344\n",
       "8184                       Zambia  1990     2425.111287\n",
       "8218                     Zimbabwe  1990     4013.299059\n",
       "\n",
       "[233 rows x 3 columns]"
      ]
     },
     "execution_count": 89,
     "metadata": {},
     "output_type": "execute_result"
    }
   ],
   "source": [
    "gdp_low"
   ]
  },
  {
   "cell_type": "code",
   "execution_count": null,
   "id": "fc8ec02e-0020-424e-84ef-9c18a6fcc8cb",
   "metadata": {},
   "outputs": [],
   "source": []
  },
  {
   "cell_type": "code",
   "execution_count": null,
   "id": "2c4b427e-fcf5-47a0-b4cc-4602c9b812c4",
   "metadata": {},
   "outputs": [],
   "source": []
  },
  {
   "cell_type": "code",
   "execution_count": null,
   "id": "dd80064b-7995-43eb-bf43-bd0bd9dee0cb",
   "metadata": {},
   "outputs": [],
   "source": []
  },
  {
   "cell_type": "code",
   "execution_count": null,
   "id": "2d871ec8-358a-42b7-b53e-a9b34434ec0f",
   "metadata": {},
   "outputs": [],
   "source": []
  },
  {
   "cell_type": "code",
   "execution_count": null,
   "id": "58c0d1fe-1df3-4294-a772-afefaa8b7cba",
   "metadata": {},
   "outputs": [],
   "source": []
  },
  {
   "cell_type": "code",
   "execution_count": null,
   "id": "d369e75a-8ccd-449a-8b5f-973b29205538",
   "metadata": {},
   "outputs": [],
   "source": []
  },
  {
   "cell_type": "code",
   "execution_count": null,
   "id": "1c87d5d9-2552-41f2-a9a8-3de4326af55a",
   "metadata": {},
   "outputs": [],
   "source": []
  },
  {
   "cell_type": "code",
   "execution_count": null,
   "id": "7a76cbe6-3114-41bc-a5ef-2d7c21d4ef17",
   "metadata": {},
   "outputs": [],
   "source": []
  },
  {
   "cell_type": "code",
   "execution_count": null,
   "id": "f28a2d0a-6332-4be0-97cf-29bae99d449a",
   "metadata": {},
   "outputs": [],
   "source": []
  },
  {
   "cell_type": "code",
   "execution_count": null,
   "id": "96499ed3-bb38-4b95-a77d-9fa9056744fe",
   "metadata": {},
   "outputs": [],
   "source": []
  }
 ],
 "metadata": {
  "kernelspec": {
   "display_name": "Python 3 (ipykernel)",
   "language": "python",
   "name": "python3"
  },
  "language_info": {
   "codemirror_mode": {
    "name": "ipython",
    "version": 3
   },
   "file_extension": ".py",
   "mimetype": "text/x-python",
   "name": "python",
   "nbconvert_exporter": "python",
   "pygments_lexer": "ipython3",
   "version": "3.12.3"
  }
 },
 "nbformat": 4,
 "nbformat_minor": 5
}
