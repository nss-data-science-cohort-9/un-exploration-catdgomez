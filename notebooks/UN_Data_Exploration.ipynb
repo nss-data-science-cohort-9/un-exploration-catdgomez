{
 "cells": [
  {
   "cell_type": "code",
   "execution_count": 1,
   "id": "bf6cef82-0156-4ac9-919f-9dbd2b84517a",
   "metadata": {},
   "outputs": [],
   "source": [
    "import pandas as pd\n",
    "import numpy as np\n",
    "import matplotlib.pyplot as plt\n",
    "import seaborn as sns"
   ]
  },
  {
   "cell_type": "markdown",
   "id": "fa8012a6-8890-416a-be21-92ceefd49180",
   "metadata": {},
   "source": [
    "# An Exploration of UN data\n",
    "------------------\n",
    "-----------------"
   ]
  },
  {
   "cell_type": "markdown",
   "id": "f528cd9b-706a-4b06-9f50-f56b0309cbe0",
   "metadata": {},
   "source": [
    "In this project, you will do some exploratory analysis on two country-level metrics, gross domestic product (GDP) per capita and overall life expectancy. After completing the guided practice section, you will have a chance to find some additional data and do some more exploring."
   ]
  },
  {
   "cell_type": "markdown",
   "id": "0c453983-4c11-4580-a4c0-ae61992db277",
   "metadata": {},
   "source": [
    "## Guided Practice\r",
    "--------------\n",
    "\n"
   ]
  },
  {
   "cell_type": "markdown",
   "id": "d91f57a0-c36a-4145-9b33-ebb2e55e650e",
   "metadata": {
    "jp-MarkdownHeadingCollapsed": true
   },
   "source": [
    "#### 1. Download the Gross Domestic Product (GDP) per capita [dataset](http://data.un.org/Data.aspx?d=WDI&f=Indicator_Code%3aNY.GDP.PCAP.PP.KD).  Rename it to gdp_per_capita.csv and place it in the data folder of your project repository. "
   ]
  },
  {
   "cell_type": "markdown",
   "id": "ccbd1cf1-f600-43bb-815e-85bc63459a23",
   "metadata": {
    "jp-MarkdownHeadingCollapsed": true
   },
   "source": [
    "#### 2. Create a Jupyter Notebook in the notebooks folder and name it UN_Data_Exploration.n."
   ]
  },
  {
   "cell_type": "markdown",
   "id": "272c8c69-c5bf-4596-9381-7b9657b54743",
   "metadata": {},
   "source": [
    "You will get errors along the way. When you do, read the errors to try to understand what was happening and how to correct it. Use markdown cells to record your answers to any questions asked in this exercise.\n"
   ]
  },
  {
   "cell_type": "markdown",
   "id": "93c179df-fbd9-4fcf-b7fc-6c46ffb8a0fd",
   "metadata": {
    "jp-MarkdownHeadingCollapsed": true
   },
   "source": [
    "#### 3. In the first cell of your notebook, import the required packages with their customary aliases as at the very top of this notebook. ^^^^\n",
    "\n",
    "```\n",
    "import pandas as pd\n",
    "import numpy as np\n",
    "import matplotlib.pyplot as plt\n",
    "import seaborn as sns\n",
    "```"
   ]
  },
  {
   "cell_type": "markdown",
   "id": "0773fb6a-1d1e-4d78-bbf2-9aeb961ba620",
   "metadata": {
    "jp-MarkdownHeadingCollapsed": true
   },
   "source": [
    "#### 4. Using the pandas read_csv() function, read the GDP dataset into your notebook as a DataFrame called gdp_df. After reading it in, inspect the first 10 rows and then inspect the last 10 rows."
   ]
  },
  {
   "cell_type": "code",
   "execution_count": 10,
   "id": "99730d30-86df-4c7b-8bbe-d4bb0f77dddc",
   "metadata": {},
   "outputs": [
    {
     "data": {
      "text/html": [
       "<div>\n",
       "<style scoped>\n",
       "    .dataframe tbody tr th:only-of-type {\n",
       "        vertical-align: middle;\n",
       "    }\n",
       "\n",
       "    .dataframe tbody tr th {\n",
       "        vertical-align: top;\n",
       "    }\n",
       "\n",
       "    .dataframe thead th {\n",
       "        text-align: right;\n",
       "    }\n",
       "</style>\n",
       "<table border=\"1\" class=\"dataframe\">\n",
       "  <thead>\n",
       "    <tr style=\"text-align: right;\">\n",
       "      <th></th>\n",
       "      <th>Country or Area</th>\n",
       "      <th>Year</th>\n",
       "      <th>Value</th>\n",
       "      <th>Value Footnotes</th>\n",
       "    </tr>\n",
       "  </thead>\n",
       "  <tbody>\n",
       "    <tr>\n",
       "      <th>0</th>\n",
       "      <td>Afghanistan</td>\n",
       "      <td>2023</td>\n",
       "      <td>1992.424394</td>\n",
       "      <td>NaN</td>\n",
       "    </tr>\n",
       "    <tr>\n",
       "      <th>1</th>\n",
       "      <td>Afghanistan</td>\n",
       "      <td>2022</td>\n",
       "      <td>1981.710168</td>\n",
       "      <td>NaN</td>\n",
       "    </tr>\n",
       "    <tr>\n",
       "      <th>2</th>\n",
       "      <td>Afghanistan</td>\n",
       "      <td>2021</td>\n",
       "      <td>2144.166570</td>\n",
       "      <td>NaN</td>\n",
       "    </tr>\n",
       "    <tr>\n",
       "      <th>3</th>\n",
       "      <td>Afghanistan</td>\n",
       "      <td>2020</td>\n",
       "      <td>2769.685745</td>\n",
       "      <td>NaN</td>\n",
       "    </tr>\n",
       "    <tr>\n",
       "      <th>4</th>\n",
       "      <td>Afghanistan</td>\n",
       "      <td>2019</td>\n",
       "      <td>2927.245144</td>\n",
       "      <td>NaN</td>\n",
       "    </tr>\n",
       "    <tr>\n",
       "      <th>5</th>\n",
       "      <td>Afghanistan</td>\n",
       "      <td>2018</td>\n",
       "      <td>2902.392113</td>\n",
       "      <td>NaN</td>\n",
       "    </tr>\n",
       "    <tr>\n",
       "      <th>6</th>\n",
       "      <td>Afghanistan</td>\n",
       "      <td>2017</td>\n",
       "      <td>2952.998916</td>\n",
       "      <td>NaN</td>\n",
       "    </tr>\n",
       "    <tr>\n",
       "      <th>7</th>\n",
       "      <td>Afghanistan</td>\n",
       "      <td>2016</td>\n",
       "      <td>2958.785399</td>\n",
       "      <td>NaN</td>\n",
       "    </tr>\n",
       "    <tr>\n",
       "      <th>8</th>\n",
       "      <td>Afghanistan</td>\n",
       "      <td>2015</td>\n",
       "      <td>2967.692067</td>\n",
       "      <td>NaN</td>\n",
       "    </tr>\n",
       "    <tr>\n",
       "      <th>9</th>\n",
       "      <td>Afghanistan</td>\n",
       "      <td>2014</td>\n",
       "      <td>3017.942544</td>\n",
       "      <td>NaN</td>\n",
       "    </tr>\n",
       "  </tbody>\n",
       "</table>\n",
       "</div>"
      ],
      "text/plain": [
       "  Country or Area  Year        Value  Value Footnotes\n",
       "0     Afghanistan  2023  1992.424394              NaN\n",
       "1     Afghanistan  2022  1981.710168              NaN\n",
       "2     Afghanistan  2021  2144.166570              NaN\n",
       "3     Afghanistan  2020  2769.685745              NaN\n",
       "4     Afghanistan  2019  2927.245144              NaN\n",
       "5     Afghanistan  2018  2902.392113              NaN\n",
       "6     Afghanistan  2017  2952.998916              NaN\n",
       "7     Afghanistan  2016  2958.785399              NaN\n",
       "8     Afghanistan  2015  2967.692067              NaN\n",
       "9     Afghanistan  2014  3017.942544              NaN"
      ]
     },
     "execution_count": 10,
     "metadata": {},
     "output_type": "execute_result"
    }
   ],
   "source": [
    "gdp_df = pd.read_csv('../data/gdp_per_capita.csv')\n",
    "gdp_df.head(10)"
   ]
  },
  {
   "cell_type": "code",
   "execution_count": 11,
   "id": "90032586-11b4-4902-b39b-354bb896ac51",
   "metadata": {},
   "outputs": [
    {
     "data": {
      "text/html": [
       "<div>\n",
       "<style scoped>\n",
       "    .dataframe tbody tr th:only-of-type {\n",
       "        vertical-align: middle;\n",
       "    }\n",
       "\n",
       "    .dataframe tbody tr th {\n",
       "        vertical-align: top;\n",
       "    }\n",
       "\n",
       "    .dataframe thead th {\n",
       "        text-align: right;\n",
       "    }\n",
       "</style>\n",
       "<table border=\"1\" class=\"dataframe\">\n",
       "  <thead>\n",
       "    <tr style=\"text-align: right;\">\n",
       "      <th></th>\n",
       "      <th>Country or Area</th>\n",
       "      <th>Year</th>\n",
       "      <th>Value</th>\n",
       "      <th>Value Footnotes</th>\n",
       "    </tr>\n",
       "  </thead>\n",
       "  <tbody>\n",
       "    <tr>\n",
       "      <th>8209</th>\n",
       "      <td>Zimbabwe</td>\n",
       "      <td>1999</td>\n",
       "      <td>4238.195198</td>\n",
       "      <td>NaN</td>\n",
       "    </tr>\n",
       "    <tr>\n",
       "      <th>8210</th>\n",
       "      <td>Zimbabwe</td>\n",
       "      <td>1998</td>\n",
       "      <td>4342.858177</td>\n",
       "      <td>NaN</td>\n",
       "    </tr>\n",
       "    <tr>\n",
       "      <th>8211</th>\n",
       "      <td>Zimbabwe</td>\n",
       "      <td>1997</td>\n",
       "      <td>4304.406272</td>\n",
       "      <td>NaN</td>\n",
       "    </tr>\n",
       "    <tr>\n",
       "      <th>8212</th>\n",
       "      <td>Zimbabwe</td>\n",
       "      <td>1996</td>\n",
       "      <td>4271.479930</td>\n",
       "      <td>NaN</td>\n",
       "    </tr>\n",
       "    <tr>\n",
       "      <th>8213</th>\n",
       "      <td>Zimbabwe</td>\n",
       "      <td>1995</td>\n",
       "      <td>3935.280057</td>\n",
       "      <td>NaN</td>\n",
       "    </tr>\n",
       "    <tr>\n",
       "      <th>8214</th>\n",
       "      <td>Zimbabwe</td>\n",
       "      <td>1994</td>\n",
       "      <td>3965.730986</td>\n",
       "      <td>NaN</td>\n",
       "    </tr>\n",
       "    <tr>\n",
       "      <th>8215</th>\n",
       "      <td>Zimbabwe</td>\n",
       "      <td>1993</td>\n",
       "      <td>3634.750494</td>\n",
       "      <td>NaN</td>\n",
       "    </tr>\n",
       "    <tr>\n",
       "      <th>8216</th>\n",
       "      <td>Zimbabwe</td>\n",
       "      <td>1992</td>\n",
       "      <td>3649.891947</td>\n",
       "      <td>NaN</td>\n",
       "    </tr>\n",
       "    <tr>\n",
       "      <th>8217</th>\n",
       "      <td>Zimbabwe</td>\n",
       "      <td>1991</td>\n",
       "      <td>4126.405247</td>\n",
       "      <td>NaN</td>\n",
       "    </tr>\n",
       "    <tr>\n",
       "      <th>8218</th>\n",
       "      <td>Zimbabwe</td>\n",
       "      <td>1990</td>\n",
       "      <td>4013.299059</td>\n",
       "      <td>NaN</td>\n",
       "    </tr>\n",
       "  </tbody>\n",
       "</table>\n",
       "</div>"
      ],
      "text/plain": [
       "     Country or Area  Year        Value  Value Footnotes\n",
       "8209        Zimbabwe  1999  4238.195198              NaN\n",
       "8210        Zimbabwe  1998  4342.858177              NaN\n",
       "8211        Zimbabwe  1997  4304.406272              NaN\n",
       "8212        Zimbabwe  1996  4271.479930              NaN\n",
       "8213        Zimbabwe  1995  3935.280057              NaN\n",
       "8214        Zimbabwe  1994  3965.730986              NaN\n",
       "8215        Zimbabwe  1993  3634.750494              NaN\n",
       "8216        Zimbabwe  1992  3649.891947              NaN\n",
       "8217        Zimbabwe  1991  4126.405247              NaN\n",
       "8218        Zimbabwe  1990  4013.299059              NaN"
      ]
     },
     "execution_count": 11,
     "metadata": {},
     "output_type": "execute_result"
    }
   ],
   "source": [
    "gdp_df.tail(10)"
   ]
  },
  {
   "cell_type": "markdown",
   "id": "e1b2ea9d-ff51-4725-8bda-42677fba122b",
   "metadata": {
    "jp-MarkdownHeadingCollapsed": true
   },
   "source": [
    "#### 5. Drop the 'Value Footnotes' column, and rename the remaining columns to 'Country', 'Year', and 'GDP_Per_Capita'."
   ]
  },
  {
   "cell_type": "code",
   "execution_count": 13,
   "id": "772cca60-9ccb-4a28-9a6b-ba690458e9bb",
   "metadata": {},
   "outputs": [],
   "source": [
    "gdp_df= gdp_df.drop('Value Footnotes', axis=1).rename(columns={'Country or Area':'Country', 'Value': 'GDP_Per_Capita'})"
   ]
  },
  {
   "cell_type": "markdown",
   "id": "acceea47-641b-4dd1-a79d-e6371549cfb9",
   "metadata": {
    "jp-MarkdownHeadingCollapsed": true
   },
   "source": [
    "#### 6. How many rows and columns does gdp_df have? What are the data types of its columns? If any of the columns are not the expected types, figure out why and fix it."
   ]
  },
  {
   "cell_type": "code",
   "execution_count": 15,
   "id": "47bcb16e-60a5-4a05-b7f8-3ba06643b834",
   "metadata": {},
   "outputs": [
    {
     "name": "stdout",
     "output_type": "stream",
     "text": [
      "The dataframe gdp_df has 8219 rows and 3 columns.\n"
     ]
    }
   ],
   "source": [
    "rows = gdp_df.shape[0]\n",
    "columns = gdp_df.shape[1]\n",
    "print(f'The dataframe gdp_df has {rows} rows and {columns} columns.')"
   ]
  },
  {
   "cell_type": "markdown",
   "id": "801cb01a-bb32-43bc-98e3-477852f10e52",
   "metadata": {},
   "source": [
    "The following line of code reveals the data types of each column in gdp_df:"
   ]
  },
  {
   "cell_type": "code",
   "execution_count": 17,
   "id": "ca2a1d87-7198-49f6-b549-f661979294cc",
   "metadata": {},
   "outputs": [
    {
     "data": {
      "text/plain": [
       "Country            object\n",
       "Year                int64\n",
       "GDP_Per_Capita    float64\n",
       "dtype: object"
      ]
     },
     "execution_count": 17,
     "metadata": {},
     "output_type": "execute_result"
    }
   ],
   "source": [
    "gdp_df.dtypes"
   ]
  },
  {
   "cell_type": "code",
   "execution_count": 18,
   "id": "097a0088-f31b-4e1e-85d0-f5ab484a2aa6",
   "metadata": {},
   "outputs": [
    {
     "data": {
      "text/plain": [
       "array(['Afghanistan', 'Africa Eastern and Southern',\n",
       "       'Africa Western and Central', 'Albania', 'Algeria', 'Andorra',\n",
       "       'Angola', 'Antigua and Barbuda', 'Arab World', 'Argentina',\n",
       "       'Armenia', 'Aruba', 'Australia', 'Austria', 'Azerbaijan',\n",
       "       'Bahrain', 'Bangladesh', 'Barbados', 'Belarus', 'Belgium',\n",
       "       'Belize', 'Benin', 'Bermuda', 'Bhutan', 'Bolivia',\n",
       "       'Bosnia and Herzegovina', 'Botswana', 'Brazil', 'Brunei',\n",
       "       'Bulgaria', 'Burkina Faso', 'Burundi', \"CÃ´te d'Ivoire\",\n",
       "       'Cabo Verde', 'Cambodia', 'Cameroon', 'Canada',\n",
       "       'Caribbean small states', 'Cayman Islands',\n",
       "       'Central African Republic', 'Central Europe and the Baltics',\n",
       "       'Chad', 'Chile', 'China', 'Colombia', 'Comoros', 'Congo',\n",
       "       'Costa Rica', 'Croatia', 'CuraÃ§ao', 'Cyprus', 'Czechia',\n",
       "       'Dem. Rep. Congo', 'Denmark', 'Djibouti', 'Dominica',\n",
       "       'Dominican Republic', 'Early-demographic dividend',\n",
       "       'East Asia & Pacific',\n",
       "       'East Asia & Pacific (excluding high income)',\n",
       "       'East Asia & Pacific (IDA & IBRD)', 'Ecuador', 'Egypt',\n",
       "       'El Salvador', 'Equatorial Guinea', 'Estonia', 'Eswatini',\n",
       "       'Ethiopia', 'Euro area', 'Europe & Central Asia',\n",
       "       'Europe & Central Asia (excluding high income)',\n",
       "       'Europe & Central Asia (IDA & IBRD)', 'European Union',\n",
       "       'Faroe Islands', 'Fiji', 'Finland',\n",
       "       'Fragile and conflict affected situations', 'France', 'Gabon',\n",
       "       'Georgia', 'Germany', 'Ghana', 'Greece', 'Greenland', 'Grenada',\n",
       "       'Guatemala', 'Guinea', 'Guinea-Bissau', 'Guyana', 'Haiti',\n",
       "       'Heavily indebted poor countries (HIPC)', 'High income',\n",
       "       'Honduras', 'Hong Kong SAR, China', 'Hungary', 'IBRD only',\n",
       "       'Iceland', 'IDA & IBRD total', 'IDA blend', 'IDA only',\n",
       "       'IDA total', 'India', 'Indonesia', 'Iran', 'Iraq', 'Ireland',\n",
       "       'Israel', 'Italy', 'Jamaica', 'Japan', 'Jordan', 'Kazakhstan',\n",
       "       'Kenya', 'Kiribati', 'Korea', 'Kosovo', 'Kuwait',\n",
       "       'Kyrgyz Republic', 'Lao PDR', 'Late-demographic dividend',\n",
       "       'Latin America & Caribbean',\n",
       "       'Latin America & Caribbean (excluding high income)',\n",
       "       'Latin America & Caribbean (IDA & IBRD)', 'Latvia',\n",
       "       'Least developed countries: UN classification', 'Lebanon',\n",
       "       'Lesotho', 'Liberia', 'Libya', 'Lithuania', 'Low & middle income',\n",
       "       'Low income', 'Lower middle income', 'Luxembourg',\n",
       "       'Macao SAR, China', 'Madagascar', 'Malawi', 'Malaysia', 'Maldives',\n",
       "       'Mali', 'Malta', 'Marshall Islands', 'Mauritania', 'Mauritius',\n",
       "       'Mexico', 'Micronesia', 'Middle East & North Africa',\n",
       "       'Middle East & North Africa (excluding high income)',\n",
       "       'Middle East & North Africa (IDA & IBRD)', 'Middle income',\n",
       "       'Moldova', 'Mongolia', 'Montenegro', 'Morocco', 'Mozambique',\n",
       "       'Myanmar', 'Namibia', 'Nauru', 'Nepal', 'Netherlands',\n",
       "       'New Zealand', 'Nicaragua', 'Niger', 'Nigeria', 'North America',\n",
       "       'North Macedonia', 'Norway', 'OECD members', 'Oman',\n",
       "       'Other small states', 'Pacific island small states', 'Pakistan',\n",
       "       'Palau', 'Panama', 'Papua New Guinea', 'Paraguay', 'Peru',\n",
       "       'Philippines', 'Poland', 'Portugal', 'Post-demographic dividend',\n",
       "       'Pre-demographic dividend', 'Puerto Rico', 'Qatar', 'Romania',\n",
       "       'Russia', 'Rwanda', 'SÃ£o TomÃ© and Principe', 'Samoa',\n",
       "       'San Marino', 'Saudi Arabia', 'Senegal', 'Serbia', 'Seychelles',\n",
       "       'Sierra Leone', 'Singapore', 'Sint Maarten (Dutch part)',\n",
       "       'Slovak Republic', 'Slovenia', 'Small states', 'Solomon Islands',\n",
       "       'Somalia', 'South Africa', 'South Asia', 'South Asia (IDA & IBRD)',\n",
       "       'Spain', 'Sri Lanka', 'St. Kitts and Nevis', 'St. Lucia',\n",
       "       'St. Vincent and the Grenadines', 'Sub-Saharan Africa',\n",
       "       'Sub-Saharan Africa (excluding high income)',\n",
       "       'Sub-Saharan Africa (IDA & IBRD)', 'Sudan', 'Suriname', 'Sweden',\n",
       "       'Switzerland', 'Syrian Arab Republic', 'TÃ¼rkiye', 'Tajikistan',\n",
       "       'Tanzania', 'Thailand', 'The Bahamas', 'The Gambia', 'Timor-Leste',\n",
       "       'Togo', 'Tonga', 'Trinidad and Tobago', 'Tunisia', 'Turkmenistan',\n",
       "       'Turks and Caicos Islands', 'Tuvalu', 'Uganda', 'Ukraine',\n",
       "       'United Arab Emirates', 'United Kingdom', 'United States',\n",
       "       'Upper middle income', 'Uruguay', 'Uzbekistan', 'Vanuatu',\n",
       "       'Viet Nam', 'Virgin Islands', 'West Bank and Gaza', 'World',\n",
       "       'Zambia', 'Zimbabwe'], dtype=object)"
      ]
     },
     "execution_count": 18,
     "metadata": {},
     "output_type": "execute_result"
    }
   ],
   "source": [
    "gdp_df['Country'].unique()"
   ]
  },
  {
   "cell_type": "code",
   "execution_count": 19,
   "id": "8b1386eb-1e97-4bc9-ade5-5bdebb882aed",
   "metadata": {},
   "outputs": [],
   "source": [
    "gdp_df['Country'] = gdp_df['Country'].astype('string')"
   ]
  },
  {
   "cell_type": "code",
   "execution_count": 20,
   "id": "7f76710e-dc67-445f-a610-c205cb985779",
   "metadata": {},
   "outputs": [
    {
     "data": {
      "text/plain": [
       "Country           string[python]\n",
       "Year                       int64\n",
       "GDP_Per_Capita           float64\n",
       "dtype: object"
      ]
     },
     "execution_count": 20,
     "metadata": {},
     "output_type": "execute_result"
    }
   ],
   "source": [
    "gdp_df.dtypes"
   ]
  },
  {
   "cell_type": "code",
   "execution_count": 21,
   "id": "3051c623-f308-43d6-90ea-003d55af9169",
   "metadata": {},
   "outputs": [
    {
     "name": "stdout",
     "output_type": "stream",
     "text": [
      "<class 'pandas.core.frame.DataFrame'>\n",
      "RangeIndex: 8219 entries, 0 to 8218\n",
      "Data columns (total 3 columns):\n",
      " #   Column          Non-Null Count  Dtype  \n",
      "---  ------          --------------  -----  \n",
      " 0   Country         8219 non-null   string \n",
      " 1   Year            8219 non-null   int64  \n",
      " 2   GDP_Per_Capita  8219 non-null   float64\n",
      "dtypes: float64(1), int64(1), string(1)\n",
      "memory usage: 192.8 KB\n"
     ]
    }
   ],
   "source": [
    "gdp_df.info()"
   ]
  },
  {
   "cell_type": "markdown",
   "id": "c71de285-3df7-45ac-90bb-b3c8e089c53d",
   "metadata": {
    "jp-MarkdownHeadingCollapsed": true
   },
   "source": [
    "#### 7. Which years are represented in this dataset? Take a look at the number of observations per year. What do you notice?\r\n"
   ]
  },
  {
   "cell_type": "markdown",
   "id": "b8985615-3bc3-4917-a1fe-ab3234c187de",
   "metadata": {},
   "source": [
    "I notice that the further into the past the date is, the fewer instances of that year are located in the Year column. "
   ]
  },
  {
   "cell_type": "code",
   "execution_count": 24,
   "id": "af3bc977-96bd-45f1-b8ee-dc0302258b5d",
   "metadata": {},
   "outputs": [
    {
     "data": {
      "text/plain": [
       "Year\n",
       "2021    247\n",
       "2020    247\n",
       "2019    247\n",
       "2018    247\n",
       "2017    247\n",
       "2016    247\n",
       "2015    247\n",
       "2014    247\n",
       "2013    247\n",
       "2012    246\n",
       "2022    246\n",
       "2011    246\n",
       "2010    245\n",
       "2009    245\n",
       "2008    244\n",
       "2007    242\n",
       "2006    242\n",
       "2005    241\n",
       "2004    241\n",
       "2003    241\n",
       "2002    241\n",
       "2000    240\n",
       "2023    240\n",
       "2001    240\n",
       "1999    238\n",
       "1998    238\n",
       "1997    238\n",
       "1996    236\n",
       "1995    236\n",
       "1994    235\n",
       "1993    234\n",
       "1992    234\n",
       "1991    234\n",
       "1990    233\n",
       "Name: count, dtype: int64"
      ]
     },
     "execution_count": 24,
     "metadata": {},
     "output_type": "execute_result"
    }
   ],
   "source": [
    "gdp_df['Year'].value_counts()"
   ]
  },
  {
   "cell_type": "code",
   "execution_count": 25,
   "id": "01188266-ee27-4919-be22-a6991942faac",
   "metadata": {},
   "outputs": [],
   "source": [
    "hmm = gdp_df.groupby('Country')['GDP_Per_Capita'].count().sort_values()"
   ]
  },
  {
   "cell_type": "code",
   "execution_count": 26,
   "id": "e1ca323c-6eb7-4cff-aa92-2e4206f80b50",
   "metadata": {},
   "outputs": [
    {
     "data": {
      "text/plain": [
       "Country\n",
       "Djibouti                     11\n",
       "Turks and Caicos Islands     13\n",
       "Sint Maarten (Dutch part)    15\n",
       "Faroe Islands                16\n",
       "Kosovo                       16\n",
       "Cayman Islands               18\n",
       "Virgin Islands               21\n",
       "CuraÃ§ao                     24\n",
       "Afghanistan                  24\n",
       "San Marino                   26\n",
       "Montenegro                   27\n",
       "Serbia                       29\n",
       "West Bank and Gaza           30\n",
       "Greenland                    32\n",
       "Syrian Arab Republic         33\n",
       "Somalia                      33\n",
       "Tonga                        33\n",
       "Bhutan                       33\n",
       "Lebanon                      33\n",
       "Name: GDP_Per_Capita, dtype: int64"
      ]
     },
     "execution_count": 26,
     "metadata": {},
     "output_type": "execute_result"
    }
   ],
   "source": [
    "hmm[hmm < 34]"
   ]
  },
  {
   "cell_type": "code",
   "execution_count": 27,
   "id": "a2a031e8-057b-421c-bf59-6a7b3ce7d23a",
   "metadata": {},
   "outputs": [
    {
     "data": {
      "text/plain": [
       "Country\n",
       "Djibouti                     11\n",
       "Turks and Caicos Islands     13\n",
       "Sint Maarten (Dutch part)    15\n",
       "Faroe Islands                16\n",
       "Kosovo                       16\n",
       "Cayman Islands               18\n",
       "Virgin Islands               21\n",
       "CuraÃ§ao                     24\n",
       "Afghanistan                  24\n",
       "San Marino                   26\n",
       "Name: GDP_Per_Capita, dtype: int64"
      ]
     },
     "execution_count": 27,
     "metadata": {},
     "output_type": "execute_result"
    }
   ],
   "source": [
    "hmm.nsmallest(n=10, keep='all')"
   ]
  },
  {
   "cell_type": "markdown",
   "id": "8c9ccf36-412f-4326-846e-091e1768da30",
   "metadata": {
    "jp-MarkdownHeadingCollapsed": true
   },
   "source": [
    "#### 8. How many countries are represented in this dataset? Which countries are least represented in the dataset? Why do you think these countries have so few observations?"
   ]
  },
  {
   "cell_type": "code",
   "execution_count": 29,
   "id": "e54c08eb-acc3-41e7-b0f8-062c622b2f1b",
   "metadata": {},
   "outputs": [
    {
     "name": "stdout",
     "output_type": "stream",
     "text": [
      "There are 247 countries represented in the dataset.\n"
     ]
    }
   ],
   "source": [
    "num_countries = gdp_df['Country'].nunique()\n",
    "print(f'There are {num_countries} countries represented in the dataset.')"
   ]
  },
  {
   "cell_type": "markdown",
   "id": "b23a467c-1989-4884-9cf9-c38c1541b1ce",
   "metadata": {},
   "source": [
    "The following line of code will display the 12 least represented countries in the dataset. "
   ]
  },
  {
   "cell_type": "code",
   "execution_count": 31,
   "id": "a6c15ff8-de5c-4e22-9cc7-1e08019132fa",
   "metadata": {},
   "outputs": [
    {
     "data": {
      "text/plain": [
       "Country\n",
       "Serbia                       29\n",
       "Montenegro                   27\n",
       "San Marino                   26\n",
       "CuraÃ§ao                     24\n",
       "Afghanistan                  24\n",
       "Virgin Islands               21\n",
       "Cayman Islands               18\n",
       "Faroe Islands                16\n",
       "Kosovo                       16\n",
       "Sint Maarten (Dutch part)    15\n",
       "Turks and Caicos Islands     13\n",
       "Djibouti                     11\n",
       "Name: count, dtype: Int64"
      ]
     },
     "execution_count": 31,
     "metadata": {},
     "output_type": "execute_result"
    }
   ],
   "source": [
    "gdp_df['Country'].value_counts().tail(12)"
   ]
  },
  {
   "cell_type": "markdown",
   "id": "716a1ee2-26bc-40b8-bd1d-2feb70d8ac20",
   "metadata": {},
   "source": [
    "Perhaps these countries have so few observations due to these countries being more newly formed, or not having the resources to collect the necessary data."
   ]
  },
  {
   "cell_type": "code",
   "execution_count": 33,
   "id": "6cf50ca6-72d4-43a9-82fa-b28587e9ee83",
   "metadata": {},
   "outputs": [
    {
     "data": {
      "text/plain": [
       "<StringArray>\n",
       "[                'Afghanistan', 'Africa Eastern and Southern',\n",
       "  'Africa Western and Central',                     'Albania',\n",
       "                     'Algeria',                     'Andorra',\n",
       "                      'Angola',         'Antigua and Barbuda',\n",
       "                  'Arab World',                   'Argentina',\n",
       " ...\n",
       "         'Upper middle income',                     'Uruguay',\n",
       "                  'Uzbekistan',                     'Vanuatu',\n",
       "                    'Viet Nam',              'Virgin Islands',\n",
       "          'West Bank and Gaza',                       'World',\n",
       "                      'Zambia',                    'Zimbabwe']\n",
       "Length: 247, dtype: string"
      ]
     },
     "execution_count": 33,
     "metadata": {},
     "output_type": "execute_result"
    }
   ],
   "source": [
    "gdp_df['Country'].unique() "
   ]
  },
  {
   "cell_type": "markdown",
   "id": "54ca00c5-b775-4ec3-864b-03ed51f6a45c",
   "metadata": {
    "jp-MarkdownHeadingCollapsed": true
   },
   "source": [
    "#### 9. Create a new dataframe by subsetting gdp_df to just the year 2021. Call this new dataframe gdp_2021."
   ]
  },
  {
   "cell_type": "code",
   "execution_count": 35,
   "id": "81781131-f6f4-41dd-a62a-d1f3efcbd9bb",
   "metadata": {},
   "outputs": [],
   "source": [
    "gdp_2021 = gdp_df[gdp_df['Year'] == 2021]"
   ]
  },
  {
   "cell_type": "code",
   "execution_count": 36,
   "id": "a9ea1b76-066a-4140-ba7a-56da8c282c09",
   "metadata": {},
   "outputs": [
    {
     "data": {
      "text/html": [
       "<div>\n",
       "<style scoped>\n",
       "    .dataframe tbody tr th:only-of-type {\n",
       "        vertical-align: middle;\n",
       "    }\n",
       "\n",
       "    .dataframe tbody tr th {\n",
       "        vertical-align: top;\n",
       "    }\n",
       "\n",
       "    .dataframe thead th {\n",
       "        text-align: right;\n",
       "    }\n",
       "</style>\n",
       "<table border=\"1\" class=\"dataframe\">\n",
       "  <thead>\n",
       "    <tr style=\"text-align: right;\">\n",
       "      <th></th>\n",
       "      <th>Country</th>\n",
       "      <th>Year</th>\n",
       "      <th>GDP_Per_Capita</th>\n",
       "    </tr>\n",
       "  </thead>\n",
       "  <tbody>\n",
       "    <tr>\n",
       "      <th>2</th>\n",
       "      <td>Afghanistan</td>\n",
       "      <td>2021</td>\n",
       "      <td>2144.166570</td>\n",
       "    </tr>\n",
       "    <tr>\n",
       "      <th>26</th>\n",
       "      <td>Africa Eastern and Southern</td>\n",
       "      <td>2021</td>\n",
       "      <td>3934.287267</td>\n",
       "    </tr>\n",
       "  </tbody>\n",
       "</table>\n",
       "</div>"
      ],
      "text/plain": [
       "                        Country  Year  GDP_Per_Capita\n",
       "2                   Afghanistan  2021     2144.166570\n",
       "26  Africa Eastern and Southern  2021     3934.287267"
      ]
     },
     "execution_count": 36,
     "metadata": {},
     "output_type": "execute_result"
    }
   ],
   "source": [
    "gdp_2021.head(2)"
   ]
  },
  {
   "cell_type": "markdown",
   "id": "9e12af7a-94a7-445a-9988-8476e2af2046",
   "metadata": {
    "jp-MarkdownHeadingCollapsed": true
   },
   "source": [
    "#### 10. Use .describe() to find the summary statistics for GDP per capita in 2021."
   ]
  },
  {
   "cell_type": "code",
   "execution_count": 38,
   "id": "aead8369-49fa-4b86-95e2-709050b4bef5",
   "metadata": {},
   "outputs": [
    {
     "data": {
      "text/plain": [
       "count       247.000000\n",
       "mean      24478.517262\n",
       "std       24601.525764\n",
       "min         836.665571\n",
       "25%        5996.532844\n",
       "50%       15900.976581\n",
       "75%       37298.776853\n",
       "max      135379.291201\n",
       "Name: GDP_Per_Capita, dtype: float64"
      ]
     },
     "execution_count": 38,
     "metadata": {},
     "output_type": "execute_result"
    }
   ],
   "source": [
    "gdp_2021['GDP_Per_Capita'].describe()"
   ]
  },
  {
   "cell_type": "markdown",
   "id": "a71f5481-fac3-4905-b7f4-34850b1f587d",
   "metadata": {
    "jp-MarkdownHeadingCollapsed": true
   },
   "source": [
    "#### 11. Create a histogram of GDP Per Capita numbers for 2021 (you may wish to adjust the number of bins for your histogram). How would you describe the shape of the distribution?"
   ]
  },
  {
   "cell_type": "markdown",
   "id": "c322ca5c-9dca-468c-89ce-c23b2493955c",
   "metadata": {},
   "source": [
    "The shape of the distribution is right skewed."
   ]
  },
  {
   "cell_type": "code",
   "execution_count": 41,
   "id": "1bf26fa7-ce38-421d-8fb4-028c24ee1a40",
   "metadata": {},
   "outputs": [
    {
     "data": {
      "text/plain": [
       "<Axes: >"
      ]
     },
     "execution_count": 41,
     "metadata": {},
     "output_type": "execute_result"
    },
    {
     "data": {
      "image/png": "[encoded data removed]",
      "text/plain": [
       "<Figure size 640x480 with 1 Axes>"
      ]
     },
     "metadata": {},
     "output_type": "display_data"
    }
   ],
   "source": [
    "gdp_2021['GDP_Per_Capita'].hist(bins = 20)"
   ]
  },
  {
   "cell_type": "code",
   "execution_count": 42,
   "id": "880b9be1-410a-413a-98eb-4f20e5402b93",
   "metadata": {},
   "outputs": [
    {
     "data": {
      "image/png": "[encoded data removed]",
      "text/plain": [
       "<Figure size 640x480 with 1 Axes>"
      ]
     },
     "metadata": {},
     "output_type": "display_data"
    }
   ],
   "source": [
    "gdp_2021['GDP_Per_Capita'].plot(kind='hist', bins = 20);"
   ]
  },
  {
   "cell_type": "code",
   "execution_count": 43,
   "id": "b8cb0f1b-0805-4483-aaa6-d472878f2c37",
   "metadata": {},
   "outputs": [
    {
     "name": "stdout",
     "output_type": "stream",
     "text": [
      "The highest value in the GDP_Per_Capita column is: 135379.29120102368.\n"
     ]
    }
   ],
   "source": [
    "print(f'The highest value in the GDP_Per_Capita column is: {gdp_2021['GDP_Per_Capita'].max()}.')"
   ]
  },
  {
   "cell_type": "code",
   "execution_count": 44,
   "id": "91018726-b2e5-4332-8b87-3726508b3147",
   "metadata": {},
   "outputs": [
    {
     "name": "stdout",
     "output_type": "stream",
     "text": [
      "While the lowest value in the GDP_Per_Capita column is: 836.6655713378286.\n"
     ]
    }
   ],
   "source": [
    "print(f'While the lowest value in the GDP_Per_Capita column is: {gdp_2021['GDP_Per_Capita'].min()}.')"
   ]
  },
  {
   "cell_type": "markdown",
   "id": "09ce4733-b0d4-49da-a439-7fa144b441f3",
   "metadata": {
    "jp-MarkdownHeadingCollapsed": true
   },
   "source": [
    "#### 12. Find the top 5 counties and bottom 5 countries by GDP per capita in 2021.'"
   ]
  },
  {
   "cell_type": "code",
   "execution_count": 46,
   "id": "cbbe2b1b-892e-47d6-a0bd-b0edc52ed727",
   "metadata": {},
   "outputs": [
    {
     "name": "stdout",
     "output_type": "stream",
     "text": [
      "Luxembourg is number 1 on the list of top 5 countries by GDP per capita in 2021.\n",
      "Singapore is number 2 on the list of top 5 countries by GDP per capita in 2021.\n",
      "Ireland is number 3 on the list of top 5 countries by GDP per capita in 2021.\n",
      "Qatar is number 4 on the list of top 5 countries by GDP per capita in 2021.\n",
      "Bermuda is number 5 on the list of top 5 countries by GDP per capita in 2021.\n"
     ]
    }
   ],
   "source": [
    "s = gdp_2021.sort_values('GDP_Per_Capita', ascending=False)['Country'].head()\n",
    "for i, el in enumerate(s.to_numpy()):\n",
    "     print(f'{el} is number {i+1} on the list of top 5 countries by GDP per capita in 2021.')"
   ]
  },
  {
   "cell_type": "code",
   "execution_count": 47,
   "id": "fcf908ce-54fa-4d7a-a656-41ea2623c017",
   "metadata": {},
   "outputs": [
    {
     "name": "stdout",
     "output_type": "stream",
     "text": [
      "Mozambique is number 1 on the list of bottom 5 countries by GDP per capita in 2021.\n",
      "Somalia is number 2 on the list of bottom 5 countries by GDP per capita in 2021.\n",
      "Dem. Rep. Congo is number 3 on the list of bottom 5 countries by GDP per capita in 2021.\n",
      "Central African Republic is number 4 on the list of bottom 5 countries by GDP per capita in 2021.\n",
      "Burundi is number 5 on the list of bottom 5 countries by GDP per capita in 2021.\n"
     ]
    }
   ],
   "source": [
    "s = gdp_2021.sort_values('GDP_Per_Capita', ascending=False)['Country'].tail()\n",
    "for i, el in enumerate(s.to_numpy()):\n",
    "     print(f'{el} is number {i+1} on the list of bottom 5 countries by GDP per capita in 2021.')"
   ]
  },
  {
   "cell_type": "code",
   "execution_count": 48,
   "id": "b5c1f3dd-9cf7-4bc7-86e7-323e5e5a0efd",
   "metadata": {},
   "outputs": [
    {
     "data": {
      "text/html": [
       "<div>\n",
       "<style scoped>\n",
       "    .dataframe tbody tr th:only-of-type {\n",
       "        vertical-align: middle;\n",
       "    }\n",
       "\n",
       "    .dataframe tbody tr th {\n",
       "        vertical-align: top;\n",
       "    }\n",
       "\n",
       "    .dataframe thead th {\n",
       "        text-align: right;\n",
       "    }\n",
       "</style>\n",
       "<table border=\"1\" class=\"dataframe\">\n",
       "  <thead>\n",
       "    <tr style=\"text-align: right;\">\n",
       "      <th></th>\n",
       "      <th>Country</th>\n",
       "      <th>Year</th>\n",
       "      <th>GDP_Per_Capita</th>\n",
       "    </tr>\n",
       "  </thead>\n",
       "  <tbody>\n",
       "    <tr>\n",
       "      <th>4425</th>\n",
       "      <td>Luxembourg</td>\n",
       "      <td>2021</td>\n",
       "      <td>135379.291201</td>\n",
       "    </tr>\n",
       "    <tr>\n",
       "      <th>6513</th>\n",
       "      <td>Singapore</td>\n",
       "      <td>2021</td>\n",
       "      <td>131864.092336</td>\n",
       "    </tr>\n",
       "    <tr>\n",
       "      <th>3492</th>\n",
       "      <td>Ireland</td>\n",
       "      <td>2021</td>\n",
       "      <td>118594.746862</td>\n",
       "    </tr>\n",
       "    <tr>\n",
       "      <th>6118</th>\n",
       "      <td>Qatar</td>\n",
       "      <td>2021</td>\n",
       "      <td>116832.570290</td>\n",
       "    </tr>\n",
       "    <tr>\n",
       "      <th>740</th>\n",
       "      <td>Bermuda</td>\n",
       "      <td>2021</td>\n",
       "      <td>92276.234605</td>\n",
       "    </tr>\n",
       "    <tr>\n",
       "      <th>...</th>\n",
       "      <td>...</td>\n",
       "      <td>...</td>\n",
       "      <td>...</td>\n",
       "    </tr>\n",
       "    <tr>\n",
       "      <th>5132</th>\n",
       "      <td>Mozambique</td>\n",
       "      <td>2021</td>\n",
       "      <td>1457.235409</td>\n",
       "    </tr>\n",
       "    <tr>\n",
       "      <th>6698</th>\n",
       "      <td>Somalia</td>\n",
       "      <td>2021</td>\n",
       "      <td>1392.464262</td>\n",
       "    </tr>\n",
       "    <tr>\n",
       "      <th>1733</th>\n",
       "      <td>Dem. Rep. Congo</td>\n",
       "      <td>2021</td>\n",
       "      <td>1313.618218</td>\n",
       "    </tr>\n",
       "    <tr>\n",
       "      <th>1301</th>\n",
       "      <td>Central African Republic</td>\n",
       "      <td>2021</td>\n",
       "      <td>1128.552380</td>\n",
       "    </tr>\n",
       "    <tr>\n",
       "      <th>1045</th>\n",
       "      <td>Burundi</td>\n",
       "      <td>2021</td>\n",
       "      <td>836.665571</td>\n",
       "    </tr>\n",
       "  </tbody>\n",
       "</table>\n",
       "<p>247 rows × 3 columns</p>\n",
       "</div>"
      ],
      "text/plain": [
       "                       Country  Year  GDP_Per_Capita\n",
       "4425                Luxembourg  2021   135379.291201\n",
       "6513                 Singapore  2021   131864.092336\n",
       "3492                   Ireland  2021   118594.746862\n",
       "6118                     Qatar  2021   116832.570290\n",
       "740                    Bermuda  2021    92276.234605\n",
       "...                        ...   ...             ...\n",
       "5132                Mozambique  2021     1457.235409\n",
       "6698                   Somalia  2021     1392.464262\n",
       "1733           Dem. Rep. Congo  2021     1313.618218\n",
       "1301  Central African Republic  2021     1128.552380\n",
       "1045                   Burundi  2021      836.665571\n",
       "\n",
       "[247 rows x 3 columns]"
      ]
     },
     "execution_count": 48,
     "metadata": {},
     "output_type": "execute_result"
    }
   ],
   "source": [
    "gdp_2021.sort_values('GDP_Per_Capita', ascending=False) # another way of demonstrating the same thing"
   ]
  },
  {
   "cell_type": "code",
   "execution_count": 49,
   "id": "2152a551-aba7-48b1-8266-1063fb3f10a9",
   "metadata": {},
   "outputs": [
    {
     "data": {
      "text/html": [
       "<div>\n",
       "<style scoped>\n",
       "    .dataframe tbody tr th:only-of-type {\n",
       "        vertical-align: middle;\n",
       "    }\n",
       "\n",
       "    .dataframe tbody tr th {\n",
       "        vertical-align: top;\n",
       "    }\n",
       "\n",
       "    .dataframe thead th {\n",
       "        text-align: right;\n",
       "    }\n",
       "</style>\n",
       "<table border=\"1\" class=\"dataframe\">\n",
       "  <thead>\n",
       "    <tr style=\"text-align: right;\">\n",
       "      <th></th>\n",
       "      <th>Country</th>\n",
       "      <th>Year</th>\n",
       "      <th>GDP_Per_Capita</th>\n",
       "    </tr>\n",
       "  </thead>\n",
       "  <tbody>\n",
       "    <tr>\n",
       "      <th>1045</th>\n",
       "      <td>Burundi</td>\n",
       "      <td>2021</td>\n",
       "      <td>836.665571</td>\n",
       "    </tr>\n",
       "    <tr>\n",
       "      <th>1301</th>\n",
       "      <td>Central African Republic</td>\n",
       "      <td>2021</td>\n",
       "      <td>1128.552380</td>\n",
       "    </tr>\n",
       "    <tr>\n",
       "      <th>1733</th>\n",
       "      <td>Dem. Rep. Congo</td>\n",
       "      <td>2021</td>\n",
       "      <td>1313.618218</td>\n",
       "    </tr>\n",
       "    <tr>\n",
       "      <th>6698</th>\n",
       "      <td>Somalia</td>\n",
       "      <td>2021</td>\n",
       "      <td>1392.464262</td>\n",
       "    </tr>\n",
       "    <tr>\n",
       "      <th>5132</th>\n",
       "      <td>Mozambique</td>\n",
       "      <td>2021</td>\n",
       "      <td>1457.235409</td>\n",
       "    </tr>\n",
       "  </tbody>\n",
       "</table>\n",
       "</div>"
      ],
      "text/plain": [
       "                       Country  Year  GDP_Per_Capita\n",
       "1045                   Burundi  2021      836.665571\n",
       "1301  Central African Republic  2021     1128.552380\n",
       "1733           Dem. Rep. Congo  2021     1313.618218\n",
       "6698                   Somalia  2021     1392.464262\n",
       "5132                Mozambique  2021     1457.235409"
      ]
     },
     "execution_count": 49,
     "metadata": {},
     "output_type": "execute_result"
    }
   ],
   "source": [
    "gdp_2021.nsmallest(5, \"GDP_Per_Capita\", keep='all')  # another way of demonstrating the same thing"
   ]
  },
  {
   "cell_type": "code",
   "execution_count": 50,
   "id": "fbeda248-8034-419f-a42d-e490d53e6df8",
   "metadata": {},
   "outputs": [
    {
     "data": {
      "text/html": [
       "<div>\n",
       "<style scoped>\n",
       "    .dataframe tbody tr th:only-of-type {\n",
       "        vertical-align: middle;\n",
       "    }\n",
       "\n",
       "    .dataframe tbody tr th {\n",
       "        vertical-align: top;\n",
       "    }\n",
       "\n",
       "    .dataframe thead th {\n",
       "        text-align: right;\n",
       "    }\n",
       "</style>\n",
       "<table border=\"1\" class=\"dataframe\">\n",
       "  <thead>\n",
       "    <tr style=\"text-align: right;\">\n",
       "      <th></th>\n",
       "      <th>Country</th>\n",
       "      <th>Year</th>\n",
       "      <th>GDP_Per_Capita</th>\n",
       "    </tr>\n",
       "  </thead>\n",
       "  <tbody>\n",
       "    <tr>\n",
       "      <th>4425</th>\n",
       "      <td>Luxembourg</td>\n",
       "      <td>2021</td>\n",
       "      <td>135379.291201</td>\n",
       "    </tr>\n",
       "    <tr>\n",
       "      <th>6513</th>\n",
       "      <td>Singapore</td>\n",
       "      <td>2021</td>\n",
       "      <td>131864.092336</td>\n",
       "    </tr>\n",
       "    <tr>\n",
       "      <th>3492</th>\n",
       "      <td>Ireland</td>\n",
       "      <td>2021</td>\n",
       "      <td>118594.746862</td>\n",
       "    </tr>\n",
       "    <tr>\n",
       "      <th>6118</th>\n",
       "      <td>Qatar</td>\n",
       "      <td>2021</td>\n",
       "      <td>116832.570290</td>\n",
       "    </tr>\n",
       "    <tr>\n",
       "      <th>740</th>\n",
       "      <td>Bermuda</td>\n",
       "      <td>2021</td>\n",
       "      <td>92276.234605</td>\n",
       "    </tr>\n",
       "  </tbody>\n",
       "</table>\n",
       "</div>"
      ],
      "text/plain": [
       "         Country  Year  GDP_Per_Capita\n",
       "4425  Luxembourg  2021   135379.291201\n",
       "6513   Singapore  2021   131864.092336\n",
       "3492     Ireland  2021   118594.746862\n",
       "6118       Qatar  2021   116832.570290\n",
       "740      Bermuda  2021    92276.234605"
      ]
     },
     "execution_count": 50,
     "metadata": {},
     "output_type": "execute_result"
    }
   ],
   "source": [
    "gdp_2021.nlargest(5, 'GDP_Per_Capita') # a way to view the top 5 countries only"
   ]
  },
  {
   "cell_type": "code",
   "execution_count": 51,
   "id": "efb95975-7228-4af3-9a63-186cdc686183",
   "metadata": {},
   "outputs": [
    {
     "data": {
      "text/html": [
       "<div>\n",
       "<style scoped>\n",
       "    .dataframe tbody tr th:only-of-type {\n",
       "        vertical-align: middle;\n",
       "    }\n",
       "\n",
       "    .dataframe tbody tr th {\n",
       "        vertical-align: top;\n",
       "    }\n",
       "\n",
       "    .dataframe thead th {\n",
       "        text-align: right;\n",
       "    }\n",
       "</style>\n",
       "<table border=\"1\" class=\"dataframe\">\n",
       "  <thead>\n",
       "    <tr style=\"text-align: right;\">\n",
       "      <th></th>\n",
       "      <th>Country</th>\n",
       "      <th>Year</th>\n",
       "      <th>GDP_Per_Capita</th>\n",
       "    </tr>\n",
       "  </thead>\n",
       "  <tbody>\n",
       "    <tr>\n",
       "      <th>1045</th>\n",
       "      <td>Burundi</td>\n",
       "      <td>2021</td>\n",
       "      <td>836.665571</td>\n",
       "    </tr>\n",
       "    <tr>\n",
       "      <th>1301</th>\n",
       "      <td>Central African Republic</td>\n",
       "      <td>2021</td>\n",
       "      <td>1128.552380</td>\n",
       "    </tr>\n",
       "    <tr>\n",
       "      <th>1733</th>\n",
       "      <td>Dem. Rep. Congo</td>\n",
       "      <td>2021</td>\n",
       "      <td>1313.618218</td>\n",
       "    </tr>\n",
       "    <tr>\n",
       "      <th>6698</th>\n",
       "      <td>Somalia</td>\n",
       "      <td>2021</td>\n",
       "      <td>1392.464262</td>\n",
       "    </tr>\n",
       "    <tr>\n",
       "      <th>5132</th>\n",
       "      <td>Mozambique</td>\n",
       "      <td>2021</td>\n",
       "      <td>1457.235409</td>\n",
       "    </tr>\n",
       "  </tbody>\n",
       "</table>\n",
       "</div>"
      ],
      "text/plain": [
       "                       Country  Year  GDP_Per_Capita\n",
       "1045                   Burundi  2021      836.665571\n",
       "1301  Central African Republic  2021     1128.552380\n",
       "1733           Dem. Rep. Congo  2021     1313.618218\n",
       "6698                   Somalia  2021     1392.464262\n",
       "5132                Mozambique  2021     1457.235409"
      ]
     },
     "execution_count": 51,
     "metadata": {},
     "output_type": "execute_result"
    }
   ],
   "source": [
    "gdp_2021.nsmallest(5, 'GDP_Per_Capita') # a way to view the bottom 5 countries only"
   ]
  },
  {
   "cell_type": "markdown",
   "id": "ed0c84a1-e3a7-45d7-b044-b6ecbdbaf775",
   "metadata": {
    "jp-MarkdownHeadingCollapsed": true
   },
   "source": [
    "#### 13. Now, return to the full dataset, gdp_df. Pivot the data for 1990 and 2021 (using the pandas .pivot_table() method or another method) so that each row corresponds to a country, each column corresponds to a year, and the values in the table give the GDP_Per_Capita amount. Drop any rows that are missing values for either 1990 or 2021. Save the result to a dataframe named gdp_pivoted."
   ]
  },
  {
   "cell_type": "code",
   "execution_count": 53,
   "id": "37a5ac03-7598-4b15-bf63-d9d9cd3f7e5b",
   "metadata": {},
   "outputs": [
    {
     "data": {
      "text/html": [
       "<div>\n",
       "<style scoped>\n",
       "    .dataframe tbody tr th:only-of-type {\n",
       "        vertical-align: middle;\n",
       "    }\n",
       "\n",
       "    .dataframe tbody tr th {\n",
       "        vertical-align: top;\n",
       "    }\n",
       "\n",
       "    .dataframe thead th {\n",
       "        text-align: right;\n",
       "    }\n",
       "</style>\n",
       "<table border=\"1\" class=\"dataframe\">\n",
       "  <thead>\n",
       "    <tr style=\"text-align: right;\">\n",
       "      <th></th>\n",
       "      <th>Country</th>\n",
       "      <th>Year</th>\n",
       "      <th>GDP_Per_Capita</th>\n",
       "    </tr>\n",
       "  </thead>\n",
       "  <tbody>\n",
       "    <tr>\n",
       "      <th>2</th>\n",
       "      <td>Afghanistan</td>\n",
       "      <td>2021</td>\n",
       "      <td>2144.166570</td>\n",
       "    </tr>\n",
       "    <tr>\n",
       "      <th>26</th>\n",
       "      <td>Africa Eastern and Southern</td>\n",
       "      <td>2021</td>\n",
       "      <td>3934.287267</td>\n",
       "    </tr>\n",
       "    <tr>\n",
       "      <th>57</th>\n",
       "      <td>Africa Eastern and Southern</td>\n",
       "      <td>1990</td>\n",
       "      <td>3386.854480</td>\n",
       "    </tr>\n",
       "    <tr>\n",
       "      <th>60</th>\n",
       "      <td>Africa Western and Central</td>\n",
       "      <td>2021</td>\n",
       "      <td>4698.926894</td>\n",
       "    </tr>\n",
       "    <tr>\n",
       "      <th>91</th>\n",
       "      <td>Africa Western and Central</td>\n",
       "      <td>1990</td>\n",
       "      <td>3299.401375</td>\n",
       "    </tr>\n",
       "  </tbody>\n",
       "</table>\n",
       "</div>"
      ],
      "text/plain": [
       "                        Country  Year  GDP_Per_Capita\n",
       "2                   Afghanistan  2021     2144.166570\n",
       "26  Africa Eastern and Southern  2021     3934.287267\n",
       "57  Africa Eastern and Southern  1990     3386.854480\n",
       "60   Africa Western and Central  2021     4698.926894\n",
       "91   Africa Western and Central  1990     3299.401375"
      ]
     },
     "execution_count": 53,
     "metadata": {},
     "output_type": "execute_result"
    }
   ],
   "source": [
    "gdp_df.loc[(gdp_df['Year']==1990) | (gdp_df['Year']==2021)].head() # testing to see how many rows would be present in 1990 and 2021"
   ]
  },
  {
   "cell_type": "code",
   "execution_count": 54,
   "id": "06000b70-86d6-4ef7-bea1-cdf3edd7cf1e",
   "metadata": {},
   "outputs": [],
   "source": [
    "#gdp_pivoted = pd.pivot_table(\n",
    "#    gdp_df.loc[(gdp_df['Year']==1990) | (gdp_df['Year']==2021)],\n",
    "#    values='GDP_Per_Capita',\n",
    "#    index='Country',\n",
    "#    columns='Year'\n",
    "#) # curious to save this code for later exploration"
   ]
  },
  {
   "cell_type": "code",
   "execution_count": 55,
   "id": "8929c40c-c85a-4662-baeb-20a67f95c880",
   "metadata": {},
   "outputs": [],
   "source": [
    "gdp_pivoted = (\n",
    "    gdp_df\n",
    "    [gdp_df[\"Year\"].isin([1990, 2021])]\n",
    "    .pivot_table(index=\"Country\", columns=\"Year\", values=\"GDP_Per_Capita\")\n",
    "    .dropna(subset = [1990, 2021])\n",
    ")"
   ]
  },
  {
   "cell_type": "code",
   "execution_count": 56,
   "id": "e4902019-b6d0-4388-87e6-b347c7f87811",
   "metadata": {},
   "outputs": [
    {
     "data": {
      "text/html": [
       "<div>\n",
       "<style scoped>\n",
       "    .dataframe tbody tr th:only-of-type {\n",
       "        vertical-align: middle;\n",
       "    }\n",
       "\n",
       "    .dataframe tbody tr th {\n",
       "        vertical-align: top;\n",
       "    }\n",
       "\n",
       "    .dataframe thead th {\n",
       "        text-align: right;\n",
       "    }\n",
       "</style>\n",
       "<table border=\"1\" class=\"dataframe\">\n",
       "  <thead>\n",
       "    <tr style=\"text-align: right;\">\n",
       "      <th>Year</th>\n",
       "      <th>1990</th>\n",
       "      <th>2021</th>\n",
       "    </tr>\n",
       "    <tr>\n",
       "      <th>Country</th>\n",
       "      <th></th>\n",
       "      <th></th>\n",
       "    </tr>\n",
       "  </thead>\n",
       "  <tbody>\n",
       "    <tr>\n",
       "      <th>Africa Eastern and Southern</th>\n",
       "      <td>3386.854480</td>\n",
       "      <td>3934.287267</td>\n",
       "    </tr>\n",
       "    <tr>\n",
       "      <th>Africa Western and Central</th>\n",
       "      <td>3299.401375</td>\n",
       "      <td>4698.926894</td>\n",
       "    </tr>\n",
       "  </tbody>\n",
       "</table>\n",
       "</div>"
      ],
      "text/plain": [
       "Year                                1990         2021\n",
       "Country                                              \n",
       "Africa Eastern and Southern  3386.854480  3934.287267\n",
       "Africa Western and Central   3299.401375  4698.926894"
      ]
     },
     "execution_count": 56,
     "metadata": {},
     "output_type": "execute_result"
    }
   ],
   "source": [
    "gdp_pivoted.head(2)"
   ]
  },
  {
   "cell_type": "code",
   "execution_count": 57,
   "id": "23ac7dfe-4571-4ab5-9e15-f0844f84e707",
   "metadata": {},
   "outputs": [
    {
     "data": {
      "text/html": [
       "<div>\n",
       "<style scoped>\n",
       "    .dataframe tbody tr th:only-of-type {\n",
       "        vertical-align: middle;\n",
       "    }\n",
       "\n",
       "    .dataframe tbody tr th {\n",
       "        vertical-align: top;\n",
       "    }\n",
       "\n",
       "    .dataframe thead th {\n",
       "        text-align: right;\n",
       "    }\n",
       "</style>\n",
       "<table border=\"1\" class=\"dataframe\">\n",
       "  <thead>\n",
       "    <tr style=\"text-align: right;\">\n",
       "      <th>Year</th>\n",
       "      <th>Country</th>\n",
       "      <th>1990</th>\n",
       "      <th>2021</th>\n",
       "    </tr>\n",
       "  </thead>\n",
       "  <tbody>\n",
       "    <tr>\n",
       "      <th>0</th>\n",
       "      <td>Africa Eastern and Southern</td>\n",
       "      <td>3386.854480</td>\n",
       "      <td>3934.287267</td>\n",
       "    </tr>\n",
       "    <tr>\n",
       "      <th>1</th>\n",
       "      <td>Africa Western and Central</td>\n",
       "      <td>3299.401375</td>\n",
       "      <td>4698.926894</td>\n",
       "    </tr>\n",
       "  </tbody>\n",
       "</table>\n",
       "</div>"
      ],
      "text/plain": [
       "Year                      Country         1990         2021\n",
       "0     Africa Eastern and Southern  3386.854480  3934.287267\n",
       "1      Africa Western and Central  3299.401375  4698.926894"
      ]
     },
     "execution_count": 57,
     "metadata": {},
     "output_type": "execute_result"
    }
   ],
   "source": [
    "gdp_pivoted = gdp_pivoted.reset_index() #flattening out column titles\n",
    "gdp_pivoted.head(2)"
   ]
  },
  {
   "cell_type": "code",
   "execution_count": 58,
   "id": "ad038c44-5200-4fbd-898f-d6f2def48f02",
   "metadata": {},
   "outputs": [
    {
     "data": {
      "text/html": [
       "<div>\n",
       "<style scoped>\n",
       "    .dataframe tbody tr th:only-of-type {\n",
       "        vertical-align: middle;\n",
       "    }\n",
       "\n",
       "    .dataframe tbody tr th {\n",
       "        vertical-align: top;\n",
       "    }\n",
       "\n",
       "    .dataframe thead th {\n",
       "        text-align: right;\n",
       "    }\n",
       "</style>\n",
       "<table border=\"1\" class=\"dataframe\">\n",
       "  <thead>\n",
       "    <tr style=\"text-align: right;\">\n",
       "      <th>Year</th>\n",
       "      <th>Country</th>\n",
       "      <th>1990</th>\n",
       "      <th>2021</th>\n",
       "    </tr>\n",
       "  </thead>\n",
       "  <tbody>\n",
       "    <tr>\n",
       "      <th>0</th>\n",
       "      <td>Africa Eastern and Southern</td>\n",
       "      <td>3386.854480</td>\n",
       "      <td>3934.287267</td>\n",
       "    </tr>\n",
       "    <tr>\n",
       "      <th>1</th>\n",
       "      <td>Africa Western and Central</td>\n",
       "      <td>3299.401375</td>\n",
       "      <td>4698.926894</td>\n",
       "    </tr>\n",
       "  </tbody>\n",
       "</table>\n",
       "</div>"
      ],
      "text/plain": [
       "Year                      Country         1990         2021\n",
       "0     Africa Eastern and Southern  3386.854480  3934.287267\n",
       "1      Africa Western and Central  3299.401375  4698.926894"
      ]
     },
     "execution_count": 58,
     "metadata": {},
     "output_type": "execute_result"
    }
   ],
   "source": [
    "gdp_pivoted = gdp_pivoted.dropna(axis=0, ignore_index=True)\n",
    "gdp_pivoted.head(2)"
   ]
  },
  {
   "cell_type": "markdown",
   "id": "e6a0a582-fa79-4a70-9d88-ebc679d8ff72",
   "metadata": {
    "jp-MarkdownHeadingCollapsed": true
   },
   "source": [
    "#### 14. Create a new column in gdp_pivoted named Percent_Change. This column should contain the percent change in GDP_Per_Capita from 1990 to 2021. Hint: Percent change is calculated as 100*(New Value - Old Value) / Old Value."
   ]
  },
  {
   "cell_type": "code",
   "execution_count": 60,
   "id": "7f557561-6316-45ea-b4ca-8e4ecc1a706b",
   "metadata": {},
   "outputs": [
    {
     "data": {
      "text/html": [
       "<div>\n",
       "<style scoped>\n",
       "    .dataframe tbody tr th:only-of-type {\n",
       "        vertical-align: middle;\n",
       "    }\n",
       "\n",
       "    .dataframe tbody tr th {\n",
       "        vertical-align: top;\n",
       "    }\n",
       "\n",
       "    .dataframe thead th {\n",
       "        text-align: right;\n",
       "    }\n",
       "</style>\n",
       "<table border=\"1\" class=\"dataframe\">\n",
       "  <thead>\n",
       "    <tr style=\"text-align: right;\">\n",
       "      <th>Year</th>\n",
       "      <th>Country</th>\n",
       "      <th>1990</th>\n",
       "      <th>2021</th>\n",
       "      <th>Percent_Change</th>\n",
       "    </tr>\n",
       "  </thead>\n",
       "  <tbody>\n",
       "    <tr>\n",
       "      <th>0</th>\n",
       "      <td>Africa Eastern and Southern</td>\n",
       "      <td>3386.854480</td>\n",
       "      <td>3934.287267</td>\n",
       "      <td>16.163458</td>\n",
       "    </tr>\n",
       "    <tr>\n",
       "      <th>1</th>\n",
       "      <td>Africa Western and Central</td>\n",
       "      <td>3299.401375</td>\n",
       "      <td>4698.926894</td>\n",
       "      <td>42.417559</td>\n",
       "    </tr>\n",
       "    <tr>\n",
       "      <th>2</th>\n",
       "      <td>Albania</td>\n",
       "      <td>5327.747458</td>\n",
       "      <td>16113.136519</td>\n",
       "      <td>202.438069</td>\n",
       "    </tr>\n",
       "    <tr>\n",
       "      <th>3</th>\n",
       "      <td>Algeria</td>\n",
       "      <td>11728.545729</td>\n",
       "      <td>14496.865470</td>\n",
       "      <td>23.603265</td>\n",
       "    </tr>\n",
       "    <tr>\n",
       "      <th>4</th>\n",
       "      <td>Andorra</td>\n",
       "      <td>50036.300776</td>\n",
       "      <td>59332.202910</td>\n",
       "      <td>18.578316</td>\n",
       "    </tr>\n",
       "  </tbody>\n",
       "</table>\n",
       "</div>"
      ],
      "text/plain": [
       "Year                      Country          1990          2021  Percent_Change\n",
       "0     Africa Eastern and Southern   3386.854480   3934.287267       16.163458\n",
       "1      Africa Western and Central   3299.401375   4698.926894       42.417559\n",
       "2                         Albania   5327.747458  16113.136519      202.438069\n",
       "3                         Algeria  11728.545729  14496.865470       23.603265\n",
       "4                         Andorra  50036.300776  59332.202910       18.578316"
      ]
     },
     "execution_count": 60,
     "metadata": {},
     "output_type": "execute_result"
    }
   ],
   "source": [
    "gdp_pivoted['Percent_Change'] = (100*(gdp_pivoted[2021]-gdp_pivoted[1990]) / gdp_pivoted[1990])\n",
    "gdp_pivoted.head()"
   ]
  },
  {
   "cell_type": "markdown",
   "id": "bc11a76a-0966-42dc-9fd0-404ba49cf18c",
   "metadata": {
    "jp-MarkdownHeadingCollapsed": true
   },
   "source": [
    "#### 15. How many countries experienced a negative percent change in GDP per capita from 1990 to 2021?"
   ]
  },
  {
   "cell_type": "code",
   "execution_count": 62,
   "id": "498608f4-db59-4c26-adf0-bae8682bdf53",
   "metadata": {},
   "outputs": [
    {
     "name": "stdout",
     "output_type": "stream",
     "text": [
      "There were 23 countries which experienced a negative percent change in GDP per capita from 1990 to 2021.\n"
     ]
    }
   ],
   "source": [
    "print(f'There were {gdp_pivoted[gdp_pivoted['Percent_Change'] < 0].shape[0]} countries which experienced a negative percent change in GDP per capita from 1990 to 2021.')"
   ]
  },
  {
   "cell_type": "code",
   "execution_count": 63,
   "id": "bed5ba22-763d-43ea-ad74-14840174bb8d",
   "metadata": {},
   "outputs": [],
   "source": [
    "#print(f'There are this many: {(gdp_pivoted['Percent_Change'] < 0).sum()} countries )"
   ]
  },
  {
   "cell_type": "code",
   "execution_count": 64,
   "id": "e2a8ab9c-4f99-4d57-ace6-f64be9471b2d",
   "metadata": {},
   "outputs": [
    {
     "data": {
      "text/html": [
       "<div>\n",
       "<style scoped>\n",
       "    .dataframe tbody tr th:only-of-type {\n",
       "        vertical-align: middle;\n",
       "    }\n",
       "\n",
       "    .dataframe tbody tr th {\n",
       "        vertical-align: top;\n",
       "    }\n",
       "\n",
       "    .dataframe thead th {\n",
       "        text-align: right;\n",
       "    }\n",
       "</style>\n",
       "<table border=\"1\" class=\"dataframe\">\n",
       "  <thead>\n",
       "    <tr style=\"text-align: right;\">\n",
       "      <th>Year</th>\n",
       "      <th>Country</th>\n",
       "      <th>1990</th>\n",
       "      <th>2021</th>\n",
       "      <th>Percent_Change</th>\n",
       "    </tr>\n",
       "  </thead>\n",
       "  <tbody>\n",
       "    <tr>\n",
       "      <th>16</th>\n",
       "      <td>Barbados</td>\n",
       "      <td>16976.761648</td>\n",
       "      <td>15683.884713</td>\n",
       "      <td>-7.615569</td>\n",
       "    </tr>\n",
       "    <tr>\n",
       "      <th>27</th>\n",
       "      <td>Brunei</td>\n",
       "      <td>118163.683198</td>\n",
       "      <td>78248.797110</td>\n",
       "      <td>-33.779318</td>\n",
       "    </tr>\n",
       "    <tr>\n",
       "      <th>30</th>\n",
       "      <td>Burundi</td>\n",
       "      <td>1396.077627</td>\n",
       "      <td>836.665571</td>\n",
       "      <td>-40.070269</td>\n",
       "    </tr>\n",
       "    <tr>\n",
       "      <th>36</th>\n",
       "      <td>Central African Republic</td>\n",
       "      <td>1481.252551</td>\n",
       "      <td>1128.552380</td>\n",
       "      <td>-23.810941</td>\n",
       "    </tr>\n",
       "    <tr>\n",
       "      <th>43</th>\n",
       "      <td>Congo</td>\n",
       "      <td>8699.526839</td>\n",
       "      <td>6263.211613</td>\n",
       "      <td>-28.005146</td>\n",
       "    </tr>\n",
       "    <tr>\n",
       "      <th>49</th>\n",
       "      <td>Dem. Rep. Congo</td>\n",
       "      <td>2172.001597</td>\n",
       "      <td>1313.618218</td>\n",
       "      <td>-39.520384</td>\n",
       "    </tr>\n",
       "    <tr>\n",
       "      <th>71</th>\n",
       "      <td>Fragile and conflict affected situations</td>\n",
       "      <td>6062.707946</td>\n",
       "      <td>5245.734664</td>\n",
       "      <td>-13.475386</td>\n",
       "    </tr>\n",
       "    <tr>\n",
       "      <th>73</th>\n",
       "      <td>Gabon</td>\n",
       "      <td>23884.810700</td>\n",
       "      <td>18523.579803</td>\n",
       "      <td>-22.446194</td>\n",
       "    </tr>\n",
       "    <tr>\n",
       "      <th>84</th>\n",
       "      <td>Haiti</td>\n",
       "      <td>3946.365646</td>\n",
       "      <td>3134.950149</td>\n",
       "      <td>-20.561083</td>\n",
       "    </tr>\n",
       "    <tr>\n",
       "      <th>111</th>\n",
       "      <td>Kyrgyz Republic</td>\n",
       "      <td>6095.681086</td>\n",
       "      <td>5736.478834</td>\n",
       "      <td>-5.892734</td>\n",
       "    </tr>\n",
       "    <tr>\n",
       "      <th>121</th>\n",
       "      <td>Liberia</td>\n",
       "      <td>1866.405481</td>\n",
       "      <td>1539.208923</td>\n",
       "      <td>-17.530840</td>\n",
       "    </tr>\n",
       "    <tr>\n",
       "      <th>122</th>\n",
       "      <td>Libya</td>\n",
       "      <td>18121.815655</td>\n",
       "      <td>12641.509771</td>\n",
       "      <td>-30.241483</td>\n",
       "    </tr>\n",
       "    <tr>\n",
       "      <th>129</th>\n",
       "      <td>Madagascar</td>\n",
       "      <td>1975.146568</td>\n",
       "      <td>1599.412769</td>\n",
       "      <td>-19.023084</td>\n",
       "    </tr>\n",
       "    <tr>\n",
       "      <th>144</th>\n",
       "      <td>Moldova</td>\n",
       "      <td>15902.894323</td>\n",
       "      <td>15682.070328</td>\n",
       "      <td>-1.388577</td>\n",
       "    </tr>\n",
       "    <tr>\n",
       "      <th>150</th>\n",
       "      <td>Nauru</td>\n",
       "      <td>30546.301797</td>\n",
       "      <td>12196.645155</td>\n",
       "      <td>-60.071614</td>\n",
       "    </tr>\n",
       "    <tr>\n",
       "      <th>165</th>\n",
       "      <td>Palau</td>\n",
       "      <td>17842.085859</td>\n",
       "      <td>15663.174395</td>\n",
       "      <td>-12.212201</td>\n",
       "    </tr>\n",
       "    <tr>\n",
       "      <th>181</th>\n",
       "      <td>Saudi Arabia</td>\n",
       "      <td>60101.575626</td>\n",
       "      <td>55768.235520</td>\n",
       "      <td>-7.210027</td>\n",
       "    </tr>\n",
       "    <tr>\n",
       "      <th>205</th>\n",
       "      <td>Syrian Arab Republic</td>\n",
       "      <td>5828.405516</td>\n",
       "      <td>4592.838601</td>\n",
       "      <td>-21.199055</td>\n",
       "    </tr>\n",
       "    <tr>\n",
       "      <th>207</th>\n",
       "      <td>Tajikistan</td>\n",
       "      <td>4173.046080</td>\n",
       "      <td>3985.912476</td>\n",
       "      <td>-4.484341</td>\n",
       "    </tr>\n",
       "    <tr>\n",
       "      <th>210</th>\n",
       "      <td>The Bahamas</td>\n",
       "      <td>33062.545904</td>\n",
       "      <td>29340.472348</td>\n",
       "      <td>-11.257674</td>\n",
       "    </tr>\n",
       "    <tr>\n",
       "      <th>221</th>\n",
       "      <td>Ukraine</td>\n",
       "      <td>22815.798828</td>\n",
       "      <td>17846.408203</td>\n",
       "      <td>-21.780481</td>\n",
       "    </tr>\n",
       "    <tr>\n",
       "      <th>222</th>\n",
       "      <td>United Arab Emirates</td>\n",
       "      <td>108057.042464</td>\n",
       "      <td>67401.121295</td>\n",
       "      <td>-37.624499</td>\n",
       "    </tr>\n",
       "    <tr>\n",
       "      <th>232</th>\n",
       "      <td>Zimbabwe</td>\n",
       "      <td>4013.299059</td>\n",
       "      <td>3184.785451</td>\n",
       "      <td>-20.644203</td>\n",
       "    </tr>\n",
       "  </tbody>\n",
       "</table>\n",
       "</div>"
      ],
      "text/plain": [
       "Year                                   Country           1990          2021  \\\n",
       "16                                    Barbados   16976.761648  15683.884713   \n",
       "27                                      Brunei  118163.683198  78248.797110   \n",
       "30                                     Burundi    1396.077627    836.665571   \n",
       "36                    Central African Republic    1481.252551   1128.552380   \n",
       "43                                       Congo    8699.526839   6263.211613   \n",
       "49                             Dem. Rep. Congo    2172.001597   1313.618218   \n",
       "71    Fragile and conflict affected situations    6062.707946   5245.734664   \n",
       "73                                       Gabon   23884.810700  18523.579803   \n",
       "84                                       Haiti    3946.365646   3134.950149   \n",
       "111                            Kyrgyz Republic    6095.681086   5736.478834   \n",
       "121                                    Liberia    1866.405481   1539.208923   \n",
       "122                                      Libya   18121.815655  12641.509771   \n",
       "129                                 Madagascar    1975.146568   1599.412769   \n",
       "144                                    Moldova   15902.894323  15682.070328   \n",
       "150                                      Nauru   30546.301797  12196.645155   \n",
       "165                                      Palau   17842.085859  15663.174395   \n",
       "181                               Saudi Arabia   60101.575626  55768.235520   \n",
       "205                       Syrian Arab Republic    5828.405516   4592.838601   \n",
       "207                                 Tajikistan    4173.046080   3985.912476   \n",
       "210                                The Bahamas   33062.545904  29340.472348   \n",
       "221                                    Ukraine   22815.798828  17846.408203   \n",
       "222                       United Arab Emirates  108057.042464  67401.121295   \n",
       "232                                   Zimbabwe    4013.299059   3184.785451   \n",
       "\n",
       "Year  Percent_Change  \n",
       "16         -7.615569  \n",
       "27        -33.779318  \n",
       "30        -40.070269  \n",
       "36        -23.810941  \n",
       "43        -28.005146  \n",
       "49        -39.520384  \n",
       "71        -13.475386  \n",
       "73        -22.446194  \n",
       "84        -20.561083  \n",
       "111        -5.892734  \n",
       "121       -17.530840  \n",
       "122       -30.241483  \n",
       "129       -19.023084  \n",
       "144        -1.388577  \n",
       "150       -60.071614  \n",
       "165       -12.212201  \n",
       "181        -7.210027  \n",
       "205       -21.199055  \n",
       "207        -4.484341  \n",
       "210       -11.257674  \n",
       "221       -21.780481  \n",
       "222       -37.624499  \n",
       "232       -20.644203  "
      ]
     },
     "execution_count": 64,
     "metadata": {},
     "output_type": "execute_result"
    }
   ],
   "source": [
    "gdp_pivoted[gdp_pivoted['Percent_Change'].le(0)] # which country's percent change was less than or equal to zero."
   ]
  },
  {
   "cell_type": "markdown",
   "id": "a25a5579-1655-4dbc-ac35-cce18ece6647",
   "metadata": {
    "jp-MarkdownHeadingCollapsed": true
   },
   "source": [
    "#### 16. Which country had the highest % change in GDP per capita? Create a line plot showing this country's GDP per capita for all years from 1990 to 2018. Create another showing the country with the second highest % change in GDP. How do the trends in these countries compare? \n",
    "Bonus: Put both line charts on the same plot."
   ]
  },
  {
   "cell_type": "code",
   "execution_count": 66,
   "id": "e608776b-c715-476d-9887-94127c0dd648",
   "metadata": {},
   "outputs": [
    {
     "name": "stdout",
     "output_type": "stream",
     "text": [
      "The highest value in the percent change column is: 1398.1460518348676.\n"
     ]
    }
   ],
   "source": [
    "print(f'The highest value in the percent change column is: {gdp_pivoted['Percent_Change'].max()}.')"
   ]
  },
  {
   "cell_type": "code",
   "execution_count": 67,
   "id": "ee2a7a03-3471-405b-9914-266645de5b16",
   "metadata": {},
   "outputs": [
    {
     "name": "stdout",
     "output_type": "stream",
     "text": [
      "Equatorial Guinea had the highest percent change in GDP per capita.\n"
     ]
    }
   ],
   "source": [
    "two_max_gdp_change = gdp_pivoted.nlargest(1, \"Percent_Change\")['Country']\n",
    "for i in two_max_gdp_change:\n",
    "     print(f'{i} had the highest percent change in GDP per capita.')"
   ]
  },
  {
   "cell_type": "markdown",
   "id": "8d652e3d-546a-4211-a113-650268fd9e0b",
   "metadata": {},
   "source": [
    "How do the trends in these countries compare?: The trends in these countries couldn't be more different. China has a slow and steady sloping rise. While Equatorial Guinea has a sharper increase in GDP per capita until about 2007, when there is a sharp decline that nearly recovers and then simply continues to decline through to the end of the dataset, 2021. Around 2019 the GDP per capita for each country crossed each other on the line graph, Equitorial Guinea going down and China continuing to rise."
   ]
  },
  {
   "cell_type": "code",
   "execution_count": 69,
   "id": "838c9d2d-30ed-4d29-8a6e-eb0d48cdb04c",
   "metadata": {},
   "outputs": [
    {
     "data": {
      "text/plain": [
       "<Axes: xlabel='Year'>"
      ]
     },
     "execution_count": 69,
     "metadata": {},
     "output_type": "execute_result"
    },
    {
     "data": {
      "image/png": "[encoded data removed]",
      "text/plain": [
       "<Figure size 640x480 with 1 Axes>"
      ]
     },
     "metadata": {},
     "output_type": "display_data"
    }
   ],
   "source": [
    "(\n",
    "    gdp_df[gdp_df['Country'] == \"Equatorial Guinea\"]\n",
    "    .loc[gdp_df[\"Year\"] <= 2021]\n",
    "    .loc[gdp_df[\"Year\"] >= 1990]\n",
    "    .plot(x=\"Year\", y=\"GDP_Per_Capita\", kind=\"line\")\n",
    "    \n",
    ")"
   ]
  },
  {
   "cell_type": "code",
   "execution_count": 70,
   "id": "61b57e99-dc54-4be6-93c0-7334e238e915",
   "metadata": {},
   "outputs": [
    {
     "data": {
      "image/png": "[encoded data removed]",
      "text/plain": [
       "<Figure size 640x480 with 1 Axes>"
      ]
     },
     "metadata": {},
     "output_type": "display_data"
    }
   ],
   "source": [
    "ax=(\n",
    "gdp_df\n",
    ".loc[gdp_df['Country'] == 'Equatorial Guinea']\n",
    ".loc[gdp_df['Year'] <= 2021]\n",
    ".loc[gdp_df['Year'] >= 1990]\n",
    ".plot(x=\"Year\", y=\"GDP_Per_Capita\", kind=\"line\", label = 'Equatorial Guinea')\n",
    ")\n",
    "(\n",
    "gdp_df\n",
    ".loc[gdp_df['Country'] == 'China']\n",
    ".loc[gdp_df['Year'] <= 2021]\n",
    ".loc[gdp_df['Year'] >= 1990]\n",
    ".plot(\n",
    "    x=\"Year\", \n",
    "    y=\"GDP_Per_Capita\", \n",
    "    kind=\"line\", \n",
    "    label='China', \n",
    "    title=\"Two Highest % Changes in GDP Per Capita\",\n",
    "    ax=ax)\n",
    ");"
   ]
  },
  {
   "cell_type": "markdown",
   "id": "f8a442ba-b9ca-46df-8401-11ca693abde8",
   "metadata": {
    "jp-MarkdownHeadingCollapsed": true
   },
   "source": [
    "#### 17. Read in continents.csv contained in the data folder into a new dataframe called continents. We will be using this dataframe to add a new column to our dataset."
   ]
  },
  {
   "cell_type": "code",
   "execution_count": 72,
   "id": "35c82383-db58-4c1a-8b26-491ab818e67b",
   "metadata": {},
   "outputs": [],
   "source": [
    "continents = pd.read_csv(\"../data/continents.csv\")"
   ]
  },
  {
   "cell_type": "code",
   "execution_count": 73,
   "id": "b15cb71c-51be-4b38-afea-3963f2a1c148",
   "metadata": {},
   "outputs": [
    {
     "data": {
      "text/html": [
       "<div>\n",
       "<style scoped>\n",
       "    .dataframe tbody tr th:only-of-type {\n",
       "        vertical-align: middle;\n",
       "    }\n",
       "\n",
       "    .dataframe tbody tr th {\n",
       "        vertical-align: top;\n",
       "    }\n",
       "\n",
       "    .dataframe thead th {\n",
       "        text-align: right;\n",
       "    }\n",
       "</style>\n",
       "<table border=\"1\" class=\"dataframe\">\n",
       "  <thead>\n",
       "    <tr style=\"text-align: right;\">\n",
       "      <th></th>\n",
       "      <th>Continent</th>\n",
       "      <th>Country</th>\n",
       "    </tr>\n",
       "  </thead>\n",
       "  <tbody>\n",
       "    <tr>\n",
       "      <th>0</th>\n",
       "      <td>Asia</td>\n",
       "      <td>Afghanistan</td>\n",
       "    </tr>\n",
       "    <tr>\n",
       "      <th>1</th>\n",
       "      <td>Europe</td>\n",
       "      <td>Albania</td>\n",
       "    </tr>\n",
       "  </tbody>\n",
       "</table>\n",
       "</div>"
      ],
      "text/plain": [
       "  Continent      Country\n",
       "0      Asia  Afghanistan\n",
       "1    Europe      Albania"
      ]
     },
     "execution_count": 73,
     "metadata": {},
     "output_type": "execute_result"
    }
   ],
   "source": [
    "continents.head(2)"
   ]
  },
  {
   "cell_type": "markdown",
   "id": "e62a8fbb-cfbc-4cdc-804a-3b91ae4c995e",
   "metadata": {
    "jp-MarkdownHeadingCollapsed": true
   },
   "source": [
    "#### 18. Merge gdp_df and continents. Keep only the countries that appear in both data frames. Save the result back to gdp_df.\r\n",
    "\r\n"
   ]
  },
  {
   "cell_type": "code",
   "execution_count": 75,
   "id": "0015ed91-e56b-455d-913e-f43834181b2a",
   "metadata": {},
   "outputs": [
    {
     "data": {
      "text/plain": [
       "Country           string[python]\n",
       "Year                       int64\n",
       "GDP_Per_Capita           float64\n",
       "dtype: object"
      ]
     },
     "execution_count": 75,
     "metadata": {},
     "output_type": "execute_result"
    }
   ],
   "source": [
    "gdp_df.dtypes #inspect the columns to determine the data types"
   ]
  },
  {
   "cell_type": "code",
   "execution_count": 260,
   "id": "59adfc53-be68-420f-9135-668408c028cc",
   "metadata": {},
   "outputs": [
    {
     "data": {
      "text/html": [
       "<div>\n",
       "<style scoped>\n",
       "    .dataframe tbody tr th:only-of-type {\n",
       "        vertical-align: middle;\n",
       "    }\n",
       "\n",
       "    .dataframe tbody tr th {\n",
       "        vertical-align: top;\n",
       "    }\n",
       "\n",
       "    .dataframe thead th {\n",
       "        text-align: right;\n",
       "    }\n",
       "</style>\n",
       "<table border=\"1\" class=\"dataframe\">\n",
       "  <thead>\n",
       "    <tr style=\"text-align: right;\">\n",
       "      <th></th>\n",
       "      <th>Country</th>\n",
       "      <th>Year</th>\n",
       "      <th>GDP_Per_Capita</th>\n",
       "      <th>Continent</th>\n",
       "    </tr>\n",
       "  </thead>\n",
       "  <tbody>\n",
       "    <tr>\n",
       "      <th>0</th>\n",
       "      <td>Afghanistan</td>\n",
       "      <td>2023</td>\n",
       "      <td>1992.424394</td>\n",
       "      <td>Asia</td>\n",
       "    </tr>\n",
       "    <tr>\n",
       "      <th>1</th>\n",
       "      <td>Afghanistan</td>\n",
       "      <td>2022</td>\n",
       "      <td>1981.710168</td>\n",
       "      <td>Asia</td>\n",
       "    </tr>\n",
       "  </tbody>\n",
       "</table>\n",
       "</div>"
      ],
      "text/plain": [
       "       Country  Year  GDP_Per_Capita Continent\n",
       "0  Afghanistan  2023     1992.424394      Asia\n",
       "1  Afghanistan  2022     1981.710168      Asia"
      ]
     },
     "execution_count": 260,
     "metadata": {},
     "output_type": "execute_result"
    }
   ],
   "source": [
    "gdp_df.head(2) #inspecting dataset's column titles"
   ]
  },
  {
   "cell_type": "code",
   "execution_count": 262,
   "id": "b3d8897c-5d3d-411b-b8f9-3093e4736e29",
   "metadata": {},
   "outputs": [],
   "source": [
    "gdp_df['Year'] = pd.to_numeric(gdp_df[\"Year\"], errors=\"coerce\") #changing my year column to numeric value \n",
    "#without simply dropping data unnecessarily"
   ]
  },
  {
   "cell_type": "code",
   "execution_count": 264,
   "id": "4cae59fb-b540-46cf-8763-50fe82b43568",
   "metadata": {},
   "outputs": [
    {
     "data": {
      "text/plain": [
       "Country            object\n",
       "Year                int64\n",
       "GDP_Per_Capita    float64\n",
       "Continent          object\n",
       "dtype: object"
      ]
     },
     "execution_count": 264,
     "metadata": {},
     "output_type": "execute_result"
    }
   ],
   "source": [
    "gdp_df.dtypes #checked to see if it was successful"
   ]
  },
  {
   "cell_type": "code",
   "execution_count": 266,
   "id": "ca2ee24e-02ee-4f7d-bf8f-29d6a0651813",
   "metadata": {},
   "outputs": [
    {
     "data": {
      "text/html": [
       "<div>\n",
       "<style scoped>\n",
       "    .dataframe tbody tr th:only-of-type {\n",
       "        vertical-align: middle;\n",
       "    }\n",
       "\n",
       "    .dataframe tbody tr th {\n",
       "        vertical-align: top;\n",
       "    }\n",
       "\n",
       "    .dataframe thead th {\n",
       "        text-align: right;\n",
       "    }\n",
       "</style>\n",
       "<table border=\"1\" class=\"dataframe\">\n",
       "  <thead>\n",
       "    <tr style=\"text-align: right;\">\n",
       "      <th></th>\n",
       "      <th>Country</th>\n",
       "      <th>Year</th>\n",
       "      <th>GDP_Per_Capita</th>\n",
       "      <th>Continent</th>\n",
       "    </tr>\n",
       "  </thead>\n",
       "  <tbody>\n",
       "    <tr>\n",
       "      <th>0</th>\n",
       "      <td>Afghanistan</td>\n",
       "      <td>2023</td>\n",
       "      <td>1992.424394</td>\n",
       "      <td>Asia</td>\n",
       "    </tr>\n",
       "    <tr>\n",
       "      <th>1</th>\n",
       "      <td>Afghanistan</td>\n",
       "      <td>2022</td>\n",
       "      <td>1981.710168</td>\n",
       "      <td>Asia</td>\n",
       "    </tr>\n",
       "  </tbody>\n",
       "</table>\n",
       "</div>"
      ],
      "text/plain": [
       "       Country  Year  GDP_Per_Capita Continent\n",
       "0  Afghanistan  2023     1992.424394      Asia\n",
       "1  Afghanistan  2022     1981.710168      Asia"
      ]
     },
     "execution_count": 266,
     "metadata": {},
     "output_type": "execute_result"
    }
   ],
   "source": [
    "gdp_df.head(2)"
   ]
  },
  {
   "cell_type": "code",
   "execution_count": 268,
   "id": "28ce3fd8-90bf-402a-8380-084ad2ec96b7",
   "metadata": {},
   "outputs": [
    {
     "data": {
      "text/html": [
       "<div>\n",
       "<style scoped>\n",
       "    .dataframe tbody tr th:only-of-type {\n",
       "        vertical-align: middle;\n",
       "    }\n",
       "\n",
       "    .dataframe tbody tr th {\n",
       "        vertical-align: top;\n",
       "    }\n",
       "\n",
       "    .dataframe thead th {\n",
       "        text-align: right;\n",
       "    }\n",
       "</style>\n",
       "<table border=\"1\" class=\"dataframe\">\n",
       "  <thead>\n",
       "    <tr style=\"text-align: right;\">\n",
       "      <th></th>\n",
       "      <th>Country</th>\n",
       "      <th>Year</th>\n",
       "      <th>GDP_Per_Capita</th>\n",
       "      <th>Continent</th>\n",
       "    </tr>\n",
       "  </thead>\n",
       "  <tbody>\n",
       "    <tr>\n",
       "      <th>0</th>\n",
       "      <td>Afghanistan</td>\n",
       "      <td>2023</td>\n",
       "      <td>1992.424394</td>\n",
       "      <td>Asia</td>\n",
       "    </tr>\n",
       "    <tr>\n",
       "      <th>1</th>\n",
       "      <td>Afghanistan</td>\n",
       "      <td>2022</td>\n",
       "      <td>1981.710168</td>\n",
       "      <td>Asia</td>\n",
       "    </tr>\n",
       "  </tbody>\n",
       "</table>\n",
       "</div>"
      ],
      "text/plain": [
       "       Country  Year  GDP_Per_Capita Continent\n",
       "0  Afghanistan  2023     1992.424394      Asia\n",
       "1  Afghanistan  2022     1981.710168      Asia"
      ]
     },
     "execution_count": 268,
     "metadata": {},
     "output_type": "execute_result"
    }
   ],
   "source": [
    "gdp_df = pd.merge( \n",
    "    left = gdp_df, \n",
    "    right = continents, \n",
    "    validate = \"many_to_one\",\n",
    "    how = 'inner',\n",
    ")\n",
    "gdp_df.head(2)"
   ]
  },
  {
   "cell_type": "markdown",
   "id": "c9b6f9fd-04a9-4469-922a-29cfb24f06b2",
   "metadata": {
    "jp-MarkdownHeadingCollapsed": true
   },
   "source": [
    "#### 19. Determine the number of countries per continent. Create a bar chart showing this."
   ]
  },
  {
   "cell_type": "code",
   "execution_count": 332,
   "id": "26a9eb41-fa9c-4dd0-aec0-ed323c102724",
   "metadata": {},
   "outputs": [
    {
     "name": "stdout",
     "output_type": "stream",
     "text": [
      "There are 50 countires on the continent of Africa.\n",
      "There are 41 countires on the continent of Asia.\n",
      "There are 45 countires on the continent of Europe.\n",
      "There are 26 countires on the continent of North America.\n",
      "There are 14 countires on the continent of Oceania.\n",
      "There are 11 countires on the continent of South America.\n"
     ]
    }
   ],
   "source": [
    "s = gdp_df.groupby('Continent')['Country'].nunique()\n",
    "for i, el in zip(s.index, s.to_numpy()):\n",
    "     print(f'There are {el} countires on the continent of {i}.')"
   ]
  },
  {
   "cell_type": "code",
   "execution_count": 352,
   "id": "1c0526ef-42c0-4ff7-927e-bc33e8479f88",
   "metadata": {},
   "outputs": [
    {
     "name": "stdout",
     "output_type": "stream",
     "text": [
      "There are 6 unqiue continents in this dataset.\n"
     ]
    }
   ],
   "source": [
    "print(f'There are {gdp_df['Continent'].value_counts().nunique()} unqiue continents in this dataset.')"
   ]
  },
  {
   "cell_type": "code",
   "execution_count": 391,
   "id": "d6e0a7bf-5ec0-45d2-92d1-27c9f68725da",
   "metadata": {},
   "outputs": [
    {
     "data": {
      "image/png": "[encoded data removed]",
      "text/plain": [
       "<Figure size 640x480 with 1 Axes>"
      ]
     },
     "metadata": {},
     "output_type": "display_data"
    }
   ],
   "source": [
    "a = gdp_df.groupby('Continent')['Country'].nunique()\n",
    "ax = pd.Series(a).plot(kind=\"bar\", rot=45)\n",
    "ax.set_title(\"Proportion of Countries Per Each Continent\")\n",
    "ax.set_xlabel(\"Continents\")\n",
    "ax.set_ylabel(\"Country Count\")\n",
    "plt.show()"
   ]
  },
  {
   "cell_type": "code",
   "execution_count": 93,
   "id": "08935980-15e2-4ec3-bb93-95fcb4b1ee5f",
   "metadata": {},
   "outputs": [
    {
     "data": {
      "image/png": "[encoded data removed]",
      "text/plain": [
       "<Figure size 640x480 with 1 Axes>"
      ]
     },
     "metadata": {},
     "output_type": "display_data"
    }
   ],
   "source": [
    "sns.boxplot(data=gdp_df[gdp_df['Year'] == 2021].sort_values(by=\"Continent\"), x=\"GDP_Per_Capita\", y=\"Continent\");"
   ]
  },
  {
   "cell_type": "code",
   "execution_count": 338,
   "id": "c70bce80-09a9-4797-97f9-c29be61702fa",
   "metadata": {},
   "outputs": [
    {
     "data": {
      "text/plain": [
       "Continent\n",
       "Africa           0.267603\n",
       "Europe           0.238224\n",
       "Asia             0.220022\n",
       "North America    0.138592\n",
       "Oceania          0.075842\n",
       "South America    0.059716\n",
       "Name: proportion, dtype: float64"
      ]
     },
     "execution_count": 338,
     "metadata": {},
     "output_type": "execute_result"
    }
   ],
   "source": [
    "gdp_df['Continent'].value_counts(normalize=True)"
   ]
  },
  {
   "cell_type": "markdown",
   "id": "f8349788-cd65-45c5-b97d-1e91e4e0d199",
   "metadata": {},
   "source": [
    "Europe and Asia have the higher levels of GDP overall. Though Asia has a large right skew. "
   ]
  },
  {
   "cell_type": "markdown",
   "id": "6c302342-c841-4a1d-be89-bae017697e97",
   "metadata": {
    "jp-MarkdownHeadingCollapsed": true
   },
   "source": [
    "#### 21. Download the full csv containing Life expectancy at birth, total (years) from [this site](https://data.worldbank.org/indicator/SP.DYN.LE00.IN?name_desc=false). Read this data into a DataFrame named life_expectancy. Note: When reading this dataset it, you may encounter an error. Modify your read_csv call to correct this without modifying the original csv file."
   ]
  },
  {
   "cell_type": "code",
   "execution_count": 408,
   "id": "d287439b-125a-4791-94bf-df1b2fef9a3c",
   "metadata": {},
   "outputs": [
    {
     "data": {
      "text/html": [
       "<div>\n",
       "<style scoped>\n",
       "    .dataframe tbody tr th:only-of-type {\n",
       "        vertical-align: middle;\n",
       "    }\n",
       "\n",
       "    .dataframe tbody tr th {\n",
       "        vertical-align: top;\n",
       "    }\n",
       "\n",
       "    .dataframe thead th {\n",
       "        text-align: right;\n",
       "    }\n",
       "</style>\n",
       "<table border=\"1\" class=\"dataframe\">\n",
       "  <thead>\n",
       "    <tr style=\"text-align: right;\">\n",
       "      <th></th>\n",
       "      <th>Country Name</th>\n",
       "      <th>Country Code</th>\n",
       "      <th>Indicator Name</th>\n",
       "      <th>Indicator Code</th>\n",
       "      <th>1960</th>\n",
       "      <th>1961</th>\n",
       "      <th>1962</th>\n",
       "      <th>1963</th>\n",
       "      <th>1964</th>\n",
       "      <th>1965</th>\n",
       "      <th>...</th>\n",
       "      <th>2016</th>\n",
       "      <th>2017</th>\n",
       "      <th>2018</th>\n",
       "      <th>2019</th>\n",
       "      <th>2020</th>\n",
       "      <th>2021</th>\n",
       "      <th>2022</th>\n",
       "      <th>2023</th>\n",
       "      <th>2024</th>\n",
       "      <th>Unnamed: 69</th>\n",
       "    </tr>\n",
       "  </thead>\n",
       "  <tbody>\n",
       "    <tr>\n",
       "      <th>0</th>\n",
       "      <td>Aruba</td>\n",
       "      <td>ABW</td>\n",
       "      <td>Life expectancy at birth, total (years)</td>\n",
       "      <td>SP.DYN.LE00.IN</td>\n",
       "      <td>64.049000</td>\n",
       "      <td>64.215000</td>\n",
       "      <td>64.60200</td>\n",
       "      <td>64.944000</td>\n",
       "      <td>65.303000</td>\n",
       "      <td>65.615000</td>\n",
       "      <td>...</td>\n",
       "      <td>75.540000</td>\n",
       "      <td>75.620000</td>\n",
       "      <td>75.880000</td>\n",
       "      <td>76.019000</td>\n",
       "      <td>75.406000</td>\n",
       "      <td>73.655000</td>\n",
       "      <td>76.22600</td>\n",
       "      <td>76.353000</td>\n",
       "      <td>NaN</td>\n",
       "      <td>NaN</td>\n",
       "    </tr>\n",
       "    <tr>\n",
       "      <th>1</th>\n",
       "      <td>Africa Eastern and Southern</td>\n",
       "      <td>AFE</td>\n",
       "      <td>Life expectancy at birth, total (years)</td>\n",
       "      <td>SP.DYN.LE00.IN</td>\n",
       "      <td>44.169658</td>\n",
       "      <td>44.468838</td>\n",
       "      <td>44.87789</td>\n",
       "      <td>45.160583</td>\n",
       "      <td>45.535695</td>\n",
       "      <td>45.770723</td>\n",
       "      <td>...</td>\n",
       "      <td>62.167981</td>\n",
       "      <td>62.591275</td>\n",
       "      <td>63.330691</td>\n",
       "      <td>63.857261</td>\n",
       "      <td>63.766484</td>\n",
       "      <td>62.979999</td>\n",
       "      <td>64.48702</td>\n",
       "      <td>65.146291</td>\n",
       "      <td>NaN</td>\n",
       "      <td>NaN</td>\n",
       "    </tr>\n",
       "  </tbody>\n",
       "</table>\n",
       "<p>2 rows × 70 columns</p>\n",
       "</div>"
      ],
      "text/plain": [
       "                  Country Name Country Code  \\\n",
       "0                        Aruba          ABW   \n",
       "1  Africa Eastern and Southern          AFE   \n",
       "\n",
       "                            Indicator Name  Indicator Code       1960  \\\n",
       "0  Life expectancy at birth, total (years)  SP.DYN.LE00.IN  64.049000   \n",
       "1  Life expectancy at birth, total (years)  SP.DYN.LE00.IN  44.169658   \n",
       "\n",
       "        1961      1962       1963       1964       1965  ...       2016  \\\n",
       "0  64.215000  64.60200  64.944000  65.303000  65.615000  ...  75.540000   \n",
       "1  44.468838  44.87789  45.160583  45.535695  45.770723  ...  62.167981   \n",
       "\n",
       "        2017       2018       2019       2020       2021      2022       2023  \\\n",
       "0  75.620000  75.880000  76.019000  75.406000  73.655000  76.22600  76.353000   \n",
       "1  62.591275  63.330691  63.857261  63.766484  62.979999  64.48702  65.146291   \n",
       "\n",
       "   2024  Unnamed: 69  \n",
       "0   NaN          NaN  \n",
       "1   NaN          NaN  \n",
       "\n",
       "[2 rows x 70 columns]"
      ]
     },
     "execution_count": 408,
     "metadata": {},
     "output_type": "execute_result"
    }
   ],
   "source": [
    "life_expectancy = pd.read_csv(\"../data/life_expectancy.csv\", skiprows=4)\n",
    "life_expectancy.head(2) #skipped first 4 rows in order to properly read in the data and skip redundant info"
   ]
  },
  {
   "cell_type": "markdown",
   "id": "e85d8431-679c-4636-a260-f93f888f60eb",
   "metadata": {
    "jp-MarkdownHeadingCollapsed": true
   },
   "source": [
    "#### 22. Drop the Country Code, Indicator Name, and Indicator Code columns. Then use .melt() to convert your data from wide to long. That is, instead of having one row per country and multiple colums per year, we want to have multiple rows per country and a single column for year. After melting, rename the columns to Country, Year, and Life_Expectancy."
   ]
  },
  {
   "cell_type": "code",
   "execution_count": 415,
   "id": "91405b6e-468b-44f1-a5a2-ecb56e2d42a4",
   "metadata": {},
   "outputs": [
    {
     "data": {
      "text/html": [
       "<div>\n",
       "<style scoped>\n",
       "    .dataframe tbody tr th:only-of-type {\n",
       "        vertical-align: middle;\n",
       "    }\n",
       "\n",
       "    .dataframe tbody tr th {\n",
       "        vertical-align: top;\n",
       "    }\n",
       "\n",
       "    .dataframe thead th {\n",
       "        text-align: right;\n",
       "    }\n",
       "</style>\n",
       "<table border=\"1\" class=\"dataframe\">\n",
       "  <thead>\n",
       "    <tr style=\"text-align: right;\">\n",
       "      <th></th>\n",
       "      <th>Country</th>\n",
       "      <th>Year</th>\n",
       "      <th>Life_Expectancy</th>\n",
       "    </tr>\n",
       "  </thead>\n",
       "  <tbody>\n",
       "    <tr>\n",
       "      <th>0</th>\n",
       "      <td>Aruba</td>\n",
       "      <td>1960</td>\n",
       "      <td>64.049000</td>\n",
       "    </tr>\n",
       "    <tr>\n",
       "      <th>1</th>\n",
       "      <td>Africa Eastern and Southern</td>\n",
       "      <td>1960</td>\n",
       "      <td>44.169658</td>\n",
       "    </tr>\n",
       "  </tbody>\n",
       "</table>\n",
       "</div>"
      ],
      "text/plain": [
       "                       Country  Year  Life_Expectancy\n",
       "0                        Aruba  1960        64.049000\n",
       "1  Africa Eastern and Southern  1960        44.169658"
      ]
     },
     "execution_count": 415,
     "metadata": {},
     "output_type": "execute_result"
    }
   ],
   "source": [
    "life_expectancy_melt = (\n",
    "    life_expectancy\n",
    "    .drop(columns = ['Country Code', 'Indicator Name', 'Indicator Code', 'Unnamed: 69'])\n",
    "    .melt(id_vars = \"Country Name\", var_name = \"Year\", value_name = \"Life_Expectancy\")\n",
    "    .rename(columns = {\"Country Name\": \"Country\"})\n",
    ");\n",
    "life_expectancy_melt.head(2)"
   ]
  },
  {
   "cell_type": "markdown",
   "id": "954f3689-4820-4158-a4c9-ffb9cfde95ba",
   "metadata": {
    "jp-MarkdownHeadingCollapsed": true
   },
   "source": [
    "#### 23. What was the first country with a life expectancy to exceed 80?"
   ]
  },
  {
   "cell_type": "code",
   "execution_count": 491,
   "id": "8262f082-99e3-463b-bbe4-e95455d49dd4",
   "metadata": {},
   "outputs": [
    {
     "name": "stdout",
     "output_type": "stream",
     "text": [
      "Monaco was the 1st country with a life expectancy to exceed 80.\n"
     ]
    }
   ],
   "source": [
    "s = life_expectancy_melt.loc[life_expectancy_melt[\"Life_Expectancy\"] >= 80].sort_values('Year')['Country']\n",
    "for i, el in enumerate(s.to_numpy()):\n",
    "    if i == 0:\n",
    "     print(f'{el} was the {i+1}st country with a life expectancy to exceed 80.')\n",
    "    else:\n",
    "        i == 1\n",
    "    break  "
   ]
  },
  {
   "cell_type": "code",
   "execution_count": 493,
   "id": "0a757f9b-a983-438c-8ac3-26532b2e3ce6",
   "metadata": {},
   "outputs": [
    {
     "name": "stdout",
     "output_type": "stream",
     "text": [
      "The First country for life expectancy to exceed 80 is Monaco in 1992\n"
     ]
    }
   ],
   "source": [
    "#classmate, Sarah Mulloy's, code: create new dataframe with only rows with life expectancy over 80, and sort it by year\n",
    "year_by_expect= life_expectancy_melt.loc[life_expectancy_melt[\"Life_Expectancy\"] >= 80].sort_values(by='Year')\n",
    "\n",
    "#Filter the country and year info from this dataframe of the first country to achieve 80 life expectancy \n",
    "year_by_expect['Year']= year_by_expect['Year'].astype(int) #convert year values to integer to make filtering easier\n",
    "ctry_to_80= year_by_expect.nsmallest(1, 'Year', keep='all')['Country'] #pull out smallest, aka first year to reach 80, and pull out the country name from the dataframe\n",
    "year_to_80= year_by_expect.nsmallest(1, 'Year', keep='all')['Year']\n",
    "print(f'The First country for life expectancy to exceed 80 is {ctry_to_80.values[0]} in {year_to_80.values[0]}')"
   ]
  },
  {
   "cell_type": "markdown",
   "id": "a075342c-f2d2-4c15-8838-c237c22435d1",
   "metadata": {
    "jp-MarkdownHeadingCollapsed": true
   },
   "source": [
    "#### 24. Merge gdp_df and life_expectancy, keeping all countries and years that appear in both DataFrames. Save the result to a new DataFrame named gdp_le. If you get any errors in doing this, read them carefully and correct them. Look at the first five rows of your new data frame to confirm it merged correctly. Also, check the last five rows to make sure the data is clean and as expected."
   ]
  },
  {
   "cell_type": "code",
   "execution_count": 495,
   "id": "49a49957-d201-4df5-8ad1-6014c02edea6",
   "metadata": {},
   "outputs": [
    {
     "data": {
      "text/html": [
       "<div>\n",
       "<style scoped>\n",
       "    .dataframe tbody tr th:only-of-type {\n",
       "        vertical-align: middle;\n",
       "    }\n",
       "\n",
       "    .dataframe tbody tr th {\n",
       "        vertical-align: top;\n",
       "    }\n",
       "\n",
       "    .dataframe thead th {\n",
       "        text-align: right;\n",
       "    }\n",
       "</style>\n",
       "<table border=\"1\" class=\"dataframe\">\n",
       "  <thead>\n",
       "    <tr style=\"text-align: right;\">\n",
       "      <th></th>\n",
       "      <th>Country</th>\n",
       "      <th>Year</th>\n",
       "      <th>Life_Expectancy</th>\n",
       "    </tr>\n",
       "  </thead>\n",
       "  <tbody>\n",
       "    <tr>\n",
       "      <th>0</th>\n",
       "      <td>Aruba</td>\n",
       "      <td>1960</td>\n",
       "      <td>64.049000</td>\n",
       "    </tr>\n",
       "    <tr>\n",
       "      <th>1</th>\n",
       "      <td>Africa Eastern and Southern</td>\n",
       "      <td>1960</td>\n",
       "      <td>44.169658</td>\n",
       "    </tr>\n",
       "  </tbody>\n",
       "</table>\n",
       "</div>"
      ],
      "text/plain": [
       "                       Country  Year  Life_Expectancy\n",
       "0                        Aruba  1960        64.049000\n",
       "1  Africa Eastern and Southern  1960        44.169658"
      ]
     },
     "execution_count": 495,
     "metadata": {},
     "output_type": "execute_result"
    }
   ],
   "source": [
    "life_expectancy_melt.head(2)"
   ]
  },
  {
   "cell_type": "code",
   "execution_count": 497,
   "id": "a023c501-f2a8-4fed-a35f-e03d3f3a2373",
   "metadata": {},
   "outputs": [
    {
     "data": {
      "text/plain": [
       "Country             object\n",
       "Year                object\n",
       "Life_Expectancy    float64\n",
       "dtype: object"
      ]
     },
     "execution_count": 497,
     "metadata": {},
     "output_type": "execute_result"
    }
   ],
   "source": [
    "life_expectancy_melt.dtypes #inspecting data types"
   ]
  },
  {
   "cell_type": "code",
   "execution_count": 499,
   "id": "10faeb66-9110-47df-87aa-ba0222741afd",
   "metadata": {},
   "outputs": [],
   "source": [
    "life_expectancy_melt[\"Year\"] = pd.to_numeric(life_expectancy_melt[\"Year\"], errors=\"coerce\") \n",
    "#converting to numeric without losing data unnecessarily"
   ]
  },
  {
   "cell_type": "code",
   "execution_count": 110,
   "id": "dbe14356-f750-4441-920b-3c056b71e069",
   "metadata": {},
   "outputs": [
    {
     "data": {
      "text/html": [
       "<div>\n",
       "<style scoped>\n",
       "    .dataframe tbody tr th:only-of-type {\n",
       "        vertical-align: middle;\n",
       "    }\n",
       "\n",
       "    .dataframe tbody tr th {\n",
       "        vertical-align: top;\n",
       "    }\n",
       "\n",
       "    .dataframe thead th {\n",
       "        text-align: right;\n",
       "    }\n",
       "</style>\n",
       "<table border=\"1\" class=\"dataframe\">\n",
       "  <thead>\n",
       "    <tr style=\"text-align: right;\">\n",
       "      <th></th>\n",
       "      <th>Country</th>\n",
       "      <th>Year</th>\n",
       "      <th>Life_Expectancy</th>\n",
       "    </tr>\n",
       "  </thead>\n",
       "  <tbody>\n",
       "    <tr>\n",
       "      <th>17288</th>\n",
       "      <td>Zambia</td>\n",
       "      <td>2024</td>\n",
       "      <td>NaN</td>\n",
       "    </tr>\n",
       "    <tr>\n",
       "      <th>17289</th>\n",
       "      <td>Zimbabwe</td>\n",
       "      <td>2024</td>\n",
       "      <td>NaN</td>\n",
       "    </tr>\n",
       "  </tbody>\n",
       "</table>\n",
       "</div>"
      ],
      "text/plain": [
       "        Country  Year  Life_Expectancy\n",
       "17288    Zambia  2024              NaN\n",
       "17289  Zimbabwe  2024              NaN"
      ]
     },
     "execution_count": 110,
     "metadata": {},
     "output_type": "execute_result"
    }
   ],
   "source": [
    "life_expectancy_melt.tail(2)"
   ]
  },
  {
   "cell_type": "code",
   "execution_count": 501,
   "id": "3b0e5d14-5804-4e3e-ba43-7adc2219a15b",
   "metadata": {},
   "outputs": [],
   "source": [
    "gdp_df[\"Year\"] = pd.to_numeric(gdp_df[\"Year\"], errors=\"coerce\") #converting to numeric without losing data unnecessarily"
   ]
  },
  {
   "cell_type": "code",
   "execution_count": 503,
   "id": "cdb5a925-0692-4d70-88dd-bf149d9f9369",
   "metadata": {},
   "outputs": [
    {
     "data": {
      "text/html": [
       "<div>\n",
       "<style scoped>\n",
       "    .dataframe tbody tr th:only-of-type {\n",
       "        vertical-align: middle;\n",
       "    }\n",
       "\n",
       "    .dataframe tbody tr th {\n",
       "        vertical-align: top;\n",
       "    }\n",
       "\n",
       "    .dataframe thead th {\n",
       "        text-align: right;\n",
       "    }\n",
       "</style>\n",
       "<table border=\"1\" class=\"dataframe\">\n",
       "  <thead>\n",
       "    <tr style=\"text-align: right;\">\n",
       "      <th></th>\n",
       "      <th>Country</th>\n",
       "      <th>Year</th>\n",
       "      <th>Life_Expectancy</th>\n",
       "      <th>GDP_Per_Capita</th>\n",
       "      <th>Continent</th>\n",
       "    </tr>\n",
       "  </thead>\n",
       "  <tbody>\n",
       "    <tr>\n",
       "      <th>0</th>\n",
       "      <td>Aruba</td>\n",
       "      <td>1990</td>\n",
       "      <td>72.546</td>\n",
       "      <td>34579.220640</td>\n",
       "      <td>North America</td>\n",
       "    </tr>\n",
       "    <tr>\n",
       "      <th>1</th>\n",
       "      <td>Angola</td>\n",
       "      <td>1990</td>\n",
       "      <td>41.854</td>\n",
       "      <td>7391.752354</td>\n",
       "      <td>Africa</td>\n",
       "    </tr>\n",
       "  </tbody>\n",
       "</table>\n",
       "</div>"
      ],
      "text/plain": [
       "  Country  Year  Life_Expectancy  GDP_Per_Capita      Continent\n",
       "0   Aruba  1990           72.546    34579.220640  North America\n",
       "1  Angola  1990           41.854     7391.752354         Africa"
      ]
     },
     "execution_count": 503,
     "metadata": {},
     "output_type": "execute_result"
    }
   ],
   "source": [
    "gdp_le = pd.merge(\n",
    "    left=life_expectancy_melt,\n",
    "    right=gdp_df,\n",
    "    left_on=[\"Country\", \"Year\"],\n",
    "    right_on=[\"Country\", \"Year\"],\n",
    "    how=\"inner\",\n",
    "    validate=\"one_to_one\"\n",
    ")\n",
    "gdp_le.head(2)"
   ]
  },
  {
   "cell_type": "markdown",
   "id": "58bf3745-9387-4a5a-adc8-7630db5a625c",
   "metadata": {
    "jp-MarkdownHeadingCollapsed": true
   },
   "source": [
    "#### 25. Create a new DataFrame, named gdp_le_2021 by extracting data for the year 2021 from gdp_le. How many countries have a life expectancy of at least 80 in 2021?"
   ]
  },
  {
   "cell_type": "code",
   "execution_count": 519,
   "id": "83158b54-8f5a-44f4-9610-2347e586cb6f",
   "metadata": {},
   "outputs": [],
   "source": [
    "gdp_le_2021 = gdp_le[gdp_le[\"Year\"]==2021]"
   ]
  },
  {
   "cell_type": "code",
   "execution_count": 521,
   "id": "0a4add7d-e8c8-450d-b6ae-0ac705059eb9",
   "metadata": {},
   "outputs": [
    {
     "data": {
      "text/plain": [
       "33"
      ]
     },
     "execution_count": 521,
     "metadata": {},
     "output_type": "execute_result"
    }
   ],
   "source": [
    "(gdp_le_2021[\"Life_Expectancy\"]>= 80).sum()#.count()#.iloc[0]\n",
    "# would like print statment instead of just this simple number with no explanation"
   ]
  },
  {
   "cell_type": "code",
   "execution_count": 528,
   "id": "32ae2ca0-b68d-4513-98d4-028e0f293c96",
   "metadata": {},
   "outputs": [
    {
     "name": "stdout",
     "output_type": "stream",
     "text": [
      "There are 33 countries that have a life expectancy of at least 80 in 2021.\n"
     ]
    }
   ],
   "source": [
    "print(f'There are {gdp_le_2021[gdp_le_2021[\"Life_Expectancy\"]>= 80].count().iloc[0]} countries that have a life expectancy of at least 80 in 2021.')"
   ]
  },
  {
   "cell_type": "markdown",
   "id": "0e01c6bf-e274-4a44-b168-18fcdbbcc751",
   "metadata": {
    "jp-MarkdownHeadingCollapsed": true
   },
   "source": [
    "#### 26. Find the countries that had the top 3 largest GDP per capita figures for 2021. Create a seaborn FacetGrid showing the change in life expectancy over time for these three countries. Each individual figure in the facet grid will represent a single country.\r\n",
    "\r\n"
   ]
  },
  {
   "cell_type": "code",
   "execution_count": 540,
   "id": "0d14a9a9-d15e-48a8-8c76-0701c79f4c63",
   "metadata": {},
   "outputs": [
    {
     "data": {
      "text/plain": [
       "<seaborn.axisgrid.FacetGrid at 0x147ae09ac90>"
      ]
     },
     "execution_count": 540,
     "metadata": {},
     "output_type": "execute_result"
    },
    {
     "data": {
      "image/png": "[encoded data removed]",
      "text/plain": [
       "<Figure size 900x300 with 3 Axes>"
      ]
     },
     "metadata": {},
     "output_type": "display_data"
    }
   ],
   "source": [
    "g = sns.FacetGrid(\n",
    "    gdp_le[gdp_le['Country'].isin(gdp_le_2021.nlargest(3, 'GDP_Per_Capita')['Country'])], #top 3\n",
    "    col=\"Country\", \n",
    ")\n",
    "g.map(plt.plot, 'Year', 'Life_Expectancy')"
   ]
  },
  {
   "cell_type": "markdown",
   "id": "5afe0ac6-d98c-4915-9029-c6faedc33ef6",
   "metadata": {
    "jp-MarkdownHeadingCollapsed": true
   },
   "source": [
    "#### 27. Create a scatter plot of Life Expectancy vs GDP per Capita for the year 2021. What do you notice?"
   ]
  },
  {
   "cell_type": "markdown",
   "id": "0ff5e198-c259-48b0-8436-38611eecbddf",
   "metadata": {},
   "source": [
    "There may be a positive correlation between life expectancy and GDP per capita"
   ]
  },
  {
   "cell_type": "code",
   "execution_count": 546,
   "id": "9b895d6f-17a9-4d31-934c-9aa1fef2d00d",
   "metadata": {},
   "outputs": [
    {
     "data": {
      "image/png": "[encoded data removed]",
      "text/plain": [
       "<Figure size 640x480 with 1 Axes>"
      ]
     },
     "metadata": {},
     "output_type": "display_data"
    }
   ],
   "source": [
    "gdp_le[gdp_le[\"Year\"] == 2021].plot(\n",
    "    kind=\"scatter\",\n",
    "    x=\"Life_Expectancy\",\n",
    "    y=\"GDP_Per_Capita\",\n",
    "    alpha=0.5\n",
    ");"
   ]
  },
  {
   "cell_type": "code",
   "execution_count": 131,
   "id": "f40da589-3676-4f21-bbeb-30d67735a8f2",
   "metadata": {},
   "outputs": [
    {
     "data": {
      "image/png": "[encoded data removed]",
      "text/plain": [
       "<Figure size 640x480 with 1 Axes>"
      ]
     },
     "metadata": {},
     "output_type": "display_data"
    }
   ],
   "source": [
    "sns.scatterplot(\n",
    "    data=gdp_le[gdp_le['Year'] == 2021],\n",
    "    x=\"Life_Expectancy\",\n",
    "    y=\"GDP_Per_Capita\",\n",
    "    hue=\"Continent\"\n",
    ");"
   ]
  },
  {
   "cell_type": "markdown",
   "id": "e70baaf3-6b80-472a-a547-88637d6e9aaa",
   "metadata": {
    "jp-MarkdownHeadingCollapsed": true
   },
   "source": [
    "#### 28. Find the correlation between Life Expectancy and GDP per Capita for the year 2021. What is the meaning of this number?"
   ]
  },
  {
   "cell_type": "code",
   "execution_count": 554,
   "id": "c520224a-5030-4921-8ddf-2ff11795c9d9",
   "metadata": {},
   "outputs": [
    {
     "data": {
      "text/html": [
       "<div>\n",
       "<style scoped>\n",
       "    .dataframe tbody tr th:only-of-type {\n",
       "        vertical-align: middle;\n",
       "    }\n",
       "\n",
       "    .dataframe tbody tr th {\n",
       "        vertical-align: top;\n",
       "    }\n",
       "\n",
       "    .dataframe thead th {\n",
       "        text-align: right;\n",
       "    }\n",
       "</style>\n",
       "<table border=\"1\" class=\"dataframe\">\n",
       "  <thead>\n",
       "    <tr style=\"text-align: right;\">\n",
       "      <th></th>\n",
       "      <th>Life_Expectancy</th>\n",
       "      <th>GDP_Per_Capita</th>\n",
       "    </tr>\n",
       "  </thead>\n",
       "  <tbody>\n",
       "    <tr>\n",
       "      <th>Life_Expectancy</th>\n",
       "      <td>1.000000</td>\n",
       "      <td>0.752785</td>\n",
       "    </tr>\n",
       "    <tr>\n",
       "      <th>GDP_Per_Capita</th>\n",
       "      <td>0.752785</td>\n",
       "      <td>1.000000</td>\n",
       "    </tr>\n",
       "  </tbody>\n",
       "</table>\n",
       "</div>"
      ],
      "text/plain": [
       "                 Life_Expectancy  GDP_Per_Capita\n",
       "Life_Expectancy         1.000000        0.752785\n",
       "GDP_Per_Capita          0.752785        1.000000"
      ]
     },
     "execution_count": 554,
     "metadata": {},
     "output_type": "execute_result"
    }
   ],
   "source": [
    "gdp_le_2021 = gdp_le[gdp_le[\"Year\"] == 2021].copy()\n",
    "gdp_le_2021[['Life_Expectancy', 'GDP_Per_Capita']].corr()"
   ]
  },
  {
   "cell_type": "code",
   "execution_count": 579,
   "id": "2eb5c679-ea47-4e5a-b6bd-dd0d43b40570",
   "metadata": {},
   "outputs": [
    {
     "name": "stdout",
     "output_type": "stream",
     "text": [
      "The value of 0.7527849922684221 demonstrates that there is a pretty strong correlation.\n"
     ]
    }
   ],
   "source": [
    "gdp_le_2021 = gdp_le[gdp_le[\"Year\"] == 2021].copy()\n",
    "print(f'The value of {gdp_le_2021[['Life_Expectancy', 'GDP_Per_Capita']].corr()['GDP_Per_Capita'].iloc[0]} demonstrates that there is a pretty strong correlation.')"
   ]
  },
  {
   "cell_type": "markdown",
   "id": "2cc6010c-dde4-4b85-8496-1ee5d28f5466",
   "metadata": {
    "jp-MarkdownHeadingCollapsed": true
   },
   "source": [
    "#### 29. Add a column to gdp_le_2021 and calculate the logarithm of GDP per capita. \n",
    "#### Find the correlation between the log of GDP per capita and life expectancy. \n",
    "#### How does this compare to the calculation in the previous part? \n",
    "#### Look at a scatter plot to see if the result of this calculation makes sense."
   ]
  },
  {
   "cell_type": "code",
   "execution_count": 660,
   "id": "41fcb8c6-090f-4e94-8d80-4ec6af351806",
   "metadata": {},
   "outputs": [],
   "source": [
    "gdp_le_2021[\"GDP_Per_Capita_log\"] = np.log(gdp_le_2021[\"GDP_Per_Capita\"]) \n",
    "#Add a column to gdp_le_2021 and calculate the logarithm of GDP per capita."
   ]
  },
  {
   "cell_type": "markdown",
   "id": "559d9067-41a9-444e-9500-7d3067ee0121",
   "metadata": {},
   "source": [
    "How does this compare to the calculation in the previous part? "
   ]
  },
  {
   "cell_type": "code",
   "execution_count": 650,
   "id": "fb4bc9db-a93f-4854-8c56-474890d04cc6",
   "metadata": {},
   "outputs": [
    {
     "data": {
      "text/html": [
       "<div>\n",
       "<style scoped>\n",
       "    .dataframe tbody tr th:only-of-type {\n",
       "        vertical-align: middle;\n",
       "    }\n",
       "\n",
       "    .dataframe tbody tr th {\n",
       "        vertical-align: top;\n",
       "    }\n",
       "\n",
       "    .dataframe thead th {\n",
       "        text-align: right;\n",
       "    }\n",
       "</style>\n",
       "<table border=\"1\" class=\"dataframe\">\n",
       "  <thead>\n",
       "    <tr style=\"text-align: right;\">\n",
       "      <th></th>\n",
       "      <th>Life_Expectancy</th>\n",
       "      <th>GDP_Per_Capita</th>\n",
       "      <th>GDP_Per_Capita_log</th>\n",
       "    </tr>\n",
       "  </thead>\n",
       "  <tbody>\n",
       "    <tr>\n",
       "      <th>Life_Expectancy</th>\n",
       "      <td>1.000000</td>\n",
       "      <td>0.752785</td>\n",
       "      <td>0.849065</td>\n",
       "    </tr>\n",
       "    <tr>\n",
       "      <th>GDP_Per_Capita</th>\n",
       "      <td>0.752785</td>\n",
       "      <td>1.000000</td>\n",
       "      <td>0.857318</td>\n",
       "    </tr>\n",
       "    <tr>\n",
       "      <th>GDP_Per_Capita_log</th>\n",
       "      <td>0.849065</td>\n",
       "      <td>0.857318</td>\n",
       "      <td>1.000000</td>\n",
       "    </tr>\n",
       "  </tbody>\n",
       "</table>\n",
       "</div>"
      ],
      "text/plain": [
       "                    Life_Expectancy  GDP_Per_Capita  GDP_Per_Capita_log\n",
       "Life_Expectancy            1.000000        0.752785            0.849065\n",
       "GDP_Per_Capita             0.752785        1.000000            0.857318\n",
       "GDP_Per_Capita_log         0.849065        0.857318            1.000000"
      ]
     },
     "execution_count": 650,
     "metadata": {},
     "output_type": "execute_result"
    }
   ],
   "source": [
    "gdp_le_2021[['Life_Expectancy', 'GDP_Per_Capita', 'GDP_Per_Capita_log']].corr()"
   ]
  },
  {
   "cell_type": "code",
   "execution_count": 670,
   "id": "8d575d6f-91bc-459b-bb65-33ca4561fb5f",
   "metadata": {},
   "outputs": [
    {
     "name": "stdout",
     "output_type": "stream",
     "text": [
      "The value 0.8490647859471863 demonstrates a \n",
      "stronger correlation between Life Expectancy \n",
      "and GDP Per Capita than originally thought.\n"
     ]
    }
   ],
   "source": [
    "print(f'The value {gdp_le_2021[['Life_Expectancy', 'GDP_Per_Capita', 'GDP_Per_Capita_log']].corr()['GDP_Per_Capita_log'].iloc[0]} demonstrates a \\nstronger correlation between Life Expectancy \\nand GDP Per Capita than originally thought.')"
   ]
  },
  {
   "cell_type": "markdown",
   "id": "b22e62de-f867-4353-bde3-ef94a4376b99",
   "metadata": {},
   "source": [
    "There seems to be a higher positive correlation between Life Expectancy and GDP Per Capita. It is a curved relationship: while one variable increases the other variable increases at a higher rate. The scatterplot below appears to be consistent with the previous findings. "
   ]
  },
  {
   "cell_type": "code",
   "execution_count": 674,
   "id": "7a69dda0-93ea-4964-ab38-0de4ce54779b",
   "metadata": {},
   "outputs": [
    {
     "data": {
      "image/png": "[encoded data removed]",
      "text/plain": [
       "<Figure size 640x480 with 1 Axes>"
      ]
     },
     "metadata": {},
     "output_type": "display_data"
    }
   ],
   "source": [
    "sns.scatterplot(\n",
    "    data=gdp_le_2021,\n",
    "    x=\"Life_Expectancy\",\n",
    "    y=\"GDP_Per_Capita_log\",\n",
    "    hue=\"Continent\"\n",
    ");"
   ]
  }
 ],
 "metadata": {
  "kernelspec": {
   "display_name": "Python 3 (ipykernel)",
   "language": "python",
   "name": "python3"
  },
  "language_info": {
   "codemirror_mode": {
    "name": "ipython",
    "version": 3
   },
   "file_extension": ".py",
   "mimetype": "text/x-python",
   "name": "python",
   "nbconvert_exporter": "python",
   "pygments_lexer": "ipython3",
   "version": "3.12.3"
  }
 },
 "nbformat": 4,
 "nbformat_minor": 5
}
