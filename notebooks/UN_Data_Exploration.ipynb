{
 "cells": [
  {
   "cell_type": "code",
   "execution_count": 1,
   "id": "bf6cef82-0156-4ac9-919f-9dbd2b84517a",
   "metadata": {},
   "outputs": [],
   "source": [
    "import pandas as pd\n",
    "import numpy as np\n",
    "import matplotlib.pyplot as plt\n",
    "import seaborn as sns"
   ]
  },
  {
   "cell_type": "markdown",
   "id": "fa8012a6-8890-416a-be21-92ceefd49180",
   "metadata": {},
   "source": [
    "# An Exploration of UN data\n",
    "------------------\n",
    "-----------------"
   ]
  },
  {
   "cell_type": "markdown",
   "id": "f528cd9b-706a-4b06-9f50-f56b0309cbe0",
   "metadata": {},
   "source": [
    "In this project, you will do some exploratory analysis on two country-level metrics, gross domestic product (GDP) per capita and overall life expectancy. After completing the guided practice section, you will have a chance to find some additional data and do some more exploring."
   ]
  },
  {
   "cell_type": "markdown",
   "id": "0c453983-4c11-4580-a4c0-ae61992db277",
   "metadata": {},
   "source": [
    "## Guided Practice\r",
    "--------------\n",
    "\n"
   ]
  },
  {
   "cell_type": "markdown",
   "id": "d91f57a0-c36a-4145-9b33-ebb2e55e650e",
   "metadata": {
    "jp-MarkdownHeadingCollapsed": true
   },
   "source": [
    "#### 1. Download the Gross Domestic Product (GDP) per capita [dataset](http://data.un.org/Data.aspx?d=WDI&f=Indicator_Code%3aNY.GDP.PCAP.PP.KD).  Rename it to gdp_per_capita.csv and place it in the data folder of your project repository. "
   ]
  },
  {
   "cell_type": "markdown",
   "id": "ccbd1cf1-f600-43bb-815e-85bc63459a23",
   "metadata": {
    "jp-MarkdownHeadingCollapsed": true
   },
   "source": [
    "#### 2. Create a Jupyter Notebook in the notebooks folder and name it UN_Data_Exploration.n."
   ]
  },
  {
   "cell_type": "markdown",
   "id": "272c8c69-c5bf-4596-9381-7b9657b54743",
   "metadata": {},
   "source": [
    "You will get errors along the way. When you do, read the errors to try to understand what was happening and how to correct it. Use markdown cells to record your answers to any questions asked in this exercise.\n"
   ]
  },
  {
   "cell_type": "markdown",
   "id": "93c179df-fbd9-4fcf-b7fc-6c46ffb8a0fd",
   "metadata": {
    "jp-MarkdownHeadingCollapsed": true
   },
   "source": [
    "#### 3. In the first cell of your notebook, import the required packages with their customary aliases as at the very top of this notebook. ^^^^\n",
    "\n",
    "```\n",
    "import pandas as pd\n",
    "import numpy as np\n",
    "import matplotlib.pyplot as plt\n",
    "import seaborn as sns\n",
    "```"
   ]
  },
  {
   "cell_type": "markdown",
   "id": "0773fb6a-1d1e-4d78-bbf2-9aeb961ba620",
   "metadata": {},
   "source": [
    "#### 4. Using the pandas read_csv() function, read the GDP dataset into your notebook as a DataFrame called gdp_df. After reading it in, inspect the first 10 rows and then inspect the last 10 rows."
   ]
  },
  {
   "cell_type": "code",
   "execution_count": 658,
   "id": "99730d30-86df-4c7b-8bbe-d4bb0f77dddc",
   "metadata": {},
   "outputs": [
    {
     "data": {
      "text/html": [
       "<div>\n",
       "<style scoped>\n",
       "    .dataframe tbody tr th:only-of-type {\n",
       "        vertical-align: middle;\n",
       "    }\n",
       "\n",
       "    .dataframe tbody tr th {\n",
       "        vertical-align: top;\n",
       "    }\n",
       "\n",
       "    .dataframe thead th {\n",
       "        text-align: right;\n",
       "    }\n",
       "</style>\n",
       "<table border=\"1\" class=\"dataframe\">\n",
       "  <thead>\n",
       "    <tr style=\"text-align: right;\">\n",
       "      <th></th>\n",
       "      <th>Country or Area</th>\n",
       "      <th>Year</th>\n",
       "      <th>Value</th>\n",
       "      <th>Value Footnotes</th>\n",
       "    </tr>\n",
       "  </thead>\n",
       "  <tbody>\n",
       "    <tr>\n",
       "      <th>0</th>\n",
       "      <td>Afghanistan</td>\n",
       "      <td>2023</td>\n",
       "      <td>1992.424394</td>\n",
       "      <td>NaN</td>\n",
       "    </tr>\n",
       "    <tr>\n",
       "      <th>1</th>\n",
       "      <td>Afghanistan</td>\n",
       "      <td>2022</td>\n",
       "      <td>1981.710168</td>\n",
       "      <td>NaN</td>\n",
       "    </tr>\n",
       "    <tr>\n",
       "      <th>2</th>\n",
       "      <td>Afghanistan</td>\n",
       "      <td>2021</td>\n",
       "      <td>2144.166570</td>\n",
       "      <td>NaN</td>\n",
       "    </tr>\n",
       "    <tr>\n",
       "      <th>3</th>\n",
       "      <td>Afghanistan</td>\n",
       "      <td>2020</td>\n",
       "      <td>2769.685745</td>\n",
       "      <td>NaN</td>\n",
       "    </tr>\n",
       "    <tr>\n",
       "      <th>4</th>\n",
       "      <td>Afghanistan</td>\n",
       "      <td>2019</td>\n",
       "      <td>2927.245144</td>\n",
       "      <td>NaN</td>\n",
       "    </tr>\n",
       "    <tr>\n",
       "      <th>5</th>\n",
       "      <td>Afghanistan</td>\n",
       "      <td>2018</td>\n",
       "      <td>2902.392113</td>\n",
       "      <td>NaN</td>\n",
       "    </tr>\n",
       "    <tr>\n",
       "      <th>6</th>\n",
       "      <td>Afghanistan</td>\n",
       "      <td>2017</td>\n",
       "      <td>2952.998916</td>\n",
       "      <td>NaN</td>\n",
       "    </tr>\n",
       "    <tr>\n",
       "      <th>7</th>\n",
       "      <td>Afghanistan</td>\n",
       "      <td>2016</td>\n",
       "      <td>2958.785399</td>\n",
       "      <td>NaN</td>\n",
       "    </tr>\n",
       "    <tr>\n",
       "      <th>8</th>\n",
       "      <td>Afghanistan</td>\n",
       "      <td>2015</td>\n",
       "      <td>2967.692067</td>\n",
       "      <td>NaN</td>\n",
       "    </tr>\n",
       "    <tr>\n",
       "      <th>9</th>\n",
       "      <td>Afghanistan</td>\n",
       "      <td>2014</td>\n",
       "      <td>3017.942544</td>\n",
       "      <td>NaN</td>\n",
       "    </tr>\n",
       "  </tbody>\n",
       "</table>\n",
       "</div>"
      ],
      "text/plain": [
       "  Country or Area  Year        Value  Value Footnotes\n",
       "0     Afghanistan  2023  1992.424394              NaN\n",
       "1     Afghanistan  2022  1981.710168              NaN\n",
       "2     Afghanistan  2021  2144.166570              NaN\n",
       "3     Afghanistan  2020  2769.685745              NaN\n",
       "4     Afghanistan  2019  2927.245144              NaN\n",
       "5     Afghanistan  2018  2902.392113              NaN\n",
       "6     Afghanistan  2017  2952.998916              NaN\n",
       "7     Afghanistan  2016  2958.785399              NaN\n",
       "8     Afghanistan  2015  2967.692067              NaN\n",
       "9     Afghanistan  2014  3017.942544              NaN"
      ]
     },
     "execution_count": 658,
     "metadata": {},
     "output_type": "execute_result"
    }
   ],
   "source": [
    "gdp_df = pd.read_csv('../data/gdp_per_capita.csv')\n",
    "gdp_df.head(10)"
   ]
  },
  {
   "cell_type": "code",
   "execution_count": 660,
   "id": "90032586-11b4-4902-b39b-354bb896ac51",
   "metadata": {},
   "outputs": [
    {
     "data": {
      "text/html": [
       "<div>\n",
       "<style scoped>\n",
       "    .dataframe tbody tr th:only-of-type {\n",
       "        vertical-align: middle;\n",
       "    }\n",
       "\n",
       "    .dataframe tbody tr th {\n",
       "        vertical-align: top;\n",
       "    }\n",
       "\n",
       "    .dataframe thead th {\n",
       "        text-align: right;\n",
       "    }\n",
       "</style>\n",
       "<table border=\"1\" class=\"dataframe\">\n",
       "  <thead>\n",
       "    <tr style=\"text-align: right;\">\n",
       "      <th></th>\n",
       "      <th>Country or Area</th>\n",
       "      <th>Year</th>\n",
       "      <th>Value</th>\n",
       "      <th>Value Footnotes</th>\n",
       "    </tr>\n",
       "  </thead>\n",
       "  <tbody>\n",
       "    <tr>\n",
       "      <th>8209</th>\n",
       "      <td>Zimbabwe</td>\n",
       "      <td>1999</td>\n",
       "      <td>4238.195198</td>\n",
       "      <td>NaN</td>\n",
       "    </tr>\n",
       "    <tr>\n",
       "      <th>8210</th>\n",
       "      <td>Zimbabwe</td>\n",
       "      <td>1998</td>\n",
       "      <td>4342.858177</td>\n",
       "      <td>NaN</td>\n",
       "    </tr>\n",
       "    <tr>\n",
       "      <th>8211</th>\n",
       "      <td>Zimbabwe</td>\n",
       "      <td>1997</td>\n",
       "      <td>4304.406272</td>\n",
       "      <td>NaN</td>\n",
       "    </tr>\n",
       "    <tr>\n",
       "      <th>8212</th>\n",
       "      <td>Zimbabwe</td>\n",
       "      <td>1996</td>\n",
       "      <td>4271.479930</td>\n",
       "      <td>NaN</td>\n",
       "    </tr>\n",
       "    <tr>\n",
       "      <th>8213</th>\n",
       "      <td>Zimbabwe</td>\n",
       "      <td>1995</td>\n",
       "      <td>3935.280057</td>\n",
       "      <td>NaN</td>\n",
       "    </tr>\n",
       "    <tr>\n",
       "      <th>8214</th>\n",
       "      <td>Zimbabwe</td>\n",
       "      <td>1994</td>\n",
       "      <td>3965.730986</td>\n",
       "      <td>NaN</td>\n",
       "    </tr>\n",
       "    <tr>\n",
       "      <th>8215</th>\n",
       "      <td>Zimbabwe</td>\n",
       "      <td>1993</td>\n",
       "      <td>3634.750494</td>\n",
       "      <td>NaN</td>\n",
       "    </tr>\n",
       "    <tr>\n",
       "      <th>8216</th>\n",
       "      <td>Zimbabwe</td>\n",
       "      <td>1992</td>\n",
       "      <td>3649.891947</td>\n",
       "      <td>NaN</td>\n",
       "    </tr>\n",
       "    <tr>\n",
       "      <th>8217</th>\n",
       "      <td>Zimbabwe</td>\n",
       "      <td>1991</td>\n",
       "      <td>4126.405247</td>\n",
       "      <td>NaN</td>\n",
       "    </tr>\n",
       "    <tr>\n",
       "      <th>8218</th>\n",
       "      <td>Zimbabwe</td>\n",
       "      <td>1990</td>\n",
       "      <td>4013.299059</td>\n",
       "      <td>NaN</td>\n",
       "    </tr>\n",
       "  </tbody>\n",
       "</table>\n",
       "</div>"
      ],
      "text/plain": [
       "     Country or Area  Year        Value  Value Footnotes\n",
       "8209        Zimbabwe  1999  4238.195198              NaN\n",
       "8210        Zimbabwe  1998  4342.858177              NaN\n",
       "8211        Zimbabwe  1997  4304.406272              NaN\n",
       "8212        Zimbabwe  1996  4271.479930              NaN\n",
       "8213        Zimbabwe  1995  3935.280057              NaN\n",
       "8214        Zimbabwe  1994  3965.730986              NaN\n",
       "8215        Zimbabwe  1993  3634.750494              NaN\n",
       "8216        Zimbabwe  1992  3649.891947              NaN\n",
       "8217        Zimbabwe  1991  4126.405247              NaN\n",
       "8218        Zimbabwe  1990  4013.299059              NaN"
      ]
     },
     "execution_count": 660,
     "metadata": {},
     "output_type": "execute_result"
    }
   ],
   "source": [
    "gdp_df.tail(10)"
   ]
  },
  {
   "cell_type": "markdown",
   "id": "e1b2ea9d-ff51-4725-8bda-42677fba122b",
   "metadata": {},
   "source": [
    "#### 5. Drop the 'Value Footnotes' column, and rename the remaining columns to 'Country', 'Year', and 'GDP_Per_Capita'."
   ]
  },
  {
   "cell_type": "code",
   "execution_count": 663,
   "id": "772cca60-9ccb-4a28-9a6b-ba690458e9bb",
   "metadata": {},
   "outputs": [],
   "source": [
    "gdp_df= gdp_df.drop('Value Footnotes', axis=1).rename(columns={'Country or Area':'Country', 'Value': 'GDP_Per_Capita'})"
   ]
  },
  {
   "cell_type": "markdown",
   "id": "acceea47-641b-4dd1-a79d-e6371549cfb9",
   "metadata": {},
   "source": [
    "#### 6. How many rows and columns does gdp_df have? What are the data types of its columns? If any of the columns are not the expected types, figure out why and fix it."
   ]
  },
  {
   "cell_type": "code",
   "execution_count": 683,
   "id": "47bcb16e-60a5-4a05-b7f8-3ba06643b834",
   "metadata": {},
   "outputs": [
    {
     "name": "stdout",
     "output_type": "stream",
     "text": [
      "The dataframe gdp_df has 8219 rows and 3 columns.\n"
     ]
    }
   ],
   "source": [
    "rows = gdp_df.shape[0]\n",
    "columns = gdp_df.shape[1]\n",
    "print(f'The dataframe gdp_df has {rows} rows and {columns} columns.')"
   ]
  },
  {
   "cell_type": "markdown",
   "id": "801cb01a-bb32-43bc-98e3-477852f10e52",
   "metadata": {},
   "source": [
    "The following line of code reveals the data types of each column in gdp_df:"
   ]
  },
  {
   "cell_type": "code",
   "execution_count": 693,
   "id": "ca2a1d87-7198-49f6-b549-f661979294cc",
   "metadata": {},
   "outputs": [
    {
     "data": {
      "text/plain": [
       "Country            object\n",
       "Year                int64\n",
       "GDP_Per_Capita    float64\n",
       "dtype: object"
      ]
     },
     "execution_count": 693,
     "metadata": {},
     "output_type": "execute_result"
    }
   ],
   "source": [
    "gdp_df.dtypes"
   ]
  },
  {
   "cell_type": "code",
   "execution_count": 671,
   "id": "097a0088-f31b-4e1e-85d0-f5ab484a2aa6",
   "metadata": {},
   "outputs": [
    {
     "data": {
      "text/plain": [
       "array(['Afghanistan', 'Africa Eastern and Southern',\n",
       "       'Africa Western and Central', 'Albania', 'Algeria', 'Andorra',\n",
       "       'Angola', 'Antigua and Barbuda', 'Arab World', 'Argentina',\n",
       "       'Armenia', 'Aruba', 'Australia', 'Austria', 'Azerbaijan',\n",
       "       'Bahrain', 'Bangladesh', 'Barbados', 'Belarus', 'Belgium',\n",
       "       'Belize', 'Benin', 'Bermuda', 'Bhutan', 'Bolivia',\n",
       "       'Bosnia and Herzegovina', 'Botswana', 'Brazil', 'Brunei',\n",
       "       'Bulgaria', 'Burkina Faso', 'Burundi', \"CÃ´te d'Ivoire\",\n",
       "       'Cabo Verde', 'Cambodia', 'Cameroon', 'Canada',\n",
       "       'Caribbean small states', 'Cayman Islands',\n",
       "       'Central African Republic', 'Central Europe and the Baltics',\n",
       "       'Chad', 'Chile', 'China', 'Colombia', 'Comoros', 'Congo',\n",
       "       'Costa Rica', 'Croatia', 'CuraÃ§ao', 'Cyprus', 'Czechia',\n",
       "       'Dem. Rep. Congo', 'Denmark', 'Djibouti', 'Dominica',\n",
       "       'Dominican Republic', 'Early-demographic dividend',\n",
       "       'East Asia & Pacific',\n",
       "       'East Asia & Pacific (excluding high income)',\n",
       "       'East Asia & Pacific (IDA & IBRD)', 'Ecuador', 'Egypt',\n",
       "       'El Salvador', 'Equatorial Guinea', 'Estonia', 'Eswatini',\n",
       "       'Ethiopia', 'Euro area', 'Europe & Central Asia',\n",
       "       'Europe & Central Asia (excluding high income)',\n",
       "       'Europe & Central Asia (IDA & IBRD)', 'European Union',\n",
       "       'Faroe Islands', 'Fiji', 'Finland',\n",
       "       'Fragile and conflict affected situations', 'France', 'Gabon',\n",
       "       'Georgia', 'Germany', 'Ghana', 'Greece', 'Greenland', 'Grenada',\n",
       "       'Guatemala', 'Guinea', 'Guinea-Bissau', 'Guyana', 'Haiti',\n",
       "       'Heavily indebted poor countries (HIPC)', 'High income',\n",
       "       'Honduras', 'Hong Kong SAR, China', 'Hungary', 'IBRD only',\n",
       "       'Iceland', 'IDA & IBRD total', 'IDA blend', 'IDA only',\n",
       "       'IDA total', 'India', 'Indonesia', 'Iran', 'Iraq', 'Ireland',\n",
       "       'Israel', 'Italy', 'Jamaica', 'Japan', 'Jordan', 'Kazakhstan',\n",
       "       'Kenya', 'Kiribati', 'Korea', 'Kosovo', 'Kuwait',\n",
       "       'Kyrgyz Republic', 'Lao PDR', 'Late-demographic dividend',\n",
       "       'Latin America & Caribbean',\n",
       "       'Latin America & Caribbean (excluding high income)',\n",
       "       'Latin America & Caribbean (IDA & IBRD)', 'Latvia',\n",
       "       'Least developed countries: UN classification', 'Lebanon',\n",
       "       'Lesotho', 'Liberia', 'Libya', 'Lithuania', 'Low & middle income',\n",
       "       'Low income', 'Lower middle income', 'Luxembourg',\n",
       "       'Macao SAR, China', 'Madagascar', 'Malawi', 'Malaysia', 'Maldives',\n",
       "       'Mali', 'Malta', 'Marshall Islands', 'Mauritania', 'Mauritius',\n",
       "       'Mexico', 'Micronesia', 'Middle East & North Africa',\n",
       "       'Middle East & North Africa (excluding high income)',\n",
       "       'Middle East & North Africa (IDA & IBRD)', 'Middle income',\n",
       "       'Moldova', 'Mongolia', 'Montenegro', 'Morocco', 'Mozambique',\n",
       "       'Myanmar', 'Namibia', 'Nauru', 'Nepal', 'Netherlands',\n",
       "       'New Zealand', 'Nicaragua', 'Niger', 'Nigeria', 'North America',\n",
       "       'North Macedonia', 'Norway', 'OECD members', 'Oman',\n",
       "       'Other small states', 'Pacific island small states', 'Pakistan',\n",
       "       'Palau', 'Panama', 'Papua New Guinea', 'Paraguay', 'Peru',\n",
       "       'Philippines', 'Poland', 'Portugal', 'Post-demographic dividend',\n",
       "       'Pre-demographic dividend', 'Puerto Rico', 'Qatar', 'Romania',\n",
       "       'Russia', 'Rwanda', 'SÃ£o TomÃ© and Principe', 'Samoa',\n",
       "       'San Marino', 'Saudi Arabia', 'Senegal', 'Serbia', 'Seychelles',\n",
       "       'Sierra Leone', 'Singapore', 'Sint Maarten (Dutch part)',\n",
       "       'Slovak Republic', 'Slovenia', 'Small states', 'Solomon Islands',\n",
       "       'Somalia', 'South Africa', 'South Asia', 'South Asia (IDA & IBRD)',\n",
       "       'Spain', 'Sri Lanka', 'St. Kitts and Nevis', 'St. Lucia',\n",
       "       'St. Vincent and the Grenadines', 'Sub-Saharan Africa',\n",
       "       'Sub-Saharan Africa (excluding high income)',\n",
       "       'Sub-Saharan Africa (IDA & IBRD)', 'Sudan', 'Suriname', 'Sweden',\n",
       "       'Switzerland', 'Syrian Arab Republic', 'TÃ¼rkiye', 'Tajikistan',\n",
       "       'Tanzania', 'Thailand', 'The Bahamas', 'The Gambia', 'Timor-Leste',\n",
       "       'Togo', 'Tonga', 'Trinidad and Tobago', 'Tunisia', 'Turkmenistan',\n",
       "       'Turks and Caicos Islands', 'Tuvalu', 'Uganda', 'Ukraine',\n",
       "       'United Arab Emirates', 'United Kingdom', 'United States',\n",
       "       'Upper middle income', 'Uruguay', 'Uzbekistan', 'Vanuatu',\n",
       "       'Viet Nam', 'Virgin Islands', 'West Bank and Gaza', 'World',\n",
       "       'Zambia', 'Zimbabwe'], dtype=object)"
      ]
     },
     "execution_count": 671,
     "metadata": {},
     "output_type": "execute_result"
    }
   ],
   "source": [
    "gdp_df['Country'].unique()"
   ]
  },
  {
   "cell_type": "code",
   "execution_count": 699,
   "id": "8b1386eb-1e97-4bc9-ade5-5bdebb882aed",
   "metadata": {},
   "outputs": [],
   "source": [
    "gdp_df['Country'] = gdp_df['Country'].astype('string')"
   ]
  },
  {
   "cell_type": "code",
   "execution_count": 701,
   "id": "7f76710e-dc67-445f-a610-c205cb985779",
   "metadata": {},
   "outputs": [
    {
     "data": {
      "text/plain": [
       "Country           string[python]\n",
       "Year                       int64\n",
       "GDP_Per_Capita           float64\n",
       "dtype: object"
      ]
     },
     "execution_count": 701,
     "metadata": {},
     "output_type": "execute_result"
    }
   ],
   "source": [
    "gdp_df.dtypes"
   ]
  },
  {
   "cell_type": "code",
   "execution_count": 703,
   "id": "3051c623-f308-43d6-90ea-003d55af9169",
   "metadata": {},
   "outputs": [
    {
     "name": "stdout",
     "output_type": "stream",
     "text": [
      "<class 'pandas.core.frame.DataFrame'>\n",
      "RangeIndex: 8219 entries, 0 to 8218\n",
      "Data columns (total 3 columns):\n",
      " #   Column          Non-Null Count  Dtype  \n",
      "---  ------          --------------  -----  \n",
      " 0   Country         8219 non-null   string \n",
      " 1   Year            8219 non-null   int64  \n",
      " 2   GDP_Per_Capita  8219 non-null   float64\n",
      "dtypes: float64(1), int64(1), string(1)\n",
      "memory usage: 192.8 KB\n"
     ]
    }
   ],
   "source": [
    "gdp_df.info()"
   ]
  },
  {
   "cell_type": "markdown",
   "id": "c71de285-3df7-45ac-90bb-b3c8e089c53d",
   "metadata": {},
   "source": [
    "#### 7. Which years are represented in this dataset? Take a look at the number of observations per year. What do you notice?\r\n",
    "\r\n"
   ]
  },
  {
   "cell_type": "code",
   "execution_count": 423,
   "id": "af3bc977-96bd-45f1-b8ee-dc0302258b5d",
   "metadata": {},
   "outputs": [
    {
     "data": {
      "text/plain": [
       "Year\n",
       "2021    247\n",
       "2020    247\n",
       "2019    247\n",
       "2018    247\n",
       "2017    247\n",
       "2016    247\n",
       "2015    247\n",
       "2014    247\n",
       "2013    247\n",
       "2012    246\n",
       "2022    246\n",
       "2011    246\n",
       "2010    245\n",
       "2009    245\n",
       "2008    244\n",
       "2007    242\n",
       "2006    242\n",
       "2005    241\n",
       "2004    241\n",
       "2003    241\n",
       "2002    241\n",
       "2000    240\n",
       "2023    240\n",
       "2001    240\n",
       "1999    238\n",
       "1998    238\n",
       "1997    238\n",
       "1996    236\n",
       "1995    236\n",
       "1994    235\n",
       "1993    234\n",
       "1992    234\n",
       "1991    234\n",
       "1990    233\n",
       "Name: count, dtype: int64"
      ]
     },
     "execution_count": 423,
     "metadata": {},
     "output_type": "execute_result"
    }
   ],
   "source": [
    "gdp_drop_footnotes['Year'].value_counts()"
   ]
  },
  {
   "cell_type": "code",
   "execution_count": 424,
   "id": "01188266-ee27-4919-be22-a6991942faac",
   "metadata": {},
   "outputs": [],
   "source": [
    "hmm = gdp_drop_footnotes.groupby('Country')['GDP_Per_Capita'].count().sort_values()"
   ]
  },
  {
   "cell_type": "code",
   "execution_count": 426,
   "id": "e1ca323c-6eb7-4cff-aa92-2e4206f80b50",
   "metadata": {},
   "outputs": [
    {
     "data": {
      "text/plain": [
       "Country\n",
       "Djibouti                     11\n",
       "Turks and Caicos Islands     13\n",
       "Sint Maarten (Dutch part)    15\n",
       "Faroe Islands                16\n",
       "Kosovo                       16\n",
       "Cayman Islands               18\n",
       "Virgin Islands               21\n",
       "CuraÃ§ao                     24\n",
       "Afghanistan                  24\n",
       "San Marino                   26\n",
       "Montenegro                   27\n",
       "Serbia                       29\n",
       "West Bank and Gaza           30\n",
       "Greenland                    32\n",
       "Syrian Arab Republic         33\n",
       "Somalia                      33\n",
       "Tonga                        33\n",
       "Bhutan                       33\n",
       "Lebanon                      33\n",
       "Name: GDP_Per_Capita, dtype: int64"
      ]
     },
     "execution_count": 426,
     "metadata": {},
     "output_type": "execute_result"
    }
   ],
   "source": [
    "hmm[hmm < 34]"
   ]
  },
  {
   "cell_type": "code",
   "execution_count": 428,
   "id": "a2a031e8-057b-421c-bf59-6a7b3ce7d23a",
   "metadata": {},
   "outputs": [
    {
     "data": {
      "text/plain": [
       "Country\n",
       "Djibouti                     11\n",
       "Turks and Caicos Islands     13\n",
       "Sint Maarten (Dutch part)    15\n",
       "Faroe Islands                16\n",
       "Kosovo                       16\n",
       "Cayman Islands               18\n",
       "Virgin Islands               21\n",
       "CuraÃ§ao                     24\n",
       "Afghanistan                  24\n",
       "San Marino                   26\n",
       "Name: GDP_Per_Capita, dtype: int64"
      ]
     },
     "execution_count": 428,
     "metadata": {},
     "output_type": "execute_result"
    }
   ],
   "source": [
    "hmm.nsmallest(n=10, keep='all')"
   ]
  },
  {
   "cell_type": "markdown",
   "id": "1ae54829-8558-43c0-852d-e43d3fd1d5ce",
   "metadata": {},
   "source": [
    "###### I notice that the further in the past the date is the fewer instances of that year are located in the Year column. "
   ]
  },
  {
   "cell_type": "markdown",
   "id": "8c9ccf36-412f-4326-846e-091e1768da30",
   "metadata": {},
   "source": [
    "#### 8. How many countries are represented in this dataset? Which countries are least represented in the dataset? Why do you think these countries have so few observations?"
   ]
  },
  {
   "cell_type": "code",
   "execution_count": 432,
   "id": "6cf50ca6-72d4-43a9-82fa-b28587e9ee83",
   "metadata": {},
   "outputs": [
    {
     "data": {
      "text/plain": [
       "<StringArray>\n",
       "[                'Afghanistan', 'Africa Eastern and Southern',\n",
       "  'Africa Western and Central',                     'Albania',\n",
       "                     'Algeria',                     'Andorra',\n",
       "                      'Angola',         'Antigua and Barbuda',\n",
       "                  'Arab World',                   'Argentina',\n",
       " ...\n",
       "         'Upper middle income',                     'Uruguay',\n",
       "                  'Uzbekistan',                     'Vanuatu',\n",
       "                    'Viet Nam',              'Virgin Islands',\n",
       "          'West Bank and Gaza',                       'World',\n",
       "                      'Zambia',                    'Zimbabwe']\n",
       "Length: 247, dtype: string"
      ]
     },
     "execution_count": 432,
     "metadata": {},
     "output_type": "execute_result"
    }
   ],
   "source": [
    "gdp_drop_footnotes['Country'].unique(\n",
    "\n",
    ") "
   ]
  },
  {
   "cell_type": "code",
   "execution_count": 433,
   "id": "c81801e2-484e-476f-832e-412e624bb41c",
   "metadata": {},
   "outputs": [
    {
     "data": {
      "text/plain": [
       "247"
      ]
     },
     "execution_count": 433,
     "metadata": {},
     "output_type": "execute_result"
    }
   ],
   "source": [
    "gdp_drop_footnotes['Country'].nunique()"
   ]
  },
  {
   "cell_type": "code",
   "execution_count": 436,
   "id": "75f61a18-722f-4524-b3c7-f05280e26a96",
   "metadata": {},
   "outputs": [
    {
     "data": {
      "text/html": [
       "<div>\n",
       "<style scoped>\n",
       "    .dataframe tbody tr th:only-of-type {\n",
       "        vertical-align: middle;\n",
       "    }\n",
       "\n",
       "    .dataframe tbody tr th {\n",
       "        vertical-align: top;\n",
       "    }\n",
       "\n",
       "    .dataframe thead th {\n",
       "        text-align: right;\n",
       "    }\n",
       "</style>\n",
       "<table border=\"1\" class=\"dataframe\">\n",
       "  <thead>\n",
       "    <tr style=\"text-align: right;\">\n",
       "      <th></th>\n",
       "      <th>Country or Area</th>\n",
       "      <th>Year</th>\n",
       "      <th>Value</th>\n",
       "      <th>Value Footnotes</th>\n",
       "    </tr>\n",
       "  </thead>\n",
       "  <tbody>\n",
       "    <tr>\n",
       "      <th>0</th>\n",
       "      <td>Afghanistan</td>\n",
       "      <td>2023</td>\n",
       "      <td>1992.424394</td>\n",
       "      <td>NaN</td>\n",
       "    </tr>\n",
       "    <tr>\n",
       "      <th>1</th>\n",
       "      <td>Afghanistan</td>\n",
       "      <td>2022</td>\n",
       "      <td>1981.710168</td>\n",
       "      <td>NaN</td>\n",
       "    </tr>\n",
       "    <tr>\n",
       "      <th>2</th>\n",
       "      <td>Afghanistan</td>\n",
       "      <td>2021</td>\n",
       "      <td>2144.166570</td>\n",
       "      <td>NaN</td>\n",
       "    </tr>\n",
       "    <tr>\n",
       "      <th>3</th>\n",
       "      <td>Afghanistan</td>\n",
       "      <td>2020</td>\n",
       "      <td>2769.685745</td>\n",
       "      <td>NaN</td>\n",
       "    </tr>\n",
       "    <tr>\n",
       "      <th>4</th>\n",
       "      <td>Afghanistan</td>\n",
       "      <td>2019</td>\n",
       "      <td>2927.245144</td>\n",
       "      <td>NaN</td>\n",
       "    </tr>\n",
       "    <tr>\n",
       "      <th>...</th>\n",
       "      <td>...</td>\n",
       "      <td>...</td>\n",
       "      <td>...</td>\n",
       "      <td>...</td>\n",
       "    </tr>\n",
       "    <tr>\n",
       "      <th>8214</th>\n",
       "      <td>Zimbabwe</td>\n",
       "      <td>1994</td>\n",
       "      <td>3965.730986</td>\n",
       "      <td>NaN</td>\n",
       "    </tr>\n",
       "    <tr>\n",
       "      <th>8215</th>\n",
       "      <td>Zimbabwe</td>\n",
       "      <td>1993</td>\n",
       "      <td>3634.750494</td>\n",
       "      <td>NaN</td>\n",
       "    </tr>\n",
       "    <tr>\n",
       "      <th>8216</th>\n",
       "      <td>Zimbabwe</td>\n",
       "      <td>1992</td>\n",
       "      <td>3649.891947</td>\n",
       "      <td>NaN</td>\n",
       "    </tr>\n",
       "    <tr>\n",
       "      <th>8217</th>\n",
       "      <td>Zimbabwe</td>\n",
       "      <td>1991</td>\n",
       "      <td>4126.405247</td>\n",
       "      <td>NaN</td>\n",
       "    </tr>\n",
       "    <tr>\n",
       "      <th>8218</th>\n",
       "      <td>Zimbabwe</td>\n",
       "      <td>1990</td>\n",
       "      <td>4013.299059</td>\n",
       "      <td>NaN</td>\n",
       "    </tr>\n",
       "  </tbody>\n",
       "</table>\n",
       "<p>8219 rows × 4 columns</p>\n",
       "</div>"
      ],
      "text/plain": [
       "     Country or Area  Year        Value  Value Footnotes\n",
       "0        Afghanistan  2023  1992.424394              NaN\n",
       "1        Afghanistan  2022  1981.710168              NaN\n",
       "2        Afghanistan  2021  2144.166570              NaN\n",
       "3        Afghanistan  2020  2769.685745              NaN\n",
       "4        Afghanistan  2019  2927.245144              NaN\n",
       "...              ...   ...          ...              ...\n",
       "8214        Zimbabwe  1994  3965.730986              NaN\n",
       "8215        Zimbabwe  1993  3634.750494              NaN\n",
       "8216        Zimbabwe  1992  3649.891947              NaN\n",
       "8217        Zimbabwe  1991  4126.405247              NaN\n",
       "8218        Zimbabwe  1990  4013.299059              NaN\n",
       "\n",
       "[8219 rows x 4 columns]"
      ]
     },
     "execution_count": 436,
     "metadata": {},
     "output_type": "execute_result"
    }
   ],
   "source": [
    "gdp_df"
   ]
  },
  {
   "cell_type": "code",
   "execution_count": 437,
   "id": "68de376d-2fff-4127-afa9-6de5d8b7e115",
   "metadata": {},
   "outputs": [
    {
     "data": {
      "text/plain": [
       "Country\n",
       "Tunisia                      34\n",
       "Somalia                      33\n",
       "Lebanon                      33\n",
       "Tonga                        33\n",
       "Syrian Arab Republic         33\n",
       "Bhutan                       33\n",
       "Greenland                    32\n",
       "West Bank and Gaza           30\n",
       "Serbia                       29\n",
       "Montenegro                   27\n",
       "San Marino                   26\n",
       "CuraÃ§ao                     24\n",
       "Afghanistan                  24\n",
       "Virgin Islands               21\n",
       "Cayman Islands               18\n",
       "Faroe Islands                16\n",
       "Kosovo                       16\n",
       "Sint Maarten (Dutch part)    15\n",
       "Turks and Caicos Islands     13\n",
       "Djibouti                     11\n",
       "Name: count, dtype: Int64"
      ]
     },
     "execution_count": 437,
     "metadata": {},
     "output_type": "execute_result"
    }
   ],
   "source": [
    "gdp_drop_footnotes['Country'].value_counts().tail(20)"
   ]
  },
  {
   "cell_type": "code",
   "execution_count": 438,
   "id": "6735c145-5800-4609-ad24-84a362cb1c96",
   "metadata": {},
   "outputs": [
    {
     "data": {
      "text/plain": [
       "Country\n",
       "Latvia                        34\n",
       "East Asia & Pacific           34\n",
       "Burundi                       34\n",
       "Bulgaria                      34\n",
       "Ecuador                       34\n",
       "Brunei                        34\n",
       "Africa Western and Central    34\n",
       "Albania                       34\n",
       "Algeria                       34\n",
       "Andorra                       34\n",
       "Angola                        34\n",
       "Antigua and Barbuda           34\n",
       "Arab World                    34\n",
       "Argentina                     34\n",
       "Armenia                       34\n",
       "Aruba                         34\n",
       "Australia                     34\n",
       "Austria                       34\n",
       "Azerbaijan                    34\n",
       "Bahrain                       34\n",
       "Name: count, dtype: Int64"
      ]
     },
     "execution_count": 438,
     "metadata": {},
     "output_type": "execute_result"
    }
   ],
   "source": [
    "gdp_drop_footnotes['Country'].value_counts().head(20)"
   ]
  },
  {
   "cell_type": "markdown",
   "id": "196a7625-b789-46af-898d-5b2621f5d399",
   "metadata": {},
   "source": [
    "###### Perhaps due to these countries being more newly formed, or not having the resources to collect the necessary data, or something of that nature. "
   ]
  },
  {
   "cell_type": "markdown",
   "id": "54ca00c5-b775-4ec3-864b-03ed51f6a45c",
   "metadata": {},
   "source": [
    "#### 9. Create a new dataframe by subsetting gdp_df to just the year 2021. Call this new dataframe gdp_2021."
   ]
  },
  {
   "cell_type": "code",
   "execution_count": 442,
   "id": "81781131-f6f4-41dd-a62a-d1f3efcbd9bb",
   "metadata": {},
   "outputs": [],
   "source": [
    "gdp_2021 = gdp_drop_footnotes[gdp_drop_footnotes['Year'] == 2021]"
   ]
  },
  {
   "cell_type": "code",
   "execution_count": null,
   "id": "da7893e0-2bed-463e-bbc8-c08ca463d5ae",
   "metadata": {},
   "outputs": [],
   "source": []
  },
  {
   "cell_type": "code",
   "execution_count": 445,
   "id": "a9ea1b76-066a-4140-ba7a-56da8c282c09",
   "metadata": {},
   "outputs": [
    {
     "data": {
      "text/html": [
       "<div>\n",
       "<style scoped>\n",
       "    .dataframe tbody tr th:only-of-type {\n",
       "        vertical-align: middle;\n",
       "    }\n",
       "\n",
       "    .dataframe tbody tr th {\n",
       "        vertical-align: top;\n",
       "    }\n",
       "\n",
       "    .dataframe thead th {\n",
       "        text-align: right;\n",
       "    }\n",
       "</style>\n",
       "<table border=\"1\" class=\"dataframe\">\n",
       "  <thead>\n",
       "    <tr style=\"text-align: right;\">\n",
       "      <th></th>\n",
       "      <th>Country</th>\n",
       "      <th>Year</th>\n",
       "      <th>GDP_Per_Capita</th>\n",
       "    </tr>\n",
       "  </thead>\n",
       "  <tbody>\n",
       "    <tr>\n",
       "      <th>2</th>\n",
       "      <td>Afghanistan</td>\n",
       "      <td>2021</td>\n",
       "      <td>2144.166570</td>\n",
       "    </tr>\n",
       "    <tr>\n",
       "      <th>26</th>\n",
       "      <td>Africa Eastern and Southern</td>\n",
       "      <td>2021</td>\n",
       "      <td>3934.287267</td>\n",
       "    </tr>\n",
       "    <tr>\n",
       "      <th>60</th>\n",
       "      <td>Africa Western and Central</td>\n",
       "      <td>2021</td>\n",
       "      <td>4698.926894</td>\n",
       "    </tr>\n",
       "    <tr>\n",
       "      <th>94</th>\n",
       "      <td>Albania</td>\n",
       "      <td>2021</td>\n",
       "      <td>16113.136519</td>\n",
       "    </tr>\n",
       "    <tr>\n",
       "      <th>128</th>\n",
       "      <td>Algeria</td>\n",
       "      <td>2021</td>\n",
       "      <td>14496.865470</td>\n",
       "    </tr>\n",
       "  </tbody>\n",
       "</table>\n",
       "</div>"
      ],
      "text/plain": [
       "                         Country  Year  GDP_Per_Capita\n",
       "2                    Afghanistan  2021     2144.166570\n",
       "26   Africa Eastern and Southern  2021     3934.287267\n",
       "60    Africa Western and Central  2021     4698.926894\n",
       "94                       Albania  2021    16113.136519\n",
       "128                      Algeria  2021    14496.865470"
      ]
     },
     "execution_count": 445,
     "metadata": {},
     "output_type": "execute_result"
    }
   ],
   "source": [
    "gdp_2021.head(5)"
   ]
  },
  {
   "cell_type": "markdown",
   "id": "9e12af7a-94a7-445a-9988-8476e2af2046",
   "metadata": {},
   "source": [
    "#### 10. Use .describe() to find the summary statistics for GDP per capita in 2021."
   ]
  },
  {
   "cell_type": "code",
   "execution_count": 447,
   "id": "aead8369-49fa-4b86-95e2-709050b4bef5",
   "metadata": {},
   "outputs": [
    {
     "data": {
      "text/plain": [
       "count       247.000000\n",
       "mean      24478.517262\n",
       "std       24601.525764\n",
       "min         836.665571\n",
       "25%        5996.532844\n",
       "50%       15900.976581\n",
       "75%       37298.776853\n",
       "max      135379.291201\n",
       "Name: GDP_Per_Capita, dtype: float64"
      ]
     },
     "execution_count": 447,
     "metadata": {},
     "output_type": "execute_result"
    }
   ],
   "source": [
    "gdp_2021['GDP_Per_Capita'].describe()"
   ]
  },
  {
   "cell_type": "markdown",
   "id": "a71f5481-fac3-4905-b7f4-34850b1f587d",
   "metadata": {},
   "source": [
    "#### 11. Create a histogram of GDP Per Capita numbers for 2021 (you may wish to adjust the number of bins for your histogram). How would you describe the shape of the distribution?"
   ]
  },
  {
   "cell_type": "code",
   "execution_count": 449,
   "id": "1bf26fa7-ce38-421d-8fb4-028c24ee1a40",
   "metadata": {},
   "outputs": [
    {
     "data": {
      "text/plain": [
       "<Axes: >"
      ]
     },
     "execution_count": 449,
     "metadata": {},
     "output_type": "execute_result"
    },
    {
     "data": {
      "image/png": "[encoded data removed]",
      "text/plain": [
       "<Figure size 640x480 with 1 Axes>"
      ]
     },
     "metadata": {},
     "output_type": "display_data"
    }
   ],
   "source": [
    "gdp_2021['GDP_Per_Capita'].hist(bins = 20)"
   ]
  },
  {
   "cell_type": "code",
   "execution_count": 450,
   "id": "880b9be1-410a-413a-98eb-4f20e5402b93",
   "metadata": {},
   "outputs": [
    {
     "data": {
      "image/png": "[encoded data removed]",
      "text/plain": [
       "<Figure size 640x480 with 1 Axes>"
      ]
     },
     "metadata": {},
     "output_type": "display_data"
    }
   ],
   "source": [
    "gdp_2021['GDP_Per_Capita'].plot(kind='hist', bins = 20);"
   ]
  },
  {
   "cell_type": "code",
   "execution_count": 451,
   "id": "b8cb0f1b-0805-4483-aaa6-d472878f2c37",
   "metadata": {},
   "outputs": [
    {
     "data": {
      "text/plain": [
       "135379.29120102368"
      ]
     },
     "execution_count": 451,
     "metadata": {},
     "output_type": "execute_result"
    }
   ],
   "source": [
    "gdp_2021['GDP_Per_Capita'].max()"
   ]
  },
  {
   "cell_type": "markdown",
   "id": "09ce4733-b0d4-49da-a439-7fa144b441f3",
   "metadata": {},
   "source": [
    "#### 12. Find the top 5 counties and bottom 5 countries by GDP per capita in 2021.']"
   ]
  },
  {
   "cell_type": "code",
   "execution_count": 453,
   "id": "0d468aa2-39ab-4b7e-884d-755dc8616593",
   "metadata": {},
   "outputs": [
    {
     "data": {
      "text/html": [
       "<div>\n",
       "<style scoped>\n",
       "    .dataframe tbody tr th:only-of-type {\n",
       "        vertical-align: middle;\n",
       "    }\n",
       "\n",
       "    .dataframe tbody tr th {\n",
       "        vertical-align: top;\n",
       "    }\n",
       "\n",
       "    .dataframe thead th {\n",
       "        text-align: right;\n",
       "    }\n",
       "</style>\n",
       "<table border=\"1\" class=\"dataframe\">\n",
       "  <thead>\n",
       "    <tr style=\"text-align: right;\">\n",
       "      <th></th>\n",
       "      <th>Country</th>\n",
       "      <th>Year</th>\n",
       "      <th>GDP_Per_Capita</th>\n",
       "    </tr>\n",
       "  </thead>\n",
       "  <tbody>\n",
       "    <tr>\n",
       "      <th>4425</th>\n",
       "      <td>Luxembourg</td>\n",
       "      <td>2021</td>\n",
       "      <td>135379.291201</td>\n",
       "    </tr>\n",
       "    <tr>\n",
       "      <th>6513</th>\n",
       "      <td>Singapore</td>\n",
       "      <td>2021</td>\n",
       "      <td>131864.092336</td>\n",
       "    </tr>\n",
       "    <tr>\n",
       "      <th>3492</th>\n",
       "      <td>Ireland</td>\n",
       "      <td>2021</td>\n",
       "      <td>118594.746862</td>\n",
       "    </tr>\n",
       "    <tr>\n",
       "      <th>6118</th>\n",
       "      <td>Qatar</td>\n",
       "      <td>2021</td>\n",
       "      <td>116832.570290</td>\n",
       "    </tr>\n",
       "    <tr>\n",
       "      <th>740</th>\n",
       "      <td>Bermuda</td>\n",
       "      <td>2021</td>\n",
       "      <td>92276.234605</td>\n",
       "    </tr>\n",
       "    <tr>\n",
       "      <th>...</th>\n",
       "      <td>...</td>\n",
       "      <td>...</td>\n",
       "      <td>...</td>\n",
       "    </tr>\n",
       "    <tr>\n",
       "      <th>5132</th>\n",
       "      <td>Mozambique</td>\n",
       "      <td>2021</td>\n",
       "      <td>1457.235409</td>\n",
       "    </tr>\n",
       "    <tr>\n",
       "      <th>6698</th>\n",
       "      <td>Somalia</td>\n",
       "      <td>2021</td>\n",
       "      <td>1392.464262</td>\n",
       "    </tr>\n",
       "    <tr>\n",
       "      <th>1733</th>\n",
       "      <td>Dem. Rep. Congo</td>\n",
       "      <td>2021</td>\n",
       "      <td>1313.618218</td>\n",
       "    </tr>\n",
       "    <tr>\n",
       "      <th>1301</th>\n",
       "      <td>Central African Republic</td>\n",
       "      <td>2021</td>\n",
       "      <td>1128.552380</td>\n",
       "    </tr>\n",
       "    <tr>\n",
       "      <th>1045</th>\n",
       "      <td>Burundi</td>\n",
       "      <td>2021</td>\n",
       "      <td>836.665571</td>\n",
       "    </tr>\n",
       "  </tbody>\n",
       "</table>\n",
       "<p>247 rows × 3 columns</p>\n",
       "</div>"
      ],
      "text/plain": [
       "                       Country  Year  GDP_Per_Capita\n",
       "4425                Luxembourg  2021   135379.291201\n",
       "6513                 Singapore  2021   131864.092336\n",
       "3492                   Ireland  2021   118594.746862\n",
       "6118                     Qatar  2021   116832.570290\n",
       "740                    Bermuda  2021    92276.234605\n",
       "...                        ...   ...             ...\n",
       "5132                Mozambique  2021     1457.235409\n",
       "6698                   Somalia  2021     1392.464262\n",
       "1733           Dem. Rep. Congo  2021     1313.618218\n",
       "1301  Central African Republic  2021     1128.552380\n",
       "1045                   Burundi  2021      836.665571\n",
       "\n",
       "[247 rows x 3 columns]"
      ]
     },
     "execution_count": 453,
     "metadata": {},
     "output_type": "execute_result"
    }
   ],
   "source": [
    "gdp_2021.sort_values('GDP_Per_Capita', ascending=False) # a way to view both top and bottom 5 countries at the same time"
   ]
  },
  {
   "cell_type": "code",
   "execution_count": 454,
   "id": "2152a551-aba7-48b1-8266-1063fb3f10a9",
   "metadata": {},
   "outputs": [
    {
     "data": {
      "text/html": [
       "<div>\n",
       "<style scoped>\n",
       "    .dataframe tbody tr th:only-of-type {\n",
       "        vertical-align: middle;\n",
       "    }\n",
       "\n",
       "    .dataframe tbody tr th {\n",
       "        vertical-align: top;\n",
       "    }\n",
       "\n",
       "    .dataframe thead th {\n",
       "        text-align: right;\n",
       "    }\n",
       "</style>\n",
       "<table border=\"1\" class=\"dataframe\">\n",
       "  <thead>\n",
       "    <tr style=\"text-align: right;\">\n",
       "      <th></th>\n",
       "      <th>Country</th>\n",
       "      <th>Year</th>\n",
       "      <th>GDP_Per_Capita</th>\n",
       "    </tr>\n",
       "  </thead>\n",
       "  <tbody>\n",
       "    <tr>\n",
       "      <th>1045</th>\n",
       "      <td>Burundi</td>\n",
       "      <td>2021</td>\n",
       "      <td>836.665571</td>\n",
       "    </tr>\n",
       "    <tr>\n",
       "      <th>1301</th>\n",
       "      <td>Central African Republic</td>\n",
       "      <td>2021</td>\n",
       "      <td>1128.552380</td>\n",
       "    </tr>\n",
       "    <tr>\n",
       "      <th>1733</th>\n",
       "      <td>Dem. Rep. Congo</td>\n",
       "      <td>2021</td>\n",
       "      <td>1313.618218</td>\n",
       "    </tr>\n",
       "    <tr>\n",
       "      <th>6698</th>\n",
       "      <td>Somalia</td>\n",
       "      <td>2021</td>\n",
       "      <td>1392.464262</td>\n",
       "    </tr>\n",
       "    <tr>\n",
       "      <th>5132</th>\n",
       "      <td>Mozambique</td>\n",
       "      <td>2021</td>\n",
       "      <td>1457.235409</td>\n",
       "    </tr>\n",
       "  </tbody>\n",
       "</table>\n",
       "</div>"
      ],
      "text/plain": [
       "                       Country  Year  GDP_Per_Capita\n",
       "1045                   Burundi  2021      836.665571\n",
       "1301  Central African Republic  2021     1128.552380\n",
       "1733           Dem. Rep. Congo  2021     1313.618218\n",
       "6698                   Somalia  2021     1392.464262\n",
       "5132                Mozambique  2021     1457.235409"
      ]
     },
     "execution_count": 454,
     "metadata": {},
     "output_type": "execute_result"
    }
   ],
   "source": [
    "gdp_2021.nsmallest(5, \"GDP_Per_Capita\", keep='all')"
   ]
  },
  {
   "cell_type": "code",
   "execution_count": 457,
   "id": "fbeda248-8034-419f-a42d-e490d53e6df8",
   "metadata": {},
   "outputs": [
    {
     "data": {
      "text/html": [
       "<div>\n",
       "<style scoped>\n",
       "    .dataframe tbody tr th:only-of-type {\n",
       "        vertical-align: middle;\n",
       "    }\n",
       "\n",
       "    .dataframe tbody tr th {\n",
       "        vertical-align: top;\n",
       "    }\n",
       "\n",
       "    .dataframe thead th {\n",
       "        text-align: right;\n",
       "    }\n",
       "</style>\n",
       "<table border=\"1\" class=\"dataframe\">\n",
       "  <thead>\n",
       "    <tr style=\"text-align: right;\">\n",
       "      <th></th>\n",
       "      <th>Country</th>\n",
       "      <th>Year</th>\n",
       "      <th>GDP_Per_Capita</th>\n",
       "    </tr>\n",
       "  </thead>\n",
       "  <tbody>\n",
       "    <tr>\n",
       "      <th>4425</th>\n",
       "      <td>Luxembourg</td>\n",
       "      <td>2021</td>\n",
       "      <td>135379.291201</td>\n",
       "    </tr>\n",
       "    <tr>\n",
       "      <th>6513</th>\n",
       "      <td>Singapore</td>\n",
       "      <td>2021</td>\n",
       "      <td>131864.092336</td>\n",
       "    </tr>\n",
       "    <tr>\n",
       "      <th>3492</th>\n",
       "      <td>Ireland</td>\n",
       "      <td>2021</td>\n",
       "      <td>118594.746862</td>\n",
       "    </tr>\n",
       "    <tr>\n",
       "      <th>6118</th>\n",
       "      <td>Qatar</td>\n",
       "      <td>2021</td>\n",
       "      <td>116832.570290</td>\n",
       "    </tr>\n",
       "    <tr>\n",
       "      <th>740</th>\n",
       "      <td>Bermuda</td>\n",
       "      <td>2021</td>\n",
       "      <td>92276.234605</td>\n",
       "    </tr>\n",
       "  </tbody>\n",
       "</table>\n",
       "</div>"
      ],
      "text/plain": [
       "         Country  Year  GDP_Per_Capita\n",
       "4425  Luxembourg  2021   135379.291201\n",
       "6513   Singapore  2021   131864.092336\n",
       "3492     Ireland  2021   118594.746862\n",
       "6118       Qatar  2021   116832.570290\n",
       "740      Bermuda  2021    92276.234605"
      ]
     },
     "execution_count": 457,
     "metadata": {},
     "output_type": "execute_result"
    }
   ],
   "source": [
    "gdp_2021.nlargest(5, 'GDP_Per_Capita') # a way to view the top 5 countries only"
   ]
  },
  {
   "cell_type": "code",
   "execution_count": 458,
   "id": "efb95975-7228-4af3-9a63-186cdc686183",
   "metadata": {},
   "outputs": [
    {
     "data": {
      "text/html": [
       "<div>\n",
       "<style scoped>\n",
       "    .dataframe tbody tr th:only-of-type {\n",
       "        vertical-align: middle;\n",
       "    }\n",
       "\n",
       "    .dataframe tbody tr th {\n",
       "        vertical-align: top;\n",
       "    }\n",
       "\n",
       "    .dataframe thead th {\n",
       "        text-align: right;\n",
       "    }\n",
       "</style>\n",
       "<table border=\"1\" class=\"dataframe\">\n",
       "  <thead>\n",
       "    <tr style=\"text-align: right;\">\n",
       "      <th></th>\n",
       "      <th>Country</th>\n",
       "      <th>Year</th>\n",
       "      <th>GDP_Per_Capita</th>\n",
       "    </tr>\n",
       "  </thead>\n",
       "  <tbody>\n",
       "    <tr>\n",
       "      <th>1045</th>\n",
       "      <td>Burundi</td>\n",
       "      <td>2021</td>\n",
       "      <td>836.665571</td>\n",
       "    </tr>\n",
       "    <tr>\n",
       "      <th>1301</th>\n",
       "      <td>Central African Republic</td>\n",
       "      <td>2021</td>\n",
       "      <td>1128.552380</td>\n",
       "    </tr>\n",
       "    <tr>\n",
       "      <th>1733</th>\n",
       "      <td>Dem. Rep. Congo</td>\n",
       "      <td>2021</td>\n",
       "      <td>1313.618218</td>\n",
       "    </tr>\n",
       "    <tr>\n",
       "      <th>6698</th>\n",
       "      <td>Somalia</td>\n",
       "      <td>2021</td>\n",
       "      <td>1392.464262</td>\n",
       "    </tr>\n",
       "    <tr>\n",
       "      <th>5132</th>\n",
       "      <td>Mozambique</td>\n",
       "      <td>2021</td>\n",
       "      <td>1457.235409</td>\n",
       "    </tr>\n",
       "  </tbody>\n",
       "</table>\n",
       "</div>"
      ],
      "text/plain": [
       "                       Country  Year  GDP_Per_Capita\n",
       "1045                   Burundi  2021      836.665571\n",
       "1301  Central African Republic  2021     1128.552380\n",
       "1733           Dem. Rep. Congo  2021     1313.618218\n",
       "6698                   Somalia  2021     1392.464262\n",
       "5132                Mozambique  2021     1457.235409"
      ]
     },
     "execution_count": 458,
     "metadata": {},
     "output_type": "execute_result"
    }
   ],
   "source": [
    "gdp_2021.nsmallest(5, 'GDP_Per_Capita') # a way to view the bottom 5 countries only"
   ]
  },
  {
   "cell_type": "markdown",
   "id": "ed0c84a1-e3a7-45d7-b044-b6ecbdbaf775",
   "metadata": {},
   "source": [
    "#### 13. Now, return to the full dataset, gdp_df. Pivot the data for 1990 and 2021 (using the pandas .pivot_table() method or another method) so that each row corresponds to a country, each column corresponds to a year, and the values in the table give the GDP_Per_Capita amount. Drop any rows that are missing values for either 1990 or 2021. Save the result to a dataframe named gdp_pivoted."
   ]
  },
  {
   "cell_type": "code",
   "execution_count": 460,
   "id": "37a5ac03-7598-4b15-bf63-d9d9cd3f7e5b",
   "metadata": {},
   "outputs": [
    {
     "data": {
      "text/html": [
       "<div>\n",
       "<style scoped>\n",
       "    .dataframe tbody tr th:only-of-type {\n",
       "        vertical-align: middle;\n",
       "    }\n",
       "\n",
       "    .dataframe tbody tr th {\n",
       "        vertical-align: top;\n",
       "    }\n",
       "\n",
       "    .dataframe thead th {\n",
       "        text-align: right;\n",
       "    }\n",
       "</style>\n",
       "<table border=\"1\" class=\"dataframe\">\n",
       "  <thead>\n",
       "    <tr style=\"text-align: right;\">\n",
       "      <th></th>\n",
       "      <th>Country</th>\n",
       "      <th>Year</th>\n",
       "      <th>GDP_Per_Capita</th>\n",
       "    </tr>\n",
       "  </thead>\n",
       "  <tbody>\n",
       "    <tr>\n",
       "      <th>2</th>\n",
       "      <td>Afghanistan</td>\n",
       "      <td>2021</td>\n",
       "      <td>2144.166570</td>\n",
       "    </tr>\n",
       "    <tr>\n",
       "      <th>26</th>\n",
       "      <td>Africa Eastern and Southern</td>\n",
       "      <td>2021</td>\n",
       "      <td>3934.287267</td>\n",
       "    </tr>\n",
       "    <tr>\n",
       "      <th>57</th>\n",
       "      <td>Africa Eastern and Southern</td>\n",
       "      <td>1990</td>\n",
       "      <td>3386.854480</td>\n",
       "    </tr>\n",
       "    <tr>\n",
       "      <th>60</th>\n",
       "      <td>Africa Western and Central</td>\n",
       "      <td>2021</td>\n",
       "      <td>4698.926894</td>\n",
       "    </tr>\n",
       "    <tr>\n",
       "      <th>91</th>\n",
       "      <td>Africa Western and Central</td>\n",
       "      <td>1990</td>\n",
       "      <td>3299.401375</td>\n",
       "    </tr>\n",
       "    <tr>\n",
       "      <th>...</th>\n",
       "      <td>...</td>\n",
       "      <td>...</td>\n",
       "      <td>...</td>\n",
       "    </tr>\n",
       "    <tr>\n",
       "      <th>8150</th>\n",
       "      <td>World</td>\n",
       "      <td>1990</td>\n",
       "      <td>11207.386344</td>\n",
       "    </tr>\n",
       "    <tr>\n",
       "      <th>8153</th>\n",
       "      <td>Zambia</td>\n",
       "      <td>2021</td>\n",
       "      <td>3503.034914</td>\n",
       "    </tr>\n",
       "    <tr>\n",
       "      <th>8184</th>\n",
       "      <td>Zambia</td>\n",
       "      <td>1990</td>\n",
       "      <td>2425.111287</td>\n",
       "    </tr>\n",
       "    <tr>\n",
       "      <th>8187</th>\n",
       "      <td>Zimbabwe</td>\n",
       "      <td>2021</td>\n",
       "      <td>3184.785451</td>\n",
       "    </tr>\n",
       "    <tr>\n",
       "      <th>8218</th>\n",
       "      <td>Zimbabwe</td>\n",
       "      <td>1990</td>\n",
       "      <td>4013.299059</td>\n",
       "    </tr>\n",
       "  </tbody>\n",
       "</table>\n",
       "<p>480 rows × 3 columns</p>\n",
       "</div>"
      ],
      "text/plain": [
       "                          Country  Year  GDP_Per_Capita\n",
       "2                     Afghanistan  2021     2144.166570\n",
       "26    Africa Eastern and Southern  2021     3934.287267\n",
       "57    Africa Eastern and Southern  1990     3386.854480\n",
       "60     Africa Western and Central  2021     4698.926894\n",
       "91     Africa Western and Central  1990     3299.401375\n",
       "...                           ...   ...             ...\n",
       "8150                        World  1990    11207.386344\n",
       "8153                       Zambia  2021     3503.034914\n",
       "8184                       Zambia  1990     2425.111287\n",
       "8187                     Zimbabwe  2021     3184.785451\n",
       "8218                     Zimbabwe  1990     4013.299059\n",
       "\n",
       "[480 rows x 3 columns]"
      ]
     },
     "execution_count": 460,
     "metadata": {},
     "output_type": "execute_result"
    }
   ],
   "source": [
    "gdp_drop_footnotes.loc[(gdp_drop_footnotes['Year']==1990) | (gdp_drop_footnotes['Year']==2021)]"
   ]
  },
  {
   "cell_type": "code",
   "execution_count": 461,
   "id": "06000b70-86d6-4ef7-bea1-cdf3edd7cf1e",
   "metadata": {},
   "outputs": [],
   "source": [
    "gdp_pivoted = pd.pivot_table(\n",
    "    gdp_drop_footnotes.loc[(gdp_drop_footnotes['Year']==1990) | (gdp_drop_footnotes['Year']==2021)],\n",
    "    values='GDP_Per_Capita',\n",
    "    index='Country',\n",
    "    columns='Year'\n",
    ")"
   ]
  },
  {
   "cell_type": "code",
   "execution_count": 462,
   "id": "8929c40c-c85a-4662-baeb-20a67f95c880",
   "metadata": {},
   "outputs": [],
   "source": [
    "gdp_pivoted = (\n",
    "    gdp_drop_footnotes\n",
    "    [gdp_drop_footnotes[\"Year\"].isin([1990, 2021])]\n",
    "    .pivot_table(index=\"Country\", columns=\"Year\", values=\"GDP_Per_Capita\")\n",
    "    .dropna(subset = [1990, 2021])\n",
    ")"
   ]
  },
  {
   "cell_type": "code",
   "execution_count": 463,
   "id": "e4902019-b6d0-4388-87e6-b347c7f87811",
   "metadata": {},
   "outputs": [
    {
     "data": {
      "text/html": [
       "<div>\n",
       "<style scoped>\n",
       "    .dataframe tbody tr th:only-of-type {\n",
       "        vertical-align: middle;\n",
       "    }\n",
       "\n",
       "    .dataframe tbody tr th {\n",
       "        vertical-align: top;\n",
       "    }\n",
       "\n",
       "    .dataframe thead th {\n",
       "        text-align: right;\n",
       "    }\n",
       "</style>\n",
       "<table border=\"1\" class=\"dataframe\">\n",
       "  <thead>\n",
       "    <tr style=\"text-align: right;\">\n",
       "      <th>Year</th>\n",
       "      <th>1990</th>\n",
       "      <th>2021</th>\n",
       "    </tr>\n",
       "    <tr>\n",
       "      <th>Country</th>\n",
       "      <th></th>\n",
       "      <th></th>\n",
       "    </tr>\n",
       "  </thead>\n",
       "  <tbody>\n",
       "    <tr>\n",
       "      <th>Africa Eastern and Southern</th>\n",
       "      <td>3386.854480</td>\n",
       "      <td>3934.287267</td>\n",
       "    </tr>\n",
       "    <tr>\n",
       "      <th>Africa Western and Central</th>\n",
       "      <td>3299.401375</td>\n",
       "      <td>4698.926894</td>\n",
       "    </tr>\n",
       "    <tr>\n",
       "      <th>Albania</th>\n",
       "      <td>5327.747458</td>\n",
       "      <td>16113.136519</td>\n",
       "    </tr>\n",
       "    <tr>\n",
       "      <th>Algeria</th>\n",
       "      <td>11728.545729</td>\n",
       "      <td>14496.865470</td>\n",
       "    </tr>\n",
       "    <tr>\n",
       "      <th>Andorra</th>\n",
       "      <td>50036.300776</td>\n",
       "      <td>59332.202910</td>\n",
       "    </tr>\n",
       "    <tr>\n",
       "      <th>...</th>\n",
       "      <td>...</td>\n",
       "      <td>...</td>\n",
       "    </tr>\n",
       "    <tr>\n",
       "      <th>Vanuatu</th>\n",
       "      <td>3101.680551</td>\n",
       "      <td>3135.836649</td>\n",
       "    </tr>\n",
       "    <tr>\n",
       "      <th>Viet Nam</th>\n",
       "      <td>2467.964601</td>\n",
       "      <td>12048.901994</td>\n",
       "    </tr>\n",
       "    <tr>\n",
       "      <th>World</th>\n",
       "      <td>11207.386344</td>\n",
       "      <td>19637.823230</td>\n",
       "    </tr>\n",
       "    <tr>\n",
       "      <th>Zambia</th>\n",
       "      <td>2425.111287</td>\n",
       "      <td>3503.034914</td>\n",
       "    </tr>\n",
       "    <tr>\n",
       "      <th>Zimbabwe</th>\n",
       "      <td>4013.299059</td>\n",
       "      <td>3184.785451</td>\n",
       "    </tr>\n",
       "  </tbody>\n",
       "</table>\n",
       "<p>233 rows × 2 columns</p>\n",
       "</div>"
      ],
      "text/plain": [
       "Year                                 1990          2021\n",
       "Country                                                \n",
       "Africa Eastern and Southern   3386.854480   3934.287267\n",
       "Africa Western and Central    3299.401375   4698.926894\n",
       "Albania                       5327.747458  16113.136519\n",
       "Algeria                      11728.545729  14496.865470\n",
       "Andorra                      50036.300776  59332.202910\n",
       "...                                   ...           ...\n",
       "Vanuatu                       3101.680551   3135.836649\n",
       "Viet Nam                      2467.964601  12048.901994\n",
       "World                        11207.386344  19637.823230\n",
       "Zambia                        2425.111287   3503.034914\n",
       "Zimbabwe                      4013.299059   3184.785451\n",
       "\n",
       "[233 rows x 2 columns]"
      ]
     },
     "execution_count": 463,
     "metadata": {},
     "output_type": "execute_result"
    }
   ],
   "source": [
    "gdp_pivoted"
   ]
  },
  {
   "cell_type": "code",
   "execution_count": 464,
   "id": "ba91c4cd-2241-4e88-b023-6841a2146937",
   "metadata": {},
   "outputs": [],
   "source": [
    "#gdp_pivoted_what = gdp_pivoted[gdp_pivoted[1990].notna()]\n",
    "#gdp_pivoted_what"
   ]
  },
  {
   "cell_type": "code",
   "execution_count": 468,
   "id": "23ac7dfe-4571-4ab5-9e15-f0844f84e707",
   "metadata": {},
   "outputs": [],
   "source": [
    "gdp_pivoted = gdp_pivoted.reset_index()"
   ]
  },
  {
   "cell_type": "code",
   "execution_count": 469,
   "id": "757dd8b3-ff67-4a49-939b-fff78621e3f4",
   "metadata": {},
   "outputs": [
    {
     "data": {
      "text/html": [
       "<div>\n",
       "<style scoped>\n",
       "    .dataframe tbody tr th:only-of-type {\n",
       "        vertical-align: middle;\n",
       "    }\n",
       "\n",
       "    .dataframe tbody tr th {\n",
       "        vertical-align: top;\n",
       "    }\n",
       "\n",
       "    .dataframe thead th {\n",
       "        text-align: right;\n",
       "    }\n",
       "</style>\n",
       "<table border=\"1\" class=\"dataframe\">\n",
       "  <thead>\n",
       "    <tr style=\"text-align: right;\">\n",
       "      <th>Year</th>\n",
       "      <th>Country</th>\n",
       "      <th>1990</th>\n",
       "      <th>2021</th>\n",
       "    </tr>\n",
       "  </thead>\n",
       "  <tbody>\n",
       "    <tr>\n",
       "      <th>0</th>\n",
       "      <td>Africa Eastern and Southern</td>\n",
       "      <td>3386.854480</td>\n",
       "      <td>3934.287267</td>\n",
       "    </tr>\n",
       "    <tr>\n",
       "      <th>1</th>\n",
       "      <td>Africa Western and Central</td>\n",
       "      <td>3299.401375</td>\n",
       "      <td>4698.926894</td>\n",
       "    </tr>\n",
       "    <tr>\n",
       "      <th>2</th>\n",
       "      <td>Albania</td>\n",
       "      <td>5327.747458</td>\n",
       "      <td>16113.136519</td>\n",
       "    </tr>\n",
       "    <tr>\n",
       "      <th>3</th>\n",
       "      <td>Algeria</td>\n",
       "      <td>11728.545729</td>\n",
       "      <td>14496.865470</td>\n",
       "    </tr>\n",
       "    <tr>\n",
       "      <th>4</th>\n",
       "      <td>Andorra</td>\n",
       "      <td>50036.300776</td>\n",
       "      <td>59332.202910</td>\n",
       "    </tr>\n",
       "    <tr>\n",
       "      <th>...</th>\n",
       "      <td>...</td>\n",
       "      <td>...</td>\n",
       "      <td>...</td>\n",
       "    </tr>\n",
       "    <tr>\n",
       "      <th>228</th>\n",
       "      <td>Vanuatu</td>\n",
       "      <td>3101.680551</td>\n",
       "      <td>3135.836649</td>\n",
       "    </tr>\n",
       "    <tr>\n",
       "      <th>229</th>\n",
       "      <td>Viet Nam</td>\n",
       "      <td>2467.964601</td>\n",
       "      <td>12048.901994</td>\n",
       "    </tr>\n",
       "    <tr>\n",
       "      <th>230</th>\n",
       "      <td>World</td>\n",
       "      <td>11207.386344</td>\n",
       "      <td>19637.823230</td>\n",
       "    </tr>\n",
       "    <tr>\n",
       "      <th>231</th>\n",
       "      <td>Zambia</td>\n",
       "      <td>2425.111287</td>\n",
       "      <td>3503.034914</td>\n",
       "    </tr>\n",
       "    <tr>\n",
       "      <th>232</th>\n",
       "      <td>Zimbabwe</td>\n",
       "      <td>4013.299059</td>\n",
       "      <td>3184.785451</td>\n",
       "    </tr>\n",
       "  </tbody>\n",
       "</table>\n",
       "<p>233 rows × 3 columns</p>\n",
       "</div>"
      ],
      "text/plain": [
       "Year                      Country          1990          2021\n",
       "0     Africa Eastern and Southern   3386.854480   3934.287267\n",
       "1      Africa Western and Central   3299.401375   4698.926894\n",
       "2                         Albania   5327.747458  16113.136519\n",
       "3                         Algeria  11728.545729  14496.865470\n",
       "4                         Andorra  50036.300776  59332.202910\n",
       "..                            ...           ...           ...\n",
       "228                       Vanuatu   3101.680551   3135.836649\n",
       "229                      Viet Nam   2467.964601  12048.901994\n",
       "230                         World  11207.386344  19637.823230\n",
       "231                        Zambia   2425.111287   3503.034914\n",
       "232                      Zimbabwe   4013.299059   3184.785451\n",
       "\n",
       "[233 rows x 3 columns]"
      ]
     },
     "execution_count": 469,
     "metadata": {},
     "output_type": "execute_result"
    }
   ],
   "source": [
    "gdp_pivoted"
   ]
  },
  {
   "cell_type": "code",
   "execution_count": 470,
   "id": "ad038c44-5200-4fbd-898f-d6f2def48f02",
   "metadata": {},
   "outputs": [
    {
     "data": {
      "text/html": [
       "<div>\n",
       "<style scoped>\n",
       "    .dataframe tbody tr th:only-of-type {\n",
       "        vertical-align: middle;\n",
       "    }\n",
       "\n",
       "    .dataframe tbody tr th {\n",
       "        vertical-align: top;\n",
       "    }\n",
       "\n",
       "    .dataframe thead th {\n",
       "        text-align: right;\n",
       "    }\n",
       "</style>\n",
       "<table border=\"1\" class=\"dataframe\">\n",
       "  <thead>\n",
       "    <tr style=\"text-align: right;\">\n",
       "      <th>Year</th>\n",
       "      <th>Country</th>\n",
       "      <th>1990</th>\n",
       "      <th>2021</th>\n",
       "    </tr>\n",
       "  </thead>\n",
       "  <tbody>\n",
       "    <tr>\n",
       "      <th>0</th>\n",
       "      <td>Africa Eastern and Southern</td>\n",
       "      <td>3386.854480</td>\n",
       "      <td>3934.287267</td>\n",
       "    </tr>\n",
       "    <tr>\n",
       "      <th>1</th>\n",
       "      <td>Africa Western and Central</td>\n",
       "      <td>3299.401375</td>\n",
       "      <td>4698.926894</td>\n",
       "    </tr>\n",
       "    <tr>\n",
       "      <th>2</th>\n",
       "      <td>Albania</td>\n",
       "      <td>5327.747458</td>\n",
       "      <td>16113.136519</td>\n",
       "    </tr>\n",
       "    <tr>\n",
       "      <th>3</th>\n",
       "      <td>Algeria</td>\n",
       "      <td>11728.545729</td>\n",
       "      <td>14496.865470</td>\n",
       "    </tr>\n",
       "    <tr>\n",
       "      <th>4</th>\n",
       "      <td>Andorra</td>\n",
       "      <td>50036.300776</td>\n",
       "      <td>59332.202910</td>\n",
       "    </tr>\n",
       "    <tr>\n",
       "      <th>...</th>\n",
       "      <td>...</td>\n",
       "      <td>...</td>\n",
       "      <td>...</td>\n",
       "    </tr>\n",
       "    <tr>\n",
       "      <th>228</th>\n",
       "      <td>Vanuatu</td>\n",
       "      <td>3101.680551</td>\n",
       "      <td>3135.836649</td>\n",
       "    </tr>\n",
       "    <tr>\n",
       "      <th>229</th>\n",
       "      <td>Viet Nam</td>\n",
       "      <td>2467.964601</td>\n",
       "      <td>12048.901994</td>\n",
       "    </tr>\n",
       "    <tr>\n",
       "      <th>230</th>\n",
       "      <td>World</td>\n",
       "      <td>11207.386344</td>\n",
       "      <td>19637.823230</td>\n",
       "    </tr>\n",
       "    <tr>\n",
       "      <th>231</th>\n",
       "      <td>Zambia</td>\n",
       "      <td>2425.111287</td>\n",
       "      <td>3503.034914</td>\n",
       "    </tr>\n",
       "    <tr>\n",
       "      <th>232</th>\n",
       "      <td>Zimbabwe</td>\n",
       "      <td>4013.299059</td>\n",
       "      <td>3184.785451</td>\n",
       "    </tr>\n",
       "  </tbody>\n",
       "</table>\n",
       "<p>233 rows × 3 columns</p>\n",
       "</div>"
      ],
      "text/plain": [
       "Year                      Country          1990          2021\n",
       "0     Africa Eastern and Southern   3386.854480   3934.287267\n",
       "1      Africa Western and Central   3299.401375   4698.926894\n",
       "2                         Albania   5327.747458  16113.136519\n",
       "3                         Algeria  11728.545729  14496.865470\n",
       "4                         Andorra  50036.300776  59332.202910\n",
       "..                            ...           ...           ...\n",
       "228                       Vanuatu   3101.680551   3135.836649\n",
       "229                      Viet Nam   2467.964601  12048.901994\n",
       "230                         World  11207.386344  19637.823230\n",
       "231                        Zambia   2425.111287   3503.034914\n",
       "232                      Zimbabwe   4013.299059   3184.785451\n",
       "\n",
       "[233 rows x 3 columns]"
      ]
     },
     "execution_count": 470,
     "metadata": {},
     "output_type": "execute_result"
    }
   ],
   "source": [
    "gdp_pivoted = gdp_pivoted.dropna(axis=0, ignore_index=True)\n",
    "gdp_pivoted"
   ]
  },
  {
   "cell_type": "markdown",
   "id": "e6a0a582-fa79-4a70-9d88-ebc679d8ff72",
   "metadata": {},
   "source": [
    "#### 14. Create a new column in gdp_pivoted named Percent_Change. This column should contain the percent change in GDP_Per_Capita from 1990 to 2021. Hint: Percent change is calculated as 100*(New Value - Old Value) / Old Value."
   ]
  },
  {
   "cell_type": "code",
   "execution_count": 472,
   "id": "de3411f2-2095-4054-b09d-69bd786529e7",
   "metadata": {},
   "outputs": [
    {
     "data": {
      "text/plain": [
       "0       3386.854480\n",
       "1       3299.401375\n",
       "2       5327.747458\n",
       "3      11728.545729\n",
       "4      50036.300776\n",
       "           ...     \n",
       "228     3101.680551\n",
       "229     2467.964601\n",
       "230    11207.386344\n",
       "231     2425.111287\n",
       "232     4013.299059\n",
       "Name: 1990, Length: 233, dtype: float64"
      ]
     },
     "execution_count": 472,
     "metadata": {},
     "output_type": "execute_result"
    }
   ],
   "source": [
    "gdp_pivoted[1990]"
   ]
  },
  {
   "cell_type": "code",
   "execution_count": 473,
   "id": "7f557561-6316-45ea-b4ca-8e4ecc1a706b",
   "metadata": {},
   "outputs": [
    {
     "data": {
      "text/html": [
       "<div>\n",
       "<style scoped>\n",
       "    .dataframe tbody tr th:only-of-type {\n",
       "        vertical-align: middle;\n",
       "    }\n",
       "\n",
       "    .dataframe tbody tr th {\n",
       "        vertical-align: top;\n",
       "    }\n",
       "\n",
       "    .dataframe thead th {\n",
       "        text-align: right;\n",
       "    }\n",
       "</style>\n",
       "<table border=\"1\" class=\"dataframe\">\n",
       "  <thead>\n",
       "    <tr style=\"text-align: right;\">\n",
       "      <th>Year</th>\n",
       "      <th>Country</th>\n",
       "      <th>1990</th>\n",
       "      <th>2021</th>\n",
       "      <th>Percent_Change</th>\n",
       "    </tr>\n",
       "  </thead>\n",
       "  <tbody>\n",
       "    <tr>\n",
       "      <th>0</th>\n",
       "      <td>Africa Eastern and Southern</td>\n",
       "      <td>3386.854480</td>\n",
       "      <td>3934.287267</td>\n",
       "      <td>16.163458</td>\n",
       "    </tr>\n",
       "    <tr>\n",
       "      <th>1</th>\n",
       "      <td>Africa Western and Central</td>\n",
       "      <td>3299.401375</td>\n",
       "      <td>4698.926894</td>\n",
       "      <td>42.417559</td>\n",
       "    </tr>\n",
       "    <tr>\n",
       "      <th>2</th>\n",
       "      <td>Albania</td>\n",
       "      <td>5327.747458</td>\n",
       "      <td>16113.136519</td>\n",
       "      <td>202.438069</td>\n",
       "    </tr>\n",
       "    <tr>\n",
       "      <th>3</th>\n",
       "      <td>Algeria</td>\n",
       "      <td>11728.545729</td>\n",
       "      <td>14496.865470</td>\n",
       "      <td>23.603265</td>\n",
       "    </tr>\n",
       "    <tr>\n",
       "      <th>4</th>\n",
       "      <td>Andorra</td>\n",
       "      <td>50036.300776</td>\n",
       "      <td>59332.202910</td>\n",
       "      <td>18.578316</td>\n",
       "    </tr>\n",
       "  </tbody>\n",
       "</table>\n",
       "</div>"
      ],
      "text/plain": [
       "Year                      Country          1990          2021  Percent_Change\n",
       "0     Africa Eastern and Southern   3386.854480   3934.287267       16.163458\n",
       "1      Africa Western and Central   3299.401375   4698.926894       42.417559\n",
       "2                         Albania   5327.747458  16113.136519      202.438069\n",
       "3                         Algeria  11728.545729  14496.865470       23.603265\n",
       "4                         Andorra  50036.300776  59332.202910       18.578316"
      ]
     },
     "execution_count": 473,
     "metadata": {},
     "output_type": "execute_result"
    }
   ],
   "source": [
    "gdp_pivoted['Percent_Change'] = (100*(gdp_pivoted[2021]-gdp_pivoted[1990]) / gdp_pivoted[1990])\n",
    "gdp_pivoted.head()"
   ]
  },
  {
   "cell_type": "markdown",
   "id": "bc11a76a-0966-42dc-9fd0-404ba49cf18c",
   "metadata": {},
   "source": [
    "#### 15. How many countries experienced a negative percent change in GDP per capita from 1990 to 2021?"
   ]
  },
  {
   "cell_type": "code",
   "execution_count": 475,
   "id": "498608f4-db59-4c26-adf0-bae8682bdf53",
   "metadata": {},
   "outputs": [
    {
     "data": {
      "text/plain": [
       "23"
      ]
     },
     "execution_count": 475,
     "metadata": {},
     "output_type": "execute_result"
    }
   ],
   "source": [
    "gdp_pivoted[gdp_pivoted['Percent_Change'] < 0].shape[0]"
   ]
  },
  {
   "cell_type": "code",
   "execution_count": null,
   "id": "ab0e8d31-9dab-4f81-bfd5-5002c2a53ece",
   "metadata": {},
   "outputs": [],
   "source": []
  },
  {
   "cell_type": "code",
   "execution_count": 477,
   "id": "bed5ba22-763d-43ea-ad74-14840174bb8d",
   "metadata": {},
   "outputs": [],
   "source": [
    "#print(f'There are this many: {(gdp_pivoted['Percent_Change'] < 0).sum()} countries )"
   ]
  },
  {
   "cell_type": "code",
   "execution_count": 479,
   "id": "e2a8ab9c-4f99-4d57-ace6-f64be9471b2d",
   "metadata": {},
   "outputs": [
    {
     "data": {
      "text/html": [
       "<div>\n",
       "<style scoped>\n",
       "    .dataframe tbody tr th:only-of-type {\n",
       "        vertical-align: middle;\n",
       "    }\n",
       "\n",
       "    .dataframe tbody tr th {\n",
       "        vertical-align: top;\n",
       "    }\n",
       "\n",
       "    .dataframe thead th {\n",
       "        text-align: right;\n",
       "    }\n",
       "</style>\n",
       "<table border=\"1\" class=\"dataframe\">\n",
       "  <thead>\n",
       "    <tr style=\"text-align: right;\">\n",
       "      <th>Year</th>\n",
       "      <th>Country</th>\n",
       "      <th>1990</th>\n",
       "      <th>2021</th>\n",
       "      <th>Percent_Change</th>\n",
       "    </tr>\n",
       "  </thead>\n",
       "  <tbody>\n",
       "    <tr>\n",
       "      <th>16</th>\n",
       "      <td>Barbados</td>\n",
       "      <td>16976.761648</td>\n",
       "      <td>15683.884713</td>\n",
       "      <td>-7.615569</td>\n",
       "    </tr>\n",
       "    <tr>\n",
       "      <th>27</th>\n",
       "      <td>Brunei</td>\n",
       "      <td>118163.683198</td>\n",
       "      <td>78248.797110</td>\n",
       "      <td>-33.779318</td>\n",
       "    </tr>\n",
       "    <tr>\n",
       "      <th>30</th>\n",
       "      <td>Burundi</td>\n",
       "      <td>1396.077627</td>\n",
       "      <td>836.665571</td>\n",
       "      <td>-40.070269</td>\n",
       "    </tr>\n",
       "    <tr>\n",
       "      <th>36</th>\n",
       "      <td>Central African Republic</td>\n",
       "      <td>1481.252551</td>\n",
       "      <td>1128.552380</td>\n",
       "      <td>-23.810941</td>\n",
       "    </tr>\n",
       "    <tr>\n",
       "      <th>43</th>\n",
       "      <td>Congo</td>\n",
       "      <td>8699.526839</td>\n",
       "      <td>6263.211613</td>\n",
       "      <td>-28.005146</td>\n",
       "    </tr>\n",
       "    <tr>\n",
       "      <th>49</th>\n",
       "      <td>Dem. Rep. Congo</td>\n",
       "      <td>2172.001597</td>\n",
       "      <td>1313.618218</td>\n",
       "      <td>-39.520384</td>\n",
       "    </tr>\n",
       "    <tr>\n",
       "      <th>71</th>\n",
       "      <td>Fragile and conflict affected situations</td>\n",
       "      <td>6062.707946</td>\n",
       "      <td>5245.734664</td>\n",
       "      <td>-13.475386</td>\n",
       "    </tr>\n",
       "    <tr>\n",
       "      <th>73</th>\n",
       "      <td>Gabon</td>\n",
       "      <td>23884.810700</td>\n",
       "      <td>18523.579803</td>\n",
       "      <td>-22.446194</td>\n",
       "    </tr>\n",
       "    <tr>\n",
       "      <th>84</th>\n",
       "      <td>Haiti</td>\n",
       "      <td>3946.365646</td>\n",
       "      <td>3134.950149</td>\n",
       "      <td>-20.561083</td>\n",
       "    </tr>\n",
       "    <tr>\n",
       "      <th>111</th>\n",
       "      <td>Kyrgyz Republic</td>\n",
       "      <td>6095.681086</td>\n",
       "      <td>5736.478834</td>\n",
       "      <td>-5.892734</td>\n",
       "    </tr>\n",
       "    <tr>\n",
       "      <th>121</th>\n",
       "      <td>Liberia</td>\n",
       "      <td>1866.405481</td>\n",
       "      <td>1539.208923</td>\n",
       "      <td>-17.530840</td>\n",
       "    </tr>\n",
       "    <tr>\n",
       "      <th>122</th>\n",
       "      <td>Libya</td>\n",
       "      <td>18121.815655</td>\n",
       "      <td>12641.509771</td>\n",
       "      <td>-30.241483</td>\n",
       "    </tr>\n",
       "    <tr>\n",
       "      <th>129</th>\n",
       "      <td>Madagascar</td>\n",
       "      <td>1975.146568</td>\n",
       "      <td>1599.412769</td>\n",
       "      <td>-19.023084</td>\n",
       "    </tr>\n",
       "    <tr>\n",
       "      <th>144</th>\n",
       "      <td>Moldova</td>\n",
       "      <td>15902.894323</td>\n",
       "      <td>15682.070328</td>\n",
       "      <td>-1.388577</td>\n",
       "    </tr>\n",
       "    <tr>\n",
       "      <th>150</th>\n",
       "      <td>Nauru</td>\n",
       "      <td>30546.301797</td>\n",
       "      <td>12196.645155</td>\n",
       "      <td>-60.071614</td>\n",
       "    </tr>\n",
       "    <tr>\n",
       "      <th>165</th>\n",
       "      <td>Palau</td>\n",
       "      <td>17842.085859</td>\n",
       "      <td>15663.174395</td>\n",
       "      <td>-12.212201</td>\n",
       "    </tr>\n",
       "    <tr>\n",
       "      <th>181</th>\n",
       "      <td>Saudi Arabia</td>\n",
       "      <td>60101.575626</td>\n",
       "      <td>55768.235520</td>\n",
       "      <td>-7.210027</td>\n",
       "    </tr>\n",
       "    <tr>\n",
       "      <th>205</th>\n",
       "      <td>Syrian Arab Republic</td>\n",
       "      <td>5828.405516</td>\n",
       "      <td>4592.838601</td>\n",
       "      <td>-21.199055</td>\n",
       "    </tr>\n",
       "    <tr>\n",
       "      <th>207</th>\n",
       "      <td>Tajikistan</td>\n",
       "      <td>4173.046080</td>\n",
       "      <td>3985.912476</td>\n",
       "      <td>-4.484341</td>\n",
       "    </tr>\n",
       "    <tr>\n",
       "      <th>210</th>\n",
       "      <td>The Bahamas</td>\n",
       "      <td>33062.545904</td>\n",
       "      <td>29340.472348</td>\n",
       "      <td>-11.257674</td>\n",
       "    </tr>\n",
       "    <tr>\n",
       "      <th>221</th>\n",
       "      <td>Ukraine</td>\n",
       "      <td>22815.798828</td>\n",
       "      <td>17846.408203</td>\n",
       "      <td>-21.780481</td>\n",
       "    </tr>\n",
       "    <tr>\n",
       "      <th>222</th>\n",
       "      <td>United Arab Emirates</td>\n",
       "      <td>108057.042464</td>\n",
       "      <td>67401.121295</td>\n",
       "      <td>-37.624499</td>\n",
       "    </tr>\n",
       "    <tr>\n",
       "      <th>232</th>\n",
       "      <td>Zimbabwe</td>\n",
       "      <td>4013.299059</td>\n",
       "      <td>3184.785451</td>\n",
       "      <td>-20.644203</td>\n",
       "    </tr>\n",
       "  </tbody>\n",
       "</table>\n",
       "</div>"
      ],
      "text/plain": [
       "Year                                   Country           1990          2021  \\\n",
       "16                                    Barbados   16976.761648  15683.884713   \n",
       "27                                      Brunei  118163.683198  78248.797110   \n",
       "30                                     Burundi    1396.077627    836.665571   \n",
       "36                    Central African Republic    1481.252551   1128.552380   \n",
       "43                                       Congo    8699.526839   6263.211613   \n",
       "49                             Dem. Rep. Congo    2172.001597   1313.618218   \n",
       "71    Fragile and conflict affected situations    6062.707946   5245.734664   \n",
       "73                                       Gabon   23884.810700  18523.579803   \n",
       "84                                       Haiti    3946.365646   3134.950149   \n",
       "111                            Kyrgyz Republic    6095.681086   5736.478834   \n",
       "121                                    Liberia    1866.405481   1539.208923   \n",
       "122                                      Libya   18121.815655  12641.509771   \n",
       "129                                 Madagascar    1975.146568   1599.412769   \n",
       "144                                    Moldova   15902.894323  15682.070328   \n",
       "150                                      Nauru   30546.301797  12196.645155   \n",
       "165                                      Palau   17842.085859  15663.174395   \n",
       "181                               Saudi Arabia   60101.575626  55768.235520   \n",
       "205                       Syrian Arab Republic    5828.405516   4592.838601   \n",
       "207                                 Tajikistan    4173.046080   3985.912476   \n",
       "210                                The Bahamas   33062.545904  29340.472348   \n",
       "221                                    Ukraine   22815.798828  17846.408203   \n",
       "222                       United Arab Emirates  108057.042464  67401.121295   \n",
       "232                                   Zimbabwe    4013.299059   3184.785451   \n",
       "\n",
       "Year  Percent_Change  \n",
       "16         -7.615569  \n",
       "27        -33.779318  \n",
       "30        -40.070269  \n",
       "36        -23.810941  \n",
       "43        -28.005146  \n",
       "49        -39.520384  \n",
       "71        -13.475386  \n",
       "73        -22.446194  \n",
       "84        -20.561083  \n",
       "111        -5.892734  \n",
       "121       -17.530840  \n",
       "122       -30.241483  \n",
       "129       -19.023084  \n",
       "144        -1.388577  \n",
       "150       -60.071614  \n",
       "165       -12.212201  \n",
       "181        -7.210027  \n",
       "205       -21.199055  \n",
       "207        -4.484341  \n",
       "210       -11.257674  \n",
       "221       -21.780481  \n",
       "222       -37.624499  \n",
       "232       -20.644203  "
      ]
     },
     "execution_count": 479,
     "metadata": {},
     "output_type": "execute_result"
    }
   ],
   "source": [
    "gdp_pivoted[gdp_pivoted['Percent_Change'].le(0)]"
   ]
  },
  {
   "cell_type": "markdown",
   "id": "a25a5579-1655-4dbc-ac35-cce18ece6647",
   "metadata": {},
   "source": [
    "#### 16. Which country had the highest % change in GDP per capita? Create a line plot showing this country's GDP per capita for all years from 1990 to 2018. Create another showing the country with the second highest % change in GDP. How do the trends in these countries compare? \n",
    "Bonus: Put both line charts on the same plot."
   ]
  },
  {
   "cell_type": "code",
   "execution_count": 481,
   "id": "e608776b-c715-476d-9887-94127c0dd648",
   "metadata": {},
   "outputs": [
    {
     "data": {
      "text/plain": [
       "1398.1460518348676"
      ]
     },
     "execution_count": 481,
     "metadata": {},
     "output_type": "execute_result"
    }
   ],
   "source": [
    "gdp_pivoted['Percent_Change'].max()"
   ]
  },
  {
   "cell_type": "code",
   "execution_count": 482,
   "id": "ee2a7a03-3471-405b-9914-266645de5b16",
   "metadata": {},
   "outputs": [
    {
     "data": {
      "text/html": [
       "<div>\n",
       "<style scoped>\n",
       "    .dataframe tbody tr th:only-of-type {\n",
       "        vertical-align: middle;\n",
       "    }\n",
       "\n",
       "    .dataframe tbody tr th {\n",
       "        vertical-align: top;\n",
       "    }\n",
       "\n",
       "    .dataframe thead th {\n",
       "        text-align: right;\n",
       "    }\n",
       "</style>\n",
       "<table border=\"1\" class=\"dataframe\">\n",
       "  <thead>\n",
       "    <tr style=\"text-align: right;\">\n",
       "      <th>Year</th>\n",
       "      <th>Country</th>\n",
       "      <th>1990</th>\n",
       "      <th>2021</th>\n",
       "      <th>Percent_Change</th>\n",
       "    </tr>\n",
       "  </thead>\n",
       "  <tbody>\n",
       "    <tr>\n",
       "      <th>60</th>\n",
       "      <td>Equatorial Guinea</td>\n",
       "      <td>1122.817674</td>\n",
       "      <td>16821.448647</td>\n",
       "      <td>1398.146052</td>\n",
       "    </tr>\n",
       "    <tr>\n",
       "      <th>40</th>\n",
       "      <td>China</td>\n",
       "      <td>1645.578944</td>\n",
       "      <td>20406.729658</td>\n",
       "      <td>1140.094237</td>\n",
       "    </tr>\n",
       "  </tbody>\n",
       "</table>\n",
       "</div>"
      ],
      "text/plain": [
       "Year            Country         1990          2021  Percent_Change\n",
       "60    Equatorial Guinea  1122.817674  16821.448647     1398.146052\n",
       "40                China  1645.578944  20406.729658     1140.094237"
      ]
     },
     "execution_count": 482,
     "metadata": {},
     "output_type": "execute_result"
    }
   ],
   "source": [
    "gdp_pivoted.nlargest(2, \"Percent_Change\")"
   ]
  },
  {
   "cell_type": "code",
   "execution_count": 483,
   "id": "838c9d2d-30ed-4d29-8a6e-eb0d48cdb04c",
   "metadata": {},
   "outputs": [
    {
     "data": {
      "text/plain": [
       "<Axes: xlabel='Year'>"
      ]
     },
     "execution_count": 483,
     "metadata": {},
     "output_type": "execute_result"
    },
    {
     "data": {
      "image/png": "[encoded data removed]",
      "text/plain": [
       "<Figure size 640x480 with 1 Axes>"
      ]
     },
     "metadata": {},
     "output_type": "display_data"
    }
   ],
   "source": [
    "(\n",
    "    gdp_drop_footnotes[gdp_drop_footnotes['Country'] == \"Equatorial Guinea\"]\n",
    "    .loc[gdp_drop_footnotes[\"Year\"] <= 2021]\n",
    "    .loc[gdp_drop_footnotes[\"Year\"] >= 1990]\n",
    "    .plot(x=\"Year\", y=\"GDP_Per_Capita\", kind=\"line\")\n",
    "    \n",
    ")"
   ]
  },
  {
   "cell_type": "code",
   "execution_count": 484,
   "id": "61b57e99-dc54-4be6-93c0-7334e238e915",
   "metadata": {},
   "outputs": [
    {
     "data": {
      "image/png": "[encoded data removed]",
      "text/plain": [
       "<Figure size 640x480 with 1 Axes>"
      ]
     },
     "metadata": {},
     "output_type": "display_data"
    }
   ],
   "source": [
    "ax=(\n",
    "gdp_drop_footnotes\n",
    ".loc[gdp_drop_footnotes['Country'] == 'Equatorial Guinea']\n",
    ".loc[gdp_drop_footnotes['Year'] <= 2021]\n",
    ".loc[gdp_drop_footnotes['Year'] >= 1990]\n",
    ".plot(x=\"Year\", y=\"GDP_Per_Capita\", kind=\"line\", label = 'Equatorial Guinea')\n",
    ")\n",
    "(\n",
    "gdp_drop_footnotes\n",
    ".loc[gdp_drop_footnotes['Country'] == 'China']\n",
    ".loc[gdp_drop_footnotes['Year'] <= 2021]\n",
    ".loc[gdp_drop_footnotes['Year'] >= 1990]\n",
    ".plot(x=\"Year\", y=\"GDP_Per_Capita\", kind=\"line\", label = 'China', ax=ax)\n",
    ");"
   ]
  },
  {
   "cell_type": "code",
   "execution_count": 486,
   "id": "a6f58fc5-2fc8-461c-beed-0fdf4caec281",
   "metadata": {},
   "outputs": [],
   "source": [
    "#sns.lineplot(\n",
    "#    data = two_max_gdp_change, \n",
    "#    x = 'Year', \n",
    "#    y = 'GDP_Per_Capita', \n",
    "#    hue = 'Country')\n",
    "#plt.title('China and Equatorial Guinea GDP Per Capita Growth')\n",
    "#plt.ylabel('GDP Per Capita');"
   ]
  },
  {
   "cell_type": "code",
   "execution_count": 487,
   "id": "34e2026e-1e3d-4de4-85e3-da9d2431ffb5",
   "metadata": {},
   "outputs": [],
   "source": [
    "#ax=China_GDP_data.plot(x='Year',y='GDP_Per_Capita',kind='line',label='China')\n",
    "#EG_GDP_data.plot(x='Year',y='GDP_Per_Capita',kind='line', label='Equatorial Guinea', ax=ax)"
   ]
  },
  {
   "cell_type": "code",
   "execution_count": null,
   "id": "5bea53cd-9e10-47f9-9b09-2b2970249024",
   "metadata": {},
   "outputs": [],
   "source": []
  },
  {
   "cell_type": "code",
   "execution_count": 490,
   "id": "9a35a9d4-2417-45c1-bc8c-172c56fb8575",
   "metadata": {},
   "outputs": [],
   "source": [
    "#gdp_pivoted.loc[gdp_pivoted['Percent_Change'].idxmax()]#, ['Percent_Change', 'Country']]"
   ]
  },
  {
   "cell_type": "code",
   "execution_count": 491,
   "id": "ab4a2c7e-1526-4260-956c-95fce91a9b1d",
   "metadata": {},
   "outputs": [
    {
     "data": {
      "text/html": [
       "<div>\n",
       "<style scoped>\n",
       "    .dataframe tbody tr th:only-of-type {\n",
       "        vertical-align: middle;\n",
       "    }\n",
       "\n",
       "    .dataframe tbody tr th {\n",
       "        vertical-align: top;\n",
       "    }\n",
       "\n",
       "    .dataframe thead th {\n",
       "        text-align: right;\n",
       "    }\n",
       "</style>\n",
       "<table border=\"1\" class=\"dataframe\">\n",
       "  <thead>\n",
       "    <tr style=\"text-align: right;\">\n",
       "      <th></th>\n",
       "      <th>Country</th>\n",
       "      <th>Year</th>\n",
       "      <th>GDP_Per_Capita</th>\n",
       "    </tr>\n",
       "  </thead>\n",
       "  <tbody>\n",
       "    <tr>\n",
       "      <th>2116</th>\n",
       "      <td>Equatorial Guinea</td>\n",
       "      <td>2023</td>\n",
       "      <td>15688.238419</td>\n",
       "    </tr>\n",
       "    <tr>\n",
       "      <th>2117</th>\n",
       "      <td>Equatorial Guinea</td>\n",
       "      <td>2022</td>\n",
       "      <td>16932.770683</td>\n",
       "    </tr>\n",
       "    <tr>\n",
       "      <th>2118</th>\n",
       "      <td>Equatorial Guinea</td>\n",
       "      <td>2021</td>\n",
       "      <td>16821.448647</td>\n",
       "    </tr>\n",
       "    <tr>\n",
       "      <th>2119</th>\n",
       "      <td>Equatorial Guinea</td>\n",
       "      <td>2020</td>\n",
       "      <td>17089.153726</td>\n",
       "    </tr>\n",
       "    <tr>\n",
       "      <th>2120</th>\n",
       "      <td>Equatorial Guinea</td>\n",
       "      <td>2019</td>\n",
       "      <td>18446.591658</td>\n",
       "    </tr>\n",
       "    <tr>\n",
       "      <th>2121</th>\n",
       "      <td>Equatorial Guinea</td>\n",
       "      <td>2018</td>\n",
       "      <td>20165.479555</td>\n",
       "    </tr>\n",
       "    <tr>\n",
       "      <th>2122</th>\n",
       "      <td>Equatorial Guinea</td>\n",
       "      <td>2017</td>\n",
       "      <td>22250.438923</td>\n",
       "    </tr>\n",
       "    <tr>\n",
       "      <th>2123</th>\n",
       "      <td>Equatorial Guinea</td>\n",
       "      <td>2016</td>\n",
       "      <td>24435.064556</td>\n",
       "    </tr>\n",
       "    <tr>\n",
       "      <th>2124</th>\n",
       "      <td>Equatorial Guinea</td>\n",
       "      <td>2015</td>\n",
       "      <td>27797.794280</td>\n",
       "    </tr>\n",
       "    <tr>\n",
       "      <th>2125</th>\n",
       "      <td>Equatorial Guinea</td>\n",
       "      <td>2014</td>\n",
       "      <td>31765.899706</td>\n",
       "    </tr>\n",
       "    <tr>\n",
       "      <th>2126</th>\n",
       "      <td>Equatorial Guinea</td>\n",
       "      <td>2013</td>\n",
       "      <td>32894.369319</td>\n",
       "    </tr>\n",
       "    <tr>\n",
       "      <th>2127</th>\n",
       "      <td>Equatorial Guinea</td>\n",
       "      <td>2012</td>\n",
       "      <td>35711.491927</td>\n",
       "    </tr>\n",
       "    <tr>\n",
       "      <th>2128</th>\n",
       "      <td>Equatorial Guinea</td>\n",
       "      <td>2011</td>\n",
       "      <td>34341.934261</td>\n",
       "    </tr>\n",
       "    <tr>\n",
       "      <th>2129</th>\n",
       "      <td>Equatorial Guinea</td>\n",
       "      <td>2010</td>\n",
       "      <td>33668.874065</td>\n",
       "    </tr>\n",
       "    <tr>\n",
       "      <th>2130</th>\n",
       "      <td>Equatorial Guinea</td>\n",
       "      <td>2009</td>\n",
       "      <td>38706.605251</td>\n",
       "    </tr>\n",
       "    <tr>\n",
       "      <th>2131</th>\n",
       "      <td>Equatorial Guinea</td>\n",
       "      <td>2008</td>\n",
       "      <td>39994.615979</td>\n",
       "    </tr>\n",
       "    <tr>\n",
       "      <th>2132</th>\n",
       "      <td>Equatorial Guinea</td>\n",
       "      <td>2007</td>\n",
       "      <td>35540.447756</td>\n",
       "    </tr>\n",
       "    <tr>\n",
       "      <th>2133</th>\n",
       "      <td>Equatorial Guinea</td>\n",
       "      <td>2006</td>\n",
       "      <td>32251.768008</td>\n",
       "    </tr>\n",
       "    <tr>\n",
       "      <th>2134</th>\n",
       "      <td>Equatorial Guinea</td>\n",
       "      <td>2005</td>\n",
       "      <td>31302.957954</td>\n",
       "    </tr>\n",
       "    <tr>\n",
       "      <th>2135</th>\n",
       "      <td>Equatorial Guinea</td>\n",
       "      <td>2004</td>\n",
       "      <td>28225.985816</td>\n",
       "    </tr>\n",
       "    <tr>\n",
       "      <th>2136</th>\n",
       "      <td>Equatorial Guinea</td>\n",
       "      <td>2003</td>\n",
       "      <td>21709.575124</td>\n",
       "    </tr>\n",
       "    <tr>\n",
       "      <th>2137</th>\n",
       "      <td>Equatorial Guinea</td>\n",
       "      <td>2002</td>\n",
       "      <td>20242.430968</td>\n",
       "    </tr>\n",
       "    <tr>\n",
       "      <th>2138</th>\n",
       "      <td>Equatorial Guinea</td>\n",
       "      <td>2001</td>\n",
       "      <td>18031.964975</td>\n",
       "    </tr>\n",
       "    <tr>\n",
       "      <th>2139</th>\n",
       "      <td>Equatorial Guinea</td>\n",
       "      <td>2000</td>\n",
       "      <td>11767.470881</td>\n",
       "    </tr>\n",
       "    <tr>\n",
       "      <th>2140</th>\n",
       "      <td>Equatorial Guinea</td>\n",
       "      <td>1999</td>\n",
       "      <td>10492.464948</td>\n",
       "    </tr>\n",
       "    <tr>\n",
       "      <th>2141</th>\n",
       "      <td>Equatorial Guinea</td>\n",
       "      <td>1998</td>\n",
       "      <td>8684.657308</td>\n",
       "    </tr>\n",
       "    <tr>\n",
       "      <th>2142</th>\n",
       "      <td>Equatorial Guinea</td>\n",
       "      <td>1997</td>\n",
       "      <td>7296.100098</td>\n",
       "    </tr>\n",
       "    <tr>\n",
       "      <th>2143</th>\n",
       "      <td>Equatorial Guinea</td>\n",
       "      <td>1996</td>\n",
       "      <td>3033.840312</td>\n",
       "    </tr>\n",
       "    <tr>\n",
       "      <th>2144</th>\n",
       "      <td>Equatorial Guinea</td>\n",
       "      <td>1995</td>\n",
       "      <td>1892.116531</td>\n",
       "    </tr>\n",
       "    <tr>\n",
       "      <th>2145</th>\n",
       "      <td>Equatorial Guinea</td>\n",
       "      <td>1994</td>\n",
       "      <td>1672.345475</td>\n",
       "    </tr>\n",
       "    <tr>\n",
       "      <th>2146</th>\n",
       "      <td>Equatorial Guinea</td>\n",
       "      <td>1993</td>\n",
       "      <td>1487.812025</td>\n",
       "    </tr>\n",
       "    <tr>\n",
       "      <th>2147</th>\n",
       "      <td>Equatorial Guinea</td>\n",
       "      <td>1992</td>\n",
       "      <td>1390.479185</td>\n",
       "    </tr>\n",
       "    <tr>\n",
       "      <th>2148</th>\n",
       "      <td>Equatorial Guinea</td>\n",
       "      <td>1991</td>\n",
       "      <td>1070.827643</td>\n",
       "    </tr>\n",
       "    <tr>\n",
       "      <th>2149</th>\n",
       "      <td>Equatorial Guinea</td>\n",
       "      <td>1990</td>\n",
       "      <td>1122.817674</td>\n",
       "    </tr>\n",
       "  </tbody>\n",
       "</table>\n",
       "</div>"
      ],
      "text/plain": [
       "                Country  Year  GDP_Per_Capita\n",
       "2116  Equatorial Guinea  2023    15688.238419\n",
       "2117  Equatorial Guinea  2022    16932.770683\n",
       "2118  Equatorial Guinea  2021    16821.448647\n",
       "2119  Equatorial Guinea  2020    17089.153726\n",
       "2120  Equatorial Guinea  2019    18446.591658\n",
       "2121  Equatorial Guinea  2018    20165.479555\n",
       "2122  Equatorial Guinea  2017    22250.438923\n",
       "2123  Equatorial Guinea  2016    24435.064556\n",
       "2124  Equatorial Guinea  2015    27797.794280\n",
       "2125  Equatorial Guinea  2014    31765.899706\n",
       "2126  Equatorial Guinea  2013    32894.369319\n",
       "2127  Equatorial Guinea  2012    35711.491927\n",
       "2128  Equatorial Guinea  2011    34341.934261\n",
       "2129  Equatorial Guinea  2010    33668.874065\n",
       "2130  Equatorial Guinea  2009    38706.605251\n",
       "2131  Equatorial Guinea  2008    39994.615979\n",
       "2132  Equatorial Guinea  2007    35540.447756\n",
       "2133  Equatorial Guinea  2006    32251.768008\n",
       "2134  Equatorial Guinea  2005    31302.957954\n",
       "2135  Equatorial Guinea  2004    28225.985816\n",
       "2136  Equatorial Guinea  2003    21709.575124\n",
       "2137  Equatorial Guinea  2002    20242.430968\n",
       "2138  Equatorial Guinea  2001    18031.964975\n",
       "2139  Equatorial Guinea  2000    11767.470881\n",
       "2140  Equatorial Guinea  1999    10492.464948\n",
       "2141  Equatorial Guinea  1998     8684.657308\n",
       "2142  Equatorial Guinea  1997     7296.100098\n",
       "2143  Equatorial Guinea  1996     3033.840312\n",
       "2144  Equatorial Guinea  1995     1892.116531\n",
       "2145  Equatorial Guinea  1994     1672.345475\n",
       "2146  Equatorial Guinea  1993     1487.812025\n",
       "2147  Equatorial Guinea  1992     1390.479185\n",
       "2148  Equatorial Guinea  1991     1070.827643\n",
       "2149  Equatorial Guinea  1990     1122.817674"
      ]
     },
     "execution_count": 491,
     "metadata": {},
     "output_type": "execute_result"
    }
   ],
   "source": [
    "gdp_drop_footnotes[gdp_drop_footnotes['Country'] == 'Equatorial Guinea']"
   ]
  },
  {
   "cell_type": "code",
   "execution_count": 492,
   "id": "ce7b8a6c-a4b9-4667-a64b-afe3e485cd1e",
   "metadata": {},
   "outputs": [],
   "source": [
    "#gdp_drop_footnotes[gdp_drop_footnotes['Country'] == gdp_drop_footnotes['Country'].value_counts().idxmax()]"
   ]
  },
  {
   "cell_type": "code",
   "execution_count": 493,
   "id": "7c8269dd-7279-4784-8ea7-be5f87b06bc6",
   "metadata": {},
   "outputs": [
    {
     "data": {
      "text/html": [
       "<div>\n",
       "<style scoped>\n",
       "    .dataframe tbody tr th:only-of-type {\n",
       "        vertical-align: middle;\n",
       "    }\n",
       "\n",
       "    .dataframe tbody tr th {\n",
       "        vertical-align: top;\n",
       "    }\n",
       "\n",
       "    .dataframe thead th {\n",
       "        text-align: right;\n",
       "    }\n",
       "</style>\n",
       "<table border=\"1\" class=\"dataframe\">\n",
       "  <thead>\n",
       "    <tr style=\"text-align: right;\">\n",
       "      <th></th>\n",
       "      <th>Country</th>\n",
       "      <th>Year</th>\n",
       "      <th>GDP_Per_Capita</th>\n",
       "    </tr>\n",
       "  </thead>\n",
       "  <tbody>\n",
       "    <tr>\n",
       "      <th>0</th>\n",
       "      <td>Afghanistan</td>\n",
       "      <td>2023</td>\n",
       "      <td>1992.424394</td>\n",
       "    </tr>\n",
       "    <tr>\n",
       "      <th>1</th>\n",
       "      <td>Afghanistan</td>\n",
       "      <td>2022</td>\n",
       "      <td>1981.710168</td>\n",
       "    </tr>\n",
       "    <tr>\n",
       "      <th>2</th>\n",
       "      <td>Afghanistan</td>\n",
       "      <td>2021</td>\n",
       "      <td>2144.166570</td>\n",
       "    </tr>\n",
       "    <tr>\n",
       "      <th>3</th>\n",
       "      <td>Afghanistan</td>\n",
       "      <td>2020</td>\n",
       "      <td>2769.685745</td>\n",
       "    </tr>\n",
       "    <tr>\n",
       "      <th>4</th>\n",
       "      <td>Afghanistan</td>\n",
       "      <td>2019</td>\n",
       "      <td>2927.245144</td>\n",
       "    </tr>\n",
       "    <tr>\n",
       "      <th>...</th>\n",
       "      <td>...</td>\n",
       "      <td>...</td>\n",
       "      <td>...</td>\n",
       "    </tr>\n",
       "    <tr>\n",
       "      <th>8214</th>\n",
       "      <td>Zimbabwe</td>\n",
       "      <td>1994</td>\n",
       "      <td>3965.730986</td>\n",
       "    </tr>\n",
       "    <tr>\n",
       "      <th>8215</th>\n",
       "      <td>Zimbabwe</td>\n",
       "      <td>1993</td>\n",
       "      <td>3634.750494</td>\n",
       "    </tr>\n",
       "    <tr>\n",
       "      <th>8216</th>\n",
       "      <td>Zimbabwe</td>\n",
       "      <td>1992</td>\n",
       "      <td>3649.891947</td>\n",
       "    </tr>\n",
       "    <tr>\n",
       "      <th>8217</th>\n",
       "      <td>Zimbabwe</td>\n",
       "      <td>1991</td>\n",
       "      <td>4126.405247</td>\n",
       "    </tr>\n",
       "    <tr>\n",
       "      <th>8218</th>\n",
       "      <td>Zimbabwe</td>\n",
       "      <td>1990</td>\n",
       "      <td>4013.299059</td>\n",
       "    </tr>\n",
       "  </tbody>\n",
       "</table>\n",
       "<p>8219 rows × 3 columns</p>\n",
       "</div>"
      ],
      "text/plain": [
       "          Country  Year  GDP_Per_Capita\n",
       "0     Afghanistan  2023     1992.424394\n",
       "1     Afghanistan  2022     1981.710168\n",
       "2     Afghanistan  2021     2144.166570\n",
       "3     Afghanistan  2020     2769.685745\n",
       "4     Afghanistan  2019     2927.245144\n",
       "...           ...   ...             ...\n",
       "8214     Zimbabwe  1994     3965.730986\n",
       "8215     Zimbabwe  1993     3634.750494\n",
       "8216     Zimbabwe  1992     3649.891947\n",
       "8217     Zimbabwe  1991     4126.405247\n",
       "8218     Zimbabwe  1990     4013.299059\n",
       "\n",
       "[8219 rows x 3 columns]"
      ]
     },
     "execution_count": 493,
     "metadata": {},
     "output_type": "execute_result"
    }
   ],
   "source": [
    "gdp_drop_footnotes"
   ]
  },
  {
   "cell_type": "markdown",
   "id": "f8a442ba-b9ca-46df-8401-11ca693abde8",
   "metadata": {},
   "source": [
    "#### 17. Read in continents.csv contained in the data folder into a new dataframe called continents. We will be using this dataframe to add a new column to our dataset."
   ]
  },
  {
   "cell_type": "code",
   "execution_count": 495,
   "id": "35c82383-db58-4c1a-8b26-491ab818e67b",
   "metadata": {},
   "outputs": [],
   "source": [
    "continents = pd.read_csv(\"../data/continents.csv\")"
   ]
  },
  {
   "cell_type": "code",
   "execution_count": 496,
   "id": "b15cb71c-51be-4b38-afea-3963f2a1c148",
   "metadata": {},
   "outputs": [
    {
     "data": {
      "text/html": [
       "<div>\n",
       "<style scoped>\n",
       "    .dataframe tbody tr th:only-of-type {\n",
       "        vertical-align: middle;\n",
       "    }\n",
       "\n",
       "    .dataframe tbody tr th {\n",
       "        vertical-align: top;\n",
       "    }\n",
       "\n",
       "    .dataframe thead th {\n",
       "        text-align: right;\n",
       "    }\n",
       "</style>\n",
       "<table border=\"1\" class=\"dataframe\">\n",
       "  <thead>\n",
       "    <tr style=\"text-align: right;\">\n",
       "      <th></th>\n",
       "      <th>Continent</th>\n",
       "      <th>Country</th>\n",
       "    </tr>\n",
       "  </thead>\n",
       "  <tbody>\n",
       "    <tr>\n",
       "      <th>0</th>\n",
       "      <td>Asia</td>\n",
       "      <td>Afghanistan</td>\n",
       "    </tr>\n",
       "    <tr>\n",
       "      <th>1</th>\n",
       "      <td>Europe</td>\n",
       "      <td>Albania</td>\n",
       "    </tr>\n",
       "    <tr>\n",
       "      <th>2</th>\n",
       "      <td>Africa</td>\n",
       "      <td>Algeria</td>\n",
       "    </tr>\n",
       "    <tr>\n",
       "      <th>3</th>\n",
       "      <td>Europe</td>\n",
       "      <td>Andorra</td>\n",
       "    </tr>\n",
       "    <tr>\n",
       "      <th>4</th>\n",
       "      <td>Africa</td>\n",
       "      <td>Angola</td>\n",
       "    </tr>\n",
       "    <tr>\n",
       "      <th>...</th>\n",
       "      <td>...</td>\n",
       "      <td>...</td>\n",
       "    </tr>\n",
       "    <tr>\n",
       "      <th>211</th>\n",
       "      <td>Asia</td>\n",
       "      <td>Vietnam</td>\n",
       "    </tr>\n",
       "    <tr>\n",
       "      <th>212</th>\n",
       "      <td>Asia</td>\n",
       "      <td>West Bank and Gaza</td>\n",
       "    </tr>\n",
       "    <tr>\n",
       "      <th>213</th>\n",
       "      <td>Asia</td>\n",
       "      <td>Yemen</td>\n",
       "    </tr>\n",
       "    <tr>\n",
       "      <th>214</th>\n",
       "      <td>Africa</td>\n",
       "      <td>Zambia</td>\n",
       "    </tr>\n",
       "    <tr>\n",
       "      <th>215</th>\n",
       "      <td>Africa</td>\n",
       "      <td>Zimbabwe</td>\n",
       "    </tr>\n",
       "  </tbody>\n",
       "</table>\n",
       "<p>216 rows × 2 columns</p>\n",
       "</div>"
      ],
      "text/plain": [
       "    Continent             Country\n",
       "0        Asia         Afghanistan\n",
       "1      Europe             Albania\n",
       "2      Africa             Algeria\n",
       "3      Europe             Andorra\n",
       "4      Africa              Angola\n",
       "..        ...                 ...\n",
       "211      Asia             Vietnam\n",
       "212      Asia  West Bank and Gaza\n",
       "213      Asia               Yemen\n",
       "214    Africa              Zambia\n",
       "215    Africa            Zimbabwe\n",
       "\n",
       "[216 rows x 2 columns]"
      ]
     },
     "execution_count": 496,
     "metadata": {},
     "output_type": "execute_result"
    }
   ],
   "source": [
    "continents"
   ]
  },
  {
   "cell_type": "markdown",
   "id": "e62a8fbb-cfbc-4cdc-804a-3b91ae4c995e",
   "metadata": {},
   "source": [
    "#### 18. Merge gdp_df and continents. Keep only the countries that appear in both data frames. Save the result back to gdp_df.\r\n",
    "\r\n"
   ]
  },
  {
   "cell_type": "code",
   "execution_count": 498,
   "id": "0015ed91-e56b-455d-913e-f43834181b2a",
   "metadata": {},
   "outputs": [
    {
     "data": {
      "text/plain": [
       "Country or Area     object\n",
       "Year                 int64\n",
       "Value              float64\n",
       "Value Footnotes    float64\n",
       "dtype: object"
      ]
     },
     "execution_count": 498,
     "metadata": {},
     "output_type": "execute_result"
    }
   ],
   "source": [
    "gdp_df.dtypes"
   ]
  },
  {
   "cell_type": "code",
   "execution_count": 499,
   "id": "59adfc53-be68-420f-9135-668408c028cc",
   "metadata": {},
   "outputs": [
    {
     "data": {
      "text/html": [
       "<div>\n",
       "<style scoped>\n",
       "    .dataframe tbody tr th:only-of-type {\n",
       "        vertical-align: middle;\n",
       "    }\n",
       "\n",
       "    .dataframe tbody tr th {\n",
       "        vertical-align: top;\n",
       "    }\n",
       "\n",
       "    .dataframe thead th {\n",
       "        text-align: right;\n",
       "    }\n",
       "</style>\n",
       "<table border=\"1\" class=\"dataframe\">\n",
       "  <thead>\n",
       "    <tr style=\"text-align: right;\">\n",
       "      <th></th>\n",
       "      <th>Country or Area</th>\n",
       "      <th>Year</th>\n",
       "      <th>Value</th>\n",
       "      <th>Value Footnotes</th>\n",
       "    </tr>\n",
       "  </thead>\n",
       "  <tbody>\n",
       "    <tr>\n",
       "      <th>0</th>\n",
       "      <td>Afghanistan</td>\n",
       "      <td>2023</td>\n",
       "      <td>1992.424394</td>\n",
       "      <td>NaN</td>\n",
       "    </tr>\n",
       "    <tr>\n",
       "      <th>1</th>\n",
       "      <td>Afghanistan</td>\n",
       "      <td>2022</td>\n",
       "      <td>1981.710168</td>\n",
       "      <td>NaN</td>\n",
       "    </tr>\n",
       "    <tr>\n",
       "      <th>2</th>\n",
       "      <td>Afghanistan</td>\n",
       "      <td>2021</td>\n",
       "      <td>2144.166570</td>\n",
       "      <td>NaN</td>\n",
       "    </tr>\n",
       "    <tr>\n",
       "      <th>3</th>\n",
       "      <td>Afghanistan</td>\n",
       "      <td>2020</td>\n",
       "      <td>2769.685745</td>\n",
       "      <td>NaN</td>\n",
       "    </tr>\n",
       "    <tr>\n",
       "      <th>4</th>\n",
       "      <td>Afghanistan</td>\n",
       "      <td>2019</td>\n",
       "      <td>2927.245144</td>\n",
       "      <td>NaN</td>\n",
       "    </tr>\n",
       "    <tr>\n",
       "      <th>...</th>\n",
       "      <td>...</td>\n",
       "      <td>...</td>\n",
       "      <td>...</td>\n",
       "      <td>...</td>\n",
       "    </tr>\n",
       "    <tr>\n",
       "      <th>8214</th>\n",
       "      <td>Zimbabwe</td>\n",
       "      <td>1994</td>\n",
       "      <td>3965.730986</td>\n",
       "      <td>NaN</td>\n",
       "    </tr>\n",
       "    <tr>\n",
       "      <th>8215</th>\n",
       "      <td>Zimbabwe</td>\n",
       "      <td>1993</td>\n",
       "      <td>3634.750494</td>\n",
       "      <td>NaN</td>\n",
       "    </tr>\n",
       "    <tr>\n",
       "      <th>8216</th>\n",
       "      <td>Zimbabwe</td>\n",
       "      <td>1992</td>\n",
       "      <td>3649.891947</td>\n",
       "      <td>NaN</td>\n",
       "    </tr>\n",
       "    <tr>\n",
       "      <th>8217</th>\n",
       "      <td>Zimbabwe</td>\n",
       "      <td>1991</td>\n",
       "      <td>4126.405247</td>\n",
       "      <td>NaN</td>\n",
       "    </tr>\n",
       "    <tr>\n",
       "      <th>8218</th>\n",
       "      <td>Zimbabwe</td>\n",
       "      <td>1990</td>\n",
       "      <td>4013.299059</td>\n",
       "      <td>NaN</td>\n",
       "    </tr>\n",
       "  </tbody>\n",
       "</table>\n",
       "<p>8219 rows × 4 columns</p>\n",
       "</div>"
      ],
      "text/plain": [
       "     Country or Area  Year        Value  Value Footnotes\n",
       "0        Afghanistan  2023  1992.424394              NaN\n",
       "1        Afghanistan  2022  1981.710168              NaN\n",
       "2        Afghanistan  2021  2144.166570              NaN\n",
       "3        Afghanistan  2020  2769.685745              NaN\n",
       "4        Afghanistan  2019  2927.245144              NaN\n",
       "...              ...   ...          ...              ...\n",
       "8214        Zimbabwe  1994  3965.730986              NaN\n",
       "8215        Zimbabwe  1993  3634.750494              NaN\n",
       "8216        Zimbabwe  1992  3649.891947              NaN\n",
       "8217        Zimbabwe  1991  4126.405247              NaN\n",
       "8218        Zimbabwe  1990  4013.299059              NaN\n",
       "\n",
       "[8219 rows x 4 columns]"
      ]
     },
     "execution_count": 499,
     "metadata": {},
     "output_type": "execute_result"
    }
   ],
   "source": [
    "gdp_df"
   ]
  },
  {
   "cell_type": "code",
   "execution_count": 500,
   "id": "b3d8897c-5d3d-411b-b8f9-3093e4736e29",
   "metadata": {},
   "outputs": [],
   "source": [
    "gdp_df['Year'] = gdp_df['Year'].astype(int)"
   ]
  },
  {
   "cell_type": "code",
   "execution_count": 501,
   "id": "4cae59fb-b540-46cf-8763-50fe82b43568",
   "metadata": {},
   "outputs": [
    {
     "data": {
      "text/plain": [
       "Country or Area     object\n",
       "Year                 int32\n",
       "Value              float64\n",
       "Value Footnotes    float64\n",
       "dtype: object"
      ]
     },
     "execution_count": 501,
     "metadata": {},
     "output_type": "execute_result"
    }
   ],
   "source": [
    "gdp_df.dtypes"
   ]
  },
  {
   "cell_type": "code",
   "execution_count": 502,
   "id": "ca2ee24e-02ee-4f7d-bf8f-29d6a0651813",
   "metadata": {},
   "outputs": [
    {
     "data": {
      "text/html": [
       "<div>\n",
       "<style scoped>\n",
       "    .dataframe tbody tr th:only-of-type {\n",
       "        vertical-align: middle;\n",
       "    }\n",
       "\n",
       "    .dataframe tbody tr th {\n",
       "        vertical-align: top;\n",
       "    }\n",
       "\n",
       "    .dataframe thead th {\n",
       "        text-align: right;\n",
       "    }\n",
       "</style>\n",
       "<table border=\"1\" class=\"dataframe\">\n",
       "  <thead>\n",
       "    <tr style=\"text-align: right;\">\n",
       "      <th></th>\n",
       "      <th>Country or Area</th>\n",
       "      <th>Year</th>\n",
       "      <th>Value</th>\n",
       "      <th>Value Footnotes</th>\n",
       "    </tr>\n",
       "  </thead>\n",
       "  <tbody>\n",
       "    <tr>\n",
       "      <th>0</th>\n",
       "      <td>Afghanistan</td>\n",
       "      <td>2023</td>\n",
       "      <td>1992.424394</td>\n",
       "      <td>NaN</td>\n",
       "    </tr>\n",
       "    <tr>\n",
       "      <th>1</th>\n",
       "      <td>Afghanistan</td>\n",
       "      <td>2022</td>\n",
       "      <td>1981.710168</td>\n",
       "      <td>NaN</td>\n",
       "    </tr>\n",
       "    <tr>\n",
       "      <th>2</th>\n",
       "      <td>Afghanistan</td>\n",
       "      <td>2021</td>\n",
       "      <td>2144.166570</td>\n",
       "      <td>NaN</td>\n",
       "    </tr>\n",
       "    <tr>\n",
       "      <th>3</th>\n",
       "      <td>Afghanistan</td>\n",
       "      <td>2020</td>\n",
       "      <td>2769.685745</td>\n",
       "      <td>NaN</td>\n",
       "    </tr>\n",
       "    <tr>\n",
       "      <th>4</th>\n",
       "      <td>Afghanistan</td>\n",
       "      <td>2019</td>\n",
       "      <td>2927.245144</td>\n",
       "      <td>NaN</td>\n",
       "    </tr>\n",
       "    <tr>\n",
       "      <th>...</th>\n",
       "      <td>...</td>\n",
       "      <td>...</td>\n",
       "      <td>...</td>\n",
       "      <td>...</td>\n",
       "    </tr>\n",
       "    <tr>\n",
       "      <th>8214</th>\n",
       "      <td>Zimbabwe</td>\n",
       "      <td>1994</td>\n",
       "      <td>3965.730986</td>\n",
       "      <td>NaN</td>\n",
       "    </tr>\n",
       "    <tr>\n",
       "      <th>8215</th>\n",
       "      <td>Zimbabwe</td>\n",
       "      <td>1993</td>\n",
       "      <td>3634.750494</td>\n",
       "      <td>NaN</td>\n",
       "    </tr>\n",
       "    <tr>\n",
       "      <th>8216</th>\n",
       "      <td>Zimbabwe</td>\n",
       "      <td>1992</td>\n",
       "      <td>3649.891947</td>\n",
       "      <td>NaN</td>\n",
       "    </tr>\n",
       "    <tr>\n",
       "      <th>8217</th>\n",
       "      <td>Zimbabwe</td>\n",
       "      <td>1991</td>\n",
       "      <td>4126.405247</td>\n",
       "      <td>NaN</td>\n",
       "    </tr>\n",
       "    <tr>\n",
       "      <th>8218</th>\n",
       "      <td>Zimbabwe</td>\n",
       "      <td>1990</td>\n",
       "      <td>4013.299059</td>\n",
       "      <td>NaN</td>\n",
       "    </tr>\n",
       "  </tbody>\n",
       "</table>\n",
       "<p>8219 rows × 4 columns</p>\n",
       "</div>"
      ],
      "text/plain": [
       "     Country or Area  Year        Value  Value Footnotes\n",
       "0        Afghanistan  2023  1992.424394              NaN\n",
       "1        Afghanistan  2022  1981.710168              NaN\n",
       "2        Afghanistan  2021  2144.166570              NaN\n",
       "3        Afghanistan  2020  2769.685745              NaN\n",
       "4        Afghanistan  2019  2927.245144              NaN\n",
       "...              ...   ...          ...              ...\n",
       "8214        Zimbabwe  1994  3965.730986              NaN\n",
       "8215        Zimbabwe  1993  3634.750494              NaN\n",
       "8216        Zimbabwe  1992  3649.891947              NaN\n",
       "8217        Zimbabwe  1991  4126.405247              NaN\n",
       "8218        Zimbabwe  1990  4013.299059              NaN\n",
       "\n",
       "[8219 rows x 4 columns]"
      ]
     },
     "execution_count": 502,
     "metadata": {},
     "output_type": "execute_result"
    }
   ],
   "source": [
    "gdp_df"
   ]
  },
  {
   "cell_type": "code",
   "execution_count": 503,
   "id": "28ce3fd8-90bf-402a-8380-084ad2ec96b7",
   "metadata": {},
   "outputs": [
    {
     "data": {
      "text/html": [
       "<div>\n",
       "<style scoped>\n",
       "    .dataframe tbody tr th:only-of-type {\n",
       "        vertical-align: middle;\n",
       "    }\n",
       "\n",
       "    .dataframe tbody tr th {\n",
       "        vertical-align: top;\n",
       "    }\n",
       "\n",
       "    .dataframe thead th {\n",
       "        text-align: right;\n",
       "    }\n",
       "</style>\n",
       "<table border=\"1\" class=\"dataframe\">\n",
       "  <thead>\n",
       "    <tr style=\"text-align: right;\">\n",
       "      <th></th>\n",
       "      <th>Country</th>\n",
       "      <th>Year</th>\n",
       "      <th>GDP_Per_Capita</th>\n",
       "      <th>Continent</th>\n",
       "    </tr>\n",
       "  </thead>\n",
       "  <tbody>\n",
       "    <tr>\n",
       "      <th>0</th>\n",
       "      <td>Afghanistan</td>\n",
       "      <td>2023</td>\n",
       "      <td>1992.424394</td>\n",
       "      <td>Asia</td>\n",
       "    </tr>\n",
       "    <tr>\n",
       "      <th>1</th>\n",
       "      <td>Afghanistan</td>\n",
       "      <td>2022</td>\n",
       "      <td>1981.710168</td>\n",
       "      <td>Asia</td>\n",
       "    </tr>\n",
       "  </tbody>\n",
       "</table>\n",
       "</div>"
      ],
      "text/plain": [
       "       Country  Year  GDP_Per_Capita Continent\n",
       "0  Afghanistan  2023     1992.424394      Asia\n",
       "1  Afghanistan  2022     1981.710168      Asia"
      ]
     },
     "execution_count": 503,
     "metadata": {},
     "output_type": "execute_result"
    }
   ],
   "source": [
    "gdp_df = pd.merge(\n",
    "    left = gdp_drop_footnotes, \n",
    "    right = continents, \n",
    "#    left_on = 'Country', \n",
    "#    right_on = 'Country',\n",
    "    validate = \"many_to_one\",\n",
    "    how = 'inner',\n",
    "#    indicator = True\n",
    ")\n",
    "gdp_df.head(2)"
   ]
  },
  {
   "cell_type": "code",
   "execution_count": 504,
   "id": "79a2ee08-a89b-4e5f-bea9-220c521c4795",
   "metadata": {},
   "outputs": [],
   "source": [
    "gdp_df['Year'] = pd.to_numeric(gdp_df[\"Year\"], errors=\"coerce\")"
   ]
  },
  {
   "cell_type": "code",
   "execution_count": 505,
   "id": "c5da4f50-a796-4efa-a23f-113b3af6fe49",
   "metadata": {},
   "outputs": [
    {
     "data": {
      "text/html": [
       "<div>\n",
       "<style scoped>\n",
       "    .dataframe tbody tr th:only-of-type {\n",
       "        vertical-align: middle;\n",
       "    }\n",
       "\n",
       "    .dataframe tbody tr th {\n",
       "        vertical-align: top;\n",
       "    }\n",
       "\n",
       "    .dataframe thead th {\n",
       "        text-align: right;\n",
       "    }\n",
       "</style>\n",
       "<table border=\"1\" class=\"dataframe\">\n",
       "  <thead>\n",
       "    <tr style=\"text-align: right;\">\n",
       "      <th></th>\n",
       "      <th>Country</th>\n",
       "      <th>Year</th>\n",
       "      <th>GDP_Per_Capita</th>\n",
       "      <th>Continent</th>\n",
       "    </tr>\n",
       "  </thead>\n",
       "  <tbody>\n",
       "    <tr>\n",
       "      <th>0</th>\n",
       "      <td>Afghanistan</td>\n",
       "      <td>2023</td>\n",
       "      <td>1992.424394</td>\n",
       "      <td>Asia</td>\n",
       "    </tr>\n",
       "    <tr>\n",
       "      <th>1</th>\n",
       "      <td>Afghanistan</td>\n",
       "      <td>2022</td>\n",
       "      <td>1981.710168</td>\n",
       "      <td>Asia</td>\n",
       "    </tr>\n",
       "    <tr>\n",
       "      <th>2</th>\n",
       "      <td>Afghanistan</td>\n",
       "      <td>2021</td>\n",
       "      <td>2144.166570</td>\n",
       "      <td>Asia</td>\n",
       "    </tr>\n",
       "    <tr>\n",
       "      <th>3</th>\n",
       "      <td>Afghanistan</td>\n",
       "      <td>2020</td>\n",
       "      <td>2769.685745</td>\n",
       "      <td>Asia</td>\n",
       "    </tr>\n",
       "    <tr>\n",
       "      <th>4</th>\n",
       "      <td>Afghanistan</td>\n",
       "      <td>2019</td>\n",
       "      <td>2927.245144</td>\n",
       "      <td>Asia</td>\n",
       "    </tr>\n",
       "    <tr>\n",
       "      <th>...</th>\n",
       "      <td>...</td>\n",
       "      <td>...</td>\n",
       "      <td>...</td>\n",
       "      <td>...</td>\n",
       "    </tr>\n",
       "    <tr>\n",
       "      <th>6258</th>\n",
       "      <td>Zimbabwe</td>\n",
       "      <td>1994</td>\n",
       "      <td>3965.730986</td>\n",
       "      <td>Africa</td>\n",
       "    </tr>\n",
       "    <tr>\n",
       "      <th>6259</th>\n",
       "      <td>Zimbabwe</td>\n",
       "      <td>1993</td>\n",
       "      <td>3634.750494</td>\n",
       "      <td>Africa</td>\n",
       "    </tr>\n",
       "    <tr>\n",
       "      <th>6260</th>\n",
       "      <td>Zimbabwe</td>\n",
       "      <td>1992</td>\n",
       "      <td>3649.891947</td>\n",
       "      <td>Africa</td>\n",
       "    </tr>\n",
       "    <tr>\n",
       "      <th>6261</th>\n",
       "      <td>Zimbabwe</td>\n",
       "      <td>1991</td>\n",
       "      <td>4126.405247</td>\n",
       "      <td>Africa</td>\n",
       "    </tr>\n",
       "    <tr>\n",
       "      <th>6262</th>\n",
       "      <td>Zimbabwe</td>\n",
       "      <td>1990</td>\n",
       "      <td>4013.299059</td>\n",
       "      <td>Africa</td>\n",
       "    </tr>\n",
       "  </tbody>\n",
       "</table>\n",
       "<p>6263 rows × 4 columns</p>\n",
       "</div>"
      ],
      "text/plain": [
       "          Country  Year  GDP_Per_Capita Continent\n",
       "0     Afghanistan  2023     1992.424394      Asia\n",
       "1     Afghanistan  2022     1981.710168      Asia\n",
       "2     Afghanistan  2021     2144.166570      Asia\n",
       "3     Afghanistan  2020     2769.685745      Asia\n",
       "4     Afghanistan  2019     2927.245144      Asia\n",
       "...           ...   ...             ...       ...\n",
       "6258     Zimbabwe  1994     3965.730986    Africa\n",
       "6259     Zimbabwe  1993     3634.750494    Africa\n",
       "6260     Zimbabwe  1992     3649.891947    Africa\n",
       "6261     Zimbabwe  1991     4126.405247    Africa\n",
       "6262     Zimbabwe  1990     4013.299059    Africa\n",
       "\n",
       "[6263 rows x 4 columns]"
      ]
     },
     "execution_count": 505,
     "metadata": {},
     "output_type": "execute_result"
    }
   ],
   "source": [
    "gdp_df"
   ]
  },
  {
   "cell_type": "markdown",
   "id": "c9b6f9fd-04a9-4469-922a-29cfb24f06b2",
   "metadata": {},
   "source": [
    "#### 19. Determine the number of countries per continent. Create a bar chart showing this."
   ]
  },
  {
   "cell_type": "code",
   "execution_count": 507,
   "id": "caa0fe64-5ef0-45f6-a79d-1c067b4ffa05",
   "metadata": {},
   "outputs": [
    {
     "data": {
      "text/plain": [
       "Continent\n",
       "Africa           50\n",
       "Asia             41\n",
       "Europe           45\n",
       "North America    26\n",
       "Oceania          14\n",
       "South America    11\n",
       "Name: Country, dtype: int64"
      ]
     },
     "execution_count": 507,
     "metadata": {},
     "output_type": "execute_result"
    }
   ],
   "source": [
    "gdp_df.groupby('Continent')['Country'].nunique()"
   ]
  },
  {
   "cell_type": "code",
   "execution_count": 508,
   "id": "1c0526ef-42c0-4ff7-927e-bc33e8479f88",
   "metadata": {},
   "outputs": [
    {
     "data": {
      "text/plain": [
       "6"
      ]
     },
     "execution_count": 508,
     "metadata": {},
     "output_type": "execute_result"
    }
   ],
   "source": [
    "gdp_df['Continent'].value_counts().nunique()"
   ]
  },
  {
   "cell_type": "code",
   "execution_count": 510,
   "id": "1bc542d9-7753-4d90-b39c-e323afc1a89a",
   "metadata": {},
   "outputs": [
    {
     "data": {
      "text/plain": [
       "Continent\n",
       "Africa           0.267603\n",
       "Europe           0.238224\n",
       "Asia             0.220022\n",
       "North America    0.138592\n",
       "Oceania          0.075842\n",
       "South America    0.059716\n",
       "Name: proportion, dtype: float64"
      ]
     },
     "execution_count": 510,
     "metadata": {},
     "output_type": "execute_result"
    }
   ],
   "source": [
    "gdp_df['Continent'].value_counts(normalize=True)"
   ]
  },
  {
   "cell_type": "code",
   "execution_count": 511,
   "id": "93056131-575e-43b8-bc38-2832ec580d46",
   "metadata": {},
   "outputs": [
    {
     "data": {
      "image/png": "[encoded data removed]",
      "text/plain": [
       "<Figure size 640x480 with 1 Axes>"
      ]
     },
     "metadata": {},
     "output_type": "display_data"
    }
   ],
   "source": [
    "(\n",
    "    gdp_df\n",
    "    ['Continent']\n",
    "    .value_counts()\n",
    "    .plot(kind=\"bar\")\n",
    ");"
   ]
  },
  {
   "cell_type": "code",
   "execution_count": 512,
   "id": "abb7afe5-ad3f-4761-8c91-c67965e327c9",
   "metadata": {},
   "outputs": [
    {
     "data": {
      "image/png": "[encoded data removed]",
      "text/plain": [
       "<Figure size 640x480 with 1 Axes>"
      ]
     },
     "metadata": {},
     "output_type": "display_data"
    }
   ],
   "source": [
    "(\n",
    "    gdp_df\n",
    "    .groupby('Continent')['Country']\n",
    "    .nunique()\n",
    "    .plot(kind=\"bar\")\n",
    ");\n",
    "#gdp_df.groupby('Continent')['Country'].nunique()"
   ]
  },
  {
   "cell_type": "code",
   "execution_count": 513,
   "id": "7e01d2f8-f4de-4b35-9e3a-0b0ab049cc6d",
   "metadata": {},
   "outputs": [
    {
     "data": {
      "text/plain": [
       "<Axes: xlabel='Continent'>"
      ]
     },
     "execution_count": 513,
     "metadata": {},
     "output_type": "execute_result"
    },
    {
     "data": {
      "image/png": "[encoded data removed]",
      "text/plain": [
       "<Figure size 640x480 with 1 Axes>"
      ]
     },
     "metadata": {},
     "output_type": "display_data"
    }
   ],
   "source": [
    "gdp_df.drop_duplicates(subset = [\"Country\", \"Continent\"])['Continent'].value_counts().plot(kind='bar')"
   ]
  },
  {
   "cell_type": "code",
   "execution_count": 514,
   "id": "d6e0a7bf-5ec0-45d2-92d1-27c9f68725da",
   "metadata": {},
   "outputs": [
    {
     "data": {
      "image/png": "[encoded data removed]",
      "text/plain": [
       "<Figure size 640x480 with 1 Axes>"
      ]
     },
     "metadata": {},
     "output_type": "display_data"
    }
   ],
   "source": [
    "(\n",
    "    gdp_df\n",
    "    .groupby('Continent')['Country']\n",
    "    .nunique()\n",
    "    .plot(kind=\"bar\")\n",
    ");"
   ]
  },
  {
   "cell_type": "code",
   "execution_count": null,
   "id": "e0572690-9641-4cce-b3a1-d0b0162493ba",
   "metadata": {},
   "outputs": [],
   "source": []
  },
  {
   "cell_type": "markdown",
   "id": "f578e82f-d91e-48c3-8c8c-f6ce06ced834",
   "metadata": {},
   "source": []
  },
  {
   "cell_type": "code",
   "execution_count": 538,
   "id": "5c87c23b-2741-405a-ac9e-8d4442874085",
   "metadata": {},
   "outputs": [
    {
     "data": {
      "image/png": "[encoded data removed]",
      "text/plain": [
       "<Figure size 640x480 with 1 Axes>"
      ]
     },
     "metadata": {},
     "output_type": "display_data"
    }
   ],
   "source": [
    "sns.boxplot(data=gdp_df[gdp_df['Year'] == 2021], y=\"GDP_Per_Capita\", x=\"Continent\");"
   ]
  },
  {
   "cell_type": "code",
   "execution_count": 540,
   "id": "f4e7534b-86c4-4a97-968c-8863bb8c6ca8",
   "metadata": {},
   "outputs": [
    {
     "data": {
      "image/png": "[encoded data removed]",
      "text/plain": [
       "<Figure size 640x480 with 1 Axes>"
      ]
     },
     "metadata": {},
     "output_type": "display_data"
    }
   ],
   "source": [
    "sns.boxplot(data=gdp_df[gdp_df['Year'] == 2021], x=\"GDP_Per_Capita\", y=\"Continent\");"
   ]
  },
  {
   "cell_type": "code",
   "execution_count": 542,
   "id": "08935980-15e2-4ec3-bb93-95fcb4b1ee5f",
   "metadata": {},
   "outputs": [
    {
     "data": {
      "image/png": "[encoded data removed]",
      "text/plain": [
       "<Figure size 640x480 with 1 Axes>"
      ]
     },
     "metadata": {},
     "output_type": "display_data"
    }
   ],
   "source": [
    "sns.boxplot(data=gdp_df[gdp_df['Year'] == 2021].sort_values(by=\"Continent\"), x=\"GDP_Per_Capita\", y=\"Continent\");"
   ]
  },
  {
   "cell_type": "code",
   "execution_count": null,
   "id": "c70bce80-09a9-4797-97f9-c29be61702fa",
   "metadata": {},
   "outputs": [],
   "source": []
  },
  {
   "cell_type": "markdown",
   "id": "f8349788-cd65-45c5-b97d-1e91e4e0d199",
   "metadata": {},
   "source": [
    "##### Europe and Asia have the higher levels of GDP overall. Though Asia has a large right skew. "
   ]
  },
  {
   "cell_type": "markdown",
   "id": "6c302342-c841-4a1d-be89-bae017697e97",
   "metadata": {},
   "source": [
    "#### 21. Download the full csv containing Life expectancy at birth, total (years) from https://data.worldbank.org/indicator/SP.DYN.LE00.IN?name_desc=false. Read this data into a DataFrame named life_expectancy. Note: When reading this dataset it, you may encounter an error. Modify your read_csv call to correct this without modifying the original csv file."
   ]
  },
  {
   "cell_type": "code",
   "execution_count": 565,
   "id": "d287439b-125a-4791-94bf-df1b2fef9a3c",
   "metadata": {},
   "outputs": [
    {
     "data": {
      "text/html": [
       "<div>\n",
       "<style scoped>\n",
       "    .dataframe tbody tr th:only-of-type {\n",
       "        vertical-align: middle;\n",
       "    }\n",
       "\n",
       "    .dataframe tbody tr th {\n",
       "        vertical-align: top;\n",
       "    }\n",
       "\n",
       "    .dataframe thead th {\n",
       "        text-align: right;\n",
       "    }\n",
       "</style>\n",
       "<table border=\"1\" class=\"dataframe\">\n",
       "  <thead>\n",
       "    <tr style=\"text-align: right;\">\n",
       "      <th></th>\n",
       "      <th>Country Name</th>\n",
       "      <th>Country Code</th>\n",
       "      <th>Indicator Name</th>\n",
       "      <th>Indicator Code</th>\n",
       "      <th>1960</th>\n",
       "      <th>1961</th>\n",
       "      <th>1962</th>\n",
       "      <th>1963</th>\n",
       "      <th>1964</th>\n",
       "      <th>1965</th>\n",
       "      <th>...</th>\n",
       "      <th>2016</th>\n",
       "      <th>2017</th>\n",
       "      <th>2018</th>\n",
       "      <th>2019</th>\n",
       "      <th>2020</th>\n",
       "      <th>2021</th>\n",
       "      <th>2022</th>\n",
       "      <th>2023</th>\n",
       "      <th>2024</th>\n",
       "      <th>Unnamed: 69</th>\n",
       "    </tr>\n",
       "  </thead>\n",
       "  <tbody>\n",
       "    <tr>\n",
       "      <th>0</th>\n",
       "      <td>Aruba</td>\n",
       "      <td>ABW</td>\n",
       "      <td>Life expectancy at birth, total (years)</td>\n",
       "      <td>SP.DYN.LE00.IN</td>\n",
       "      <td>64.049000</td>\n",
       "      <td>64.215000</td>\n",
       "      <td>64.60200</td>\n",
       "      <td>64.944000</td>\n",
       "      <td>65.303000</td>\n",
       "      <td>65.615000</td>\n",
       "      <td>...</td>\n",
       "      <td>75.540000</td>\n",
       "      <td>75.620000</td>\n",
       "      <td>75.880000</td>\n",
       "      <td>76.019000</td>\n",
       "      <td>75.406000</td>\n",
       "      <td>73.655000</td>\n",
       "      <td>76.22600</td>\n",
       "      <td>76.353000</td>\n",
       "      <td>NaN</td>\n",
       "      <td>NaN</td>\n",
       "    </tr>\n",
       "    <tr>\n",
       "      <th>1</th>\n",
       "      <td>Africa Eastern and Southern</td>\n",
       "      <td>AFE</td>\n",
       "      <td>Life expectancy at birth, total (years)</td>\n",
       "      <td>SP.DYN.LE00.IN</td>\n",
       "      <td>44.169658</td>\n",
       "      <td>44.468838</td>\n",
       "      <td>44.87789</td>\n",
       "      <td>45.160583</td>\n",
       "      <td>45.535695</td>\n",
       "      <td>45.770723</td>\n",
       "      <td>...</td>\n",
       "      <td>62.167981</td>\n",
       "      <td>62.591275</td>\n",
       "      <td>63.330691</td>\n",
       "      <td>63.857261</td>\n",
       "      <td>63.766484</td>\n",
       "      <td>62.979999</td>\n",
       "      <td>64.48702</td>\n",
       "      <td>65.146291</td>\n",
       "      <td>NaN</td>\n",
       "      <td>NaN</td>\n",
       "    </tr>\n",
       "  </tbody>\n",
       "</table>\n",
       "<p>2 rows × 70 columns</p>\n",
       "</div>"
      ],
      "text/plain": [
       "                  Country Name Country Code  \\\n",
       "0                        Aruba          ABW   \n",
       "1  Africa Eastern and Southern          AFE   \n",
       "\n",
       "                            Indicator Name  Indicator Code       1960  \\\n",
       "0  Life expectancy at birth, total (years)  SP.DYN.LE00.IN  64.049000   \n",
       "1  Life expectancy at birth, total (years)  SP.DYN.LE00.IN  44.169658   \n",
       "\n",
       "        1961      1962       1963       1964       1965  ...       2016  \\\n",
       "0  64.215000  64.60200  64.944000  65.303000  65.615000  ...  75.540000   \n",
       "1  44.468838  44.87789  45.160583  45.535695  45.770723  ...  62.167981   \n",
       "\n",
       "        2017       2018       2019       2020       2021      2022       2023  \\\n",
       "0  75.620000  75.880000  76.019000  75.406000  73.655000  76.22600  76.353000   \n",
       "1  62.591275  63.330691  63.857261  63.766484  62.979999  64.48702  65.146291   \n",
       "\n",
       "   2024  Unnamed: 69  \n",
       "0   NaN          NaN  \n",
       "1   NaN          NaN  \n",
       "\n",
       "[2 rows x 70 columns]"
      ]
     },
     "execution_count": 565,
     "metadata": {},
     "output_type": "execute_result"
    }
   ],
   "source": [
    "life_expectancy = pd.read_csv(\"../data/life_expectancy.csv\", skiprows=4)\n",
    "life_expectancy.head(2)"
   ]
  },
  {
   "cell_type": "markdown",
   "id": "e85d8431-679c-4636-a260-f93f888f60eb",
   "metadata": {},
   "source": [
    "#### 22. Drop the Country Code, Indicator Name, and Indicator Code columns. Then use .melt() to convert your data from wide to long. That is, instead of having one row per country and multiple colums per year, we want to have multiple rows per country and a single column for year. After melting, rename the columns to Country, Year, and Life_Expectancy."
   ]
  },
  {
   "cell_type": "code",
   "execution_count": 569,
   "id": "35379500-6d25-4f9b-beea-8b459e00023e",
   "metadata": {},
   "outputs": [],
   "source": [
    "#life_expectancy_melt = life_expectancy.drop([\"Country Code\", \"Indicator Name\", \"Indicator Code\", \"Unnamed: 69\"], axis=1)\n",
    "#life_expectancy.head(2)"
   ]
  },
  {
   "cell_type": "code",
   "execution_count": 570,
   "id": "9af9d8c2-3188-41c8-9e65-7ee5eb8fc87b",
   "metadata": {},
   "outputs": [],
   "source": [
    "#life_expectancy_melt = pd.melt(\n",
    "#    life_expectancy, \n",
    "#    id_vars=[('Country Name')]).rename(columns={\"Country Name\": \"Country\", \"variable\": \"Year\", \"value\": \"Life_Expectancy\"}\n",
    "#)\n",
    "#life_expectancy_melt.head(2)"
   ]
  },
  {
   "cell_type": "code",
   "execution_count": 571,
   "id": "91405b6e-468b-44f1-a5a2-ecb56e2d42a4",
   "metadata": {},
   "outputs": [],
   "source": [
    "life_expectancy_melt = (life_expectancy.drop(columns = ['Country Code', 'Indicator Name', 'Indicator Code', 'Unnamed: 69']).melt(id_vars = \"Country Name\", var_name = \"Year\", value_name = \"Life_Expectancy\").rename(columns = {\"Country Name\": \"Country\"}))"
   ]
  },
  {
   "cell_type": "markdown",
   "id": "954f3689-4820-4158-a4c9-ffb9cfde95ba",
   "metadata": {},
   "source": [
    "#### 23. What was the first country with a life expectancy to exceed 80?"
   ]
  },
  {
   "cell_type": "code",
   "execution_count": 574,
   "id": "e2a0a7e2-9a9f-4266-a072-1ee9f314e3e0",
   "metadata": {},
   "outputs": [
    {
     "data": {
      "text/html": [
       "<div>\n",
       "<style scoped>\n",
       "    .dataframe tbody tr th:only-of-type {\n",
       "        vertical-align: middle;\n",
       "    }\n",
       "\n",
       "    .dataframe tbody tr th {\n",
       "        vertical-align: top;\n",
       "    }\n",
       "\n",
       "    .dataframe thead th {\n",
       "        text-align: right;\n",
       "    }\n",
       "</style>\n",
       "<table border=\"1\" class=\"dataframe\">\n",
       "  <thead>\n",
       "    <tr style=\"text-align: right;\">\n",
       "      <th></th>\n",
       "      <th>Country</th>\n",
       "      <th>Year</th>\n",
       "      <th>Life_Expectancy</th>\n",
       "    </tr>\n",
       "  </thead>\n",
       "  <tbody>\n",
       "    <tr>\n",
       "      <th>8661</th>\n",
       "      <td>Monaco</td>\n",
       "      <td>1992</td>\n",
       "      <td>80.065000</td>\n",
       "    </tr>\n",
       "    <tr>\n",
       "      <th>8784</th>\n",
       "      <td>Andorra</td>\n",
       "      <td>1993</td>\n",
       "      <td>80.186000</td>\n",
       "    </tr>\n",
       "    <tr>\n",
       "      <th>8927</th>\n",
       "      <td>Monaco</td>\n",
       "      <td>1993</td>\n",
       "      <td>80.365000</td>\n",
       "    </tr>\n",
       "    <tr>\n",
       "      <th>9050</th>\n",
       "      <td>Andorra</td>\n",
       "      <td>1994</td>\n",
       "      <td>80.587000</td>\n",
       "    </tr>\n",
       "    <tr>\n",
       "      <th>9193</th>\n",
       "      <td>Monaco</td>\n",
       "      <td>1994</td>\n",
       "      <td>80.654000</td>\n",
       "    </tr>\n",
       "    <tr>\n",
       "      <th>...</th>\n",
       "      <td>...</td>\n",
       "      <td>...</td>\n",
       "      <td>...</td>\n",
       "    </tr>\n",
       "    <tr>\n",
       "      <th>16842</th>\n",
       "      <td>Gibraltar</td>\n",
       "      <td>2023</td>\n",
       "      <td>83.553000</td>\n",
       "    </tr>\n",
       "    <tr>\n",
       "      <th>16847</th>\n",
       "      <td>Greece</td>\n",
       "      <td>2023</td>\n",
       "      <td>81.536585</td>\n",
       "    </tr>\n",
       "    <tr>\n",
       "      <th>16853</th>\n",
       "      <td>High income</td>\n",
       "      <td>2023</td>\n",
       "      <td>80.150015</td>\n",
       "    </tr>\n",
       "    <tr>\n",
       "      <th>16810</th>\n",
       "      <td>Cayman Islands</td>\n",
       "      <td>2023</td>\n",
       "      <td>80.358000</td>\n",
       "    </tr>\n",
       "    <tr>\n",
       "      <th>17014</th>\n",
       "      <td>Virgin Islands (U.S.)</td>\n",
       "      <td>2023</td>\n",
       "      <td>80.519512</td>\n",
       "    </tr>\n",
       "  </tbody>\n",
       "</table>\n",
       "<p>868 rows × 3 columns</p>\n",
       "</div>"
      ],
      "text/plain": [
       "                     Country  Year  Life_Expectancy\n",
       "8661                  Monaco  1992        80.065000\n",
       "8784                 Andorra  1993        80.186000\n",
       "8927                  Monaco  1993        80.365000\n",
       "9050                 Andorra  1994        80.587000\n",
       "9193                  Monaco  1994        80.654000\n",
       "...                      ...   ...              ...\n",
       "16842              Gibraltar  2023        83.553000\n",
       "16847                 Greece  2023        81.536585\n",
       "16853            High income  2023        80.150015\n",
       "16810         Cayman Islands  2023        80.358000\n",
       "17014  Virgin Islands (U.S.)  2023        80.519512\n",
       "\n",
       "[868 rows x 3 columns]"
      ]
     },
     "execution_count": 574,
     "metadata": {},
     "output_type": "execute_result"
    }
   ],
   "source": [
    "life_expectancy_melt.loc[life_expectancy_melt[\"Life_Expectancy\"] >= 80].sort_values('Year')#.index[0]"
   ]
  },
  {
   "cell_type": "code",
   "execution_count": 575,
   "id": "0a757f9b-a983-438c-8ac3-26532b2e3ce6",
   "metadata": {},
   "outputs": [
    {
     "name": "stdout",
     "output_type": "stream",
     "text": [
      "The First country for life expectancy to exceed 80 is Monaco in 1992\n"
     ]
    }
   ],
   "source": [
    "#classmate, Sarah Mulloy's, code: create new dataframe with only rows with life expectancy over 80, and sort it by year\n",
    "year_by_expect= life_expectancy_melt.loc[life_expectancy_melt[\"Life_Expectancy\"] >= 80].sort_values(by='Year')\n",
    "\n",
    "#Filter the country and year info from this dataframe of the first country to achieve 80 life expectancy \n",
    "year_by_expect['Year']= year_by_expect['Year'].astype(int) #convert year values to integer to make filtering easier\n",
    "ctry_to_80= year_by_expect.nsmallest(1, 'Year', keep='all')['Country'] #pull out smallest, aka first year to reach 80, and pull out the country name from the dataframe\n",
    "year_to_80= year_by_expect.nsmallest(1, 'Year', keep='all')['Year']\n",
    "print(f'The First country for life expectancy to exceed 80 is {ctry_to_80.values[0]} in {year_to_80.values[0]}')"
   ]
  },
  {
   "cell_type": "markdown",
   "id": "a075342c-f2d2-4c15-8838-c237c22435d1",
   "metadata": {},
   "source": [
    "#### 24. Merge gdp_df and life_expectancy, keeping all countries and years that appear in both DataFrames. Save the result to a new DataFrame named gdp_le. If you get any errors in doing this, read them carefully and correct them. Look at the first five rows of your new data frame to confirm it merged correctly. Also, check the last five rows to make sure the data is clean and as expected."
   ]
  },
  {
   "cell_type": "code",
   "execution_count": 577,
   "id": "49a49957-d201-4df5-8ad1-6014c02edea6",
   "metadata": {},
   "outputs": [
    {
     "data": {
      "text/html": [
       "<div>\n",
       "<style scoped>\n",
       "    .dataframe tbody tr th:only-of-type {\n",
       "        vertical-align: middle;\n",
       "    }\n",
       "\n",
       "    .dataframe tbody tr th {\n",
       "        vertical-align: top;\n",
       "    }\n",
       "\n",
       "    .dataframe thead th {\n",
       "        text-align: right;\n",
       "    }\n",
       "</style>\n",
       "<table border=\"1\" class=\"dataframe\">\n",
       "  <thead>\n",
       "    <tr style=\"text-align: right;\">\n",
       "      <th></th>\n",
       "      <th>Country</th>\n",
       "      <th>Year</th>\n",
       "      <th>Life_Expectancy</th>\n",
       "    </tr>\n",
       "  </thead>\n",
       "  <tbody>\n",
       "    <tr>\n",
       "      <th>0</th>\n",
       "      <td>Aruba</td>\n",
       "      <td>1960</td>\n",
       "      <td>64.049000</td>\n",
       "    </tr>\n",
       "    <tr>\n",
       "      <th>1</th>\n",
       "      <td>Africa Eastern and Southern</td>\n",
       "      <td>1960</td>\n",
       "      <td>44.169658</td>\n",
       "    </tr>\n",
       "    <tr>\n",
       "      <th>2</th>\n",
       "      <td>Afghanistan</td>\n",
       "      <td>1960</td>\n",
       "      <td>32.799000</td>\n",
       "    </tr>\n",
       "    <tr>\n",
       "      <th>3</th>\n",
       "      <td>Africa Western and Central</td>\n",
       "      <td>1960</td>\n",
       "      <td>37.779636</td>\n",
       "    </tr>\n",
       "    <tr>\n",
       "      <th>4</th>\n",
       "      <td>Angola</td>\n",
       "      <td>1960</td>\n",
       "      <td>37.933000</td>\n",
       "    </tr>\n",
       "  </tbody>\n",
       "</table>\n",
       "</div>"
      ],
      "text/plain": [
       "                       Country  Year  Life_Expectancy\n",
       "0                        Aruba  1960        64.049000\n",
       "1  Africa Eastern and Southern  1960        44.169658\n",
       "2                  Afghanistan  1960        32.799000\n",
       "3   Africa Western and Central  1960        37.779636\n",
       "4                       Angola  1960        37.933000"
      ]
     },
     "execution_count": 577,
     "metadata": {},
     "output_type": "execute_result"
    }
   ],
   "source": [
    "life_expectancy_melt.head()"
   ]
  },
  {
   "cell_type": "code",
   "execution_count": 578,
   "id": "ec46e0c8-00d1-4d57-aeaf-5a872f717624",
   "metadata": {},
   "outputs": [],
   "source": [
    "#life_expectancy_melt.dropna()"
   ]
  },
  {
   "cell_type": "code",
   "execution_count": 579,
   "id": "a023c501-f2a8-4fed-a35f-e03d3f3a2373",
   "metadata": {},
   "outputs": [
    {
     "data": {
      "text/plain": [
       "Country             object\n",
       "Year                object\n",
       "Life_Expectancy    float64\n",
       "dtype: object"
      ]
     },
     "execution_count": 579,
     "metadata": {},
     "output_type": "execute_result"
    }
   ],
   "source": [
    "life_expectancy_melt.dtypes"
   ]
  },
  {
   "cell_type": "code",
   "execution_count": null,
   "id": "b3f83e52-f076-48b8-82c8-2a25f56ef9c4",
   "metadata": {},
   "outputs": [],
   "source": []
  },
  {
   "cell_type": "code",
   "execution_count": 582,
   "id": "674cc027-f1f8-4b7e-8b4d-ff169dc7cdb6",
   "metadata": {},
   "outputs": [],
   "source": [
    "#life_expectancy_melt = life_expectancy_melt.dropna().astype({\"Year\": int})\n",
    "#life_expectancy_melt.head(2)"
   ]
  },
  {
   "cell_type": "code",
   "execution_count": 583,
   "id": "10faeb66-9110-47df-87aa-ba0222741afd",
   "metadata": {},
   "outputs": [],
   "source": [
    "life_expectancy_melt[\"Year\"] = pd.to_numeric(life_expectancy_melt[\"Year\"], errors=\"coerce\")"
   ]
  },
  {
   "cell_type": "code",
   "execution_count": 584,
   "id": "dbe14356-f750-4441-920b-3c056b71e069",
   "metadata": {},
   "outputs": [
    {
     "data": {
      "text/html": [
       "<div>\n",
       "<style scoped>\n",
       "    .dataframe tbody tr th:only-of-type {\n",
       "        vertical-align: middle;\n",
       "    }\n",
       "\n",
       "    .dataframe tbody tr th {\n",
       "        vertical-align: top;\n",
       "    }\n",
       "\n",
       "    .dataframe thead th {\n",
       "        text-align: right;\n",
       "    }\n",
       "</style>\n",
       "<table border=\"1\" class=\"dataframe\">\n",
       "  <thead>\n",
       "    <tr style=\"text-align: right;\">\n",
       "      <th></th>\n",
       "      <th>Country</th>\n",
       "      <th>Year</th>\n",
       "      <th>Life_Expectancy</th>\n",
       "    </tr>\n",
       "  </thead>\n",
       "  <tbody>\n",
       "    <tr>\n",
       "      <th>17288</th>\n",
       "      <td>Zambia</td>\n",
       "      <td>2024</td>\n",
       "      <td>NaN</td>\n",
       "    </tr>\n",
       "    <tr>\n",
       "      <th>17289</th>\n",
       "      <td>Zimbabwe</td>\n",
       "      <td>2024</td>\n",
       "      <td>NaN</td>\n",
       "    </tr>\n",
       "  </tbody>\n",
       "</table>\n",
       "</div>"
      ],
      "text/plain": [
       "        Country  Year  Life_Expectancy\n",
       "17288    Zambia  2024              NaN\n",
       "17289  Zimbabwe  2024              NaN"
      ]
     },
     "execution_count": 584,
     "metadata": {},
     "output_type": "execute_result"
    }
   ],
   "source": [
    "life_expectancy_melt.tail(2)"
   ]
  },
  {
   "cell_type": "code",
   "execution_count": 585,
   "id": "b8f1156b-deb9-477f-b80f-24dea41b0c03",
   "metadata": {},
   "outputs": [
    {
     "data": {
      "text/html": [
       "<div>\n",
       "<style scoped>\n",
       "    .dataframe tbody tr th:only-of-type {\n",
       "        vertical-align: middle;\n",
       "    }\n",
       "\n",
       "    .dataframe tbody tr th {\n",
       "        vertical-align: top;\n",
       "    }\n",
       "\n",
       "    .dataframe thead th {\n",
       "        text-align: right;\n",
       "    }\n",
       "</style>\n",
       "<table border=\"1\" class=\"dataframe\">\n",
       "  <thead>\n",
       "    <tr style=\"text-align: right;\">\n",
       "      <th></th>\n",
       "      <th>Country</th>\n",
       "      <th>Year</th>\n",
       "      <th>GDP_Per_Capita</th>\n",
       "      <th>Continent</th>\n",
       "    </tr>\n",
       "  </thead>\n",
       "  <tbody>\n",
       "    <tr>\n",
       "      <th>0</th>\n",
       "      <td>Afghanistan</td>\n",
       "      <td>2023</td>\n",
       "      <td>1992.424394</td>\n",
       "      <td>Asia</td>\n",
       "    </tr>\n",
       "    <tr>\n",
       "      <th>1</th>\n",
       "      <td>Afghanistan</td>\n",
       "      <td>2022</td>\n",
       "      <td>1981.710168</td>\n",
       "      <td>Asia</td>\n",
       "    </tr>\n",
       "  </tbody>\n",
       "</table>\n",
       "</div>"
      ],
      "text/plain": [
       "       Country  Year  GDP_Per_Capita Continent\n",
       "0  Afghanistan  2023     1992.424394      Asia\n",
       "1  Afghanistan  2022     1981.710168      Asia"
      ]
     },
     "execution_count": 585,
     "metadata": {},
     "output_type": "execute_result"
    }
   ],
   "source": [
    "gdp_df.head(2)"
   ]
  },
  {
   "cell_type": "code",
   "execution_count": 586,
   "id": "3c61d2ef-b93e-48c8-beb9-8deb5f5d5f48",
   "metadata": {},
   "outputs": [
    {
     "data": {
      "text/plain": [
       "Country            object\n",
       "Year                int64\n",
       "GDP_Per_Capita    float64\n",
       "Continent          object\n",
       "dtype: object"
      ]
     },
     "execution_count": 586,
     "metadata": {},
     "output_type": "execute_result"
    }
   ],
   "source": [
    "gdp_df.dtypes"
   ]
  },
  {
   "cell_type": "code",
   "execution_count": 587,
   "id": "ffea781b-9e65-4ad3-a3d7-36a6cc00cf7b",
   "metadata": {},
   "outputs": [
    {
     "data": {
      "text/html": [
       "<div>\n",
       "<style scoped>\n",
       "    .dataframe tbody tr th:only-of-type {\n",
       "        vertical-align: middle;\n",
       "    }\n",
       "\n",
       "    .dataframe tbody tr th {\n",
       "        vertical-align: top;\n",
       "    }\n",
       "\n",
       "    .dataframe thead th {\n",
       "        text-align: right;\n",
       "    }\n",
       "</style>\n",
       "<table border=\"1\" class=\"dataframe\">\n",
       "  <thead>\n",
       "    <tr style=\"text-align: right;\">\n",
       "      <th></th>\n",
       "      <th>Country</th>\n",
       "      <th>Year</th>\n",
       "      <th>GDP_Per_Capita</th>\n",
       "      <th>Continent</th>\n",
       "    </tr>\n",
       "  </thead>\n",
       "  <tbody>\n",
       "    <tr>\n",
       "      <th>6261</th>\n",
       "      <td>Zimbabwe</td>\n",
       "      <td>1991</td>\n",
       "      <td>4126.405247</td>\n",
       "      <td>Africa</td>\n",
       "    </tr>\n",
       "    <tr>\n",
       "      <th>6262</th>\n",
       "      <td>Zimbabwe</td>\n",
       "      <td>1990</td>\n",
       "      <td>4013.299059</td>\n",
       "      <td>Africa</td>\n",
       "    </tr>\n",
       "  </tbody>\n",
       "</table>\n",
       "</div>"
      ],
      "text/plain": [
       "       Country  Year  GDP_Per_Capita Continent\n",
       "6261  Zimbabwe  1991     4126.405247    Africa\n",
       "6262  Zimbabwe  1990     4013.299059    Africa"
      ]
     },
     "execution_count": 587,
     "metadata": {},
     "output_type": "execute_result"
    }
   ],
   "source": [
    "gdp_df.tail(2)"
   ]
  },
  {
   "cell_type": "code",
   "execution_count": 588,
   "id": "3b0e5d14-5804-4e3e-ba43-7adc2219a15b",
   "metadata": {},
   "outputs": [],
   "source": [
    "gdp_df[\"Year\"] = pd.to_numeric(gdp_df[\"Year\"], errors=\"coerce\")"
   ]
  },
  {
   "cell_type": "code",
   "execution_count": 589,
   "id": "e787a211-663b-4a85-952e-551dbaf82402",
   "metadata": {},
   "outputs": [],
   "source": [
    "#gdp_df = gdp_df.dropna().astype({\"Year\": int})\n",
    "#gdp_df.head()"
   ]
  },
  {
   "cell_type": "code",
   "execution_count": 590,
   "id": "cdb5a925-0692-4d70-88dd-bf149d9f9369",
   "metadata": {},
   "outputs": [
    {
     "data": {
      "text/html": [
       "<div>\n",
       "<style scoped>\n",
       "    .dataframe tbody tr th:only-of-type {\n",
       "        vertical-align: middle;\n",
       "    }\n",
       "\n",
       "    .dataframe tbody tr th {\n",
       "        vertical-align: top;\n",
       "    }\n",
       "\n",
       "    .dataframe thead th {\n",
       "        text-align: right;\n",
       "    }\n",
       "</style>\n",
       "<table border=\"1\" class=\"dataframe\">\n",
       "  <thead>\n",
       "    <tr style=\"text-align: right;\">\n",
       "      <th></th>\n",
       "      <th>Country</th>\n",
       "      <th>Year</th>\n",
       "      <th>Life_Expectancy</th>\n",
       "      <th>GDP_Per_Capita</th>\n",
       "      <th>Continent</th>\n",
       "    </tr>\n",
       "  </thead>\n",
       "  <tbody>\n",
       "    <tr>\n",
       "      <th>0</th>\n",
       "      <td>Aruba</td>\n",
       "      <td>1990</td>\n",
       "      <td>72.546</td>\n",
       "      <td>34579.220640</td>\n",
       "      <td>North America</td>\n",
       "    </tr>\n",
       "    <tr>\n",
       "      <th>1</th>\n",
       "      <td>Angola</td>\n",
       "      <td>1990</td>\n",
       "      <td>41.854</td>\n",
       "      <td>7391.752354</td>\n",
       "      <td>Africa</td>\n",
       "    </tr>\n",
       "  </tbody>\n",
       "</table>\n",
       "</div>"
      ],
      "text/plain": [
       "  Country  Year  Life_Expectancy  GDP_Per_Capita      Continent\n",
       "0   Aruba  1990           72.546    34579.220640  North America\n",
       "1  Angola  1990           41.854     7391.752354         Africa"
      ]
     },
     "execution_count": 590,
     "metadata": {},
     "output_type": "execute_result"
    }
   ],
   "source": [
    "gdp_le = pd.merge(\n",
    "    left=life_expectancy_melt,\n",
    "    right=gdp_df,\n",
    "    left_on=[\"Country\", \"Year\"],\n",
    "    right_on=[\"Country\", \"Year\"],\n",
    "    how=\"inner\",\n",
    "    validate=\"one_to_one\"\n",
    ")\n",
    "gdp_le.head(2)"
   ]
  },
  {
   "cell_type": "markdown",
   "id": "58bf3745-9387-4a5a-adc8-7630db5a625c",
   "metadata": {},
   "source": [
    "#### 25. Create a new DataFrame, named gdp_le_2021 by extracting data for the year 2021 from gdp_le. How many countries have a life expectancy of at least 80 in 2021?"
   ]
  },
  {
   "cell_type": "code",
   "execution_count": 592,
   "id": "83158b54-8f5a-44f4-9610-2347e586cb6f",
   "metadata": {},
   "outputs": [],
   "source": [
    "gdp_le_2021 = gdp_le[gdp_le[\"Year\"]==2021]"
   ]
  },
  {
   "cell_type": "code",
   "execution_count": 593,
   "id": "32ae2ca0-b68d-4513-98d4-028e0f293c96",
   "metadata": {},
   "outputs": [
    {
     "data": {
      "text/plain": [
       "Country            33\n",
       "Year               33\n",
       "Life_Expectancy    33\n",
       "GDP_Per_Capita     33\n",
       "Continent          33\n",
       "dtype: int64"
      ]
     },
     "execution_count": 593,
     "metadata": {},
     "output_type": "execute_result"
    }
   ],
   "source": [
    "gdp_le_2021[gdp_le_2021[\"Life_Expectancy\"]>= 80].count()#.iloc[0]"
   ]
  },
  {
   "cell_type": "code",
   "execution_count": 594,
   "id": "3692281f-4689-4996-8786-85bb59e37b95",
   "metadata": {},
   "outputs": [
    {
     "data": {
      "text/plain": [
       "33"
      ]
     },
     "execution_count": 594,
     "metadata": {},
     "output_type": "execute_result"
    }
   ],
   "source": [
    "(gdp_le_2021[\"Life_Expectancy\"]>= 80).sum()#.count()#.iloc[0]\n",
    "# would like print statment instead of just this simple number with no explanation"
   ]
  },
  {
   "cell_type": "markdown",
   "id": "0e01c6bf-e274-4a44-b168-18fcdbbcc751",
   "metadata": {},
   "source": [
    "#### 26. Find the countries that had the top 3 largest GDP per capita figures for 2021. Create a seaborn FacetGrid showing the change in life expectancy over time for these three countries. Each individual figure in the facet grid will represent a single country.\r\n",
    "\r\n"
   ]
  },
  {
   "cell_type": "code",
   "execution_count": 596,
   "id": "29eb0c6d-750e-4680-b007-7dc9bd408a17",
   "metadata": {},
   "outputs": [],
   "source": [
    "#gdp_le_2021[gdp_le_2021[\"GDP_Per_Capita\"].nlargest()]#.count()#.iloc[0]"
   ]
  },
  {
   "cell_type": "code",
   "execution_count": 597,
   "id": "69dbe6b2-13eb-408f-9386-5b9ecc296d35",
   "metadata": {},
   "outputs": [],
   "source": [
    "#whoops = gdp_le_2021.nlargest(3, 'GDP_Per_Capita')['Country']\n",
    "#whoops"
   ]
  },
  {
   "cell_type": "code",
   "execution_count": 598,
   "id": "a70fffac-441c-4de4-b199-361388a95570",
   "metadata": {},
   "outputs": [],
   "source": [
    "#whoops['Country']"
   ]
  },
  {
   "cell_type": "code",
   "execution_count": 599,
   "id": "1d056b5e-c688-435a-8ba7-d2033bacd2cb",
   "metadata": {},
   "outputs": [
    {
     "data": {
      "text/plain": [
       "<seaborn.axisgrid.FacetGrid at 0x24422b38fe0>"
      ]
     },
     "execution_count": 599,
     "metadata": {},
     "output_type": "execute_result"
    },
    {
     "data": {
      "image/png": "[encoded data removed]",
      "text/plain": [
       "<Figure size 900x300 with 3 Axes>"
      ]
     },
     "metadata": {},
     "output_type": "display_data"
    }
   ],
   "source": [
    "#these = [\"Luxembourg\", \"Singapore\", \"Ireland\"]\n",
    "\n",
    "g = sns.FacetGrid(\n",
    "    gdp_le[gdp_le['Country'].isin(gdp_le_2021.nlargest(3, 'GDP_Per_Capita')['Country'])], \n",
    "    col=\"Country\", \n",
    ")\n",
    "g.map(sns.scatterplot, 'Year', 'Life_Expectancy')"
   ]
  },
  {
   "cell_type": "code",
   "execution_count": 600,
   "id": "0d14a9a9-d15e-48a8-8c76-0701c79f4c63",
   "metadata": {},
   "outputs": [
    {
     "data": {
      "text/plain": [
       "<seaborn.axisgrid.FacetGrid at 0x24422d78d40>"
      ]
     },
     "execution_count": 600,
     "metadata": {},
     "output_type": "execute_result"
    },
    {
     "data": {
      "image/png": "[encoded data removed]",
      "text/plain": [
       "<Figure size 900x300 with 3 Axes>"
      ]
     },
     "metadata": {},
     "output_type": "display_data"
    }
   ],
   "source": [
    "g = sns.FacetGrid(\n",
    "    gdp_le[gdp_le['Country'].isin(gdp_le_2021.nlargest(3, 'GDP_Per_Capita')['Country'])], \n",
    "    col=\"Country\", \n",
    ")\n",
    "g.map(plt.plot, 'Year', 'Life_Expectancy')"
   ]
  },
  {
   "cell_type": "markdown",
   "id": "5afe0ac6-d98c-4915-9029-c6faedc33ef6",
   "metadata": {},
   "source": [
    "#### 27. Create a scatter plot of Life Expectancy vs GDP per Capita for the year 2021. What do you notice?"
   ]
  },
  {
   "cell_type": "code",
   "execution_count": 602,
   "id": "e10f844b-12f2-4e13-9eb0-017872c8a41d",
   "metadata": {},
   "outputs": [
    {
     "data": {
      "text/html": [
       "<div>\n",
       "<style scoped>\n",
       "    .dataframe tbody tr th:only-of-type {\n",
       "        vertical-align: middle;\n",
       "    }\n",
       "\n",
       "    .dataframe tbody tr th {\n",
       "        vertical-align: top;\n",
       "    }\n",
       "\n",
       "    .dataframe thead th {\n",
       "        text-align: right;\n",
       "    }\n",
       "</style>\n",
       "<table border=\"1\" class=\"dataframe\">\n",
       "  <thead>\n",
       "    <tr style=\"text-align: right;\">\n",
       "      <th></th>\n",
       "      <th>Country</th>\n",
       "      <th>Year</th>\n",
       "      <th>Life_Expectancy</th>\n",
       "      <th>GDP_Per_Capita</th>\n",
       "      <th>Continent</th>\n",
       "    </tr>\n",
       "  </thead>\n",
       "  <tbody>\n",
       "    <tr>\n",
       "      <th>5335</th>\n",
       "      <td>Aruba</td>\n",
       "      <td>2021</td>\n",
       "      <td>73.655</td>\n",
       "      <td>35696.309372</td>\n",
       "      <td>North America</td>\n",
       "    </tr>\n",
       "    <tr>\n",
       "      <th>5336</th>\n",
       "      <td>Afghanistan</td>\n",
       "      <td>2021</td>\n",
       "      <td>60.417</td>\n",
       "      <td>2144.166570</td>\n",
       "      <td>Asia</td>\n",
       "    </tr>\n",
       "    <tr>\n",
       "      <th>5337</th>\n",
       "      <td>Angola</td>\n",
       "      <td>2021</td>\n",
       "      <td>62.958</td>\n",
       "      <td>7408.126591</td>\n",
       "      <td>Africa</td>\n",
       "    </tr>\n",
       "    <tr>\n",
       "      <th>5338</th>\n",
       "      <td>Albania</td>\n",
       "      <td>2021</td>\n",
       "      <td>76.844</td>\n",
       "      <td>16113.136519</td>\n",
       "      <td>Europe</td>\n",
       "    </tr>\n",
       "    <tr>\n",
       "      <th>5339</th>\n",
       "      <td>Andorra</td>\n",
       "      <td>2021</td>\n",
       "      <td>82.331</td>\n",
       "      <td>59332.202910</td>\n",
       "      <td>Europe</td>\n",
       "    </tr>\n",
       "    <tr>\n",
       "      <th>...</th>\n",
       "      <td>...</td>\n",
       "      <td>...</td>\n",
       "      <td>...</td>\n",
       "      <td>...</td>\n",
       "      <td>...</td>\n",
       "    </tr>\n",
       "    <tr>\n",
       "      <th>5505</th>\n",
       "      <td>Samoa</td>\n",
       "      <td>2021</td>\n",
       "      <td>71.096</td>\n",
       "      <td>6214.016928</td>\n",
       "      <td>Oceania</td>\n",
       "    </tr>\n",
       "    <tr>\n",
       "      <th>5506</th>\n",
       "      <td>Kosovo</td>\n",
       "      <td>2021</td>\n",
       "      <td>74.981</td>\n",
       "      <td>12362.414097</td>\n",
       "      <td>Europe</td>\n",
       "    </tr>\n",
       "    <tr>\n",
       "      <th>5507</th>\n",
       "      <td>South Africa</td>\n",
       "      <td>2021</td>\n",
       "      <td>62.010</td>\n",
       "      <td>13711.293573</td>\n",
       "      <td>Africa</td>\n",
       "    </tr>\n",
       "    <tr>\n",
       "      <th>5508</th>\n",
       "      <td>Zambia</td>\n",
       "      <td>2021</td>\n",
       "      <td>62.363</td>\n",
       "      <td>3503.034914</td>\n",
       "      <td>Africa</td>\n",
       "    </tr>\n",
       "    <tr>\n",
       "      <th>5509</th>\n",
       "      <td>Zimbabwe</td>\n",
       "      <td>2021</td>\n",
       "      <td>60.135</td>\n",
       "      <td>3184.785451</td>\n",
       "      <td>Africa</td>\n",
       "    </tr>\n",
       "  </tbody>\n",
       "</table>\n",
       "<p>175 rows × 5 columns</p>\n",
       "</div>"
      ],
      "text/plain": [
       "           Country  Year  Life_Expectancy  GDP_Per_Capita      Continent\n",
       "5335         Aruba  2021           73.655    35696.309372  North America\n",
       "5336   Afghanistan  2021           60.417     2144.166570           Asia\n",
       "5337        Angola  2021           62.958     7408.126591         Africa\n",
       "5338       Albania  2021           76.844    16113.136519         Europe\n",
       "5339       Andorra  2021           82.331    59332.202910         Europe\n",
       "...            ...   ...              ...             ...            ...\n",
       "5505         Samoa  2021           71.096     6214.016928        Oceania\n",
       "5506        Kosovo  2021           74.981    12362.414097         Europe\n",
       "5507  South Africa  2021           62.010    13711.293573         Africa\n",
       "5508        Zambia  2021           62.363     3503.034914         Africa\n",
       "5509      Zimbabwe  2021           60.135     3184.785451         Africa\n",
       "\n",
       "[175 rows x 5 columns]"
      ]
     },
     "execution_count": 602,
     "metadata": {},
     "output_type": "execute_result"
    }
   ],
   "source": [
    "gdp_le[gdp_le[\"Year\"] == 2021]"
   ]
  },
  {
   "cell_type": "code",
   "execution_count": 604,
   "id": "9b895d6f-17a9-4d31-934c-9aa1fef2d00d",
   "metadata": {},
   "outputs": [
    {
     "data": {
      "image/png": "[encoded data removed]",
      "text/plain": [
       "<Figure size 640x480 with 1 Axes>"
      ]
     },
     "metadata": {},
     "output_type": "display_data"
    }
   ],
   "source": [
    "gdp_le[gdp_le[\"Year\"] == 2021].plot(\n",
    "    kind=\"scatter\",\n",
    "    x=\"Life_Expectancy\",\n",
    "    y=\"GDP_Per_Capita\",\n",
    "    alpha=0.5\n",
    ");"
   ]
  },
  {
   "cell_type": "code",
   "execution_count": 606,
   "id": "4947aaa9-75cd-451b-b26c-75c5f1c81a7a",
   "metadata": {},
   "outputs": [
    {
     "data": {
      "image/png": "[encoded data removed]",
      "text/plain": [
       "<Figure size 640x480 with 1 Axes>"
      ]
     },
     "metadata": {},
     "output_type": "display_data"
    }
   ],
   "source": [
    "plt.scatter(data=gdp_le_2021, x='Life_Expectancy', y='GDP_Per_Capita', alpha=0.5);"
   ]
  },
  {
   "cell_type": "code",
   "execution_count": 607,
   "id": "f40da589-3676-4f21-bbeb-30d67735a8f2",
   "metadata": {},
   "outputs": [
    {
     "data": {
      "image/png": "[encoded data removed]",
      "text/plain": [
       "<Figure size 640x480 with 1 Axes>"
      ]
     },
     "metadata": {},
     "output_type": "display_data"
    }
   ],
   "source": [
    "sns.scatterplot(\n",
    "    data=gdp_le[gdp_le['Year'] == 2021],\n",
    "    x=\"Life_Expectancy\",\n",
    "    y=\"GDP_Per_Capita\",\n",
    "    hue=\"Continent\"\n",
    ");"
   ]
  },
  {
   "cell_type": "markdown",
   "id": "4a214a95-b4dd-4b2d-acbf-103bb6e286e1",
   "metadata": {},
   "source": [
    "##### There may be a positive correlation between life expectancy and GDP per capita"
   ]
  },
  {
   "cell_type": "markdown",
   "id": "e70baaf3-6b80-472a-a547-88637d6e9aaa",
   "metadata": {},
   "source": [
    "#### 28. Find the correlation between Life Expectancy and GDP per Capita for the year 2021. What is the meaning of this number?"
   ]
  },
  {
   "cell_type": "code",
   "execution_count": 611,
   "id": "c520224a-5030-4921-8ddf-2ff11795c9d9",
   "metadata": {},
   "outputs": [
    {
     "data": {
      "text/html": [
       "<div>\n",
       "<style scoped>\n",
       "    .dataframe tbody tr th:only-of-type {\n",
       "        vertical-align: middle;\n",
       "    }\n",
       "\n",
       "    .dataframe tbody tr th {\n",
       "        vertical-align: top;\n",
       "    }\n",
       "\n",
       "    .dataframe thead th {\n",
       "        text-align: right;\n",
       "    }\n",
       "</style>\n",
       "<table border=\"1\" class=\"dataframe\">\n",
       "  <thead>\n",
       "    <tr style=\"text-align: right;\">\n",
       "      <th></th>\n",
       "      <th>Life_Expectancy</th>\n",
       "      <th>GDP_Per_Capita</th>\n",
       "    </tr>\n",
       "  </thead>\n",
       "  <tbody>\n",
       "    <tr>\n",
       "      <th>Life_Expectancy</th>\n",
       "      <td>1.000000</td>\n",
       "      <td>0.752785</td>\n",
       "    </tr>\n",
       "    <tr>\n",
       "      <th>GDP_Per_Capita</th>\n",
       "      <td>0.752785</td>\n",
       "      <td>1.000000</td>\n",
       "    </tr>\n",
       "  </tbody>\n",
       "</table>\n",
       "</div>"
      ],
      "text/plain": [
       "                 Life_Expectancy  GDP_Per_Capita\n",
       "Life_Expectancy         1.000000        0.752785\n",
       "GDP_Per_Capita          0.752785        1.000000"
      ]
     },
     "execution_count": 611,
     "metadata": {},
     "output_type": "execute_result"
    }
   ],
   "source": [
    "gdp_le_2021 = gdp_le[gdp_le[\"Year\"] == 2021].copy()\n",
    "gdp_le_2021[['Life_Expectancy', 'GDP_Per_Capita']].corr()"
   ]
  },
  {
   "cell_type": "markdown",
   "id": "7da3cde9-30d9-41c2-aafa-072975ca0c87",
   "metadata": {},
   "source": [
    "##### 0.753 is a pretty strong correlation but this doesn't appear to be linear"
   ]
  },
  {
   "cell_type": "markdown",
   "id": "80a46eeb-5ae0-4a7b-97b7-007a79b27540",
   "metadata": {},
   "source": [
    "##### 0.759194 indicates a strong positive correlation between these two variables"
   ]
  },
  {
   "cell_type": "markdown",
   "id": "2cc6010c-dde4-4b85-8496-1ee5d28f5466",
   "metadata": {},
   "source": [
    "#### 29. Add a column to gdp_le_2021 and calculate the logarithm of GDP per capita. \n",
    "#### Find the correlation between the log of GDP per capita and life expectancy. \n",
    "#### How does this compare to the calculation in the previous part? \n",
    "#### Look at a scatter plot to see if the result of this calculation makes sense."
   ]
  },
  {
   "cell_type": "code",
   "execution_count": 615,
   "id": "293d25aa-d663-4f70-a7c8-2411179daf26",
   "metadata": {},
   "outputs": [
    {
     "data": {
      "text/html": [
       "<div>\n",
       "<style scoped>\n",
       "    .dataframe tbody tr th:only-of-type {\n",
       "        vertical-align: middle;\n",
       "    }\n",
       "\n",
       "    .dataframe tbody tr th {\n",
       "        vertical-align: top;\n",
       "    }\n",
       "\n",
       "    .dataframe thead th {\n",
       "        text-align: right;\n",
       "    }\n",
       "</style>\n",
       "<table border=\"1\" class=\"dataframe\">\n",
       "  <thead>\n",
       "    <tr style=\"text-align: right;\">\n",
       "      <th></th>\n",
       "      <th>Country</th>\n",
       "      <th>Year</th>\n",
       "      <th>Life_Expectancy</th>\n",
       "      <th>GDP_Per_Capita</th>\n",
       "      <th>Continent</th>\n",
       "      <th>GDP_Per_Capita_log</th>\n",
       "    </tr>\n",
       "  </thead>\n",
       "  <tbody>\n",
       "    <tr>\n",
       "      <th>5335</th>\n",
       "      <td>Aruba</td>\n",
       "      <td>2021</td>\n",
       "      <td>73.655</td>\n",
       "      <td>35696.309372</td>\n",
       "      <td>North America</td>\n",
       "      <td>10.482803</td>\n",
       "    </tr>\n",
       "    <tr>\n",
       "      <th>5336</th>\n",
       "      <td>Afghanistan</td>\n",
       "      <td>2021</td>\n",
       "      <td>60.417</td>\n",
       "      <td>2144.166570</td>\n",
       "      <td>Asia</td>\n",
       "      <td>7.670506</td>\n",
       "    </tr>\n",
       "    <tr>\n",
       "      <th>5337</th>\n",
       "      <td>Angola</td>\n",
       "      <td>2021</td>\n",
       "      <td>62.958</td>\n",
       "      <td>7408.126591</td>\n",
       "      <td>Africa</td>\n",
       "      <td>8.910333</td>\n",
       "    </tr>\n",
       "    <tr>\n",
       "      <th>5338</th>\n",
       "      <td>Albania</td>\n",
       "      <td>2021</td>\n",
       "      <td>76.844</td>\n",
       "      <td>16113.136519</td>\n",
       "      <td>Europe</td>\n",
       "      <td>9.687390</td>\n",
       "    </tr>\n",
       "    <tr>\n",
       "      <th>5339</th>\n",
       "      <td>Andorra</td>\n",
       "      <td>2021</td>\n",
       "      <td>82.331</td>\n",
       "      <td>59332.202910</td>\n",
       "      <td>Europe</td>\n",
       "      <td>10.990907</td>\n",
       "    </tr>\n",
       "    <tr>\n",
       "      <th>...</th>\n",
       "      <td>...</td>\n",
       "      <td>...</td>\n",
       "      <td>...</td>\n",
       "      <td>...</td>\n",
       "      <td>...</td>\n",
       "      <td>...</td>\n",
       "    </tr>\n",
       "    <tr>\n",
       "      <th>5505</th>\n",
       "      <td>Samoa</td>\n",
       "      <td>2021</td>\n",
       "      <td>71.096</td>\n",
       "      <td>6214.016928</td>\n",
       "      <td>Oceania</td>\n",
       "      <td>8.734563</td>\n",
       "    </tr>\n",
       "    <tr>\n",
       "      <th>5506</th>\n",
       "      <td>Kosovo</td>\n",
       "      <td>2021</td>\n",
       "      <td>74.981</td>\n",
       "      <td>12362.414097</td>\n",
       "      <td>Europe</td>\n",
       "      <td>9.422416</td>\n",
       "    </tr>\n",
       "    <tr>\n",
       "      <th>5507</th>\n",
       "      <td>South Africa</td>\n",
       "      <td>2021</td>\n",
       "      <td>62.010</td>\n",
       "      <td>13711.293573</td>\n",
       "      <td>Africa</td>\n",
       "      <td>9.525975</td>\n",
       "    </tr>\n",
       "    <tr>\n",
       "      <th>5508</th>\n",
       "      <td>Zambia</td>\n",
       "      <td>2021</td>\n",
       "      <td>62.363</td>\n",
       "      <td>3503.034914</td>\n",
       "      <td>Africa</td>\n",
       "      <td>8.161385</td>\n",
       "    </tr>\n",
       "    <tr>\n",
       "      <th>5509</th>\n",
       "      <td>Zimbabwe</td>\n",
       "      <td>2021</td>\n",
       "      <td>60.135</td>\n",
       "      <td>3184.785451</td>\n",
       "      <td>Africa</td>\n",
       "      <td>8.066140</td>\n",
       "    </tr>\n",
       "  </tbody>\n",
       "</table>\n",
       "<p>175 rows × 6 columns</p>\n",
       "</div>"
      ],
      "text/plain": [
       "           Country  Year  Life_Expectancy  GDP_Per_Capita      Continent  \\\n",
       "5335         Aruba  2021           73.655    35696.309372  North America   \n",
       "5336   Afghanistan  2021           60.417     2144.166570           Asia   \n",
       "5337        Angola  2021           62.958     7408.126591         Africa   \n",
       "5338       Albania  2021           76.844    16113.136519         Europe   \n",
       "5339       Andorra  2021           82.331    59332.202910         Europe   \n",
       "...            ...   ...              ...             ...            ...   \n",
       "5505         Samoa  2021           71.096     6214.016928        Oceania   \n",
       "5506        Kosovo  2021           74.981    12362.414097         Europe   \n",
       "5507  South Africa  2021           62.010    13711.293573         Africa   \n",
       "5508        Zambia  2021           62.363     3503.034914         Africa   \n",
       "5509      Zimbabwe  2021           60.135     3184.785451         Africa   \n",
       "\n",
       "      GDP_Per_Capita_log  \n",
       "5335           10.482803  \n",
       "5336            7.670506  \n",
       "5337            8.910333  \n",
       "5338            9.687390  \n",
       "5339           10.990907  \n",
       "...                  ...  \n",
       "5505            8.734563  \n",
       "5506            9.422416  \n",
       "5507            9.525975  \n",
       "5508            8.161385  \n",
       "5509            8.066140  \n",
       "\n",
       "[175 rows x 6 columns]"
      ]
     },
     "execution_count": 615,
     "metadata": {},
     "output_type": "execute_result"
    }
   ],
   "source": [
    "gdp_le_2021[\"GDP_Per_Capita_log\"] = np.log(gdp_le_2021[\"GDP_Per_Capita\"])\n",
    "gdp_le_2021"
   ]
  },
  {
   "cell_type": "code",
   "execution_count": 616,
   "id": "b72aac70-5dc7-4a12-94f3-08da6f47c6c5",
   "metadata": {},
   "outputs": [
    {
     "data": {
      "text/html": [
       "<div>\n",
       "<style scoped>\n",
       "    .dataframe tbody tr th:only-of-type {\n",
       "        vertical-align: middle;\n",
       "    }\n",
       "\n",
       "    .dataframe tbody tr th {\n",
       "        vertical-align: top;\n",
       "    }\n",
       "\n",
       "    .dataframe thead th {\n",
       "        text-align: right;\n",
       "    }\n",
       "</style>\n",
       "<table border=\"1\" class=\"dataframe\">\n",
       "  <thead>\n",
       "    <tr style=\"text-align: right;\">\n",
       "      <th></th>\n",
       "      <th>Life_Expectancy</th>\n",
       "      <th>GDP_Per_Capita</th>\n",
       "      <th>GDP_Per_Capita_log</th>\n",
       "    </tr>\n",
       "  </thead>\n",
       "  <tbody>\n",
       "    <tr>\n",
       "      <th>Life_Expectancy</th>\n",
       "      <td>1.000000</td>\n",
       "      <td>0.752785</td>\n",
       "      <td>0.849065</td>\n",
       "    </tr>\n",
       "    <tr>\n",
       "      <th>GDP_Per_Capita</th>\n",
       "      <td>0.752785</td>\n",
       "      <td>1.000000</td>\n",
       "      <td>0.857318</td>\n",
       "    </tr>\n",
       "    <tr>\n",
       "      <th>GDP_Per_Capita_log</th>\n",
       "      <td>0.849065</td>\n",
       "      <td>0.857318</td>\n",
       "      <td>1.000000</td>\n",
       "    </tr>\n",
       "  </tbody>\n",
       "</table>\n",
       "</div>"
      ],
      "text/plain": [
       "                    Life_Expectancy  GDP_Per_Capita  GDP_Per_Capita_log\n",
       "Life_Expectancy            1.000000        0.752785            0.849065\n",
       "GDP_Per_Capita             0.752785        1.000000            0.857318\n",
       "GDP_Per_Capita_log         0.849065        0.857318            1.000000"
      ]
     },
     "execution_count": 616,
     "metadata": {},
     "output_type": "execute_result"
    }
   ],
   "source": [
    "gdp_le_2021[['Life_Expectancy', 'GDP_Per_Capita', 'GDP_Per_Capita_log']].corr()"
   ]
  },
  {
   "cell_type": "markdown",
   "id": "8c4f1e83-818d-4c47-9427-2875e06bebd9",
   "metadata": {},
   "source": [
    "##### There might be a higher positive correlation between Life Expectancy and GDP Per Capita but it is a curved relationship. While one variable increases the other variable increases at a higher rate."
   ]
  },
  {
   "cell_type": "code",
   "execution_count": 618,
   "id": "7a69dda0-93ea-4964-ab38-0de4ce54779b",
   "metadata": {},
   "outputs": [
    {
     "data": {
      "image/png": "[encoded data removed]",
      "text/plain": [
       "<Figure size 640x480 with 1 Axes>"
      ]
     },
     "metadata": {},
     "output_type": "display_data"
    }
   ],
   "source": [
    "sns.scatterplot(\n",
    "    data=gdp_le_2021,\n",
    "    x=\"Life_Expectancy\",\n",
    "    y=\"GDP_Per_Capita_log\",\n",
    "    hue=\"Continent\"\n",
    ");"
   ]
  },
  {
   "cell_type": "code",
   "execution_count": null,
   "id": "7fcdf5ed-66b8-4868-8b9c-6155a99f8204",
   "metadata": {},
   "outputs": [],
   "source": []
  },
  {
   "cell_type": "code",
   "execution_count": null,
   "id": "1dca96a0-22c1-4d17-ae81-034af6114006",
   "metadata": {},
   "outputs": [],
   "source": []
  },
  {
   "cell_type": "code",
   "execution_count": null,
   "id": "1535fbfa-a2d2-470a-849d-1f1f74674e4f",
   "metadata": {},
   "outputs": [],
   "source": []
  },
  {
   "cell_type": "code",
   "execution_count": null,
   "id": "4d8399a5-ffe7-4e09-bc92-2786234049f4",
   "metadata": {},
   "outputs": [],
   "source": []
  },
  {
   "cell_type": "code",
   "execution_count": null,
   "id": "859b1842-2b56-4845-8861-afb24144c4ed",
   "metadata": {},
   "outputs": [],
   "source": []
  },
  {
   "cell_type": "code",
   "execution_count": null,
   "id": "2d60f1b9-d452-412d-ae92-0c1a0c2dc9d5",
   "metadata": {},
   "outputs": [],
   "source": []
  },
  {
   "cell_type": "code",
   "execution_count": null,
   "id": "a8455863-08bc-486e-b017-a571ed8ef318",
   "metadata": {},
   "outputs": [],
   "source": []
  },
  {
   "cell_type": "code",
   "execution_count": null,
   "id": "26d63e66-ae25-4c9d-9cee-f3784721cf52",
   "metadata": {},
   "outputs": [],
   "source": []
  },
  {
   "cell_type": "code",
   "execution_count": null,
   "id": "f571c6ad-5ed1-4474-9afd-4afae0f505ca",
   "metadata": {},
   "outputs": [],
   "source": []
  }
 ],
 "metadata": {
  "kernelspec": {
   "display_name": "Python 3 (ipykernel)",
   "language": "python",
   "name": "python3"
  },
  "language_info": {
   "codemirror_mode": {
    "name": "ipython",
    "version": 3
   },
   "file_extension": ".py",
   "mimetype": "text/x-python",
   "name": "python",
   "nbconvert_exporter": "python",
   "pygments_lexer": "ipython3",
   "version": "3.12.3"
  }
 },
 "nbformat": 4,
 "nbformat_minor": 5
}
